{
 "cells": [
  {
   "cell_type": "code",
   "execution_count": 46,
   "metadata": {
    "scrolled": true
   },
   "outputs": [
    {
     "name": "stdout",
     "output_type": "stream",
     "text": [
      "Requirement already satisfied: textblob in /Library/Frameworks/Python.framework/Versions/3.9/lib/python3.9/site-packages (0.17.1)\n",
      "Requirement already satisfied: nltk>=3.1 in /Library/Frameworks/Python.framework/Versions/3.9/lib/python3.9/site-packages (from textblob) (3.6.5)\n",
      "Requirement already satisfied: joblib in /Library/Frameworks/Python.framework/Versions/3.9/lib/python3.9/site-packages (from nltk>=3.1->textblob) (1.1.0)\n",
      "Requirement already satisfied: click in /Library/Frameworks/Python.framework/Versions/3.9/lib/python3.9/site-packages (from nltk>=3.1->textblob) (8.0.3)\n",
      "Requirement already satisfied: tqdm in /Library/Frameworks/Python.framework/Versions/3.9/lib/python3.9/site-packages (from nltk>=3.1->textblob) (4.62.3)\n",
      "Requirement already satisfied: regex>=2021.8.3 in /Library/Frameworks/Python.framework/Versions/3.9/lib/python3.9/site-packages (from nltk>=3.1->textblob) (2021.11.10)\n",
      "Note: you may need to restart the kernel to use updated packages.\n"
     ]
    }
   ],
   "source": [
    "pip install textblob"
   ]
  },
  {
   "cell_type": "code",
   "execution_count": 47,
   "metadata": {},
   "outputs": [
    {
     "name": "stdout",
     "output_type": "stream",
     "text": [
      "Requirement already satisfied: vaderSentiment in /Library/Frameworks/Python.framework/Versions/3.9/lib/python3.9/site-packages (3.3.2)\n",
      "Requirement already satisfied: requests in /Library/Frameworks/Python.framework/Versions/3.9/lib/python3.9/site-packages (from vaderSentiment) (2.26.0)\n",
      "Requirement already satisfied: charset-normalizer~=2.0.0 in /Library/Frameworks/Python.framework/Versions/3.9/lib/python3.9/site-packages (from requests->vaderSentiment) (2.0.7)\n",
      "Requirement already satisfied: idna<4,>=2.5 in /Library/Frameworks/Python.framework/Versions/3.9/lib/python3.9/site-packages (from requests->vaderSentiment) (3.3)\n",
      "Requirement already satisfied: certifi>=2017.4.17 in /Library/Frameworks/Python.framework/Versions/3.9/lib/python3.9/site-packages (from requests->vaderSentiment) (2021.10.8)\n",
      "Requirement already satisfied: urllib3<1.27,>=1.21.1 in /Library/Frameworks/Python.framework/Versions/3.9/lib/python3.9/site-packages (from requests->vaderSentiment) (1.26.7)\n",
      "Note: you may need to restart the kernel to use updated packages.\n"
     ]
    }
   ],
   "source": [
    "pip install vaderSentiment"
   ]
  },
  {
   "cell_type": "code",
   "execution_count": 48,
   "metadata": {},
   "outputs": [],
   "source": [
    "import pandas as pd\n",
    "import matplotlib.pyplot as plt\n",
    "from textblob import TextBlob\n",
    "from textblob.sentiments import NaiveBayesAnalyzer\n"
   ]
  },
  {
   "cell_type": "code",
   "execution_count": 62,
   "metadata": {
    "scrolled": true
   },
   "outputs": [],
   "source": [
    "nyt_data = pd.read_csv('NYTGeneraldata1.csv')"
   ]
  },
  {
   "cell_type": "code",
   "execution_count": 65,
   "metadata": {},
   "outputs": [
    {
     "data": {
      "text/html": [
       "<div>\n",
       "<style scoped>\n",
       "    .dataframe tbody tr th:only-of-type {\n",
       "        vertical-align: middle;\n",
       "    }\n",
       "\n",
       "    .dataframe tbody tr th {\n",
       "        vertical-align: top;\n",
       "    }\n",
       "\n",
       "    .dataframe thead th {\n",
       "        text-align: right;\n",
       "    }\n",
       "</style>\n",
       "<table border=\"1\" class=\"dataframe\">\n",
       "  <thead>\n",
       "    <tr style=\"text-align: right;\">\n",
       "      <th></th>\n",
       "      <th>Unnamed: 0</th>\n",
       "      <th>abstract</th>\n",
       "      <th>headline</th>\n",
       "      <th>pub_date</th>\n",
       "    </tr>\n",
       "  </thead>\n",
       "  <tbody>\n",
       "    <tr>\n",
       "      <th>0</th>\n",
       "      <td>0</td>\n",
       "      <td>about a fifth of the nation’s economy depends on the vacation industry. before the pandemic, the country was one of the world’s top destinations, drawing nearly 40 million visitors in 2019.</td>\n",
       "      <td>thailand reopens to tourists from 63 countries without requiring quarantine.</td>\n",
       "      <td>2021-11-01 12:26:03+00:00</td>\n",
       "    </tr>\n",
       "    <tr>\n",
       "      <th>1</th>\n",
       "      <td>1</td>\n",
       "      <td>as some try to lure audiences back with short programs, the metropolitan opera is staging its longest work: wagner’s “die meistersinger.”</td>\n",
       "      <td>a 6-hour opera in a pandemic? the met goes for it.</td>\n",
       "      <td>2021-11-01 14:14:46+00:00</td>\n",
       "    </tr>\n",
       "    <tr>\n",
       "      <th>2</th>\n",
       "      <td>2</td>\n",
       "      <td>while big companies wield considerable power, covid’s economic disruption has given workers new leverage, contributing to a recent upturn in strikes.</td>\n",
       "      <td>how the pandemic has added to labor unrest</td>\n",
       "      <td>2021-11-01 15:06:46+00:00</td>\n",
       "    </tr>\n",
       "    <tr>\n",
       "      <th>3</th>\n",
       "      <td>3</td>\n",
       "      <td>the labor department has completed a draft of an emergency standard, which is under review. when it is released, a flurry of corporate vaccine mandates is expected to follow.</td>\n",
       "      <td>the biden administration will publish vaccine mandate rules ‘in the coming days.’</td>\n",
       "      <td>2021-11-01 16:29:36+00:00</td>\n",
       "    </tr>\n",
       "    <tr>\n",
       "      <th>4</th>\n",
       "      <td>4</td>\n",
       "      <td>after months of production delays, this is the first vaccine authorization for novavax and its manufacturing partner, the serum institute of india.</td>\n",
       "      <td>the novavax vaccine, backed by operation warp speed, has won its first authorization — in indonesia.</td>\n",
       "      <td>2021-11-01 16:40:48+00:00</td>\n",
       "    </tr>\n",
       "    <tr>\n",
       "      <th>...</th>\n",
       "      <td>...</td>\n",
       "      <td>...</td>\n",
       "      <td>...</td>\n",
       "      <td>...</td>\n",
       "    </tr>\n",
       "    <tr>\n",
       "      <th>361</th>\n",
       "      <td>361</td>\n",
       "      <td>the company said that analyses and modeling of mutations in the variant suggest that they may weaken the effect of the treatment, but that studies using omicron’s full sequences are incomplete.</td>\n",
       "      <td>regeneron says its antibody treatment may not be as effective against omicron, but testing is underway.</td>\n",
       "      <td>2021-11-30 16:03:10+00:00</td>\n",
       "    </tr>\n",
       "    <tr>\n",
       "      <th>362</th>\n",
       "      <td>362</td>\n",
       "      <td>intense research into the new coronavirus variant first identified in southern africa, has just begun. world leaders have urged people not to panic — and to get vaccinated, if they can.</td>\n",
       "      <td>omicron: what is known — and still unknown</td>\n",
       "      <td>2021-11-30 17:08:17+00:00</td>\n",
       "    </tr>\n",
       "    <tr>\n",
       "      <th>363</th>\n",
       "      <td>363</td>\n",
       "      <td>britain’s approach to coronavirus-related restrictions has been looser than other european countries, but the omicron variant has spurred swift action on mitigation measures.</td>\n",
       "      <td>amid variant fears, u.k. discovers limits to its virus strategy</td>\n",
       "      <td>2021-11-30 18:14:44+00:00</td>\n",
       "    </tr>\n",
       "    <tr>\n",
       "      <th>364</th>\n",
       "      <td>364</td>\n",
       "      <td>unlike alpha, beta and delta, the name of the latest known variant is not as straightforward, with some english speakers offering up diverse pronunciations.</td>\n",
       "      <td>how do you say ‘omicron’?</td>\n",
       "      <td>2021-11-30 18:51:06+00:00</td>\n",
       "    </tr>\n",
       "    <tr>\n",
       "      <th>365</th>\n",
       "      <td>365</td>\n",
       "      <td>the centers for disease control and prevention was “actively looking” for the variant but had not found a case so far.</td>\n",
       "      <td>federal health officials say that they are expanding the search for omicron in the u.s.</td>\n",
       "      <td>2021-11-30 19:34:18+00:00</td>\n",
       "    </tr>\n",
       "  </tbody>\n",
       "</table>\n",
       "<p>366 rows × 4 columns</p>\n",
       "</div>"
      ],
      "text/plain": [
       "     Unnamed: 0  \\\n",
       "0             0   \n",
       "1             1   \n",
       "2             2   \n",
       "3             3   \n",
       "4             4   \n",
       "..          ...   \n",
       "361         361   \n",
       "362         362   \n",
       "363         363   \n",
       "364         364   \n",
       "365         365   \n",
       "\n",
       "                                                                                                                                                                                              abstract  \\\n",
       "0        about a fifth of the nation’s economy depends on the vacation industry. before the pandemic, the country was one of the world’s top destinations, drawing nearly 40 million visitors in 2019.   \n",
       "1                                                            as some try to lure audiences back with short programs, the metropolitan opera is staging its longest work: wagner’s “die meistersinger.”   \n",
       "2                                                while big companies wield considerable power, covid’s economic disruption has given workers new leverage, contributing to a recent upturn in strikes.   \n",
       "3                       the labor department has completed a draft of an emergency standard, which is under review. when it is released, a flurry of corporate vaccine mandates is expected to follow.   \n",
       "4                                                  after months of production delays, this is the first vaccine authorization for novavax and its manufacturing partner, the serum institute of india.   \n",
       "..                                                                                                                                                                                                 ...   \n",
       "361  the company said that analyses and modeling of mutations in the variant suggest that they may weaken the effect of the treatment, but that studies using omicron’s full sequences are incomplete.   \n",
       "362          intense research into the new coronavirus variant first identified in southern africa, has just begun. world leaders have urged people not to panic — and to get vaccinated, if they can.   \n",
       "363                     britain’s approach to coronavirus-related restrictions has been looser than other european countries, but the omicron variant has spurred swift action on mitigation measures.   \n",
       "364                                       unlike alpha, beta and delta, the name of the latest known variant is not as straightforward, with some english speakers offering up diverse pronunciations.   \n",
       "365                                                                             the centers for disease control and prevention was “actively looking” for the variant but had not found a case so far.   \n",
       "\n",
       "                                                                                                    headline  \\\n",
       "0                               thailand reopens to tourists from 63 countries without requiring quarantine.   \n",
       "1                                                         a 6-hour opera in a pandemic? the met goes for it.   \n",
       "2                                                                 how the pandemic has added to labor unrest   \n",
       "3                          the biden administration will publish vaccine mandate rules ‘in the coming days.’   \n",
       "4       the novavax vaccine, backed by operation warp speed, has won its first authorization — in indonesia.   \n",
       "..                                                                                                       ...   \n",
       "361  regeneron says its antibody treatment may not be as effective against omicron, but testing is underway.   \n",
       "362                                                               omicron: what is known — and still unknown   \n",
       "363                                          amid variant fears, u.k. discovers limits to its virus strategy   \n",
       "364                                                                                how do you say ‘omicron’?   \n",
       "365                  federal health officials say that they are expanding the search for omicron in the u.s.   \n",
       "\n",
       "                     pub_date  \n",
       "0   2021-11-01 12:26:03+00:00  \n",
       "1   2021-11-01 14:14:46+00:00  \n",
       "2   2021-11-01 15:06:46+00:00  \n",
       "3   2021-11-01 16:29:36+00:00  \n",
       "4   2021-11-01 16:40:48+00:00  \n",
       "..                        ...  \n",
       "361 2021-11-30 16:03:10+00:00  \n",
       "362 2021-11-30 17:08:17+00:00  \n",
       "363 2021-11-30 18:14:44+00:00  \n",
       "364 2021-11-30 18:51:06+00:00  \n",
       "365 2021-11-30 19:34:18+00:00  \n",
       "\n",
       "[366 rows x 4 columns]"
      ]
     },
     "execution_count": 65,
     "metadata": {},
     "output_type": "execute_result"
    }
   ],
   "source": [
    "nyt_data['pub_date']=pd.to_datetime(nyt_data['pub_date'])\n",
    "nyt_data"
   ]
  },
  {
   "cell_type": "code",
   "execution_count": 66,
   "metadata": {},
   "outputs": [],
   "source": [
    "def sentiment_func(headline): \n",
    "    try: \n",
    "        return TextBlob(headline).sentiment \n",
    "    except:\n",
    "        return None"
   ]
  },
  {
   "cell_type": "code",
   "execution_count": 67,
   "metadata": {},
   "outputs": [],
   "source": [
    "nyt_data[\"pol_sub_headline\"] = nyt_data[\"headline\"].apply(sentiment_func)"
   ]
  },
  {
   "cell_type": "code",
   "execution_count": 68,
   "metadata": {
    "scrolled": true
   },
   "outputs": [],
   "source": [
    "#adding a column for polarity and one for subjectivity\n",
    "nyt_data['polarity_headline'] = [i[0] for i in nyt_data['pol_sub_headline']]\n",
    "nyt_data['subjectivity_headline'] = [i[1] for i in nyt_data['pol_sub_headline']]\n"
   ]
  },
  {
   "cell_type": "code",
   "execution_count": 69,
   "metadata": {
    "scrolled": true
   },
   "outputs": [],
   "source": [
    "#deleting column pol_sub\n",
    "del nyt_data['pol_sub_headline']\n",
    "\n",
    "#reading text full lenght\n",
    "pd.set_option('display.max_colwidth', None)\n"
   ]
  },
  {
   "cell_type": "code",
   "execution_count": 70,
   "metadata": {},
   "outputs": [
    {
     "data": {
      "text/html": [
       "<div>\n",
       "<style scoped>\n",
       "    .dataframe tbody tr th:only-of-type {\n",
       "        vertical-align: middle;\n",
       "    }\n",
       "\n",
       "    .dataframe tbody tr th {\n",
       "        vertical-align: top;\n",
       "    }\n",
       "\n",
       "    .dataframe thead th {\n",
       "        text-align: right;\n",
       "    }\n",
       "</style>\n",
       "<table border=\"1\" class=\"dataframe\">\n",
       "  <thead>\n",
       "    <tr style=\"text-align: right;\">\n",
       "      <th></th>\n",
       "      <th>Unnamed: 0</th>\n",
       "      <th>abstract</th>\n",
       "      <th>headline</th>\n",
       "      <th>pub_date</th>\n",
       "      <th>polarity_headline</th>\n",
       "      <th>subjectivity_headline</th>\n",
       "    </tr>\n",
       "  </thead>\n",
       "  <tbody>\n",
       "    <tr>\n",
       "      <th>0</th>\n",
       "      <td>0</td>\n",
       "      <td>about a fifth of the nation’s economy depends on the vacation industry. before the pandemic, the country was one of the world’s top destinations, drawing nearly 40 million visitors in 2019.</td>\n",
       "      <td>thailand reopens to tourists from 63 countries without requiring quarantine.</td>\n",
       "      <td>2021-11-01 12:26:03+00:00</td>\n",
       "      <td>0.00</td>\n",
       "      <td>0.000000</td>\n",
       "    </tr>\n",
       "    <tr>\n",
       "      <th>1</th>\n",
       "      <td>1</td>\n",
       "      <td>as some try to lure audiences back with short programs, the metropolitan opera is staging its longest work: wagner’s “die meistersinger.”</td>\n",
       "      <td>a 6-hour opera in a pandemic? the met goes for it.</td>\n",
       "      <td>2021-11-01 14:14:46+00:00</td>\n",
       "      <td>0.00</td>\n",
       "      <td>0.000000</td>\n",
       "    </tr>\n",
       "    <tr>\n",
       "      <th>2</th>\n",
       "      <td>2</td>\n",
       "      <td>while big companies wield considerable power, covid’s economic disruption has given workers new leverage, contributing to a recent upturn in strikes.</td>\n",
       "      <td>how the pandemic has added to labor unrest</td>\n",
       "      <td>2021-11-01 15:06:46+00:00</td>\n",
       "      <td>0.00</td>\n",
       "      <td>0.000000</td>\n",
       "    </tr>\n",
       "    <tr>\n",
       "      <th>3</th>\n",
       "      <td>3</td>\n",
       "      <td>the labor department has completed a draft of an emergency standard, which is under review. when it is released, a flurry of corporate vaccine mandates is expected to follow.</td>\n",
       "      <td>the biden administration will publish vaccine mandate rules ‘in the coming days.’</td>\n",
       "      <td>2021-11-01 16:29:36+00:00</td>\n",
       "      <td>0.00</td>\n",
       "      <td>0.000000</td>\n",
       "    </tr>\n",
       "    <tr>\n",
       "      <th>4</th>\n",
       "      <td>4</td>\n",
       "      <td>after months of production delays, this is the first vaccine authorization for novavax and its manufacturing partner, the serum institute of india.</td>\n",
       "      <td>the novavax vaccine, backed by operation warp speed, has won its first authorization — in indonesia.</td>\n",
       "      <td>2021-11-01 16:40:48+00:00</td>\n",
       "      <td>0.25</td>\n",
       "      <td>0.333333</td>\n",
       "    </tr>\n",
       "    <tr>\n",
       "      <th>...</th>\n",
       "      <td>...</td>\n",
       "      <td>...</td>\n",
       "      <td>...</td>\n",
       "      <td>...</td>\n",
       "      <td>...</td>\n",
       "      <td>...</td>\n",
       "    </tr>\n",
       "    <tr>\n",
       "      <th>361</th>\n",
       "      <td>361</td>\n",
       "      <td>the company said that analyses and modeling of mutations in the variant suggest that they may weaken the effect of the treatment, but that studies using omicron’s full sequences are incomplete.</td>\n",
       "      <td>regeneron says its antibody treatment may not be as effective against omicron, but testing is underway.</td>\n",
       "      <td>2021-11-30 16:03:10+00:00</td>\n",
       "      <td>0.60</td>\n",
       "      <td>0.800000</td>\n",
       "    </tr>\n",
       "    <tr>\n",
       "      <th>362</th>\n",
       "      <td>362</td>\n",
       "      <td>intense research into the new coronavirus variant first identified in southern africa, has just begun. world leaders have urged people not to panic — and to get vaccinated, if they can.</td>\n",
       "      <td>omicron: what is known — and still unknown</td>\n",
       "      <td>2021-11-30 17:08:17+00:00</td>\n",
       "      <td>-0.10</td>\n",
       "      <td>0.600000</td>\n",
       "    </tr>\n",
       "    <tr>\n",
       "      <th>363</th>\n",
       "      <td>363</td>\n",
       "      <td>britain’s approach to coronavirus-related restrictions has been looser than other european countries, but the omicron variant has spurred swift action on mitigation measures.</td>\n",
       "      <td>amid variant fears, u.k. discovers limits to its virus strategy</td>\n",
       "      <td>2021-11-30 18:14:44+00:00</td>\n",
       "      <td>0.00</td>\n",
       "      <td>0.000000</td>\n",
       "    </tr>\n",
       "    <tr>\n",
       "      <th>364</th>\n",
       "      <td>364</td>\n",
       "      <td>unlike alpha, beta and delta, the name of the latest known variant is not as straightforward, with some english speakers offering up diverse pronunciations.</td>\n",
       "      <td>how do you say ‘omicron’?</td>\n",
       "      <td>2021-11-30 18:51:06+00:00</td>\n",
       "      <td>0.00</td>\n",
       "      <td>0.000000</td>\n",
       "    </tr>\n",
       "    <tr>\n",
       "      <th>365</th>\n",
       "      <td>365</td>\n",
       "      <td>the centers for disease control and prevention was “actively looking” for the variant but had not found a case so far.</td>\n",
       "      <td>federal health officials say that they are expanding the search for omicron in the u.s.</td>\n",
       "      <td>2021-11-30 19:34:18+00:00</td>\n",
       "      <td>0.00</td>\n",
       "      <td>0.000000</td>\n",
       "    </tr>\n",
       "  </tbody>\n",
       "</table>\n",
       "<p>366 rows × 6 columns</p>\n",
       "</div>"
      ],
      "text/plain": [
       "     Unnamed: 0  \\\n",
       "0             0   \n",
       "1             1   \n",
       "2             2   \n",
       "3             3   \n",
       "4             4   \n",
       "..          ...   \n",
       "361         361   \n",
       "362         362   \n",
       "363         363   \n",
       "364         364   \n",
       "365         365   \n",
       "\n",
       "                                                                                                                                                                                              abstract  \\\n",
       "0        about a fifth of the nation’s economy depends on the vacation industry. before the pandemic, the country was one of the world’s top destinations, drawing nearly 40 million visitors in 2019.   \n",
       "1                                                            as some try to lure audiences back with short programs, the metropolitan opera is staging its longest work: wagner’s “die meistersinger.”   \n",
       "2                                                while big companies wield considerable power, covid’s economic disruption has given workers new leverage, contributing to a recent upturn in strikes.   \n",
       "3                       the labor department has completed a draft of an emergency standard, which is under review. when it is released, a flurry of corporate vaccine mandates is expected to follow.   \n",
       "4                                                  after months of production delays, this is the first vaccine authorization for novavax and its manufacturing partner, the serum institute of india.   \n",
       "..                                                                                                                                                                                                 ...   \n",
       "361  the company said that analyses and modeling of mutations in the variant suggest that they may weaken the effect of the treatment, but that studies using omicron’s full sequences are incomplete.   \n",
       "362          intense research into the new coronavirus variant first identified in southern africa, has just begun. world leaders have urged people not to panic — and to get vaccinated, if they can.   \n",
       "363                     britain’s approach to coronavirus-related restrictions has been looser than other european countries, but the omicron variant has spurred swift action on mitigation measures.   \n",
       "364                                       unlike alpha, beta and delta, the name of the latest known variant is not as straightforward, with some english speakers offering up diverse pronunciations.   \n",
       "365                                                                             the centers for disease control and prevention was “actively looking” for the variant but had not found a case so far.   \n",
       "\n",
       "                                                                                                    headline  \\\n",
       "0                               thailand reopens to tourists from 63 countries without requiring quarantine.   \n",
       "1                                                         a 6-hour opera in a pandemic? the met goes for it.   \n",
       "2                                                                 how the pandemic has added to labor unrest   \n",
       "3                          the biden administration will publish vaccine mandate rules ‘in the coming days.’   \n",
       "4       the novavax vaccine, backed by operation warp speed, has won its first authorization — in indonesia.   \n",
       "..                                                                                                       ...   \n",
       "361  regeneron says its antibody treatment may not be as effective against omicron, but testing is underway.   \n",
       "362                                                               omicron: what is known — and still unknown   \n",
       "363                                          amid variant fears, u.k. discovers limits to its virus strategy   \n",
       "364                                                                                how do you say ‘omicron’?   \n",
       "365                  federal health officials say that they are expanding the search for omicron in the u.s.   \n",
       "\n",
       "                     pub_date  polarity_headline  subjectivity_headline  \n",
       "0   2021-11-01 12:26:03+00:00               0.00               0.000000  \n",
       "1   2021-11-01 14:14:46+00:00               0.00               0.000000  \n",
       "2   2021-11-01 15:06:46+00:00               0.00               0.000000  \n",
       "3   2021-11-01 16:29:36+00:00               0.00               0.000000  \n",
       "4   2021-11-01 16:40:48+00:00               0.25               0.333333  \n",
       "..                        ...                ...                    ...  \n",
       "361 2021-11-30 16:03:10+00:00               0.60               0.800000  \n",
       "362 2021-11-30 17:08:17+00:00              -0.10               0.600000  \n",
       "363 2021-11-30 18:14:44+00:00               0.00               0.000000  \n",
       "364 2021-11-30 18:51:06+00:00               0.00               0.000000  \n",
       "365 2021-11-30 19:34:18+00:00               0.00               0.000000  \n",
       "\n",
       "[366 rows x 6 columns]"
      ]
     },
     "execution_count": 70,
     "metadata": {},
     "output_type": "execute_result"
    }
   ],
   "source": [
    "nyt_data"
   ]
  },
  {
   "cell_type": "code",
   "execution_count": 71,
   "metadata": {},
   "outputs": [
    {
     "name": "stdout",
     "output_type": "stream",
     "text": [
      "0.022173698341731128 0.18083834539777166\n"
     ]
    }
   ],
   "source": [
    "mean_polarity_headline = nyt_data['polarity_headline'].mean()\n",
    "mean_subjectivity_headline = nyt_data['subjectivity_headline'].mean()\n",
    "print(mean_polarity_headline,mean_subjectivity_headline)"
   ]
  },
  {
   "cell_type": "code",
   "execution_count": 72,
   "metadata": {},
   "outputs": [
    {
     "data": {
      "text/html": [
       "<div>\n",
       "<style scoped>\n",
       "    .dataframe tbody tr th:only-of-type {\n",
       "        vertical-align: middle;\n",
       "    }\n",
       "\n",
       "    .dataframe tbody tr th {\n",
       "        vertical-align: top;\n",
       "    }\n",
       "\n",
       "    .dataframe thead th {\n",
       "        text-align: right;\n",
       "    }\n",
       "</style>\n",
       "<table border=\"1\" class=\"dataframe\">\n",
       "  <thead>\n",
       "    <tr style=\"text-align: right;\">\n",
       "      <th></th>\n",
       "      <th>polarity_headline</th>\n",
       "      <th>headline</th>\n",
       "    </tr>\n",
       "  </thead>\n",
       "  <tbody>\n",
       "    <tr>\n",
       "      <th>0</th>\n",
       "      <td>0.00</td>\n",
       "      <td>thailand reopens to tourists from 63 countries without requiring quarantine.</td>\n",
       "    </tr>\n",
       "    <tr>\n",
       "      <th>1</th>\n",
       "      <td>0.00</td>\n",
       "      <td>a 6-hour opera in a pandemic? the met goes for it.</td>\n",
       "    </tr>\n",
       "    <tr>\n",
       "      <th>2</th>\n",
       "      <td>0.00</td>\n",
       "      <td>how the pandemic has added to labor unrest</td>\n",
       "    </tr>\n",
       "    <tr>\n",
       "      <th>3</th>\n",
       "      <td>0.00</td>\n",
       "      <td>the biden administration will publish vaccine mandate rules ‘in the coming days.’</td>\n",
       "    </tr>\n",
       "    <tr>\n",
       "      <th>4</th>\n",
       "      <td>0.25</td>\n",
       "      <td>the novavax vaccine, backed by operation warp speed, has won its first authorization — in indonesia.</td>\n",
       "    </tr>\n",
       "  </tbody>\n",
       "</table>\n",
       "</div>"
      ],
      "text/plain": [
       "   polarity_headline  \\\n",
       "0               0.00   \n",
       "1               0.00   \n",
       "2               0.00   \n",
       "3               0.00   \n",
       "4               0.25   \n",
       "\n",
       "                                                                                               headline  \n",
       "0                          thailand reopens to tourists from 63 countries without requiring quarantine.  \n",
       "1                                                    a 6-hour opera in a pandemic? the met goes for it.  \n",
       "2                                                            how the pandemic has added to labor unrest  \n",
       "3                     the biden administration will publish vaccine mandate rules ‘in the coming days.’  \n",
       "4  the novavax vaccine, backed by operation warp speed, has won its first authorization — in indonesia.  "
      ]
     },
     "execution_count": 72,
     "metadata": {},
     "output_type": "execute_result"
    }
   ],
   "source": [
    "# Creating dataframe containing the polarity value and headline\n",
    "sentiment_df = pd.DataFrame(nyt_data, columns=[\"polarity_headline\", \"headline\"])\n",
    "sentiment_df.head()"
   ]
  },
  {
   "cell_type": "code",
   "execution_count": 73,
   "metadata": {},
   "outputs": [
    {
     "data": {
      "image/png": "[encoded data removed]",
      "text/plain": [
       "<Figure size 576x432 with 1 Axes>"
      ]
     },
     "metadata": {
      "needs_background": "light"
     },
     "output_type": "display_data"
    }
   ],
   "source": [
    "fig, ax = plt.subplots(figsize=(8, 6))\n",
    "\n",
    "# Plot histogram\n",
    "sentiment_df.hist(bins=[-1, -0.75, -0.5, -0.25, 0.0, 0.25, 0.5, 0.75, 1],\n",
    "             ax=ax,\n",
    "             color=\"green\")\n",
    "\n",
    "plt.title(\"Sentiments from NYT articles headlines related to the covid-19 pandemic\")\n",
    "plt.show()"
   ]
  },
  {
   "cell_type": "code",
   "execution_count": 89,
   "metadata": {},
   "outputs": [],
   "source": [
    "def sentiment_func(abstract): \n",
    "    try: \n",
    "        return TextBlob(abstract).sentiment \n",
    "    except:\n",
    "        return None"
   ]
  },
  {
   "cell_type": "code",
   "execution_count": 90,
   "metadata": {},
   "outputs": [],
   "source": [
    "nyt_data[\"pol_sub_abstract\"] = nyt_data[\"abstract\"].apply(sentiment_func)"
   ]
  },
  {
   "cell_type": "code",
   "execution_count": 91,
   "metadata": {},
   "outputs": [],
   "source": [
    "#adding a column for polarity and one for subjectivity\n",
    "nyt_data['polarity_abstract'] = [i[0] for i in nyt_data['pol_sub_abstract']]\n",
    "nyt_data['subjectivity_abstract'] = [i[1] for i in nyt_data['pol_sub_abstract']]"
   ]
  },
  {
   "cell_type": "code",
   "execution_count": 92,
   "metadata": {},
   "outputs": [
    {
     "data": {
      "text/html": [
       "<div>\n",
       "<style scoped>\n",
       "    .dataframe tbody tr th:only-of-type {\n",
       "        vertical-align: middle;\n",
       "    }\n",
       "\n",
       "    .dataframe tbody tr th {\n",
       "        vertical-align: top;\n",
       "    }\n",
       "\n",
       "    .dataframe thead th {\n",
       "        text-align: right;\n",
       "    }\n",
       "</style>\n",
       "<table border=\"1\" class=\"dataframe\">\n",
       "  <thead>\n",
       "    <tr style=\"text-align: right;\">\n",
       "      <th></th>\n",
       "      <th>Unnamed: 0</th>\n",
       "      <th>abstract</th>\n",
       "      <th>headline</th>\n",
       "      <th>pub_date</th>\n",
       "      <th>polarity_headline</th>\n",
       "      <th>subjectivity_headline</th>\n",
       "      <th>polarity_abstract</th>\n",
       "      <th>subjectivity_abstract</th>\n",
       "    </tr>\n",
       "  </thead>\n",
       "  <tbody>\n",
       "    <tr>\n",
       "      <th>0</th>\n",
       "      <td>0</td>\n",
       "      <td>about a fifth of the nation’s economy depends on the vacation industry. before the pandemic, the country was one of the world’s top destinations, drawing nearly 40 million visitors in 2019.</td>\n",
       "      <td>thailand reopens to tourists from 63 countries without requiring quarantine.</td>\n",
       "      <td>2021-11-01 12:26:03+00:00</td>\n",
       "      <td>0.00</td>\n",
       "      <td>0.000000</td>\n",
       "      <td>0.300000</td>\n",
       "      <td>0.450000</td>\n",
       "    </tr>\n",
       "    <tr>\n",
       "      <th>1</th>\n",
       "      <td>1</td>\n",
       "      <td>as some try to lure audiences back with short programs, the metropolitan opera is staging its longest work: wagner’s “die meistersinger.”</td>\n",
       "      <td>a 6-hour opera in a pandemic? the met goes for it.</td>\n",
       "      <td>2021-11-01 14:14:46+00:00</td>\n",
       "      <td>0.00</td>\n",
       "      <td>0.000000</td>\n",
       "      <td>0.000000</td>\n",
       "      <td>0.150000</td>\n",
       "    </tr>\n",
       "    <tr>\n",
       "      <th>2</th>\n",
       "      <td>2</td>\n",
       "      <td>while big companies wield considerable power, covid’s economic disruption has given workers new leverage, contributing to a recent upturn in strikes.</td>\n",
       "      <td>how the pandemic has added to labor unrest</td>\n",
       "      <td>2021-11-01 15:06:46+00:00</td>\n",
       "      <td>0.00</td>\n",
       "      <td>0.000000</td>\n",
       "      <td>0.087273</td>\n",
       "      <td>0.290909</td>\n",
       "    </tr>\n",
       "    <tr>\n",
       "      <th>3</th>\n",
       "      <td>3</td>\n",
       "      <td>the labor department has completed a draft of an emergency standard, which is under review. when it is released, a flurry of corporate vaccine mandates is expected to follow.</td>\n",
       "      <td>the biden administration will publish vaccine mandate rules ‘in the coming days.’</td>\n",
       "      <td>2021-11-01 16:29:36+00:00</td>\n",
       "      <td>0.00</td>\n",
       "      <td>0.000000</td>\n",
       "      <td>-0.033333</td>\n",
       "      <td>0.133333</td>\n",
       "    </tr>\n",
       "    <tr>\n",
       "      <th>4</th>\n",
       "      <td>4</td>\n",
       "      <td>after months of production delays, this is the first vaccine authorization for novavax and its manufacturing partner, the serum institute of india.</td>\n",
       "      <td>the novavax vaccine, backed by operation warp speed, has won its first authorization — in indonesia.</td>\n",
       "      <td>2021-11-01 16:40:48+00:00</td>\n",
       "      <td>0.25</td>\n",
       "      <td>0.333333</td>\n",
       "      <td>0.250000</td>\n",
       "      <td>0.333333</td>\n",
       "    </tr>\n",
       "  </tbody>\n",
       "</table>\n",
       "</div>"
      ],
      "text/plain": [
       "   Unnamed: 0  \\\n",
       "0           0   \n",
       "1           1   \n",
       "2           2   \n",
       "3           3   \n",
       "4           4   \n",
       "\n",
       "                                                                                                                                                                                        abstract  \\\n",
       "0  about a fifth of the nation’s economy depends on the vacation industry. before the pandemic, the country was one of the world’s top destinations, drawing nearly 40 million visitors in 2019.   \n",
       "1                                                      as some try to lure audiences back with short programs, the metropolitan opera is staging its longest work: wagner’s “die meistersinger.”   \n",
       "2                                          while big companies wield considerable power, covid’s economic disruption has given workers new leverage, contributing to a recent upturn in strikes.   \n",
       "3                 the labor department has completed a draft of an emergency standard, which is under review. when it is released, a flurry of corporate vaccine mandates is expected to follow.   \n",
       "4                                            after months of production delays, this is the first vaccine authorization for novavax and its manufacturing partner, the serum institute of india.   \n",
       "\n",
       "                                                                                               headline  \\\n",
       "0                          thailand reopens to tourists from 63 countries without requiring quarantine.   \n",
       "1                                                    a 6-hour opera in a pandemic? the met goes for it.   \n",
       "2                                                            how the pandemic has added to labor unrest   \n",
       "3                     the biden administration will publish vaccine mandate rules ‘in the coming days.’   \n",
       "4  the novavax vaccine, backed by operation warp speed, has won its first authorization — in indonesia.   \n",
       "\n",
       "                   pub_date  polarity_headline  subjectivity_headline  \\\n",
       "0 2021-11-01 12:26:03+00:00               0.00               0.000000   \n",
       "1 2021-11-01 14:14:46+00:00               0.00               0.000000   \n",
       "2 2021-11-01 15:06:46+00:00               0.00               0.000000   \n",
       "3 2021-11-01 16:29:36+00:00               0.00               0.000000   \n",
       "4 2021-11-01 16:40:48+00:00               0.25               0.333333   \n",
       "\n",
       "   polarity_abstract  subjectivity_abstract  \n",
       "0           0.300000               0.450000  \n",
       "1           0.000000               0.150000  \n",
       "2           0.087273               0.290909  \n",
       "3          -0.033333               0.133333  \n",
       "4           0.250000               0.333333  "
      ]
     },
     "execution_count": 92,
     "metadata": {},
     "output_type": "execute_result"
    }
   ],
   "source": [
    "#deleting column pol_sub\n",
    "del nyt_data['pol_sub_abstract']\n",
    "\n",
    "#reading text full lenght\n",
    "pd.set_option('display.max_colwidth', None)\n",
    "\n",
    "nyt_data.head()"
   ]
  },
  {
   "cell_type": "code",
   "execution_count": 78,
   "metadata": {},
   "outputs": [
    {
     "name": "stdout",
     "output_type": "stream",
     "text": [
      "0.07235640728343369 0.3130675787057845\n"
     ]
    }
   ],
   "source": [
    "mean_polarity_abstract = nyt_data['polarity_abstract'].mean()\n",
    "mean_subjectivity_abstract = nyt_data['subjectivity_abstract'].mean()\n",
    "print(mean_polarity_abstract,mean_subjectivity_abstract)"
   ]
  },
  {
   "cell_type": "code",
   "execution_count": 79,
   "metadata": {
    "scrolled": true
   },
   "outputs": [
    {
     "data": {
      "text/html": [
       "<div>\n",
       "<style scoped>\n",
       "    .dataframe tbody tr th:only-of-type {\n",
       "        vertical-align: middle;\n",
       "    }\n",
       "\n",
       "    .dataframe tbody tr th {\n",
       "        vertical-align: top;\n",
       "    }\n",
       "\n",
       "    .dataframe thead th {\n",
       "        text-align: right;\n",
       "    }\n",
       "</style>\n",
       "<table border=\"1\" class=\"dataframe\">\n",
       "  <thead>\n",
       "    <tr style=\"text-align: right;\">\n",
       "      <th></th>\n",
       "      <th>polarity_abstract</th>\n",
       "      <th>abstract</th>\n",
       "    </tr>\n",
       "  </thead>\n",
       "  <tbody>\n",
       "    <tr>\n",
       "      <th>0</th>\n",
       "      <td>0.300000</td>\n",
       "      <td>about a fifth of the nation’s economy depends on the vacation industry. before the pandemic, the country was one of the world’s top destinations, drawing nearly 40 million visitors in 2019.</td>\n",
       "    </tr>\n",
       "    <tr>\n",
       "      <th>1</th>\n",
       "      <td>0.000000</td>\n",
       "      <td>as some try to lure audiences back with short programs, the metropolitan opera is staging its longest work: wagner’s “die meistersinger.”</td>\n",
       "    </tr>\n",
       "    <tr>\n",
       "      <th>2</th>\n",
       "      <td>0.087273</td>\n",
       "      <td>while big companies wield considerable power, covid’s economic disruption has given workers new leverage, contributing to a recent upturn in strikes.</td>\n",
       "    </tr>\n",
       "    <tr>\n",
       "      <th>3</th>\n",
       "      <td>-0.033333</td>\n",
       "      <td>the labor department has completed a draft of an emergency standard, which is under review. when it is released, a flurry of corporate vaccine mandates is expected to follow.</td>\n",
       "    </tr>\n",
       "    <tr>\n",
       "      <th>4</th>\n",
       "      <td>0.250000</td>\n",
       "      <td>after months of production delays, this is the first vaccine authorization for novavax and its manufacturing partner, the serum institute of india.</td>\n",
       "    </tr>\n",
       "  </tbody>\n",
       "</table>\n",
       "</div>"
      ],
      "text/plain": [
       "   polarity_abstract  \\\n",
       "0           0.300000   \n",
       "1           0.000000   \n",
       "2           0.087273   \n",
       "3          -0.033333   \n",
       "4           0.250000   \n",
       "\n",
       "                                                                                                                                                                                        abstract  \n",
       "0  about a fifth of the nation’s economy depends on the vacation industry. before the pandemic, the country was one of the world’s top destinations, drawing nearly 40 million visitors in 2019.  \n",
       "1                                                      as some try to lure audiences back with short programs, the metropolitan opera is staging its longest work: wagner’s “die meistersinger.”  \n",
       "2                                          while big companies wield considerable power, covid’s economic disruption has given workers new leverage, contributing to a recent upturn in strikes.  \n",
       "3                 the labor department has completed a draft of an emergency standard, which is under review. when it is released, a flurry of corporate vaccine mandates is expected to follow.  \n",
       "4                                            after months of production delays, this is the first vaccine authorization for novavax and its manufacturing partner, the serum institute of india.  "
      ]
     },
     "execution_count": 79,
     "metadata": {},
     "output_type": "execute_result"
    }
   ],
   "source": [
    "# Creating dataframe containing the polarity value and headline\n",
    "sentiment_df_abstract = pd.DataFrame(nyt_data, columns=[\"polarity_abstract\", \"abstract\"])\n",
    "sentiment_df_abstract.head()"
   ]
  },
  {
   "cell_type": "code",
   "execution_count": 86,
   "metadata": {
    "scrolled": true
   },
   "outputs": [
    {
     "data": {
      "image/png": "[encoded data removed]",
      "text/plain": [
       "<Figure size 576x432 with 1 Axes>"
      ]
     },
     "metadata": {
      "needs_background": "light"
     },
     "output_type": "display_data"
    }
   ],
   "source": [
    "fig, ax = plt.subplots(figsize=(8, 6))\n",
    "\n",
    "# Plot histogram\n",
    "sentiment_df_abstract.hist(bins=[-1, -0.75, -0.5, -0.25, 0.0, 0.25, 0.5, 0.75, 1],\n",
    "                           ax=ax,\n",
    "                           color=\"green\")\n",
    "\n",
    "plt.title(\"Sentiments from NYT articles abstracts related to the covid-19 pandemic\")\n",
    "plt.show()"
   ]
  }
 ],
 "metadata": {
  "kernelspec": {
   "display_name": "Python 3 (ipykernel)",
   "language": "python",
   "name": "python3"
  },
  "language_info": {
   "codemirror_mode": {
    "name": "ipython",
    "version": 3
   },
   "file_extension": ".py",
   "mimetype": "text/x-python",
   "name": "python",
   "nbconvert_exporter": "python",
   "pygments_lexer": "ipython3",
   "version": "3.9.7"
  }
 },
 "nbformat": 4,
 "nbformat_minor": 4
}
