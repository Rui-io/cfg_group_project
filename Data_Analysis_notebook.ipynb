{
 "cells": [
  {
   "cell_type": "markdown",
   "metadata": {},
   "source": [
    "# <u>Data Analysis"
   ]
  },
  {
   "cell_type": "code",
   "execution_count": 1,
   "metadata": {},
   "outputs": [],
   "source": [
    "#pip install textblob"
   ]
  },
  {
   "cell_type": "code",
   "execution_count": 57,
   "metadata": {
    "scrolled": true
   },
   "outputs": [],
   "source": [
    "#pip install alpha_vantage"
   ]
  },
  {
   "cell_type": "code",
   "execution_count": 3,
   "metadata": {},
   "outputs": [],
   "source": [
    "#pip install wordcloud"
   ]
  },
  {
   "cell_type": "code",
   "execution_count": 21,
   "metadata": {},
   "outputs": [],
   "source": [
    "# Importing modules needed\n",
    "import requests\n",
    "from pprint import pprint as pp\n",
    "import pandas as pd\n",
    "from matplotlib import pyplot as plt\n",
    "import re\n",
    "from wordcloud import WordCloud, STOPWORDS\n",
    "import datetime\n",
    "import nltk\n",
    "from textblob import TextBlob\n",
    "from alpha_vantage.timeseries import TimeSeries\n",
    "import csv\n",
    "import numpy as np\n",
    "import string\n",
    "from textblob.sentiments import NaiveBayesAnalyzer\n",
    "import seaborn as sns"
   ]
  },
  {
   "cell_type": "markdown",
   "metadata": {},
   "source": [
    "# Introduction"
   ]
  },
  {
   "cell_type": "markdown",
   "metadata": {},
   "source": [
    "##### We conducted the following types of analysis:\n",
    "<ul>\n",
    "    <li>Word Clouds: From the word frequency CSVs, we use the wordcloud module to generate a wordcloud of the most mentioned words in Guardian articles, for each quarter of 2021\n",
    "    <li>Guardian - Occurrence Analysis: From the Guardian covid articles CSV, we find the number of articles published containing covid and vaccine related words, and calculate the average number of times these words were mentioned each day, each month of the year\n",
    "    <li>Sentiment Analysis:\n",
    "        <ol>\n",
    "            <li>2021: Using the NYT 2021 articles CSV, we determine the sentiment of each article abstract, to determine the polarity - ie whether the article has a positive sentiment (indicated by a positive polarity, max 1) or a negative sentiment (indicated by a negative polarity, max -1) - and the subjectivity (where 0 is completely objective, and 1 is completely subjective)\n",
    "            <li>November only: Using the NYT November articles CSV, we determine the sentiment of each article abstract and headline"
   ]
  },
  {
   "cell_type": "markdown",
   "metadata": {},
   "source": [
    "# Word Clouds"
   ]
  },
  {
   "cell_type": "markdown",
   "metadata": {},
   "source": [
    "#### Using the wordcloud package to generate word clouds, one for each quarter"
   ]
  },
  {
   "cell_type": "code",
   "execution_count": 58,
   "metadata": {},
   "outputs": [
    {
     "ename": "FileNotFoundError",
     "evalue": "[Errno 2] No such file or directory: 'Guardian_articles_Q1.csv'",
     "output_type": "error",
     "traceback": [
      "\u001b[0;31m---------------------------------------------------------------------------\u001b[0m",
      "\u001b[0;31mFileNotFoundError\u001b[0m                         Traceback (most recent call last)",
      "\u001b[0;32m<ipython-input-58-aee79e6e1e90>\u001b[0m in \u001b[0;36m<module>\u001b[0;34m\u001b[0m\n\u001b[1;32m      1\u001b[0m \u001b[0mfile\u001b[0m \u001b[0;34m=\u001b[0m \u001b[0;36m1\u001b[0m\u001b[0;34m\u001b[0m\u001b[0;34m\u001b[0m\u001b[0m\n\u001b[1;32m      2\u001b[0m \u001b[0;32mfor\u001b[0m \u001b[0mfile\u001b[0m \u001b[0;32min\u001b[0m \u001b[0mrange\u001b[0m \u001b[0;34m(\u001b[0m\u001b[0;36m1\u001b[0m\u001b[0;34m,\u001b[0m\u001b[0;36m5\u001b[0m\u001b[0;34m)\u001b[0m\u001b[0;34m:\u001b[0m\u001b[0;34m\u001b[0m\u001b[0;34m\u001b[0m\u001b[0m\n\u001b[0;32m----> 3\u001b[0;31m     \u001b[0mtext\u001b[0m \u001b[0;34m=\u001b[0m \u001b[0mopen\u001b[0m\u001b[0;34m(\u001b[0m\u001b[0;34mf'Guardian_articles_Q{file}.csv'\u001b[0m\u001b[0;34m,\u001b[0m \u001b[0mmode\u001b[0m\u001b[0;34m=\u001b[0m\u001b[0;34m'r'\u001b[0m\u001b[0;34m,\u001b[0m \u001b[0mencoding\u001b[0m\u001b[0;34m=\u001b[0m\u001b[0;34m'utf-8'\u001b[0m\u001b[0;34m)\u001b[0m\u001b[0;34m.\u001b[0m\u001b[0mread\u001b[0m\u001b[0;34m(\u001b[0m\u001b[0;34m)\u001b[0m\u001b[0;34m\u001b[0m\u001b[0;34m\u001b[0m\u001b[0m\n\u001b[0m\u001b[1;32m      4\u001b[0m     \u001b[0mstop_words\u001b[0m \u001b[0;34m=\u001b[0m \u001b[0;34m[\u001b[0m\u001b[0;34m's'\u001b[0m\u001b[0;34m'crossword'\u001b[0m\u001b[0;34m,\u001b[0m\u001b[0;34m'amid'\u001b[0m\u001b[0;34m,\u001b[0m\u001b[0;34m'way'\u001b[0m\u001b[0;34m,\u001b[0m\u001b[0;34m'over'\u001b[0m\u001b[0;34m,\u001b[0m\u001b[0;34m'could'\u001b[0m\u001b[0;34m,\u001b[0m\u001b[0;34m'day'\u001b[0m\u001b[0;34m,\u001b[0m\u001b[0;34m'years'\u001b[0m\u001b[0;34m,\u001b[0m\u001b[0;34m'into'\u001b[0m\u001b[0;34m,\u001b[0m\u001b[0;34m'may'\u001b[0m\u001b[0;34m,\u001b[0m\u001b[0;34m'must'\u001b[0m\u001b[0;34m,\u001b[0m\u001b[0;34m'right'\u001b[0m\u001b[0;34m,\u001b[0m\u001b[0;34m'been'\u001b[0m\u001b[0;34m,\u001b[0m\u001b[0;34m'go'\u001b[0m\u001b[0;34m,\u001b[0m\u001b[0;34m'week'\u001b[0m\u001b[0;34m,\u001b[0m\u001b[0;34m'time'\u001b[0m\u001b[0;34m,\u001b[0m\u001b[0;34m'make'\u001b[0m\u001b[0;34m,\u001b[0m\u001b[0;34m'back'\u001b[0m\u001b[0;34m,\u001b[0m\u001b[0;34m'happened'\u001b[0m\u001b[0;34m,\u001b[0m\u001b[0;34m'so'\u001b[0m\u001b[0;34m,\u001b[0m\u001b[0;34m'do'\u001b[0m\u001b[0;34m,\u001b[0m\u001b[0;34m'our'\u001b[0m\u001b[0;34m,\u001b[0m\u001b[0;34m'about'\u001b[0m\u001b[0;34m,\u001b[0m\u001b[0;34m'but'\u001b[0m\u001b[0;34m,\u001b[0m\u001b[0;34m'if'\u001b[0m\u001b[0;34m,\u001b[0m\u001b[0;34m'now'\u001b[0m\u001b[0;34m,\u001b[0m\u001b[0;34m'should'\u001b[0m\u001b[0;34m,\u001b[0m\u001b[0;34m'off'\u001b[0m\u001b[0;34m,\u001b[0m\u001b[0;34m'our'\u001b[0m\u001b[0;34m,\u001b[0m\u001b[0;34m'cant'\u001b[0m\u001b[0;34m,\u001b[0m\u001b[0;34m'got'\u001b[0m\u001b[0;34m,\u001b[0m\u001b[0;34m'have'\u001b[0m\u001b[0;34m,\u001b[0m\u001b[0;34m'dont'\u001b[0m\u001b[0;34m,\u001b[0m\u001b[0;34m'than'\u001b[0m\u001b[0;34m,\u001b[0m\u001b[0;34m'more'\u001b[0m\u001b[0;34m,\u001b[0m\u001b[0;34m'get'\u001b[0m\u001b[0;34m,\u001b[0m\u001b[0;34m'an'\u001b[0m\u001b[0;34m,\u001b[0m\u001b[0;34m'does'\u001b[0m\u001b[0;34m,\u001b[0m\u001b[0;34m'just'\u001b[0m\u001b[0;34m,\u001b[0m\u001b[0;34m'say'\u001b[0m\u001b[0;34m,\u001b[0m\u001b[0;34m'take'\u001b[0m\u001b[0;34m,\u001b[0m\u001b[0;34m'met'\u001b[0m\u001b[0;34m,\u001b[0m\u001b[0;34m'had'\u001b[0m\u001b[0;34m,\u001b[0m\u001b[0;34m'be'\u001b[0m\u001b[0;34m,\u001b[0m\u001b[0;34m'im'\u001b[0m\u001b[0;34m,\u001b[0m\u001b[0;34m'like'\u001b[0m\u001b[0;34m,\u001b[0m\u001b[0;34m'isnt'\u001b[0m\u001b[0;34m,\u001b[0m\u001b[0;34m'any'\u001b[0m\u001b[0;34m,\u001b[0m\u001b[0;34m'some'\u001b[0m\u001b[0;34m,\u001b[0m\u001b[0;34m'meet'\u001b[0m\u001b[0;34m,\u001b[0m\u001b[0;34m'were'\u001b[0m\u001b[0;34m,\u001b[0m\u001b[0;34m'them'\u001b[0m\u001b[0;34m,\u001b[0m\u001b[0;34m'this'\u001b[0m\u001b[0;34m,\u001b[0m\u001b[0;34m'then'\u001b[0m\u001b[0;34m,\u001b[0m\u001b[0;34m'from'\u001b[0m\u001b[0;34m,\u001b[0m\u001b[0;34m'two'\u001b[0m\u001b[0;34m,\u001b[0m\u001b[0;34m'three'\u001b[0m\u001b[0;34m,\u001b[0m\u001b[0;34m'how'\u001b[0m\u001b[0;34m,\u001b[0m\u001b[0;34m'out'\u001b[0m\u001b[0;34m,\u001b[0m\u001b[0;34m'are'\u001b[0m\u001b[0;34m,\u001b[0m\u001b[0;34m'said'\u001b[0m\u001b[0;34m,\u001b[0m\u001b[0;34m'can'\u001b[0m\u001b[0;34m,\u001b[0m\u001b[0;34m'with'\u001b[0m\u001b[0;34m,\u001b[0m\u001b[0;34m'is'\u001b[0m\u001b[0;34m,\u001b[0m\u001b[0;34m'me'\u001b[0m\u001b[0;34m,\u001b[0m\u001b[0;34m'says'\u001b[0m\u001b[0;34m,\u001b[0m\u001b[0;34m'all'\u001b[0m\u001b[0;34m,\u001b[0m\u001b[0;34m'we'\u001b[0m\u001b[0;34m,\u001b[0m\u001b[0;34m'no'\u001b[0m\u001b[0;34m,\u001b[0m\u001b[0;34m'was'\u001b[0m\u001b[0;34m,\u001b[0m\u001b[0;34m'that'\u001b[0m\u001b[0;34m,\u001b[0m\u001b[0;34m'not'\u001b[0m\u001b[0;34m,\u001b[0m\u001b[0;34m'one'\u001b[0m\u001b[0;34m,\u001b[0m\u001b[0;34m'its'\u001b[0m\u001b[0;34m,\u001b[0m\u001b[0;34m'us'\u001b[0m\u001b[0;34m,\u001b[0m\u001b[0;34m'has'\u001b[0m\u001b[0;34m,\u001b[0m\u001b[0;34m'my'\u001b[0m\u001b[0;34m,\u001b[0m\u001b[0;34m'will'\u001b[0m\u001b[0;34m,\u001b[0m\u001b[0;34m'on'\u001b[0m\u001b[0;34m,\u001b[0m\u001b[0;34m'in'\u001b[0m\u001b[0;34m,\u001b[0m\u001b[0;34m'they'\u001b[0m\u001b[0;34m,\u001b[0m\u001b[0;34m'their'\u001b[0m\u001b[0;34m,\u001b[0m\u001b[0;34m'you'\u001b[0m\u001b[0;34m,\u001b[0m\u001b[0;34m'your'\u001b[0m\u001b[0;34m,\u001b[0m\u001b[0;34m'by'\u001b[0m\u001b[0;34m,\u001b[0m\u001b[0;34m'at'\u001b[0m\u001b[0;34m,\u001b[0m\u001b[0;34m'and'\u001b[0m\u001b[0;34m,\u001b[0m\u001b[0;34m'a'\u001b[0m\u001b[0;34m,\u001b[0m\u001b[0;34m'i'\u001b[0m\u001b[0;34m,\u001b[0m\u001b[0;34m'because'\u001b[0m\u001b[0;34m,\u001b[0m\u001b[0;34m'it'\u001b[0m\u001b[0;34m,\u001b[0m\u001b[0;34m'too'\u001b[0m\u001b[0;34m,\u001b[0m\u001b[0;34m'to'\u001b[0m\u001b[0;34m,\u001b[0m\u001b[0;34m'for'\u001b[0m\u001b[0;34m,\u001b[0m\u001b[0;34m'of'\u001b[0m\u001b[0;34m,\u001b[0m\u001b[0;34m'his'\u001b[0m\u001b[0;34m,\u001b[0m\u001b[0;34m'her'\u001b[0m\u001b[0;34m,\u001b[0m\u001b[0;34m'he'\u001b[0m\u001b[0;34m,\u001b[0m\u001b[0;34m'him'\u001b[0m\u001b[0;34m,\u001b[0m\u001b[0;34m'she'\u001b[0m\u001b[0;34m,\u001b[0m\u001b[0;34m'the'\u001b[0m\u001b[0;34m,\u001b[0m\u001b[0;34m'or'\u001b[0m\u001b[0;34m,\u001b[0m\u001b[0;34m'before'\u001b[0m\u001b[0;34m,\u001b[0m\u001b[0;34m'after'\u001b[0m\u001b[0;34m,\u001b[0m\u001b[0;34m'as'\u001b[0m\u001b[0;34m,\u001b[0m\u001b[0;34m'why'\u001b[0m\u001b[0;34m,\u001b[0m\u001b[0;34m'what'\u001b[0m\u001b[0;34m,\u001b[0m\u001b[0;34m'who'\u001b[0m\u001b[0;34m,\u001b[0m\u001b[0;34m'when'\u001b[0m\u001b[0;34m]\u001b[0m\u001b[0;34m\u001b[0m\u001b[0;34m\u001b[0m\u001b[0m\n\u001b[1;32m      5\u001b[0m \u001b[0;34m\u001b[0m\u001b[0m\n",
      "\u001b[0;31mFileNotFoundError\u001b[0m: [Errno 2] No such file or directory: 'Guardian_articles_Q1.csv'"
     ]
    }
   ],
   "source": [
    "file = 1\n",
    "for file in range (1,5):\n",
    "    text = open(f'data/Guardian_articles_Q{file}.csv', mode='r', encoding='utf-8').read()\n",
    "    stop_words = ['s''crossword','amid','way','over','could','day','years','into','may','must','right','been','go','week','time','make','back','happened','so','do','our','about','but','if','now','should','off','our','cant','got','have','dont','than','more','get','an','does','just','say','take','met','had','be','im','like','isnt','any','some','meet','were','them','this','then','from','two','three','how','out','are','said','can','with','is','me','says','all','we','no','was','that','not','one','its','us','has','my','will','on','in','they','their','you','your','by','at','and','a','i','because','it','too','to','for','of','his','her','he','him','she','the','or','before','after','as','why','what','who','when']\n",
    "\n",
    "    wc = WordCloud (\n",
    "        background_color='white',\n",
    "        stopwords=stop_words,\n",
    "        height = 400,\n",
    "        width = 600,\n",
    "        max_words=50)\n",
    "\n",
    "    wc.generate(text)\n",
    "    \n",
    "    print(f\"Q{file} word cloud\")\n",
    "    plt.figure()\n",
    "    plt.imshow(wc, interpolation=\"bilinear\")\n",
    "    plt.axis(\"off\")\n",
    "    plt.show()\n",
    "    wc.to_file(f'Q{file}_wordcloud.png')"
   ]
  },
  {
   "cell_type": "markdown",
   "metadata": {},
   "source": [
    "# Guardian - Occurrence Analysis"
   ]
  },
  {
   "cell_type": "code",
   "execution_count": 6,
   "metadata": {},
   "outputs": [
    {
     "data": {
      "text/html": [
       "<div>\n",
       "<style scoped>\n",
       "    .dataframe tbody tr th:only-of-type {\n",
       "        vertical-align: middle;\n",
       "    }\n",
       "\n",
       "    .dataframe tbody tr th {\n",
       "        vertical-align: top;\n",
       "    }\n",
       "\n",
       "    .dataframe thead th {\n",
       "        text-align: right;\n",
       "    }\n",
       "</style>\n",
       "<table border=\"1\" class=\"dataframe\">\n",
       "  <thead>\n",
       "    <tr style=\"text-align: right;\">\n",
       "      <th></th>\n",
       "      <th>Title</th>\n",
       "      <th>DateTimePublished</th>\n",
       "    </tr>\n",
       "  </thead>\n",
       "  <tbody>\n",
       "    <tr>\n",
       "      <th>0</th>\n",
       "      <td>do covid vaccine mandates work</td>\n",
       "      <td>2021-12-03 13:14:02+00:00</td>\n",
       "    </tr>\n",
       "    <tr>\n",
       "      <th>1</th>\n",
       "      <td>the history of covid vaccine development</td>\n",
       "      <td>2021-12-08 06:00:33+00:00</td>\n",
       "    </tr>\n",
       "    <tr>\n",
       "      <th>2</th>\n",
       "      <td>is delta the last covid super variant</td>\n",
       "      <td>2021-11-21 09:00:08+00:00</td>\n",
       "    </tr>\n",
       "    <tr>\n",
       "      <th>3</th>\n",
       "      <td>its bizarre to see a covid patient deny covid ...</td>\n",
       "      <td>2021-10-17 16:30:33+00:00</td>\n",
       "    </tr>\n",
       "    <tr>\n",
       "      <th>4</th>\n",
       "      <td>covid update australia confirms first omicron ...</td>\n",
       "      <td>2021-11-28 07:08:44+00:00</td>\n",
       "    </tr>\n",
       "  </tbody>\n",
       "</table>\n",
       "</div>"
      ],
      "text/plain": [
       "                                               Title         DateTimePublished\n",
       "0                     do covid vaccine mandates work 2021-12-03 13:14:02+00:00\n",
       "1           the history of covid vaccine development 2021-12-08 06:00:33+00:00\n",
       "2              is delta the last covid super variant 2021-11-21 09:00:08+00:00\n",
       "3  its bizarre to see a covid patient deny covid ... 2021-10-17 16:30:33+00:00\n",
       "4  covid update australia confirms first omicron ... 2021-11-28 07:08:44+00:00"
      ]
     },
     "execution_count": 6,
     "metadata": {},
     "output_type": "execute_result"
    }
   ],
   "source": [
    "# Putting CSV data into a datframe, g_df\n",
    "g_df = pd.read_csv('data/Guardian_articles_covid.csv', parse_dates = [\"DateTimePublished\"])\n",
    "g_df.head()"
   ]
  },
  {
   "cell_type": "code",
   "execution_count": 7,
   "metadata": {},
   "outputs": [
    {
     "data": {
      "text/html": [
       "<div>\n",
       "<style scoped>\n",
       "    .dataframe tbody tr th:only-of-type {\n",
       "        vertical-align: middle;\n",
       "    }\n",
       "\n",
       "    .dataframe tbody tr th {\n",
       "        vertical-align: top;\n",
       "    }\n",
       "\n",
       "    .dataframe thead th {\n",
       "        text-align: right;\n",
       "    }\n",
       "</style>\n",
       "<table border=\"1\" class=\"dataframe\">\n",
       "  <thead>\n",
       "    <tr style=\"text-align: right;\">\n",
       "      <th></th>\n",
       "      <th>Title</th>\n",
       "      <th>DateTimePublished</th>\n",
       "      <th>DatePublished</th>\n",
       "    </tr>\n",
       "  </thead>\n",
       "  <tbody>\n",
       "    <tr>\n",
       "      <th>0</th>\n",
       "      <td>do covid vaccine mandates work</td>\n",
       "      <td>2021-12-03 13:14:02+00:00</td>\n",
       "      <td>2021-12-03</td>\n",
       "    </tr>\n",
       "    <tr>\n",
       "      <th>1</th>\n",
       "      <td>the history of covid vaccine development</td>\n",
       "      <td>2021-12-08 06:00:33+00:00</td>\n",
       "      <td>2021-12-08</td>\n",
       "    </tr>\n",
       "    <tr>\n",
       "      <th>2</th>\n",
       "      <td>is delta the last covid super variant</td>\n",
       "      <td>2021-11-21 09:00:08+00:00</td>\n",
       "      <td>2021-11-21</td>\n",
       "    </tr>\n",
       "    <tr>\n",
       "      <th>3</th>\n",
       "      <td>its bizarre to see a covid patient deny covid ...</td>\n",
       "      <td>2021-10-17 16:30:33+00:00</td>\n",
       "      <td>2021-10-17</td>\n",
       "    </tr>\n",
       "    <tr>\n",
       "      <th>4</th>\n",
       "      <td>covid update australia confirms first omicron ...</td>\n",
       "      <td>2021-11-28 07:08:44+00:00</td>\n",
       "      <td>2021-11-28</td>\n",
       "    </tr>\n",
       "    <tr>\n",
       "      <th>...</th>\n",
       "      <td>...</td>\n",
       "      <td>...</td>\n",
       "      <td>...</td>\n",
       "    </tr>\n",
       "    <tr>\n",
       "      <th>22306</th>\n",
       "      <td>tour de france 2021 mark cavendish muscles way...</td>\n",
       "      <td>2021-07-01 15:59:34+00:00</td>\n",
       "      <td>2021-07-01</td>\n",
       "    </tr>\n",
       "    <tr>\n",
       "      <th>22307</th>\n",
       "      <td>jessica mccaskill beats cecilia brækhus to ret...</td>\n",
       "      <td>2021-03-14 06:20:19+00:00</td>\n",
       "      <td>2021-03-14</td>\n",
       "    </tr>\n",
       "    <tr>\n",
       "      <th>22308</th>\n",
       "      <td>howe set for newcastle alsadd reach xavi barça...</td>\n",
       "      <td>2021-11-05 17:54:26+00:00</td>\n",
       "      <td>2021-11-05</td>\n",
       "    </tr>\n",
       "    <tr>\n",
       "      <th>22309</th>\n",
       "      <td>gladbach 02 manchester city champions league l...</td>\n",
       "      <td>2021-02-24 22:22:45+00:00</td>\n",
       "      <td>2021-02-24</td>\n",
       "    </tr>\n",
       "    <tr>\n",
       "      <th>22310</th>\n",
       "      <td>standards watchdog calls for rapid action to l...</td>\n",
       "      <td>2021-11-11 17:03:17+00:00</td>\n",
       "      <td>2021-11-11</td>\n",
       "    </tr>\n",
       "  </tbody>\n",
       "</table>\n",
       "<p>22311 rows × 3 columns</p>\n",
       "</div>"
      ],
      "text/plain": [
       "                                                   Title  \\\n",
       "0                         do covid vaccine mandates work   \n",
       "1               the history of covid vaccine development   \n",
       "2                  is delta the last covid super variant   \n",
       "3      its bizarre to see a covid patient deny covid ...   \n",
       "4      covid update australia confirms first omicron ...   \n",
       "...                                                  ...   \n",
       "22306  tour de france 2021 mark cavendish muscles way...   \n",
       "22307  jessica mccaskill beats cecilia brækhus to ret...   \n",
       "22308  howe set for newcastle alsadd reach xavi barça...   \n",
       "22309  gladbach 02 manchester city champions league l...   \n",
       "22310  standards watchdog calls for rapid action to l...   \n",
       "\n",
       "              DateTimePublished DatePublished  \n",
       "0     2021-12-03 13:14:02+00:00    2021-12-03  \n",
       "1     2021-12-08 06:00:33+00:00    2021-12-08  \n",
       "2     2021-11-21 09:00:08+00:00    2021-11-21  \n",
       "3     2021-10-17 16:30:33+00:00    2021-10-17  \n",
       "4     2021-11-28 07:08:44+00:00    2021-11-28  \n",
       "...                         ...           ...  \n",
       "22306 2021-07-01 15:59:34+00:00    2021-07-01  \n",
       "22307 2021-03-14 06:20:19+00:00    2021-03-14  \n",
       "22308 2021-11-05 17:54:26+00:00    2021-11-05  \n",
       "22309 2021-02-24 22:22:45+00:00    2021-02-24  \n",
       "22310 2021-11-11 17:03:17+00:00    2021-11-11  \n",
       "\n",
       "[22311 rows x 3 columns]"
      ]
     },
     "execution_count": 7,
     "metadata": {},
     "output_type": "execute_result"
    }
   ],
   "source": [
    "# Add date column by converting datetime to date\n",
    "g_df['DatePublished']= pd.to_datetime(g_df['DateTimePublished']).dt.date\n",
    "g_df"
   ]
  },
  {
   "cell_type": "markdown",
   "metadata": {},
   "source": [
    "#### Making checkboxes for specific words - if an article title contains this word, mark that column as 1, otherwise, 0"
   ]
  },
  {
   "cell_type": "code",
   "execution_count": 8,
   "metadata": {},
   "outputs": [
    {
     "data": {
      "text/html": [
       "<div>\n",
       "<style scoped>\n",
       "    .dataframe tbody tr th:only-of-type {\n",
       "        vertical-align: middle;\n",
       "    }\n",
       "\n",
       "    .dataframe tbody tr th {\n",
       "        vertical-align: top;\n",
       "    }\n",
       "\n",
       "    .dataframe thead th {\n",
       "        text-align: right;\n",
       "    }\n",
       "</style>\n",
       "<table border=\"1\" class=\"dataframe\">\n",
       "  <thead>\n",
       "    <tr style=\"text-align: right;\">\n",
       "      <th></th>\n",
       "      <th>Title</th>\n",
       "      <th>DateTimePublished</th>\n",
       "      <th>DatePublished</th>\n",
       "      <th>ContainsAz</th>\n",
       "      <th>ContainsPf</th>\n",
       "      <th>ContainsMd</th>\n",
       "      <th>ContainsVaccine</th>\n",
       "      <th>ContainsCv</th>\n",
       "    </tr>\n",
       "  </thead>\n",
       "  <tbody>\n",
       "    <tr>\n",
       "      <th>0</th>\n",
       "      <td>do covid vaccine mandates work</td>\n",
       "      <td>2021-12-03 13:14:02+00:00</td>\n",
       "      <td>2021-12-03</td>\n",
       "      <td>0</td>\n",
       "      <td>0</td>\n",
       "      <td>0</td>\n",
       "      <td>1</td>\n",
       "      <td>1</td>\n",
       "    </tr>\n",
       "    <tr>\n",
       "      <th>1</th>\n",
       "      <td>the history of covid vaccine development</td>\n",
       "      <td>2021-12-08 06:00:33+00:00</td>\n",
       "      <td>2021-12-08</td>\n",
       "      <td>0</td>\n",
       "      <td>0</td>\n",
       "      <td>0</td>\n",
       "      <td>1</td>\n",
       "      <td>1</td>\n",
       "    </tr>\n",
       "    <tr>\n",
       "      <th>2</th>\n",
       "      <td>is delta the last covid super variant</td>\n",
       "      <td>2021-11-21 09:00:08+00:00</td>\n",
       "      <td>2021-11-21</td>\n",
       "      <td>0</td>\n",
       "      <td>0</td>\n",
       "      <td>0</td>\n",
       "      <td>0</td>\n",
       "      <td>1</td>\n",
       "    </tr>\n",
       "    <tr>\n",
       "      <th>3</th>\n",
       "      <td>its bizarre to see a covid patient deny covid ...</td>\n",
       "      <td>2021-10-17 16:30:33+00:00</td>\n",
       "      <td>2021-10-17</td>\n",
       "      <td>0</td>\n",
       "      <td>0</td>\n",
       "      <td>0</td>\n",
       "      <td>0</td>\n",
       "      <td>1</td>\n",
       "    </tr>\n",
       "    <tr>\n",
       "      <th>4</th>\n",
       "      <td>covid update australia confirms first omicron ...</td>\n",
       "      <td>2021-11-28 07:08:44+00:00</td>\n",
       "      <td>2021-11-28</td>\n",
       "      <td>0</td>\n",
       "      <td>0</td>\n",
       "      <td>0</td>\n",
       "      <td>0</td>\n",
       "      <td>1</td>\n",
       "    </tr>\n",
       "    <tr>\n",
       "      <th>...</th>\n",
       "      <td>...</td>\n",
       "      <td>...</td>\n",
       "      <td>...</td>\n",
       "      <td>...</td>\n",
       "      <td>...</td>\n",
       "      <td>...</td>\n",
       "      <td>...</td>\n",
       "      <td>...</td>\n",
       "    </tr>\n",
       "    <tr>\n",
       "      <th>22306</th>\n",
       "      <td>tour de france 2021 mark cavendish muscles way...</td>\n",
       "      <td>2021-07-01 15:59:34+00:00</td>\n",
       "      <td>2021-07-01</td>\n",
       "      <td>0</td>\n",
       "      <td>0</td>\n",
       "      <td>0</td>\n",
       "      <td>0</td>\n",
       "      <td>0</td>\n",
       "    </tr>\n",
       "    <tr>\n",
       "      <th>22307</th>\n",
       "      <td>jessica mccaskill beats cecilia brækhus to ret...</td>\n",
       "      <td>2021-03-14 06:20:19+00:00</td>\n",
       "      <td>2021-03-14</td>\n",
       "      <td>0</td>\n",
       "      <td>0</td>\n",
       "      <td>0</td>\n",
       "      <td>0</td>\n",
       "      <td>0</td>\n",
       "    </tr>\n",
       "    <tr>\n",
       "      <th>22308</th>\n",
       "      <td>howe set for newcastle alsadd reach xavi barça...</td>\n",
       "      <td>2021-11-05 17:54:26+00:00</td>\n",
       "      <td>2021-11-05</td>\n",
       "      <td>0</td>\n",
       "      <td>0</td>\n",
       "      <td>0</td>\n",
       "      <td>0</td>\n",
       "      <td>0</td>\n",
       "    </tr>\n",
       "    <tr>\n",
       "      <th>22309</th>\n",
       "      <td>gladbach 02 manchester city champions league l...</td>\n",
       "      <td>2021-02-24 22:22:45+00:00</td>\n",
       "      <td>2021-02-24</td>\n",
       "      <td>0</td>\n",
       "      <td>0</td>\n",
       "      <td>0</td>\n",
       "      <td>0</td>\n",
       "      <td>0</td>\n",
       "    </tr>\n",
       "    <tr>\n",
       "      <th>22310</th>\n",
       "      <td>standards watchdog calls for rapid action to l...</td>\n",
       "      <td>2021-11-11 17:03:17+00:00</td>\n",
       "      <td>2021-11-11</td>\n",
       "      <td>0</td>\n",
       "      <td>0</td>\n",
       "      <td>0</td>\n",
       "      <td>0</td>\n",
       "      <td>0</td>\n",
       "    </tr>\n",
       "  </tbody>\n",
       "</table>\n",
       "<p>22311 rows × 8 columns</p>\n",
       "</div>"
      ],
      "text/plain": [
       "                                                   Title  \\\n",
       "0                         do covid vaccine mandates work   \n",
       "1               the history of covid vaccine development   \n",
       "2                  is delta the last covid super variant   \n",
       "3      its bizarre to see a covid patient deny covid ...   \n",
       "4      covid update australia confirms first omicron ...   \n",
       "...                                                  ...   \n",
       "22306  tour de france 2021 mark cavendish muscles way...   \n",
       "22307  jessica mccaskill beats cecilia brækhus to ret...   \n",
       "22308  howe set for newcastle alsadd reach xavi barça...   \n",
       "22309  gladbach 02 manchester city champions league l...   \n",
       "22310  standards watchdog calls for rapid action to l...   \n",
       "\n",
       "              DateTimePublished DatePublished  ContainsAz  ContainsPf  \\\n",
       "0     2021-12-03 13:14:02+00:00    2021-12-03           0           0   \n",
       "1     2021-12-08 06:00:33+00:00    2021-12-08           0           0   \n",
       "2     2021-11-21 09:00:08+00:00    2021-11-21           0           0   \n",
       "3     2021-10-17 16:30:33+00:00    2021-10-17           0           0   \n",
       "4     2021-11-28 07:08:44+00:00    2021-11-28           0           0   \n",
       "...                         ...           ...         ...         ...   \n",
       "22306 2021-07-01 15:59:34+00:00    2021-07-01           0           0   \n",
       "22307 2021-03-14 06:20:19+00:00    2021-03-14           0           0   \n",
       "22308 2021-11-05 17:54:26+00:00    2021-11-05           0           0   \n",
       "22309 2021-02-24 22:22:45+00:00    2021-02-24           0           0   \n",
       "22310 2021-11-11 17:03:17+00:00    2021-11-11           0           0   \n",
       "\n",
       "       ContainsMd  ContainsVaccine  ContainsCv  \n",
       "0               0                1           1  \n",
       "1               0                1           1  \n",
       "2               0                0           1  \n",
       "3               0                0           1  \n",
       "4               0                0           1  \n",
       "...           ...              ...         ...  \n",
       "22306           0                0           0  \n",
       "22307           0                0           0  \n",
       "22308           0                0           0  \n",
       "22309           0                0           0  \n",
       "22310           0                0           0  \n",
       "\n",
       "[22311 rows x 8 columns]"
      ]
     },
     "execution_count": 8,
     "metadata": {},
     "output_type": "execute_result"
    }
   ],
   "source": [
    "def containsAz(x):\n",
    "    if 'astrazeneca' in str(x):\n",
    "        return 1\n",
    "    else:\n",
    "        return 0\n",
    "g_df['ContainsAz'] = g_df['Title'].apply(containsAz)\n",
    "\n",
    "def containsPf(x):\n",
    "    if 'pfizer' in str(x):\n",
    "        return 1\n",
    "    else:\n",
    "        return 0\n",
    "g_df['ContainsPf'] = g_df['Title'].apply(containsPf)\n",
    "\n",
    "def containsMd(x):\n",
    "    if 'moderna' in str(x):\n",
    "        return 1\n",
    "    else:\n",
    "        return 0\n",
    "g_df['ContainsMd'] = g_df['Title'].apply(containsMd)\n",
    "\n",
    "def containsVaccine(x):\n",
    "    if 'vaccine' in str(x):\n",
    "        return 1\n",
    "    else:\n",
    "        return 0\n",
    "g_df['ContainsVaccine'] = g_df['Title'].apply(containsVaccine)\n",
    "\n",
    "def containsCv(x):\n",
    "    if 'covid' in str(x) or 'coronavirus' in str(x):\n",
    "        return 1\n",
    "    else:\n",
    "        return 0\n",
    "g_df['ContainsCv'] = g_df['Title'].apply(containsCv)\n",
    "\n",
    "g_df"
   ]
  },
  {
   "cell_type": "code",
   "execution_count": 9,
   "metadata": {},
   "outputs": [
    {
     "data": {
      "text/html": [
       "<div>\n",
       "<style scoped>\n",
       "    .dataframe tbody tr th:only-of-type {\n",
       "        vertical-align: middle;\n",
       "    }\n",
       "\n",
       "    .dataframe tbody tr th {\n",
       "        vertical-align: top;\n",
       "    }\n",
       "\n",
       "    .dataframe thead th {\n",
       "        text-align: right;\n",
       "    }\n",
       "</style>\n",
       "<table border=\"1\" class=\"dataframe\">\n",
       "  <thead>\n",
       "    <tr style=\"text-align: right;\">\n",
       "      <th></th>\n",
       "      <th>DatePublished</th>\n",
       "      <th>ContainsAz</th>\n",
       "      <th>ContainsPf</th>\n",
       "      <th>ContainsMd</th>\n",
       "      <th>ContainsVaccine</th>\n",
       "      <th>ContainsCv</th>\n",
       "    </tr>\n",
       "  </thead>\n",
       "  <tbody>\n",
       "    <tr>\n",
       "      <th>21524</th>\n",
       "      <td>2021-01-01</td>\n",
       "      <td>0</td>\n",
       "      <td>0</td>\n",
       "      <td>0</td>\n",
       "      <td>0</td>\n",
       "      <td>0</td>\n",
       "    </tr>\n",
       "    <tr>\n",
       "      <th>22202</th>\n",
       "      <td>2021-01-01</td>\n",
       "      <td>0</td>\n",
       "      <td>0</td>\n",
       "      <td>0</td>\n",
       "      <td>0</td>\n",
       "      <td>0</td>\n",
       "    </tr>\n",
       "    <tr>\n",
       "      <th>12172</th>\n",
       "      <td>2021-01-01</td>\n",
       "      <td>0</td>\n",
       "      <td>0</td>\n",
       "      <td>0</td>\n",
       "      <td>0</td>\n",
       "      <td>0</td>\n",
       "    </tr>\n",
       "    <tr>\n",
       "      <th>9496</th>\n",
       "      <td>2021-01-01</td>\n",
       "      <td>0</td>\n",
       "      <td>0</td>\n",
       "      <td>0</td>\n",
       "      <td>0</td>\n",
       "      <td>0</td>\n",
       "    </tr>\n",
       "    <tr>\n",
       "      <th>17709</th>\n",
       "      <td>2021-01-01</td>\n",
       "      <td>0</td>\n",
       "      <td>0</td>\n",
       "      <td>0</td>\n",
       "      <td>0</td>\n",
       "      <td>0</td>\n",
       "    </tr>\n",
       "    <tr>\n",
       "      <th>...</th>\n",
       "      <td>...</td>\n",
       "      <td>...</td>\n",
       "      <td>...</td>\n",
       "      <td>...</td>\n",
       "      <td>...</td>\n",
       "      <td>...</td>\n",
       "    </tr>\n",
       "    <tr>\n",
       "      <th>10026</th>\n",
       "      <td>2021-12-09</td>\n",
       "      <td>0</td>\n",
       "      <td>0</td>\n",
       "      <td>0</td>\n",
       "      <td>0</td>\n",
       "      <td>0</td>\n",
       "    </tr>\n",
       "    <tr>\n",
       "      <th>1136</th>\n",
       "      <td>NaT</td>\n",
       "      <td>0</td>\n",
       "      <td>0</td>\n",
       "      <td>0</td>\n",
       "      <td>0</td>\n",
       "      <td>1</td>\n",
       "    </tr>\n",
       "    <tr>\n",
       "      <th>11347</th>\n",
       "      <td>NaT</td>\n",
       "      <td>0</td>\n",
       "      <td>0</td>\n",
       "      <td>0</td>\n",
       "      <td>0</td>\n",
       "      <td>0</td>\n",
       "    </tr>\n",
       "    <tr>\n",
       "      <th>13762</th>\n",
       "      <td>NaT</td>\n",
       "      <td>0</td>\n",
       "      <td>0</td>\n",
       "      <td>0</td>\n",
       "      <td>0</td>\n",
       "      <td>0</td>\n",
       "    </tr>\n",
       "    <tr>\n",
       "      <th>13946</th>\n",
       "      <td>NaT</td>\n",
       "      <td>0</td>\n",
       "      <td>0</td>\n",
       "      <td>0</td>\n",
       "      <td>0</td>\n",
       "      <td>0</td>\n",
       "    </tr>\n",
       "  </tbody>\n",
       "</table>\n",
       "<p>22311 rows × 6 columns</p>\n",
       "</div>"
      ],
      "text/plain": [
       "      DatePublished  ContainsAz  ContainsPf  ContainsMd  ContainsVaccine  \\\n",
       "21524    2021-01-01           0           0           0                0   \n",
       "22202    2021-01-01           0           0           0                0   \n",
       "12172    2021-01-01           0           0           0                0   \n",
       "9496     2021-01-01           0           0           0                0   \n",
       "17709    2021-01-01           0           0           0                0   \n",
       "...             ...         ...         ...         ...              ...   \n",
       "10026    2021-12-09           0           0           0                0   \n",
       "1136            NaT           0           0           0                0   \n",
       "11347           NaT           0           0           0                0   \n",
       "13762           NaT           0           0           0                0   \n",
       "13946           NaT           0           0           0                0   \n",
       "\n",
       "       ContainsCv  \n",
       "21524           0  \n",
       "22202           0  \n",
       "12172           0  \n",
       "9496            0  \n",
       "17709           0  \n",
       "...           ...  \n",
       "10026           0  \n",
       "1136            1  \n",
       "11347           0  \n",
       "13762           0  \n",
       "13946           0  \n",
       "\n",
       "[22311 rows x 6 columns]"
      ]
     },
     "execution_count": 9,
     "metadata": {},
     "output_type": "execute_result"
    }
   ],
   "source": [
    "# Extract only the needed columns, sort by date ascending\n",
    "g_df2 = g_df[['DatePublished','ContainsAz','ContainsPf','ContainsMd','ContainsVaccine','ContainsCv']].sort_values(['DatePublished'], axis=0, ascending=True)\n",
    "g_df2"
   ]
  },
  {
   "cell_type": "markdown",
   "metadata": {},
   "source": [
    "#### Grouping the data by the date (then month) in which the articles were published"
   ]
  },
  {
   "cell_type": "code",
   "execution_count": 10,
   "metadata": {
    "scrolled": true
   },
   "outputs": [
    {
     "name": "stderr",
     "output_type": "stream",
     "text": [
      "/var/folders/h9/f7rwk0050px_1dg78cx_qvs00000gn/T/ipykernel_65269/3817968057.py:2: FutureWarning: Indexing with multiple keys (implicitly converted to a tuple of keys) will be deprecated, use a list instead.\n",
      "  g_df3 = g_df2.groupby(by=['DatePublished'])['ContainsAz','ContainsPf','ContainsMd','ContainsVaccine','ContainsCv'].sum().reset_index()\n"
     ]
    }
   ],
   "source": [
    "# Group by date published, sum each 'Contains' columns' values\n",
    "g_df3 = g_df2.groupby(by=['DatePublished'])['ContainsAz','ContainsPf','ContainsMd','ContainsVaccine','ContainsCv'].sum().reset_index()"
   ]
  },
  {
   "cell_type": "code",
   "execution_count": 11,
   "metadata": {},
   "outputs": [
    {
     "data": {
      "text/plain": [
       "DatePublished      object\n",
       "ContainsAz          int64\n",
       "ContainsPf          int64\n",
       "ContainsMd          int64\n",
       "ContainsVaccine     int64\n",
       "ContainsCv          int64\n",
       "dtype: object"
      ]
     },
     "execution_count": 11,
     "metadata": {},
     "output_type": "execute_result"
    }
   ],
   "source": [
    "g_df3\n",
    "g_df3.dtypes"
   ]
  },
  {
   "cell_type": "code",
   "execution_count": 12,
   "metadata": {},
   "outputs": [
    {
     "data": {
      "text/html": [
       "<div>\n",
       "<style scoped>\n",
       "    .dataframe tbody tr th:only-of-type {\n",
       "        vertical-align: middle;\n",
       "    }\n",
       "\n",
       "    .dataframe tbody tr th {\n",
       "        vertical-align: top;\n",
       "    }\n",
       "\n",
       "    .dataframe thead th {\n",
       "        text-align: right;\n",
       "    }\n",
       "</style>\n",
       "<table border=\"1\" class=\"dataframe\">\n",
       "  <thead>\n",
       "    <tr style=\"text-align: right;\">\n",
       "      <th></th>\n",
       "      <th>DatePublished</th>\n",
       "      <th>ContainsAz</th>\n",
       "      <th>ContainsPf</th>\n",
       "      <th>ContainsMd</th>\n",
       "      <th>ContainsVaccine</th>\n",
       "      <th>ContainsCv</th>\n",
       "      <th>MonthPublished</th>\n",
       "    </tr>\n",
       "  </thead>\n",
       "  <tbody>\n",
       "    <tr>\n",
       "      <th>0</th>\n",
       "      <td>2021-01-01</td>\n",
       "      <td>2</td>\n",
       "      <td>0</td>\n",
       "      <td>0</td>\n",
       "      <td>6</td>\n",
       "      <td>24</td>\n",
       "      <td>01</td>\n",
       "    </tr>\n",
       "    <tr>\n",
       "      <th>1</th>\n",
       "      <td>2021-01-02</td>\n",
       "      <td>2</td>\n",
       "      <td>0</td>\n",
       "      <td>0</td>\n",
       "      <td>5</td>\n",
       "      <td>22</td>\n",
       "      <td>01</td>\n",
       "    </tr>\n",
       "    <tr>\n",
       "      <th>2</th>\n",
       "      <td>2021-01-03</td>\n",
       "      <td>0</td>\n",
       "      <td>0</td>\n",
       "      <td>0</td>\n",
       "      <td>14</td>\n",
       "      <td>29</td>\n",
       "      <td>01</td>\n",
       "    </tr>\n",
       "    <tr>\n",
       "      <th>3</th>\n",
       "      <td>2021-01-04</td>\n",
       "      <td>0</td>\n",
       "      <td>0</td>\n",
       "      <td>0</td>\n",
       "      <td>1</td>\n",
       "      <td>24</td>\n",
       "      <td>01</td>\n",
       "    </tr>\n",
       "    <tr>\n",
       "      <th>4</th>\n",
       "      <td>2021-01-05</td>\n",
       "      <td>0</td>\n",
       "      <td>0</td>\n",
       "      <td>1</td>\n",
       "      <td>7</td>\n",
       "      <td>42</td>\n",
       "      <td>01</td>\n",
       "    </tr>\n",
       "    <tr>\n",
       "      <th>...</th>\n",
       "      <td>...</td>\n",
       "      <td>...</td>\n",
       "      <td>...</td>\n",
       "      <td>...</td>\n",
       "      <td>...</td>\n",
       "      <td>...</td>\n",
       "      <td>...</td>\n",
       "    </tr>\n",
       "    <tr>\n",
       "      <th>338</th>\n",
       "      <td>2021-12-05</td>\n",
       "      <td>0</td>\n",
       "      <td>2</td>\n",
       "      <td>0</td>\n",
       "      <td>3</td>\n",
       "      <td>7</td>\n",
       "      <td>12</td>\n",
       "    </tr>\n",
       "    <tr>\n",
       "      <th>339</th>\n",
       "      <td>2021-12-06</td>\n",
       "      <td>1</td>\n",
       "      <td>1</td>\n",
       "      <td>1</td>\n",
       "      <td>2</td>\n",
       "      <td>8</td>\n",
       "      <td>12</td>\n",
       "    </tr>\n",
       "    <tr>\n",
       "      <th>340</th>\n",
       "      <td>2021-12-07</td>\n",
       "      <td>0</td>\n",
       "      <td>0</td>\n",
       "      <td>0</td>\n",
       "      <td>1</td>\n",
       "      <td>14</td>\n",
       "      <td>12</td>\n",
       "    </tr>\n",
       "    <tr>\n",
       "      <th>341</th>\n",
       "      <td>2021-12-08</td>\n",
       "      <td>0</td>\n",
       "      <td>3</td>\n",
       "      <td>1</td>\n",
       "      <td>6</td>\n",
       "      <td>20</td>\n",
       "      <td>12</td>\n",
       "    </tr>\n",
       "    <tr>\n",
       "      <th>342</th>\n",
       "      <td>2021-12-09</td>\n",
       "      <td>0</td>\n",
       "      <td>1</td>\n",
       "      <td>0</td>\n",
       "      <td>3</td>\n",
       "      <td>17</td>\n",
       "      <td>12</td>\n",
       "    </tr>\n",
       "  </tbody>\n",
       "</table>\n",
       "<p>343 rows × 7 columns</p>\n",
       "</div>"
      ],
      "text/plain": [
       "    DatePublished  ContainsAz  ContainsPf  ContainsMd  ContainsVaccine  \\\n",
       "0      2021-01-01           2           0           0                6   \n",
       "1      2021-01-02           2           0           0                5   \n",
       "2      2021-01-03           0           0           0               14   \n",
       "3      2021-01-04           0           0           0                1   \n",
       "4      2021-01-05           0           0           1                7   \n",
       "..            ...         ...         ...         ...              ...   \n",
       "338    2021-12-05           0           2           0                3   \n",
       "339    2021-12-06           1           1           1                2   \n",
       "340    2021-12-07           0           0           0                1   \n",
       "341    2021-12-08           0           3           1                6   \n",
       "342    2021-12-09           0           1           0                3   \n",
       "\n",
       "     ContainsCv MonthPublished  \n",
       "0            24             01  \n",
       "1            22             01  \n",
       "2            29             01  \n",
       "3            24             01  \n",
       "4            42             01  \n",
       "..          ...            ...  \n",
       "338           7             12  \n",
       "339           8             12  \n",
       "340          14             12  \n",
       "341          20             12  \n",
       "342          17             12  \n",
       "\n",
       "[343 rows x 7 columns]"
      ]
     },
     "execution_count": 12,
     "metadata": {},
     "output_type": "execute_result"
    }
   ],
   "source": [
    "# Add a column with the month the article was published\n",
    "def getMonth(y):\n",
    "    return str(y)[5:7]\n",
    "\n",
    "g_df3['MonthPublished'] = g_df3['DatePublished'].apply(getMonth)\n",
    "g_df3"
   ]
  },
  {
   "cell_type": "markdown",
   "metadata": {},
   "source": [
    "#### Get the average number of times each word was mentioned per day each month, by grouping by month published, get the mean of each 'Contains' columns' values"
   ]
  },
  {
   "cell_type": "code",
   "execution_count": 13,
   "metadata": {},
   "outputs": [
    {
     "data": {
      "text/html": [
       "<div>\n",
       "<style scoped>\n",
       "    .dataframe tbody tr th:only-of-type {\n",
       "        vertical-align: middle;\n",
       "    }\n",
       "\n",
       "    .dataframe tbody tr th {\n",
       "        vertical-align: top;\n",
       "    }\n",
       "\n",
       "    .dataframe thead th {\n",
       "        text-align: right;\n",
       "    }\n",
       "</style>\n",
       "<table border=\"1\" class=\"dataframe\">\n",
       "  <thead>\n",
       "    <tr style=\"text-align: right;\">\n",
       "      <th></th>\n",
       "      <th>MonthPublished</th>\n",
       "      <th>ContainsAz</th>\n",
       "      <th>ContainsPf</th>\n",
       "      <th>ContainsMd</th>\n",
       "      <th>ContainsVaccine</th>\n",
       "      <th>ContainsCv</th>\n",
       "    </tr>\n",
       "  </thead>\n",
       "  <tbody>\n",
       "    <tr>\n",
       "      <th>0</th>\n",
       "      <td>01</td>\n",
       "      <td>0.612903</td>\n",
       "      <td>0.193548</td>\n",
       "      <td>0.096774</td>\n",
       "      <td>7.032258</td>\n",
       "      <td>27.774194</td>\n",
       "    </tr>\n",
       "    <tr>\n",
       "      <th>1</th>\n",
       "      <td>02</td>\n",
       "      <td>0.642857</td>\n",
       "      <td>0.428571</td>\n",
       "      <td>0.107143</td>\n",
       "      <td>7.714286</td>\n",
       "      <td>26.750000</td>\n",
       "    </tr>\n",
       "    <tr>\n",
       "      <th>2</th>\n",
       "      <td>03</td>\n",
       "      <td>1.161290</td>\n",
       "      <td>0.193548</td>\n",
       "      <td>0.000000</td>\n",
       "      <td>7.258065</td>\n",
       "      <td>22.193548</td>\n",
       "    </tr>\n",
       "    <tr>\n",
       "      <th>3</th>\n",
       "      <td>04</td>\n",
       "      <td>2.033333</td>\n",
       "      <td>0.266667</td>\n",
       "      <td>0.166667</td>\n",
       "      <td>6.500000</td>\n",
       "      <td>19.000000</td>\n",
       "    </tr>\n",
       "    <tr>\n",
       "      <th>4</th>\n",
       "      <td>05</td>\n",
       "      <td>0.451613</td>\n",
       "      <td>0.483871</td>\n",
       "      <td>0.290323</td>\n",
       "      <td>4.645161</td>\n",
       "      <td>16.741935</td>\n",
       "    </tr>\n",
       "    <tr>\n",
       "      <th>5</th>\n",
       "      <td>06</td>\n",
       "      <td>0.933333</td>\n",
       "      <td>0.300000</td>\n",
       "      <td>0.066667</td>\n",
       "      <td>3.766667</td>\n",
       "      <td>17.900000</td>\n",
       "    </tr>\n",
       "    <tr>\n",
       "      <th>6</th>\n",
       "      <td>07</td>\n",
       "      <td>0.645161</td>\n",
       "      <td>0.354839</td>\n",
       "      <td>0.032258</td>\n",
       "      <td>4.161290</td>\n",
       "      <td>22.516129</td>\n",
       "    </tr>\n",
       "    <tr>\n",
       "      <th>7</th>\n",
       "      <td>08</td>\n",
       "      <td>0.258065</td>\n",
       "      <td>0.387097</td>\n",
       "      <td>0.290323</td>\n",
       "      <td>4.032258</td>\n",
       "      <td>18.096774</td>\n",
       "    </tr>\n",
       "    <tr>\n",
       "      <th>8</th>\n",
       "      <td>09</td>\n",
       "      <td>0.066667</td>\n",
       "      <td>0.866667</td>\n",
       "      <td>0.133333</td>\n",
       "      <td>4.566667</td>\n",
       "      <td>15.766667</td>\n",
       "    </tr>\n",
       "    <tr>\n",
       "      <th>9</th>\n",
       "      <td>10</td>\n",
       "      <td>0.064516</td>\n",
       "      <td>0.129032</td>\n",
       "      <td>0.064516</td>\n",
       "      <td>3.000000</td>\n",
       "      <td>14.225806</td>\n",
       "    </tr>\n",
       "    <tr>\n",
       "      <th>10</th>\n",
       "      <td>11</td>\n",
       "      <td>0.233333</td>\n",
       "      <td>0.066667</td>\n",
       "      <td>0.100000</td>\n",
       "      <td>2.566667</td>\n",
       "      <td>12.600000</td>\n",
       "    </tr>\n",
       "    <tr>\n",
       "      <th>11</th>\n",
       "      <td>12</td>\n",
       "      <td>0.111111</td>\n",
       "      <td>0.777778</td>\n",
       "      <td>0.222222</td>\n",
       "      <td>3.444444</td>\n",
       "      <td>15.888889</td>\n",
       "    </tr>\n",
       "  </tbody>\n",
       "</table>\n",
       "</div>"
      ],
      "text/plain": [
       "   MonthPublished  ContainsAz  ContainsPf  ContainsMd  ContainsVaccine  \\\n",
       "0              01    0.612903    0.193548    0.096774         7.032258   \n",
       "1              02    0.642857    0.428571    0.107143         7.714286   \n",
       "2              03    1.161290    0.193548    0.000000         7.258065   \n",
       "3              04    2.033333    0.266667    0.166667         6.500000   \n",
       "4              05    0.451613    0.483871    0.290323         4.645161   \n",
       "5              06    0.933333    0.300000    0.066667         3.766667   \n",
       "6              07    0.645161    0.354839    0.032258         4.161290   \n",
       "7              08    0.258065    0.387097    0.290323         4.032258   \n",
       "8              09    0.066667    0.866667    0.133333         4.566667   \n",
       "9              10    0.064516    0.129032    0.064516         3.000000   \n",
       "10             11    0.233333    0.066667    0.100000         2.566667   \n",
       "11             12    0.111111    0.777778    0.222222         3.444444   \n",
       "\n",
       "    ContainsCv  \n",
       "0    27.774194  \n",
       "1    26.750000  \n",
       "2    22.193548  \n",
       "3    19.000000  \n",
       "4    16.741935  \n",
       "5    17.900000  \n",
       "6    22.516129  \n",
       "7    18.096774  \n",
       "8    15.766667  \n",
       "9    14.225806  \n",
       "10   12.600000  \n",
       "11   15.888889  "
      ]
     },
     "execution_count": 13,
     "metadata": {},
     "output_type": "execute_result"
    }
   ],
   "source": [
    "g_df4 = g_df3.groupby(by=['MonthPublished']).agg({'ContainsAz':'mean','ContainsPf':'mean','ContainsMd':'mean','ContainsVaccine':'mean','ContainsCv':'mean'}).reset_index()\n",
    "g_df4"
   ]
  },
  {
   "cell_type": "markdown",
   "metadata": {},
   "source": [
    "#### Visualising the results"
   ]
  },
  {
   "cell_type": "code",
   "execution_count": 14,
   "metadata": {},
   "outputs": [
    {
     "data": {
      "text/plain": [
       "<matplotlib.legend.Legend at 0x7fba539d60a0>"
      ]
     },
     "execution_count": 14,
     "metadata": {},
     "output_type": "execute_result"
    },
    {
     "data": {
      "image/png": "[encoded data removed]",
      "text/plain": [
       "<Figure size 432x288 with 1 Axes>"
      ]
     },
     "metadata": {
      "needs_background": "light"
     },
     "output_type": "display_data"
    }
   ],
   "source": [
    "# Plot the results - mean no. of mentions per day\n",
    "x = g_df4['MonthPublished']\n",
    "\n",
    "y1 = g_df4['ContainsAz']\n",
    "y2 = g_df4['ContainsMd']\n",
    "y3 = g_df4['ContainsPf']\n",
    "y4 = g_df4['ContainsVaccine']\n",
    "y5 = g_df4['ContainsCv']\n",
    "\n",
    "plt.plot(x,y1,'g',label='Astrazeneca', linewidth=1)\n",
    "plt.plot(x,y2,'c',label='Moderna',linewidth=1)\n",
    "plt.plot(x,y3,'k',label='Pfizer',linewidth=1)\n",
    "plt.plot(x,y4,'y',label='Vaccine',linewidth=1)\n",
    "plt.plot(x,y5,'b',label='Covid',linewidth=1)\n",
    "\n",
    "plt.title('Average no. of mentions per day each month in Guardian headlines over 2021')\n",
    "plt.ylabel('Average no. of mentions')\n",
    "plt.xlabel('Month')\n",
    "\n",
    "plt.legend()"
   ]
  },
  {
   "cell_type": "code",
   "execution_count": 15,
   "metadata": {
    "scrolled": true
   },
   "outputs": [
    {
     "data": {
      "text/plain": [
       "<matplotlib.legend.Legend at 0x7fba210cedc0>"
      ]
     },
     "execution_count": 15,
     "metadata": {},
     "output_type": "execute_result"
    },
    {
     "data": {
      "image/png": "[encoded data removed]",
      "text/plain": [
       "<Figure size 432x288 with 1 Axes>"
      ]
     },
     "metadata": {
      "needs_background": "light"
     },
     "output_type": "display_data"
    }
   ],
   "source": [
    "# Plot the results - just the pharmaceutical companies so can see these lines clearer\n",
    "x = g_df4['MonthPublished']\n",
    "\n",
    "y1 = g_df4['ContainsAz']\n",
    "y2 = g_df4['ContainsMd']\n",
    "y3 = g_df4['ContainsPf']\n",
    "\n",
    "plt.plot(x,y1,'g',label='Astrazeneca', linewidth=1)\n",
    "plt.plot(x,y2,'c',label='Moderna',linewidth=1)\n",
    "plt.plot(x,y3,'k',label='Pfizer',linewidth=1)\n",
    "\n",
    "plt.title('Average no. of mentions per day each month in Guardian headlines over 2021')\n",
    "plt.ylabel('Average no. of mentions')\n",
    "plt.xlabel('Month')\n",
    "\n",
    "plt.legend()"
   ]
  },
  {
   "cell_type": "markdown",
   "metadata": {},
   "source": [
    "# Sentiment analysis"
   ]
  },
  {
   "cell_type": "markdown",
   "metadata": {},
   "source": [
    "## Articles from 2021"
   ]
  },
  {
   "cell_type": "markdown",
   "metadata": {},
   "source": [
    "### Sentiment analysis of 2021 New York Times abstracts, and saving output CSV to be used for regression analysis"
   ]
  },
  {
   "cell_type": "markdown",
   "metadata": {},
   "source": [
    "#### Loading 2021 New York Times data from CSV of extracted data"
   ]
  },
  {
   "cell_type": "code",
   "execution_count": 16,
   "metadata": {},
   "outputs": [
    {
     "data": {
      "text/html": [
       "<div>\n",
       "<style scoped>\n",
       "    .dataframe tbody tr th:only-of-type {\n",
       "        vertical-align: middle;\n",
       "    }\n",
       "\n",
       "    .dataframe tbody tr th {\n",
       "        vertical-align: top;\n",
       "    }\n",
       "\n",
       "    .dataframe thead th {\n",
       "        text-align: right;\n",
       "    }\n",
       "</style>\n",
       "<table border=\"1\" class=\"dataframe\">\n",
       "  <thead>\n",
       "    <tr style=\"text-align: right;\">\n",
       "      <th></th>\n",
       "      <th>abstract</th>\n",
       "      <th>pub_date</th>\n",
       "    </tr>\n",
       "  </thead>\n",
       "  <tbody>\n",
       "    <tr>\n",
       "      <th>0</th>\n",
       "      <td>the united states recorded its 20 millionth ca...</td>\n",
       "      <td>2021-01-01 01:28:22+00:00</td>\n",
       "    </tr>\n",
       "    <tr>\n",
       "      <th>1</th>\n",
       "      <td>throughout the coronavirus pandemic, well-atte...</td>\n",
       "      <td>2021-01-01 03:08:25+00:00</td>\n",
       "    </tr>\n",
       "    <tr>\n",
       "      <th>2</th>\n",
       "      <td>a highly contagious coronavirus variant first ...</td>\n",
       "      <td>2021-01-01 03:44:59+00:00</td>\n",
       "    </tr>\n",
       "    <tr>\n",
       "      <th>3</th>\n",
       "      <td>the pandemic caused the cancellation of the ro...</td>\n",
       "      <td>2021-01-01 04:24:17+00:00</td>\n",
       "    </tr>\n",
       "    <tr>\n",
       "      <th>4</th>\n",
       "      <td>with a new variant of the virus emerging elsew...</td>\n",
       "      <td>2021-01-01 08:00:06+00:00</td>\n",
       "    </tr>\n",
       "  </tbody>\n",
       "</table>\n",
       "</div>"
      ],
      "text/plain": [
       "                                            abstract                  pub_date\n",
       "0  the united states recorded its 20 millionth ca... 2021-01-01 01:28:22+00:00\n",
       "1  throughout the coronavirus pandemic, well-atte... 2021-01-01 03:08:25+00:00\n",
       "2  a highly contagious coronavirus variant first ... 2021-01-01 03:44:59+00:00\n",
       "3  the pandemic caused the cancellation of the ro... 2021-01-01 04:24:17+00:00\n",
       "4  with a new variant of the virus emerging elsew... 2021-01-01 08:00:06+00:00"
      ]
     },
     "execution_count": 16,
     "metadata": {},
     "output_type": "execute_result"
    }
   ],
   "source": [
    "ny_df = pd.read_csv('data/NYTGeneraldata2.csv',parse_dates = ['pub_date'], index_col=0)\n",
    "ny_df.head()"
   ]
  },
  {
   "cell_type": "code",
   "execution_count": 17,
   "metadata": {},
   "outputs": [
    {
     "data": {
      "text/plain": [
       "abstract                 object\n",
       "pub_date    datetime64[ns, UTC]\n",
       "dtype: object"
      ]
     },
     "execution_count": 17,
     "metadata": {},
     "output_type": "execute_result"
    }
   ],
   "source": [
    "ny_df.dtypes"
   ]
  },
  {
   "cell_type": "markdown",
   "metadata": {},
   "source": [
    "#### Adding date_only column to dataframe"
   ]
  },
  {
   "cell_type": "code",
   "execution_count": 18,
   "metadata": {},
   "outputs": [
    {
     "data": {
      "text/html": [
       "<div>\n",
       "<style scoped>\n",
       "    .dataframe tbody tr th:only-of-type {\n",
       "        vertical-align: middle;\n",
       "    }\n",
       "\n",
       "    .dataframe tbody tr th {\n",
       "        vertical-align: top;\n",
       "    }\n",
       "\n",
       "    .dataframe thead th {\n",
       "        text-align: right;\n",
       "    }\n",
       "</style>\n",
       "<table border=\"1\" class=\"dataframe\">\n",
       "  <thead>\n",
       "    <tr style=\"text-align: right;\">\n",
       "      <th></th>\n",
       "      <th>abstract</th>\n",
       "      <th>pub_date</th>\n",
       "      <th>date_only</th>\n",
       "    </tr>\n",
       "  </thead>\n",
       "  <tbody>\n",
       "    <tr>\n",
       "      <th>0</th>\n",
       "      <td>the united states recorded its 20 millionth ca...</td>\n",
       "      <td>2021-01-01 01:28:22+00:00</td>\n",
       "      <td>2021-01-01</td>\n",
       "    </tr>\n",
       "    <tr>\n",
       "      <th>1</th>\n",
       "      <td>throughout the coronavirus pandemic, well-atte...</td>\n",
       "      <td>2021-01-01 03:08:25+00:00</td>\n",
       "      <td>2021-01-01</td>\n",
       "    </tr>\n",
       "    <tr>\n",
       "      <th>2</th>\n",
       "      <td>a highly contagious coronavirus variant first ...</td>\n",
       "      <td>2021-01-01 03:44:59+00:00</td>\n",
       "      <td>2021-01-01</td>\n",
       "    </tr>\n",
       "    <tr>\n",
       "      <th>3</th>\n",
       "      <td>the pandemic caused the cancellation of the ro...</td>\n",
       "      <td>2021-01-01 04:24:17+00:00</td>\n",
       "      <td>2021-01-01</td>\n",
       "    </tr>\n",
       "    <tr>\n",
       "      <th>4</th>\n",
       "      <td>with a new variant of the virus emerging elsew...</td>\n",
       "      <td>2021-01-01 08:00:06+00:00</td>\n",
       "      <td>2021-01-01</td>\n",
       "    </tr>\n",
       "  </tbody>\n",
       "</table>\n",
       "</div>"
      ],
      "text/plain": [
       "                                            abstract  \\\n",
       "0  the united states recorded its 20 millionth ca...   \n",
       "1  throughout the coronavirus pandemic, well-atte...   \n",
       "2  a highly contagious coronavirus variant first ...   \n",
       "3  the pandemic caused the cancellation of the ro...   \n",
       "4  with a new variant of the virus emerging elsew...   \n",
       "\n",
       "                   pub_date   date_only  \n",
       "0 2021-01-01 01:28:22+00:00  2021-01-01  \n",
       "1 2021-01-01 03:08:25+00:00  2021-01-01  \n",
       "2 2021-01-01 03:44:59+00:00  2021-01-01  \n",
       "3 2021-01-01 04:24:17+00:00  2021-01-01  \n",
       "4 2021-01-01 08:00:06+00:00  2021-01-01  "
      ]
     },
     "execution_count": 18,
     "metadata": {},
     "output_type": "execute_result"
    }
   ],
   "source": [
    "ny_df['date_only']= pd.to_datetime(ny_df['pub_date']).dt.date\n",
    "ny_df.head()"
   ]
  },
  {
   "cell_type": "code",
   "execution_count": 19,
   "metadata": {},
   "outputs": [
    {
     "data": {
      "text/plain": [
       "abstract                  object\n",
       "pub_date     datetime64[ns, UTC]\n",
       "date_only                 object\n",
       "dtype: object"
      ]
     },
     "execution_count": 19,
     "metadata": {},
     "output_type": "execute_result"
    }
   ],
   "source": [
    "ny_df.dtypes"
   ]
  },
  {
   "cell_type": "markdown",
   "metadata": {},
   "source": [
    "#### Converting date_only column to datetime object"
   ]
  },
  {
   "cell_type": "code",
   "execution_count": 20,
   "metadata": {
    "scrolled": true
   },
   "outputs": [
    {
     "data": {
      "text/plain": [
       "abstract                  object\n",
       "pub_date     datetime64[ns, UTC]\n",
       "date_only         datetime64[ns]\n",
       "dtype: object"
      ]
     },
     "execution_count": 20,
     "metadata": {},
     "output_type": "execute_result"
    }
   ],
   "source": [
    "ny_df['date_only']=pd.to_datetime(ny_df['date_only'])\n",
    "ny_df.dtypes"
   ]
  },
  {
   "cell_type": "markdown",
   "metadata": {},
   "source": [
    "#### Applying textblob polarity analysis to abstract column "
   ]
  },
  {
   "cell_type": "code",
   "execution_count": 21,
   "metadata": {
    "scrolled": true
   },
   "outputs": [
    {
     "data": {
      "text/html": [
       "<div>\n",
       "<style scoped>\n",
       "    .dataframe tbody tr th:only-of-type {\n",
       "        vertical-align: middle;\n",
       "    }\n",
       "\n",
       "    .dataframe tbody tr th {\n",
       "        vertical-align: top;\n",
       "    }\n",
       "\n",
       "    .dataframe thead th {\n",
       "        text-align: right;\n",
       "    }\n",
       "</style>\n",
       "<table border=\"1\" class=\"dataframe\">\n",
       "  <thead>\n",
       "    <tr style=\"text-align: right;\">\n",
       "      <th></th>\n",
       "      <th>abstract</th>\n",
       "      <th>pub_date</th>\n",
       "      <th>date_only</th>\n",
       "      <th>Abstract Polarity</th>\n",
       "    </tr>\n",
       "  </thead>\n",
       "  <tbody>\n",
       "    <tr>\n",
       "      <th>0</th>\n",
       "      <td>the united states recorded its 20 millionth ca...</td>\n",
       "      <td>2021-01-01 01:28:22+00:00</td>\n",
       "      <td>2021-01-01</td>\n",
       "      <td>-0.107576</td>\n",
       "    </tr>\n",
       "    <tr>\n",
       "      <th>1</th>\n",
       "      <td>throughout the coronavirus pandemic, well-atte...</td>\n",
       "      <td>2021-01-01 03:08:25+00:00</td>\n",
       "      <td>2021-01-01</td>\n",
       "      <td>0.125926</td>\n",
       "    </tr>\n",
       "    <tr>\n",
       "      <th>2</th>\n",
       "      <td>a highly contagious coronavirus variant first ...</td>\n",
       "      <td>2021-01-01 03:44:59+00:00</td>\n",
       "      <td>2021-01-01</td>\n",
       "      <td>0.205000</td>\n",
       "    </tr>\n",
       "    <tr>\n",
       "      <th>3</th>\n",
       "      <td>the pandemic caused the cancellation of the ro...</td>\n",
       "      <td>2021-01-01 04:24:17+00:00</td>\n",
       "      <td>2021-01-01</td>\n",
       "      <td>0.200000</td>\n",
       "    </tr>\n",
       "    <tr>\n",
       "      <th>4</th>\n",
       "      <td>with a new variant of the virus emerging elsew...</td>\n",
       "      <td>2021-01-01 08:00:06+00:00</td>\n",
       "      <td>2021-01-01</td>\n",
       "      <td>0.117677</td>\n",
       "    </tr>\n",
       "  </tbody>\n",
       "</table>\n",
       "</div>"
      ],
      "text/plain": [
       "                                            abstract  \\\n",
       "0  the united states recorded its 20 millionth ca...   \n",
       "1  throughout the coronavirus pandemic, well-atte...   \n",
       "2  a highly contagious coronavirus variant first ...   \n",
       "3  the pandemic caused the cancellation of the ro...   \n",
       "4  with a new variant of the virus emerging elsew...   \n",
       "\n",
       "                   pub_date  date_only  Abstract Polarity  \n",
       "0 2021-01-01 01:28:22+00:00 2021-01-01          -0.107576  \n",
       "1 2021-01-01 03:08:25+00:00 2021-01-01           0.125926  \n",
       "2 2021-01-01 03:44:59+00:00 2021-01-01           0.205000  \n",
       "3 2021-01-01 04:24:17+00:00 2021-01-01           0.200000  \n",
       "4 2021-01-01 08:00:06+00:00 2021-01-01           0.117677  "
      ]
     },
     "execution_count": 21,
     "metadata": {},
     "output_type": "execute_result"
    }
   ],
   "source": [
    "polarity=lambda x: TextBlob(x).sentiment.polarity\n",
    "ny_df['Abstract Polarity']=ny_df['abstract'].apply(polarity)\n",
    "ny_df.head()"
   ]
  },
  {
   "cell_type": "code",
   "execution_count": 119,
   "metadata": {},
   "outputs": [
    {
     "data": {
      "text/plain": [
       "0      -0.107576\n",
       "1       0.125926\n",
       "2       0.205000\n",
       "3       0.200000\n",
       "4       0.117677\n",
       "          ...   \n",
       "7951    0.100000\n",
       "7952    0.146591\n",
       "7953   -0.008333\n",
       "7954    0.291667\n",
       "7955   -0.016667\n",
       "Name: Abstract Polarity, Length: 7956, dtype: float64"
      ]
     },
     "execution_count": 119,
     "metadata": {},
     "output_type": "execute_result"
    }
   ],
   "source": [
    "daily.loc[:, \"Abstract Polarity\"]"
   ]
  },
  {
   "cell_type": "markdown",
   "metadata": {},
   "source": [
    "#### Getting the maximum daily polarity in absolute terms and setting it to a new dataframe called daily_abs "
   ]
  },
  {
   "cell_type": "code",
   "execution_count": 123,
   "metadata": {},
   "outputs": [],
   "source": [
    "daily = ny_df[['date_only', 'Abstract Polarity']]\n",
    "daily.loc[:, \"Abstract Polarity\"] = daily.loc[:, \"Abstract Polarity\"].abs()\n",
    "#daily['Abstract Polarity'] = daily['Abstract Polarity'].abs()\n",
    "daily_new = daily.groupby('date_only').idxmax()\n",
    "daily_abs = ny_df.iloc[daily_new['Abstract Polarity']]\n",
    "daily_abs = daily_abs.loc[:,['date_only', 'Abstract Polarity']]"
   ]
  },
  {
   "cell_type": "markdown",
   "metadata": {},
   "source": [
    "#### Saving daily_abs datafrae to csv to be used for regression analysis"
   ]
  },
  {
   "cell_type": "code",
   "execution_count": 23,
   "metadata": {},
   "outputs": [],
   "source": [
    "daily_abs.to_csv('data/NYTDailySentiment.csv')"
   ]
  },
  {
   "cell_type": "markdown",
   "metadata": {},
   "source": [
    "#### Checking saved CSV by reading the file as dataframe"
   ]
  },
  {
   "cell_type": "code",
   "execution_count": 24,
   "metadata": {
    "scrolled": true
   },
   "outputs": [
    {
     "data": {
      "text/html": [
       "<div>\n",
       "<style scoped>\n",
       "    .dataframe tbody tr th:only-of-type {\n",
       "        vertical-align: middle;\n",
       "    }\n",
       "\n",
       "    .dataframe tbody tr th {\n",
       "        vertical-align: top;\n",
       "    }\n",
       "\n",
       "    .dataframe thead th {\n",
       "        text-align: right;\n",
       "    }\n",
       "</style>\n",
       "<table border=\"1\" class=\"dataframe\">\n",
       "  <thead>\n",
       "    <tr style=\"text-align: right;\">\n",
       "      <th></th>\n",
       "      <th>Unnamed: 0</th>\n",
       "      <th>date_only</th>\n",
       "      <th>Abstract Polarity</th>\n",
       "    </tr>\n",
       "  </thead>\n",
       "  <tbody>\n",
       "    <tr>\n",
       "      <th>0</th>\n",
       "      <td>8</td>\n",
       "      <td>2021-01-01</td>\n",
       "      <td>0.500000</td>\n",
       "    </tr>\n",
       "    <tr>\n",
       "      <th>1</th>\n",
       "      <td>40</td>\n",
       "      <td>2021-01-02</td>\n",
       "      <td>-1.000000</td>\n",
       "    </tr>\n",
       "    <tr>\n",
       "      <th>2</th>\n",
       "      <td>41</td>\n",
       "      <td>2021-01-03</td>\n",
       "      <td>0.250000</td>\n",
       "    </tr>\n",
       "    <tr>\n",
       "      <th>3</th>\n",
       "      <td>66</td>\n",
       "      <td>2021-01-04</td>\n",
       "      <td>0.318182</td>\n",
       "    </tr>\n",
       "    <tr>\n",
       "      <th>4</th>\n",
       "      <td>77</td>\n",
       "      <td>2021-01-05</td>\n",
       "      <td>0.500000</td>\n",
       "    </tr>\n",
       "    <tr>\n",
       "      <th>...</th>\n",
       "      <td>...</td>\n",
       "      <td>...</td>\n",
       "      <td>...</td>\n",
       "    </tr>\n",
       "    <tr>\n",
       "      <th>329</th>\n",
       "      <td>7871</td>\n",
       "      <td>2021-11-26</td>\n",
       "      <td>0.500000</td>\n",
       "    </tr>\n",
       "    <tr>\n",
       "      <th>330</th>\n",
       "      <td>7886</td>\n",
       "      <td>2021-11-27</td>\n",
       "      <td>0.500000</td>\n",
       "    </tr>\n",
       "    <tr>\n",
       "      <th>331</th>\n",
       "      <td>7903</td>\n",
       "      <td>2021-11-28</td>\n",
       "      <td>0.750000</td>\n",
       "    </tr>\n",
       "    <tr>\n",
       "      <th>332</th>\n",
       "      <td>7925</td>\n",
       "      <td>2021-11-29</td>\n",
       "      <td>0.533333</td>\n",
       "    </tr>\n",
       "    <tr>\n",
       "      <th>333</th>\n",
       "      <td>7941</td>\n",
       "      <td>2021-11-30</td>\n",
       "      <td>-0.500000</td>\n",
       "    </tr>\n",
       "  </tbody>\n",
       "</table>\n",
       "<p>334 rows × 3 columns</p>\n",
       "</div>"
      ],
      "text/plain": [
       "     Unnamed: 0  date_only  Abstract Polarity\n",
       "0             8 2021-01-01           0.500000\n",
       "1            40 2021-01-02          -1.000000\n",
       "2            41 2021-01-03           0.250000\n",
       "3            66 2021-01-04           0.318182\n",
       "4            77 2021-01-05           0.500000\n",
       "..          ...        ...                ...\n",
       "329        7871 2021-11-26           0.500000\n",
       "330        7886 2021-11-27           0.500000\n",
       "331        7903 2021-11-28           0.750000\n",
       "332        7925 2021-11-29           0.533333\n",
       "333        7941 2021-11-30          -0.500000\n",
       "\n",
       "[334 rows x 3 columns]"
      ]
     },
     "execution_count": 24,
     "metadata": {},
     "output_type": "execute_result"
    }
   ],
   "source": [
    "ny_df_filtered = pd.read_csv('data/NYTDailySentiment.csv',parse_dates = ['date_only'])\n",
    "ny_df_filtered"
   ]
  },
  {
   "cell_type": "markdown",
   "metadata": {},
   "source": [
    "#### Adding new day_of_week column with day_name to facilitate further analysis"
   ]
  },
  {
   "cell_type": "code",
   "execution_count": 25,
   "metadata": {},
   "outputs": [
    {
     "data": {
      "text/html": [
       "<div>\n",
       "<style scoped>\n",
       "    .dataframe tbody tr th:only-of-type {\n",
       "        vertical-align: middle;\n",
       "    }\n",
       "\n",
       "    .dataframe tbody tr th {\n",
       "        vertical-align: top;\n",
       "    }\n",
       "\n",
       "    .dataframe thead th {\n",
       "        text-align: right;\n",
       "    }\n",
       "</style>\n",
       "<table border=\"1\" class=\"dataframe\">\n",
       "  <thead>\n",
       "    <tr style=\"text-align: right;\">\n",
       "      <th></th>\n",
       "      <th>Unnamed: 0</th>\n",
       "      <th>date_only</th>\n",
       "      <th>Abstract Polarity</th>\n",
       "      <th>day_of_week</th>\n",
       "    </tr>\n",
       "  </thead>\n",
       "  <tbody>\n",
       "    <tr>\n",
       "      <th>0</th>\n",
       "      <td>8</td>\n",
       "      <td>2021-01-01</td>\n",
       "      <td>0.500000</td>\n",
       "      <td>Friday</td>\n",
       "    </tr>\n",
       "    <tr>\n",
       "      <th>1</th>\n",
       "      <td>40</td>\n",
       "      <td>2021-01-02</td>\n",
       "      <td>-1.000000</td>\n",
       "      <td>Saturday</td>\n",
       "    </tr>\n",
       "    <tr>\n",
       "      <th>2</th>\n",
       "      <td>41</td>\n",
       "      <td>2021-01-03</td>\n",
       "      <td>0.250000</td>\n",
       "      <td>Sunday</td>\n",
       "    </tr>\n",
       "    <tr>\n",
       "      <th>3</th>\n",
       "      <td>66</td>\n",
       "      <td>2021-01-04</td>\n",
       "      <td>0.318182</td>\n",
       "      <td>Monday</td>\n",
       "    </tr>\n",
       "    <tr>\n",
       "      <th>4</th>\n",
       "      <td>77</td>\n",
       "      <td>2021-01-05</td>\n",
       "      <td>0.500000</td>\n",
       "      <td>Tuesday</td>\n",
       "    </tr>\n",
       "    <tr>\n",
       "      <th>...</th>\n",
       "      <td>...</td>\n",
       "      <td>...</td>\n",
       "      <td>...</td>\n",
       "      <td>...</td>\n",
       "    </tr>\n",
       "    <tr>\n",
       "      <th>329</th>\n",
       "      <td>7871</td>\n",
       "      <td>2021-11-26</td>\n",
       "      <td>0.500000</td>\n",
       "      <td>Friday</td>\n",
       "    </tr>\n",
       "    <tr>\n",
       "      <th>330</th>\n",
       "      <td>7886</td>\n",
       "      <td>2021-11-27</td>\n",
       "      <td>0.500000</td>\n",
       "      <td>Saturday</td>\n",
       "    </tr>\n",
       "    <tr>\n",
       "      <th>331</th>\n",
       "      <td>7903</td>\n",
       "      <td>2021-11-28</td>\n",
       "      <td>0.750000</td>\n",
       "      <td>Sunday</td>\n",
       "    </tr>\n",
       "    <tr>\n",
       "      <th>332</th>\n",
       "      <td>7925</td>\n",
       "      <td>2021-11-29</td>\n",
       "      <td>0.533333</td>\n",
       "      <td>Monday</td>\n",
       "    </tr>\n",
       "    <tr>\n",
       "      <th>333</th>\n",
       "      <td>7941</td>\n",
       "      <td>2021-11-30</td>\n",
       "      <td>-0.500000</td>\n",
       "      <td>Tuesday</td>\n",
       "    </tr>\n",
       "  </tbody>\n",
       "</table>\n",
       "<p>334 rows × 4 columns</p>\n",
       "</div>"
      ],
      "text/plain": [
       "     Unnamed: 0  date_only  Abstract Polarity day_of_week\n",
       "0             8 2021-01-01           0.500000      Friday\n",
       "1            40 2021-01-02          -1.000000    Saturday\n",
       "2            41 2021-01-03           0.250000      Sunday\n",
       "3            66 2021-01-04           0.318182      Monday\n",
       "4            77 2021-01-05           0.500000     Tuesday\n",
       "..          ...        ...                ...         ...\n",
       "329        7871 2021-11-26           0.500000      Friday\n",
       "330        7886 2021-11-27           0.500000    Saturday\n",
       "331        7903 2021-11-28           0.750000      Sunday\n",
       "332        7925 2021-11-29           0.533333      Monday\n",
       "333        7941 2021-11-30          -0.500000     Tuesday\n",
       "\n",
       "[334 rows x 4 columns]"
      ]
     },
     "execution_count": 25,
     "metadata": {},
     "output_type": "execute_result"
    }
   ],
   "source": [
    "ny_df_filtered['day_of_week']=ny_df_filtered['date_only'].dt.day_name()\n",
    "ny_df_filtered"
   ]
  },
  {
   "cell_type": "markdown",
   "metadata": {},
   "source": [
    "#### Saving dataframe with day_of_week for regression analysis"
   ]
  },
  {
   "cell_type": "code",
   "execution_count": 26,
   "metadata": {},
   "outputs": [],
   "source": [
    "ny_df_filtered.to_csv('data/NYTDaily_sentiment_with_day_of_week.csv')"
   ]
  },
  {
   "cell_type": "markdown",
   "metadata": {},
   "source": [
    "# Articles from November only"
   ]
  },
  {
   "cell_type": "markdown",
   "metadata": {},
   "source": [
    "### Sentiment analysis of New York Times abstracts and headlines from articles published in November 2021"
   ]
  },
  {
   "cell_type": "markdown",
   "metadata": {},
   "source": [
    "#### Loading November 2021 New York Times data from CSV of extracted data"
   ]
  },
  {
   "cell_type": "code",
   "execution_count": 135,
   "metadata": {
    "scrolled": true
   },
   "outputs": [
    {
     "ename": "TypeError",
     "evalue": "Only booleans, lists, and dictionaries are accepted for the 'parse_dates' parameter",
     "output_type": "error",
     "traceback": [
      "\u001b[0;31m---------------------------------------------------------------------------\u001b[0m",
      "\u001b[0;31mTypeError\u001b[0m                                 Traceback (most recent call last)",
      "\u001b[0;32m/var/folders/h9/f7rwk0050px_1dg78cx_qvs00000gn/T/ipykernel_65269/3664440145.py\u001b[0m in \u001b[0;36m<module>\u001b[0;34m\u001b[0m\n\u001b[0;32m----> 1\u001b[0;31m \u001b[0mnyt_data1\u001b[0m \u001b[0;34m=\u001b[0m \u001b[0mpd\u001b[0m\u001b[0;34m.\u001b[0m\u001b[0mread_csv\u001b[0m\u001b[0;34m(\u001b[0m\u001b[0;34m'NYTGeneraldata1.csv'\u001b[0m\u001b[0;34m,\u001b[0m \u001b[0mparse_dates\u001b[0m \u001b[0;34m=\u001b[0m \u001b[0;34m\"pub_date\"\u001b[0m\u001b[0;34m)\u001b[0m\u001b[0;34m\u001b[0m\u001b[0;34m\u001b[0m\u001b[0m\n\u001b[0m\u001b[1;32m      2\u001b[0m \u001b[0mnyt_data\u001b[0m \u001b[0;34m=\u001b[0m \u001b[0mnyt_data1\u001b[0m\u001b[0;34m[\u001b[0m\u001b[0mnyt_data1\u001b[0m\u001b[0;34m.\u001b[0m\u001b[0mindex\u001b[0m\u001b[0;34m.\u001b[0m\u001b[0mstr\u001b[0m\u001b[0;34m.\u001b[0m\u001b[0mcontains\u001b[0m\u001b[0;34m(\u001b[0m\u001b[0;34m\"2021-11\"\u001b[0m\u001b[0;34m)\u001b[0m\u001b[0;34m]\u001b[0m\u001b[0;34m\u001b[0m\u001b[0;34m\u001b[0m\u001b[0m\n\u001b[1;32m      3\u001b[0m \u001b[0mnyt_data\u001b[0m\u001b[0;34m\u001b[0m\u001b[0;34m\u001b[0m\u001b[0m\n",
      "\u001b[0;32m/Library/Frameworks/Python.framework/Versions/3.9/lib/python3.9/site-packages/pandas/util/_decorators.py\u001b[0m in \u001b[0;36mwrapper\u001b[0;34m(*args, **kwargs)\u001b[0m\n\u001b[1;32m    309\u001b[0m                     \u001b[0mstacklevel\u001b[0m\u001b[0;34m=\u001b[0m\u001b[0mstacklevel\u001b[0m\u001b[0;34m,\u001b[0m\u001b[0;34m\u001b[0m\u001b[0;34m\u001b[0m\u001b[0m\n\u001b[1;32m    310\u001b[0m                 )\n\u001b[0;32m--> 311\u001b[0;31m             \u001b[0;32mreturn\u001b[0m \u001b[0mfunc\u001b[0m\u001b[0;34m(\u001b[0m\u001b[0;34m*\u001b[0m\u001b[0margs\u001b[0m\u001b[0;34m,\u001b[0m \u001b[0;34m**\u001b[0m\u001b[0mkwargs\u001b[0m\u001b[0;34m)\u001b[0m\u001b[0;34m\u001b[0m\u001b[0;34m\u001b[0m\u001b[0m\n\u001b[0m\u001b[1;32m    312\u001b[0m \u001b[0;34m\u001b[0m\u001b[0m\n\u001b[1;32m    313\u001b[0m         \u001b[0;32mreturn\u001b[0m \u001b[0mwrapper\u001b[0m\u001b[0;34m\u001b[0m\u001b[0;34m\u001b[0m\u001b[0m\n",
      "\u001b[0;32m/Library/Frameworks/Python.framework/Versions/3.9/lib/python3.9/site-packages/pandas/io/parsers/readers.py\u001b[0m in \u001b[0;36mread_csv\u001b[0;34m(filepath_or_buffer, sep, delimiter, header, names, index_col, usecols, squeeze, prefix, mangle_dupe_cols, dtype, engine, converters, true_values, false_values, skipinitialspace, skiprows, skipfooter, nrows, na_values, keep_default_na, na_filter, verbose, skip_blank_lines, parse_dates, infer_datetime_format, keep_date_col, date_parser, dayfirst, cache_dates, iterator, chunksize, compression, thousands, decimal, lineterminator, quotechar, quoting, doublequote, escapechar, comment, encoding, encoding_errors, dialect, error_bad_lines, warn_bad_lines, on_bad_lines, delim_whitespace, low_memory, memory_map, float_precision, storage_options)\u001b[0m\n\u001b[1;32m    584\u001b[0m     \u001b[0mkwds\u001b[0m\u001b[0;34m.\u001b[0m\u001b[0mupdate\u001b[0m\u001b[0;34m(\u001b[0m\u001b[0mkwds_defaults\u001b[0m\u001b[0;34m)\u001b[0m\u001b[0;34m\u001b[0m\u001b[0;34m\u001b[0m\u001b[0m\n\u001b[1;32m    585\u001b[0m \u001b[0;34m\u001b[0m\u001b[0m\n\u001b[0;32m--> 586\u001b[0;31m     \u001b[0;32mreturn\u001b[0m \u001b[0m_read\u001b[0m\u001b[0;34m(\u001b[0m\u001b[0mfilepath_or_buffer\u001b[0m\u001b[0;34m,\u001b[0m \u001b[0mkwds\u001b[0m\u001b[0;34m)\u001b[0m\u001b[0;34m\u001b[0m\u001b[0;34m\u001b[0m\u001b[0m\n\u001b[0m\u001b[1;32m    587\u001b[0m \u001b[0;34m\u001b[0m\u001b[0m\n\u001b[1;32m    588\u001b[0m \u001b[0;34m\u001b[0m\u001b[0m\n",
      "\u001b[0;32m/Library/Frameworks/Python.framework/Versions/3.9/lib/python3.9/site-packages/pandas/io/parsers/readers.py\u001b[0m in \u001b[0;36m_read\u001b[0;34m(filepath_or_buffer, kwds)\u001b[0m\n\u001b[1;32m    480\u001b[0m \u001b[0;34m\u001b[0m\u001b[0m\n\u001b[1;32m    481\u001b[0m     \u001b[0;31m# Create the parser.\u001b[0m\u001b[0;34m\u001b[0m\u001b[0;34m\u001b[0m\u001b[0m\n\u001b[0;32m--> 482\u001b[0;31m     \u001b[0mparser\u001b[0m \u001b[0;34m=\u001b[0m \u001b[0mTextFileReader\u001b[0m\u001b[0;34m(\u001b[0m\u001b[0mfilepath_or_buffer\u001b[0m\u001b[0;34m,\u001b[0m \u001b[0;34m**\u001b[0m\u001b[0mkwds\u001b[0m\u001b[0;34m)\u001b[0m\u001b[0;34m\u001b[0m\u001b[0;34m\u001b[0m\u001b[0m\n\u001b[0m\u001b[1;32m    483\u001b[0m \u001b[0;34m\u001b[0m\u001b[0m\n\u001b[1;32m    484\u001b[0m     \u001b[0;32mif\u001b[0m \u001b[0mchunksize\u001b[0m \u001b[0;32mor\u001b[0m \u001b[0miterator\u001b[0m\u001b[0;34m:\u001b[0m\u001b[0;34m\u001b[0m\u001b[0;34m\u001b[0m\u001b[0m\n",
      "\u001b[0;32m/Library/Frameworks/Python.framework/Versions/3.9/lib/python3.9/site-packages/pandas/io/parsers/readers.py\u001b[0m in \u001b[0;36m__init__\u001b[0;34m(self, f, engine, **kwds)\u001b[0m\n\u001b[1;32m    809\u001b[0m             \u001b[0mself\u001b[0m\u001b[0;34m.\u001b[0m\u001b[0moptions\u001b[0m\u001b[0;34m[\u001b[0m\u001b[0;34m\"has_index_names\"\u001b[0m\u001b[0;34m]\u001b[0m \u001b[0;34m=\u001b[0m \u001b[0mkwds\u001b[0m\u001b[0;34m[\u001b[0m\u001b[0;34m\"has_index_names\"\u001b[0m\u001b[0;34m]\u001b[0m\u001b[0;34m\u001b[0m\u001b[0;34m\u001b[0m\u001b[0m\n\u001b[1;32m    810\u001b[0m \u001b[0;34m\u001b[0m\u001b[0m\n\u001b[0;32m--> 811\u001b[0;31m         \u001b[0mself\u001b[0m\u001b[0;34m.\u001b[0m\u001b[0m_engine\u001b[0m \u001b[0;34m=\u001b[0m \u001b[0mself\u001b[0m\u001b[0;34m.\u001b[0m\u001b[0m_make_engine\u001b[0m\u001b[0;34m(\u001b[0m\u001b[0mself\u001b[0m\u001b[0;34m.\u001b[0m\u001b[0mengine\u001b[0m\u001b[0;34m)\u001b[0m\u001b[0;34m\u001b[0m\u001b[0;34m\u001b[0m\u001b[0m\n\u001b[0m\u001b[1;32m    812\u001b[0m \u001b[0;34m\u001b[0m\u001b[0m\n\u001b[1;32m    813\u001b[0m     \u001b[0;32mdef\u001b[0m \u001b[0mclose\u001b[0m\u001b[0;34m(\u001b[0m\u001b[0mself\u001b[0m\u001b[0;34m)\u001b[0m\u001b[0;34m:\u001b[0m\u001b[0;34m\u001b[0m\u001b[0;34m\u001b[0m\u001b[0m\n",
      "\u001b[0;32m/Library/Frameworks/Python.framework/Versions/3.9/lib/python3.9/site-packages/pandas/io/parsers/readers.py\u001b[0m in \u001b[0;36m_make_engine\u001b[0;34m(self, engine)\u001b[0m\n\u001b[1;32m   1038\u001b[0m             )\n\u001b[1;32m   1039\u001b[0m         \u001b[0;31m# error: Too many arguments for \"ParserBase\"\u001b[0m\u001b[0;34m\u001b[0m\u001b[0;34m\u001b[0m\u001b[0m\n\u001b[0;32m-> 1040\u001b[0;31m         \u001b[0;32mreturn\u001b[0m \u001b[0mmapping\u001b[0m\u001b[0;34m[\u001b[0m\u001b[0mengine\u001b[0m\u001b[0;34m]\u001b[0m\u001b[0;34m(\u001b[0m\u001b[0mself\u001b[0m\u001b[0;34m.\u001b[0m\u001b[0mf\u001b[0m\u001b[0;34m,\u001b[0m \u001b[0;34m**\u001b[0m\u001b[0mself\u001b[0m\u001b[0;34m.\u001b[0m\u001b[0moptions\u001b[0m\u001b[0;34m)\u001b[0m  \u001b[0;31m# type: ignore[call-arg]\u001b[0m\u001b[0;34m\u001b[0m\u001b[0;34m\u001b[0m\u001b[0m\n\u001b[0m\u001b[1;32m   1041\u001b[0m \u001b[0;34m\u001b[0m\u001b[0m\n\u001b[1;32m   1042\u001b[0m     \u001b[0;32mdef\u001b[0m \u001b[0m_failover_to_python\u001b[0m\u001b[0;34m(\u001b[0m\u001b[0mself\u001b[0m\u001b[0;34m)\u001b[0m\u001b[0;34m:\u001b[0m\u001b[0;34m\u001b[0m\u001b[0;34m\u001b[0m\u001b[0m\n",
      "\u001b[0;32m/Library/Frameworks/Python.framework/Versions/3.9/lib/python3.9/site-packages/pandas/io/parsers/c_parser_wrapper.py\u001b[0m in \u001b[0;36m__init__\u001b[0;34m(self, src, **kwds)\u001b[0m\n\u001b[1;32m     35\u001b[0m         \u001b[0mkwds\u001b[0m \u001b[0;34m=\u001b[0m \u001b[0mkwds\u001b[0m\u001b[0;34m.\u001b[0m\u001b[0mcopy\u001b[0m\u001b[0;34m(\u001b[0m\u001b[0;34m)\u001b[0m\u001b[0;34m\u001b[0m\u001b[0;34m\u001b[0m\u001b[0m\n\u001b[1;32m     36\u001b[0m \u001b[0;34m\u001b[0m\u001b[0m\n\u001b[0;32m---> 37\u001b[0;31m         \u001b[0mParserBase\u001b[0m\u001b[0;34m.\u001b[0m\u001b[0m__init__\u001b[0m\u001b[0;34m(\u001b[0m\u001b[0mself\u001b[0m\u001b[0;34m,\u001b[0m \u001b[0mkwds\u001b[0m\u001b[0;34m)\u001b[0m\u001b[0;34m\u001b[0m\u001b[0;34m\u001b[0m\u001b[0m\n\u001b[0m\u001b[1;32m     38\u001b[0m \u001b[0;34m\u001b[0m\u001b[0m\n\u001b[1;32m     39\u001b[0m         \u001b[0mself\u001b[0m\u001b[0;34m.\u001b[0m\u001b[0mlow_memory\u001b[0m \u001b[0;34m=\u001b[0m \u001b[0mkwds\u001b[0m\u001b[0;34m.\u001b[0m\u001b[0mpop\u001b[0m\u001b[0;34m(\u001b[0m\u001b[0;34m\"low_memory\"\u001b[0m\u001b[0;34m,\u001b[0m \u001b[0;32mFalse\u001b[0m\u001b[0;34m)\u001b[0m\u001b[0;34m\u001b[0m\u001b[0;34m\u001b[0m\u001b[0m\n",
      "\u001b[0;32m/Library/Frameworks/Python.framework/Versions/3.9/lib/python3.9/site-packages/pandas/io/parsers/base_parser.py\u001b[0m in \u001b[0;36m__init__\u001b[0;34m(self, kwds)\u001b[0m\n\u001b[1;32m    135\u001b[0m         \u001b[0mself\u001b[0m\u001b[0;34m.\u001b[0m\u001b[0mcol_names\u001b[0m \u001b[0;34m=\u001b[0m \u001b[0;32mNone\u001b[0m\u001b[0;34m\u001b[0m\u001b[0;34m\u001b[0m\u001b[0m\n\u001b[1;32m    136\u001b[0m \u001b[0;34m\u001b[0m\u001b[0m\n\u001b[0;32m--> 137\u001b[0;31m         \u001b[0mself\u001b[0m\u001b[0;34m.\u001b[0m\u001b[0mparse_dates\u001b[0m \u001b[0;34m=\u001b[0m \u001b[0m_validate_parse_dates_arg\u001b[0m\u001b[0;34m(\u001b[0m\u001b[0mkwds\u001b[0m\u001b[0;34m.\u001b[0m\u001b[0mpop\u001b[0m\u001b[0;34m(\u001b[0m\u001b[0;34m\"parse_dates\"\u001b[0m\u001b[0;34m,\u001b[0m \u001b[0;32mFalse\u001b[0m\u001b[0;34m)\u001b[0m\u001b[0;34m)\u001b[0m\u001b[0;34m\u001b[0m\u001b[0;34m\u001b[0m\u001b[0m\n\u001b[0m\u001b[1;32m    138\u001b[0m         \u001b[0mself\u001b[0m\u001b[0;34m.\u001b[0m\u001b[0mdate_parser\u001b[0m \u001b[0;34m=\u001b[0m \u001b[0mkwds\u001b[0m\u001b[0;34m.\u001b[0m\u001b[0mpop\u001b[0m\u001b[0;34m(\u001b[0m\u001b[0;34m\"date_parser\"\u001b[0m\u001b[0;34m,\u001b[0m \u001b[0;32mNone\u001b[0m\u001b[0;34m)\u001b[0m\u001b[0;34m\u001b[0m\u001b[0;34m\u001b[0m\u001b[0m\n\u001b[1;32m    139\u001b[0m         \u001b[0mself\u001b[0m\u001b[0;34m.\u001b[0m\u001b[0mdayfirst\u001b[0m \u001b[0;34m=\u001b[0m \u001b[0mkwds\u001b[0m\u001b[0;34m.\u001b[0m\u001b[0mpop\u001b[0m\u001b[0;34m(\u001b[0m\u001b[0;34m\"dayfirst\"\u001b[0m\u001b[0;34m,\u001b[0m \u001b[0;32mFalse\u001b[0m\u001b[0;34m)\u001b[0m\u001b[0;34m\u001b[0m\u001b[0;34m\u001b[0m\u001b[0m\n",
      "\u001b[0;32m/Library/Frameworks/Python.framework/Versions/3.9/lib/python3.9/site-packages/pandas/io/parsers/base_parser.py\u001b[0m in \u001b[0;36m_validate_parse_dates_arg\u001b[0;34m(parse_dates)\u001b[0m\n\u001b[1;32m   1223\u001b[0m         \u001b[0;32mif\u001b[0m \u001b[0mis_scalar\u001b[0m\u001b[0;34m(\u001b[0m\u001b[0mparse_dates\u001b[0m\u001b[0;34m)\u001b[0m\u001b[0;34m:\u001b[0m\u001b[0;34m\u001b[0m\u001b[0;34m\u001b[0m\u001b[0m\n\u001b[1;32m   1224\u001b[0m             \u001b[0;32mif\u001b[0m \u001b[0;32mnot\u001b[0m \u001b[0mlib\u001b[0m\u001b[0;34m.\u001b[0m\u001b[0mis_bool\u001b[0m\u001b[0;34m(\u001b[0m\u001b[0mparse_dates\u001b[0m\u001b[0;34m)\u001b[0m\u001b[0;34m:\u001b[0m\u001b[0;34m\u001b[0m\u001b[0;34m\u001b[0m\u001b[0m\n\u001b[0;32m-> 1225\u001b[0;31m                 \u001b[0;32mraise\u001b[0m \u001b[0mTypeError\u001b[0m\u001b[0;34m(\u001b[0m\u001b[0mmsg\u001b[0m\u001b[0;34m)\u001b[0m\u001b[0;34m\u001b[0m\u001b[0;34m\u001b[0m\u001b[0m\n\u001b[0m\u001b[1;32m   1226\u001b[0m \u001b[0;34m\u001b[0m\u001b[0m\n\u001b[1;32m   1227\u001b[0m         \u001b[0;32melif\u001b[0m \u001b[0;32mnot\u001b[0m \u001b[0misinstance\u001b[0m\u001b[0;34m(\u001b[0m\u001b[0mparse_dates\u001b[0m\u001b[0;34m,\u001b[0m \u001b[0;34m(\u001b[0m\u001b[0mlist\u001b[0m\u001b[0;34m,\u001b[0m \u001b[0mdict\u001b[0m\u001b[0;34m)\u001b[0m\u001b[0;34m)\u001b[0m\u001b[0;34m:\u001b[0m\u001b[0;34m\u001b[0m\u001b[0;34m\u001b[0m\u001b[0m\n",
      "\u001b[0;31mTypeError\u001b[0m: Only booleans, lists, and dictionaries are accepted for the 'parse_dates' parameter"
     ]
    }
   ],
   "source": [
    "nyt_data1 = pd.read_csv('data/NYTGeneraldata1.csv')\n",
    "nyt_data = nyt_data1[nyt_data1[\"pub_date\"].str.contains(\"2021-11\")]\n",
    "nyt_data"
   ]
  },
  {
   "cell_type": "code",
   "execution_count": 136,
   "metadata": {},
   "outputs": [
    {
     "name": "stderr",
     "output_type": "stream",
     "text": [
      "/var/folders/h9/f7rwk0050px_1dg78cx_qvs00000gn/T/ipykernel_65269/4053621173.py:2: SettingWithCopyWarning: \n",
      "A value is trying to be set on a copy of a slice from a DataFrame.\n",
      "Try using .loc[row_indexer,col_indexer] = value instead\n",
      "\n",
      "See the caveats in the documentation: https://pandas.pydata.org/pandas-docs/stable/user_guide/indexing.html#returning-a-view-versus-a-copy\n",
      "  nyt_data[\"pub_date\"]=pd.to_datetime(nyt_data[\"pub_date\"])\n"
     ]
    },
    {
     "data": {
      "text/html": [
       "<div>\n",
       "<style scoped>\n",
       "    .dataframe tbody tr th:only-of-type {\n",
       "        vertical-align: middle;\n",
       "    }\n",
       "\n",
       "    .dataframe tbody tr th {\n",
       "        vertical-align: top;\n",
       "    }\n",
       "\n",
       "    .dataframe thead th {\n",
       "        text-align: right;\n",
       "    }\n",
       "</style>\n",
       "<table border=\"1\" class=\"dataframe\">\n",
       "  <thead>\n",
       "    <tr style=\"text-align: right;\">\n",
       "      <th></th>\n",
       "      <th>Unnamed: 0</th>\n",
       "      <th>abstract</th>\n",
       "      <th>headline</th>\n",
       "      <th>pub_date</th>\n",
       "      <th>polarity_headline</th>\n",
       "      <th>subjectivity_headline</th>\n",
       "      <th>polarity_abstract</th>\n",
       "      <th>subjectivity_abstract</th>\n",
       "    </tr>\n",
       "  </thead>\n",
       "  <tbody>\n",
       "    <tr>\n",
       "      <th>6218</th>\n",
       "      <td>6218</td>\n",
       "      <td>about a fifth of the nation’s economy depends on the vacation industry. before the pandemic, the country was one of the world’s top destinations, drawing nearly 40 million visitors in 2019.</td>\n",
       "      <td>thailand reopens to tourists from 63 countries without requiring quarantine.</td>\n",
       "      <td>2021-11-01 12:26:03+00:00</td>\n",
       "      <td>0.00</td>\n",
       "      <td>0.000000</td>\n",
       "      <td>0.300000</td>\n",
       "      <td>0.450000</td>\n",
       "    </tr>\n",
       "    <tr>\n",
       "      <th>6219</th>\n",
       "      <td>6219</td>\n",
       "      <td>as some try to lure audiences back with short programs, the metropolitan opera is staging its longest work: wagner’s “die meistersinger.”</td>\n",
       "      <td>a 6-hour opera in a pandemic? the met goes for it.</td>\n",
       "      <td>2021-11-01 14:14:46+00:00</td>\n",
       "      <td>0.00</td>\n",
       "      <td>0.000000</td>\n",
       "      <td>0.000000</td>\n",
       "      <td>0.150000</td>\n",
       "    </tr>\n",
       "    <tr>\n",
       "      <th>6220</th>\n",
       "      <td>6220</td>\n",
       "      <td>while big companies wield considerable power, covid’s economic disruption has given workers new leverage, contributing to a recent upturn in strikes.</td>\n",
       "      <td>how the pandemic has added to labor unrest</td>\n",
       "      <td>2021-11-01 15:06:46+00:00</td>\n",
       "      <td>0.00</td>\n",
       "      <td>0.000000</td>\n",
       "      <td>0.087273</td>\n",
       "      <td>0.290909</td>\n",
       "    </tr>\n",
       "    <tr>\n",
       "      <th>6221</th>\n",
       "      <td>6221</td>\n",
       "      <td>the labor department has completed a draft of an emergency standard, which is under review. when it is released, a flurry of corporate vaccine mandates is expected to follow.</td>\n",
       "      <td>the biden administration will publish vaccine mandate rules ‘in the coming days.’</td>\n",
       "      <td>2021-11-01 16:29:36+00:00</td>\n",
       "      <td>0.00</td>\n",
       "      <td>0.000000</td>\n",
       "      <td>-0.033333</td>\n",
       "      <td>0.133333</td>\n",
       "    </tr>\n",
       "    <tr>\n",
       "      <th>6222</th>\n",
       "      <td>6222</td>\n",
       "      <td>after months of production delays, this is the first vaccine authorization for novavax and its manufacturing partner, the serum institute of india.</td>\n",
       "      <td>the novavax vaccine, backed by operation warp speed, has won its first authorization — in indonesia.</td>\n",
       "      <td>2021-11-01 16:40:48+00:00</td>\n",
       "      <td>0.25</td>\n",
       "      <td>0.333333</td>\n",
       "      <td>0.250000</td>\n",
       "      <td>0.333333</td>\n",
       "    </tr>\n",
       "    <tr>\n",
       "      <th>...</th>\n",
       "      <td>...</td>\n",
       "      <td>...</td>\n",
       "      <td>...</td>\n",
       "      <td>...</td>\n",
       "      <td>...</td>\n",
       "      <td>...</td>\n",
       "      <td>...</td>\n",
       "      <td>...</td>\n",
       "    </tr>\n",
       "    <tr>\n",
       "      <th>6579</th>\n",
       "      <td>6579</td>\n",
       "      <td>the company said that analyses and modeling of mutations in the variant suggest that they may weaken the effect of the treatment, but that studies using omicron’s full sequences are incomplete.</td>\n",
       "      <td>regeneron says its antibody treatment may not be as effective against omicron, but testing is underway.</td>\n",
       "      <td>2021-11-30 16:03:10+00:00</td>\n",
       "      <td>0.60</td>\n",
       "      <td>0.800000</td>\n",
       "      <td>0.350000</td>\n",
       "      <td>0.550000</td>\n",
       "    </tr>\n",
       "    <tr>\n",
       "      <th>6580</th>\n",
       "      <td>6580</td>\n",
       "      <td>intense research into the new coronavirus variant first identified in southern africa, has just begun. world leaders have urged people not to panic — and to get vaccinated, if they can.</td>\n",
       "      <td>omicron: what is known — and still unknown</td>\n",
       "      <td>2021-11-30 17:08:17+00:00</td>\n",
       "      <td>-0.10</td>\n",
       "      <td>0.600000</td>\n",
       "      <td>0.146591</td>\n",
       "      <td>0.446970</td>\n",
       "    </tr>\n",
       "    <tr>\n",
       "      <th>6581</th>\n",
       "      <td>6581</td>\n",
       "      <td>britain’s approach to coronavirus-related restrictions has been looser than other european countries, but the omicron variant has spurred swift action on mitigation measures.</td>\n",
       "      <td>amid variant fears, u.k. discovers limits to its virus strategy</td>\n",
       "      <td>2021-11-30 18:14:44+00:00</td>\n",
       "      <td>0.00</td>\n",
       "      <td>0.000000</td>\n",
       "      <td>-0.008333</td>\n",
       "      <td>0.158333</td>\n",
       "    </tr>\n",
       "    <tr>\n",
       "      <th>6582</th>\n",
       "      <td>6582</td>\n",
       "      <td>unlike alpha, beta and delta, the name of the latest known variant is not as straightforward, with some english speakers offering up diverse pronunciations.</td>\n",
       "      <td>how do you say ‘omicron’?</td>\n",
       "      <td>2021-11-30 18:51:06+00:00</td>\n",
       "      <td>0.00</td>\n",
       "      <td>0.000000</td>\n",
       "      <td>0.291667</td>\n",
       "      <td>0.425000</td>\n",
       "    </tr>\n",
       "    <tr>\n",
       "      <th>6583</th>\n",
       "      <td>6583</td>\n",
       "      <td>the centers for disease control and prevention was “actively looking” for the variant but had not found a case so far.</td>\n",
       "      <td>federal health officials say that they are expanding the search for omicron in the u.s.</td>\n",
       "      <td>2021-11-30 19:34:18+00:00</td>\n",
       "      <td>0.00</td>\n",
       "      <td>0.000000</td>\n",
       "      <td>-0.016667</td>\n",
       "      <td>0.800000</td>\n",
       "    </tr>\n",
       "  </tbody>\n",
       "</table>\n",
       "<p>366 rows × 8 columns</p>\n",
       "</div>"
      ],
      "text/plain": [
       "      Unnamed: 0  \\\n",
       "6218        6218   \n",
       "6219        6219   \n",
       "6220        6220   \n",
       "6221        6221   \n",
       "6222        6222   \n",
       "...          ...   \n",
       "6579        6579   \n",
       "6580        6580   \n",
       "6581        6581   \n",
       "6582        6582   \n",
       "6583        6583   \n",
       "\n",
       "                                                                                                                                                                                               abstract  \\\n",
       "6218      about a fifth of the nation’s economy depends on the vacation industry. before the pandemic, the country was one of the world’s top destinations, drawing nearly 40 million visitors in 2019.   \n",
       "6219                                                          as some try to lure audiences back with short programs, the metropolitan opera is staging its longest work: wagner’s “die meistersinger.”   \n",
       "6220                                              while big companies wield considerable power, covid’s economic disruption has given workers new leverage, contributing to a recent upturn in strikes.   \n",
       "6221                     the labor department has completed a draft of an emergency standard, which is under review. when it is released, a flurry of corporate vaccine mandates is expected to follow.   \n",
       "6222                                                after months of production delays, this is the first vaccine authorization for novavax and its manufacturing partner, the serum institute of india.   \n",
       "...                                                                                                                                                                                                 ...   \n",
       "6579  the company said that analyses and modeling of mutations in the variant suggest that they may weaken the effect of the treatment, but that studies using omicron’s full sequences are incomplete.   \n",
       "6580          intense research into the new coronavirus variant first identified in southern africa, has just begun. world leaders have urged people not to panic — and to get vaccinated, if they can.   \n",
       "6581                     britain’s approach to coronavirus-related restrictions has been looser than other european countries, but the omicron variant has spurred swift action on mitigation measures.   \n",
       "6582                                       unlike alpha, beta and delta, the name of the latest known variant is not as straightforward, with some english speakers offering up diverse pronunciations.   \n",
       "6583                                                                             the centers for disease control and prevention was “actively looking” for the variant but had not found a case so far.   \n",
       "\n",
       "                                                                                                     headline  \\\n",
       "6218                             thailand reopens to tourists from 63 countries without requiring quarantine.   \n",
       "6219                                                       a 6-hour opera in a pandemic? the met goes for it.   \n",
       "6220                                                               how the pandemic has added to labor unrest   \n",
       "6221                        the biden administration will publish vaccine mandate rules ‘in the coming days.’   \n",
       "6222     the novavax vaccine, backed by operation warp speed, has won its first authorization — in indonesia.   \n",
       "...                                                                                                       ...   \n",
       "6579  regeneron says its antibody treatment may not be as effective against omicron, but testing is underway.   \n",
       "6580                                                               omicron: what is known — and still unknown   \n",
       "6581                                          amid variant fears, u.k. discovers limits to its virus strategy   \n",
       "6582                                                                                how do you say ‘omicron’?   \n",
       "6583                  federal health officials say that they are expanding the search for omicron in the u.s.   \n",
       "\n",
       "                      pub_date  polarity_headline  subjectivity_headline  \\\n",
       "6218 2021-11-01 12:26:03+00:00               0.00               0.000000   \n",
       "6219 2021-11-01 14:14:46+00:00               0.00               0.000000   \n",
       "6220 2021-11-01 15:06:46+00:00               0.00               0.000000   \n",
       "6221 2021-11-01 16:29:36+00:00               0.00               0.000000   \n",
       "6222 2021-11-01 16:40:48+00:00               0.25               0.333333   \n",
       "...                        ...                ...                    ...   \n",
       "6579 2021-11-30 16:03:10+00:00               0.60               0.800000   \n",
       "6580 2021-11-30 17:08:17+00:00              -0.10               0.600000   \n",
       "6581 2021-11-30 18:14:44+00:00               0.00               0.000000   \n",
       "6582 2021-11-30 18:51:06+00:00               0.00               0.000000   \n",
       "6583 2021-11-30 19:34:18+00:00               0.00               0.000000   \n",
       "\n",
       "      polarity_abstract  subjectivity_abstract  \n",
       "6218           0.300000               0.450000  \n",
       "6219           0.000000               0.150000  \n",
       "6220           0.087273               0.290909  \n",
       "6221          -0.033333               0.133333  \n",
       "6222           0.250000               0.333333  \n",
       "...                 ...                    ...  \n",
       "6579           0.350000               0.550000  \n",
       "6580           0.146591               0.446970  \n",
       "6581          -0.008333               0.158333  \n",
       "6582           0.291667               0.425000  \n",
       "6583          -0.016667               0.800000  \n",
       "\n",
       "[366 rows x 8 columns]"
      ]
     },
     "execution_count": 136,
     "metadata": {},
     "output_type": "execute_result"
    }
   ],
   "source": [
    "#converting \"pub_date\" column to datetime object\n",
    "nyt_data[\"pub_date\"]=pd.to_datetime(nyt_data[\"pub_date\"])\n",
    "nyt_data"
   ]
  },
  {
   "cell_type": "markdown",
   "metadata": {},
   "source": [
    "### Sentiment Analysis on the articles headlines"
   ]
  },
  {
   "cell_type": "code",
   "execution_count": 29,
   "metadata": {},
   "outputs": [],
   "source": [
    "#defining function for sentiment analysis using TextBlob\n",
    "def sentiment_func(headline): \n",
    "    try: \n",
    "        return TextBlob(headline).sentiment \n",
    "    except:\n",
    "        return None"
   ]
  },
  {
   "cell_type": "code",
   "execution_count": 138,
   "metadata": {},
   "outputs": [
    {
     "name": "stderr",
     "output_type": "stream",
     "text": [
      "/var/folders/h9/f7rwk0050px_1dg78cx_qvs00000gn/T/ipykernel_65269/2025154032.py:2: SettingWithCopyWarning: \n",
      "A value is trying to be set on a copy of a slice from a DataFrame.\n",
      "Try using .loc[row_indexer,col_indexer] = value instead\n",
      "\n",
      "See the caveats in the documentation: https://pandas.pydata.org/pandas-docs/stable/user_guide/indexing.html#returning-a-view-versus-a-copy\n",
      "  nyt_data[\"pol_sub_headline\"] = nyt_data[\"headline\"].apply(sentiment_func)\n"
     ]
    }
   ],
   "source": [
    "#calling the function \n",
    "nyt_data[\"pol_sub_headline\"] = nyt_data[\"headline\"].apply(sentiment_func)"
   ]
  },
  {
   "cell_type": "code",
   "execution_count": 31,
   "metadata": {
    "scrolled": true
   },
   "outputs": [
    {
     "name": "stderr",
     "output_type": "stream",
     "text": [
      "/var/folders/h9/f7rwk0050px_1dg78cx_qvs00000gn/T/ipykernel_65269/1908296196.py:2: SettingWithCopyWarning: \n",
      "A value is trying to be set on a copy of a slice from a DataFrame.\n",
      "Try using .loc[row_indexer,col_indexer] = value instead\n",
      "\n",
      "See the caveats in the documentation: https://pandas.pydata.org/pandas-docs/stable/user_guide/indexing.html#returning-a-view-versus-a-copy\n",
      "  nyt_data['polarity_headline'] = [i[0] for i in nyt_data['pol_sub_headline']]\n",
      "/var/folders/h9/f7rwk0050px_1dg78cx_qvs00000gn/T/ipykernel_65269/1908296196.py:3: SettingWithCopyWarning: \n",
      "A value is trying to be set on a copy of a slice from a DataFrame.\n",
      "Try using .loc[row_indexer,col_indexer] = value instead\n",
      "\n",
      "See the caveats in the documentation: https://pandas.pydata.org/pandas-docs/stable/user_guide/indexing.html#returning-a-view-versus-a-copy\n",
      "  nyt_data['subjectivity_headline'] = [i[1] for i in nyt_data['pol_sub_headline']]\n"
     ]
    }
   ],
   "source": [
    "#adding a column for polarity and one for subjectivity\n",
    "nyt_data['polarity_headline'] = [i[0] for i in nyt_data['pol_sub_headline']]\n",
    "nyt_data['subjectivity_headline'] = [i[1] for i in nyt_data['pol_sub_headline']]"
   ]
  },
  {
   "cell_type": "code",
   "execution_count": 32,
   "metadata": {
    "scrolled": true
   },
   "outputs": [],
   "source": [
    "#deleting column pol_sub\n",
    "del nyt_data['pol_sub_headline']\n",
    "\n",
    "#reading text full lenght\n",
    "pd.set_option('display.max_colwidth', None)"
   ]
  },
  {
   "cell_type": "code",
   "execution_count": 33,
   "metadata": {},
   "outputs": [
    {
     "data": {
      "text/html": [
       "<div>\n",
       "<style scoped>\n",
       "    .dataframe tbody tr th:only-of-type {\n",
       "        vertical-align: middle;\n",
       "    }\n",
       "\n",
       "    .dataframe tbody tr th {\n",
       "        vertical-align: top;\n",
       "    }\n",
       "\n",
       "    .dataframe thead th {\n",
       "        text-align: right;\n",
       "    }\n",
       "</style>\n",
       "<table border=\"1\" class=\"dataframe\">\n",
       "  <thead>\n",
       "    <tr style=\"text-align: right;\">\n",
       "      <th></th>\n",
       "      <th>Unnamed: 0</th>\n",
       "      <th>abstract</th>\n",
       "      <th>headline</th>\n",
       "      <th>pub_date</th>\n",
       "      <th>polarity_headline</th>\n",
       "      <th>subjectivity_headline</th>\n",
       "    </tr>\n",
       "  </thead>\n",
       "  <tbody>\n",
       "    <tr>\n",
       "      <th>6218</th>\n",
       "      <td>6218</td>\n",
       "      <td>about a fifth of the nation’s economy depends on the vacation industry. before the pandemic, the country was one of the world’s top destinations, drawing nearly 40 million visitors in 2019.</td>\n",
       "      <td>thailand reopens to tourists from 63 countries without requiring quarantine.</td>\n",
       "      <td>2021-11-01 12:26:03+00:00</td>\n",
       "      <td>0.00</td>\n",
       "      <td>0.000000</td>\n",
       "    </tr>\n",
       "    <tr>\n",
       "      <th>6219</th>\n",
       "      <td>6219</td>\n",
       "      <td>as some try to lure audiences back with short programs, the metropolitan opera is staging its longest work: wagner’s “die meistersinger.”</td>\n",
       "      <td>a 6-hour opera in a pandemic? the met goes for it.</td>\n",
       "      <td>2021-11-01 14:14:46+00:00</td>\n",
       "      <td>0.00</td>\n",
       "      <td>0.000000</td>\n",
       "    </tr>\n",
       "    <tr>\n",
       "      <th>6220</th>\n",
       "      <td>6220</td>\n",
       "      <td>while big companies wield considerable power, covid’s economic disruption has given workers new leverage, contributing to a recent upturn in strikes.</td>\n",
       "      <td>how the pandemic has added to labor unrest</td>\n",
       "      <td>2021-11-01 15:06:46+00:00</td>\n",
       "      <td>0.00</td>\n",
       "      <td>0.000000</td>\n",
       "    </tr>\n",
       "    <tr>\n",
       "      <th>6221</th>\n",
       "      <td>6221</td>\n",
       "      <td>the labor department has completed a draft of an emergency standard, which is under review. when it is released, a flurry of corporate vaccine mandates is expected to follow.</td>\n",
       "      <td>the biden administration will publish vaccine mandate rules ‘in the coming days.’</td>\n",
       "      <td>2021-11-01 16:29:36+00:00</td>\n",
       "      <td>0.00</td>\n",
       "      <td>0.000000</td>\n",
       "    </tr>\n",
       "    <tr>\n",
       "      <th>6222</th>\n",
       "      <td>6222</td>\n",
       "      <td>after months of production delays, this is the first vaccine authorization for novavax and its manufacturing partner, the serum institute of india.</td>\n",
       "      <td>the novavax vaccine, backed by operation warp speed, has won its first authorization — in indonesia.</td>\n",
       "      <td>2021-11-01 16:40:48+00:00</td>\n",
       "      <td>0.25</td>\n",
       "      <td>0.333333</td>\n",
       "    </tr>\n",
       "    <tr>\n",
       "      <th>...</th>\n",
       "      <td>...</td>\n",
       "      <td>...</td>\n",
       "      <td>...</td>\n",
       "      <td>...</td>\n",
       "      <td>...</td>\n",
       "      <td>...</td>\n",
       "    </tr>\n",
       "    <tr>\n",
       "      <th>6579</th>\n",
       "      <td>6579</td>\n",
       "      <td>the company said that analyses and modeling of mutations in the variant suggest that they may weaken the effect of the treatment, but that studies using omicron’s full sequences are incomplete.</td>\n",
       "      <td>regeneron says its antibody treatment may not be as effective against omicron, but testing is underway.</td>\n",
       "      <td>2021-11-30 16:03:10+00:00</td>\n",
       "      <td>0.60</td>\n",
       "      <td>0.800000</td>\n",
       "    </tr>\n",
       "    <tr>\n",
       "      <th>6580</th>\n",
       "      <td>6580</td>\n",
       "      <td>intense research into the new coronavirus variant first identified in southern africa, has just begun. world leaders have urged people not to panic — and to get vaccinated, if they can.</td>\n",
       "      <td>omicron: what is known — and still unknown</td>\n",
       "      <td>2021-11-30 17:08:17+00:00</td>\n",
       "      <td>-0.10</td>\n",
       "      <td>0.600000</td>\n",
       "    </tr>\n",
       "    <tr>\n",
       "      <th>6581</th>\n",
       "      <td>6581</td>\n",
       "      <td>britain’s approach to coronavirus-related restrictions has been looser than other european countries, but the omicron variant has spurred swift action on mitigation measures.</td>\n",
       "      <td>amid variant fears, u.k. discovers limits to its virus strategy</td>\n",
       "      <td>2021-11-30 18:14:44+00:00</td>\n",
       "      <td>0.00</td>\n",
       "      <td>0.000000</td>\n",
       "    </tr>\n",
       "    <tr>\n",
       "      <th>6582</th>\n",
       "      <td>6582</td>\n",
       "      <td>unlike alpha, beta and delta, the name of the latest known variant is not as straightforward, with some english speakers offering up diverse pronunciations.</td>\n",
       "      <td>how do you say ‘omicron’?</td>\n",
       "      <td>2021-11-30 18:51:06+00:00</td>\n",
       "      <td>0.00</td>\n",
       "      <td>0.000000</td>\n",
       "    </tr>\n",
       "    <tr>\n",
       "      <th>6583</th>\n",
       "      <td>6583</td>\n",
       "      <td>the centers for disease control and prevention was “actively looking” for the variant but had not found a case so far.</td>\n",
       "      <td>federal health officials say that they are expanding the search for omicron in the u.s.</td>\n",
       "      <td>2021-11-30 19:34:18+00:00</td>\n",
       "      <td>0.00</td>\n",
       "      <td>0.000000</td>\n",
       "    </tr>\n",
       "  </tbody>\n",
       "</table>\n",
       "<p>366 rows × 6 columns</p>\n",
       "</div>"
      ],
      "text/plain": [
       "      Unnamed: 0  \\\n",
       "6218        6218   \n",
       "6219        6219   \n",
       "6220        6220   \n",
       "6221        6221   \n",
       "6222        6222   \n",
       "...          ...   \n",
       "6579        6579   \n",
       "6580        6580   \n",
       "6581        6581   \n",
       "6582        6582   \n",
       "6583        6583   \n",
       "\n",
       "                                                                                                                                                                                               abstract  \\\n",
       "6218      about a fifth of the nation’s economy depends on the vacation industry. before the pandemic, the country was one of the world’s top destinations, drawing nearly 40 million visitors in 2019.   \n",
       "6219                                                          as some try to lure audiences back with short programs, the metropolitan opera is staging its longest work: wagner’s “die meistersinger.”   \n",
       "6220                                              while big companies wield considerable power, covid’s economic disruption has given workers new leverage, contributing to a recent upturn in strikes.   \n",
       "6221                     the labor department has completed a draft of an emergency standard, which is under review. when it is released, a flurry of corporate vaccine mandates is expected to follow.   \n",
       "6222                                                after months of production delays, this is the first vaccine authorization for novavax and its manufacturing partner, the serum institute of india.   \n",
       "...                                                                                                                                                                                                 ...   \n",
       "6579  the company said that analyses and modeling of mutations in the variant suggest that they may weaken the effect of the treatment, but that studies using omicron’s full sequences are incomplete.   \n",
       "6580          intense research into the new coronavirus variant first identified in southern africa, has just begun. world leaders have urged people not to panic — and to get vaccinated, if they can.   \n",
       "6581                     britain’s approach to coronavirus-related restrictions has been looser than other european countries, but the omicron variant has spurred swift action on mitigation measures.   \n",
       "6582                                       unlike alpha, beta and delta, the name of the latest known variant is not as straightforward, with some english speakers offering up diverse pronunciations.   \n",
       "6583                                                                             the centers for disease control and prevention was “actively looking” for the variant but had not found a case so far.   \n",
       "\n",
       "                                                                                                     headline  \\\n",
       "6218                             thailand reopens to tourists from 63 countries without requiring quarantine.   \n",
       "6219                                                       a 6-hour opera in a pandemic? the met goes for it.   \n",
       "6220                                                               how the pandemic has added to labor unrest   \n",
       "6221                        the biden administration will publish vaccine mandate rules ‘in the coming days.’   \n",
       "6222     the novavax vaccine, backed by operation warp speed, has won its first authorization — in indonesia.   \n",
       "...                                                                                                       ...   \n",
       "6579  regeneron says its antibody treatment may not be as effective against omicron, but testing is underway.   \n",
       "6580                                                               omicron: what is known — and still unknown   \n",
       "6581                                          amid variant fears, u.k. discovers limits to its virus strategy   \n",
       "6582                                                                                how do you say ‘omicron’?   \n",
       "6583                  federal health officials say that they are expanding the search for omicron in the u.s.   \n",
       "\n",
       "                      pub_date  polarity_headline  subjectivity_headline  \n",
       "6218 2021-11-01 12:26:03+00:00               0.00               0.000000  \n",
       "6219 2021-11-01 14:14:46+00:00               0.00               0.000000  \n",
       "6220 2021-11-01 15:06:46+00:00               0.00               0.000000  \n",
       "6221 2021-11-01 16:29:36+00:00               0.00               0.000000  \n",
       "6222 2021-11-01 16:40:48+00:00               0.25               0.333333  \n",
       "...                        ...                ...                    ...  \n",
       "6579 2021-11-30 16:03:10+00:00               0.60               0.800000  \n",
       "6580 2021-11-30 17:08:17+00:00              -0.10               0.600000  \n",
       "6581 2021-11-30 18:14:44+00:00               0.00               0.000000  \n",
       "6582 2021-11-30 18:51:06+00:00               0.00               0.000000  \n",
       "6583 2021-11-30 19:34:18+00:00               0.00               0.000000  \n",
       "\n",
       "[366 rows x 6 columns]"
      ]
     },
     "execution_count": 33,
     "metadata": {},
     "output_type": "execute_result"
    }
   ],
   "source": [
    "nyt_data"
   ]
  },
  {
   "cell_type": "code",
   "execution_count": 34,
   "metadata": {},
   "outputs": [
    {
     "name": "stdout",
     "output_type": "stream",
     "text": [
      "0.022173698341731128 0.18083834539777166\n"
     ]
    }
   ],
   "source": [
    "#Visualising the mean of the polarity and subjectivity results\n",
    "mean_polarity_headline = nyt_data['polarity_headline'].mean()\n",
    "mean_subjectivity_headline = nyt_data['subjectivity_headline'].mean()\n",
    "print(mean_polarity_headline,mean_subjectivity_headline)"
   ]
  },
  {
   "cell_type": "code",
   "execution_count": 35,
   "metadata": {},
   "outputs": [
    {
     "data": {
      "text/html": [
       "<div>\n",
       "<style scoped>\n",
       "    .dataframe tbody tr th:only-of-type {\n",
       "        vertical-align: middle;\n",
       "    }\n",
       "\n",
       "    .dataframe tbody tr th {\n",
       "        vertical-align: top;\n",
       "    }\n",
       "\n",
       "    .dataframe thead th {\n",
       "        text-align: right;\n",
       "    }\n",
       "</style>\n",
       "<table border=\"1\" class=\"dataframe\">\n",
       "  <thead>\n",
       "    <tr style=\"text-align: right;\">\n",
       "      <th></th>\n",
       "      <th>polarity_headline</th>\n",
       "      <th>headline</th>\n",
       "    </tr>\n",
       "  </thead>\n",
       "  <tbody>\n",
       "    <tr>\n",
       "      <th>6218</th>\n",
       "      <td>0.00</td>\n",
       "      <td>thailand reopens to tourists from 63 countries without requiring quarantine.</td>\n",
       "    </tr>\n",
       "    <tr>\n",
       "      <th>6219</th>\n",
       "      <td>0.00</td>\n",
       "      <td>a 6-hour opera in a pandemic? the met goes for it.</td>\n",
       "    </tr>\n",
       "    <tr>\n",
       "      <th>6220</th>\n",
       "      <td>0.00</td>\n",
       "      <td>how the pandemic has added to labor unrest</td>\n",
       "    </tr>\n",
       "    <tr>\n",
       "      <th>6221</th>\n",
       "      <td>0.00</td>\n",
       "      <td>the biden administration will publish vaccine mandate rules ‘in the coming days.’</td>\n",
       "    </tr>\n",
       "    <tr>\n",
       "      <th>6222</th>\n",
       "      <td>0.25</td>\n",
       "      <td>the novavax vaccine, backed by operation warp speed, has won its first authorization — in indonesia.</td>\n",
       "    </tr>\n",
       "  </tbody>\n",
       "</table>\n",
       "</div>"
      ],
      "text/plain": [
       "      polarity_headline  \\\n",
       "6218               0.00   \n",
       "6219               0.00   \n",
       "6220               0.00   \n",
       "6221               0.00   \n",
       "6222               0.25   \n",
       "\n",
       "                                                                                                  headline  \n",
       "6218                          thailand reopens to tourists from 63 countries without requiring quarantine.  \n",
       "6219                                                    a 6-hour opera in a pandemic? the met goes for it.  \n",
       "6220                                                            how the pandemic has added to labor unrest  \n",
       "6221                     the biden administration will publish vaccine mandate rules ‘in the coming days.’  \n",
       "6222  the novavax vaccine, backed by operation warp speed, has won its first authorization — in indonesia.  "
      ]
     },
     "execution_count": 35,
     "metadata": {},
     "output_type": "execute_result"
    }
   ],
   "source": [
    "# Creating dataframe containing the polarity value and headline\n",
    "sentiment_df = pd.DataFrame(nyt_data, columns=[\"polarity_headline\", \"headline\"])\n",
    "sentiment_df.head()"
   ]
  },
  {
   "cell_type": "markdown",
   "metadata": {},
   "source": [
    "### Visualising the results"
   ]
  },
  {
   "cell_type": "code",
   "execution_count": 36,
   "metadata": {},
   "outputs": [
    {
     "data": {
      "image/png": "[encoded data removed]",
      "text/plain": [
       "<Figure size 576x432 with 1 Axes>"
      ]
     },
     "metadata": {
      "needs_background": "light"
     },
     "output_type": "display_data"
    }
   ],
   "source": [
    "fig, ax = plt.subplots(figsize=(8, 6))\n",
    "\n",
    "# Plot histogram \n",
    "sentiment_df.hist(bins=[-1, -0.75, -0.5, -0.25, 0.0, 0.25, 0.5, 0.75, 1],\n",
    "             ax=ax,\n",
    "             color=\"green\")\n",
    "\n",
    "plt.title(\"Sentiments from NYT articles headlines related to the covid-19 pandemic\")\n",
    "plt.show()"
   ]
  },
  {
   "cell_type": "markdown",
   "metadata": {},
   "source": [
    "### Sentiment Analysis on the articles abstracts "
   ]
  },
  {
   "cell_type": "code",
   "execution_count": 37,
   "metadata": {},
   "outputs": [],
   "source": [
    "#defining function\n",
    "def sentiment_func(abstract): \n",
    "    try: \n",
    "        return TextBlob(abstract).sentiment \n",
    "    except:\n",
    "        return None"
   ]
  },
  {
   "cell_type": "code",
   "execution_count": 38,
   "metadata": {},
   "outputs": [
    {
     "name": "stderr",
     "output_type": "stream",
     "text": [
      "/var/folders/h9/f7rwk0050px_1dg78cx_qvs00000gn/T/ipykernel_65269/754814365.py:2: SettingWithCopyWarning: \n",
      "A value is trying to be set on a copy of a slice from a DataFrame.\n",
      "Try using .loc[row_indexer,col_indexer] = value instead\n",
      "\n",
      "See the caveats in the documentation: https://pandas.pydata.org/pandas-docs/stable/user_guide/indexing.html#returning-a-view-versus-a-copy\n",
      "  nyt_data[\"pol_sub_abstract\"] = nyt_data[\"abstract\"].apply(sentiment_func)\n"
     ]
    },
    {
     "data": {
      "text/plain": [
       "6218                                     (0.3, 0.45)\n",
       "6219                                     (0.0, 0.15)\n",
       "6220       (0.08727272727272728, 0.2909090909090909)\n",
       "6221     (-0.03333333333333333, 0.13333333333333333)\n",
       "6222                      (0.25, 0.3333333333333333)\n",
       "                            ...                     \n",
       "6579                                    (0.35, 0.55)\n",
       "6580       (0.1465909090909091, 0.44696969696969696)\n",
       "6581    (-0.008333333333333331, 0.15833333333333333)\n",
       "6582                     (0.2916666666666667, 0.425)\n",
       "6583                    (-0.016666666666666663, 0.8)\n",
       "Name: pol_sub_abstract, Length: 366, dtype: object"
      ]
     },
     "execution_count": 38,
     "metadata": {},
     "output_type": "execute_result"
    }
   ],
   "source": [
    "#calling the function\n",
    "nyt_data[\"pol_sub_abstract\"] = nyt_data[\"abstract\"].apply(sentiment_func)\n",
    "nyt_data[\"pol_sub_abstract\"]"
   ]
  },
  {
   "cell_type": "code",
   "execution_count": 39,
   "metadata": {},
   "outputs": [
    {
     "name": "stderr",
     "output_type": "stream",
     "text": [
      "/Library/Frameworks/Python.framework/Versions/3.9/lib/python3.9/site-packages/pandas/util/_decorators.py:311: SettingWithCopyWarning: \n",
      "A value is trying to be set on a copy of a slice from a DataFrame\n",
      "\n",
      "See the caveats in the documentation: https://pandas.pydata.org/pandas-docs/stable/user_guide/indexing.html#returning-a-view-versus-a-copy\n",
      "  return func(*args, **kwargs)\n"
     ]
    }
   ],
   "source": [
    "nyt_data.dropna(inplace = True)"
   ]
  },
  {
   "cell_type": "code",
   "execution_count": 40,
   "metadata": {},
   "outputs": [
    {
     "name": "stderr",
     "output_type": "stream",
     "text": [
      "/var/folders/h9/f7rwk0050px_1dg78cx_qvs00000gn/T/ipykernel_65269/1873745487.py:2: SettingWithCopyWarning: \n",
      "A value is trying to be set on a copy of a slice from a DataFrame.\n",
      "Try using .loc[row_indexer,col_indexer] = value instead\n",
      "\n",
      "See the caveats in the documentation: https://pandas.pydata.org/pandas-docs/stable/user_guide/indexing.html#returning-a-view-versus-a-copy\n",
      "  nyt_data['polarity_abstract'] = [i[0] for i in nyt_data[\"pol_sub_abstract\"]]\n",
      "/var/folders/h9/f7rwk0050px_1dg78cx_qvs00000gn/T/ipykernel_65269/1873745487.py:3: SettingWithCopyWarning: \n",
      "A value is trying to be set on a copy of a slice from a DataFrame.\n",
      "Try using .loc[row_indexer,col_indexer] = value instead\n",
      "\n",
      "See the caveats in the documentation: https://pandas.pydata.org/pandas-docs/stable/user_guide/indexing.html#returning-a-view-versus-a-copy\n",
      "  nyt_data['subjectivity_abstract'] = [i[1] for i in nyt_data[\"pol_sub_abstract\"]]\n"
     ]
    }
   ],
   "source": [
    "#adding a column for polarity and one for subjectivity\n",
    "nyt_data['polarity_abstract'] = [i[0] for i in nyt_data[\"pol_sub_abstract\"]]\n",
    "nyt_data['subjectivity_abstract'] = [i[1] for i in nyt_data[\"pol_sub_abstract\"]]"
   ]
  },
  {
   "cell_type": "code",
   "execution_count": 41,
   "metadata": {},
   "outputs": [
    {
     "data": {
      "text/html": [
       "<div>\n",
       "<style scoped>\n",
       "    .dataframe tbody tr th:only-of-type {\n",
       "        vertical-align: middle;\n",
       "    }\n",
       "\n",
       "    .dataframe tbody tr th {\n",
       "        vertical-align: top;\n",
       "    }\n",
       "\n",
       "    .dataframe thead th {\n",
       "        text-align: right;\n",
       "    }\n",
       "</style>\n",
       "<table border=\"1\" class=\"dataframe\">\n",
       "  <thead>\n",
       "    <tr style=\"text-align: right;\">\n",
       "      <th></th>\n",
       "      <th>Unnamed: 0</th>\n",
       "      <th>abstract</th>\n",
       "      <th>headline</th>\n",
       "      <th>pub_date</th>\n",
       "      <th>polarity_headline</th>\n",
       "      <th>subjectivity_headline</th>\n",
       "      <th>polarity_abstract</th>\n",
       "      <th>subjectivity_abstract</th>\n",
       "    </tr>\n",
       "  </thead>\n",
       "  <tbody>\n",
       "    <tr>\n",
       "      <th>6218</th>\n",
       "      <td>6218</td>\n",
       "      <td>about a fifth of the nation’s economy depends on the vacation industry. before the pandemic, the country was one of the world’s top destinations, drawing nearly 40 million visitors in 2019.</td>\n",
       "      <td>thailand reopens to tourists from 63 countries without requiring quarantine.</td>\n",
       "      <td>2021-11-01 12:26:03+00:00</td>\n",
       "      <td>0.00</td>\n",
       "      <td>0.000000</td>\n",
       "      <td>0.300000</td>\n",
       "      <td>0.450000</td>\n",
       "    </tr>\n",
       "    <tr>\n",
       "      <th>6219</th>\n",
       "      <td>6219</td>\n",
       "      <td>as some try to lure audiences back with short programs, the metropolitan opera is staging its longest work: wagner’s “die meistersinger.”</td>\n",
       "      <td>a 6-hour opera in a pandemic? the met goes for it.</td>\n",
       "      <td>2021-11-01 14:14:46+00:00</td>\n",
       "      <td>0.00</td>\n",
       "      <td>0.000000</td>\n",
       "      <td>0.000000</td>\n",
       "      <td>0.150000</td>\n",
       "    </tr>\n",
       "    <tr>\n",
       "      <th>6220</th>\n",
       "      <td>6220</td>\n",
       "      <td>while big companies wield considerable power, covid’s economic disruption has given workers new leverage, contributing to a recent upturn in strikes.</td>\n",
       "      <td>how the pandemic has added to labor unrest</td>\n",
       "      <td>2021-11-01 15:06:46+00:00</td>\n",
       "      <td>0.00</td>\n",
       "      <td>0.000000</td>\n",
       "      <td>0.087273</td>\n",
       "      <td>0.290909</td>\n",
       "    </tr>\n",
       "    <tr>\n",
       "      <th>6221</th>\n",
       "      <td>6221</td>\n",
       "      <td>the labor department has completed a draft of an emergency standard, which is under review. when it is released, a flurry of corporate vaccine mandates is expected to follow.</td>\n",
       "      <td>the biden administration will publish vaccine mandate rules ‘in the coming days.’</td>\n",
       "      <td>2021-11-01 16:29:36+00:00</td>\n",
       "      <td>0.00</td>\n",
       "      <td>0.000000</td>\n",
       "      <td>-0.033333</td>\n",
       "      <td>0.133333</td>\n",
       "    </tr>\n",
       "    <tr>\n",
       "      <th>6222</th>\n",
       "      <td>6222</td>\n",
       "      <td>after months of production delays, this is the first vaccine authorization for novavax and its manufacturing partner, the serum institute of india.</td>\n",
       "      <td>the novavax vaccine, backed by operation warp speed, has won its first authorization — in indonesia.</td>\n",
       "      <td>2021-11-01 16:40:48+00:00</td>\n",
       "      <td>0.25</td>\n",
       "      <td>0.333333</td>\n",
       "      <td>0.250000</td>\n",
       "      <td>0.333333</td>\n",
       "    </tr>\n",
       "  </tbody>\n",
       "</table>\n",
       "</div>"
      ],
      "text/plain": [
       "      Unnamed: 0  \\\n",
       "6218        6218   \n",
       "6219        6219   \n",
       "6220        6220   \n",
       "6221        6221   \n",
       "6222        6222   \n",
       "\n",
       "                                                                                                                                                                                           abstract  \\\n",
       "6218  about a fifth of the nation’s economy depends on the vacation industry. before the pandemic, the country was one of the world’s top destinations, drawing nearly 40 million visitors in 2019.   \n",
       "6219                                                      as some try to lure audiences back with short programs, the metropolitan opera is staging its longest work: wagner’s “die meistersinger.”   \n",
       "6220                                          while big companies wield considerable power, covid’s economic disruption has given workers new leverage, contributing to a recent upturn in strikes.   \n",
       "6221                 the labor department has completed a draft of an emergency standard, which is under review. when it is released, a flurry of corporate vaccine mandates is expected to follow.   \n",
       "6222                                            after months of production delays, this is the first vaccine authorization for novavax and its manufacturing partner, the serum institute of india.   \n",
       "\n",
       "                                                                                                  headline  \\\n",
       "6218                          thailand reopens to tourists from 63 countries without requiring quarantine.   \n",
       "6219                                                    a 6-hour opera in a pandemic? the met goes for it.   \n",
       "6220                                                            how the pandemic has added to labor unrest   \n",
       "6221                     the biden administration will publish vaccine mandate rules ‘in the coming days.’   \n",
       "6222  the novavax vaccine, backed by operation warp speed, has won its first authorization — in indonesia.   \n",
       "\n",
       "                      pub_date  polarity_headline  subjectivity_headline  \\\n",
       "6218 2021-11-01 12:26:03+00:00               0.00               0.000000   \n",
       "6219 2021-11-01 14:14:46+00:00               0.00               0.000000   \n",
       "6220 2021-11-01 15:06:46+00:00               0.00               0.000000   \n",
       "6221 2021-11-01 16:29:36+00:00               0.00               0.000000   \n",
       "6222 2021-11-01 16:40:48+00:00               0.25               0.333333   \n",
       "\n",
       "      polarity_abstract  subjectivity_abstract  \n",
       "6218           0.300000               0.450000  \n",
       "6219           0.000000               0.150000  \n",
       "6220           0.087273               0.290909  \n",
       "6221          -0.033333               0.133333  \n",
       "6222           0.250000               0.333333  "
      ]
     },
     "execution_count": 41,
     "metadata": {},
     "output_type": "execute_result"
    }
   ],
   "source": [
    "#deleting column pol_sub\n",
    "del nyt_data['pol_sub_abstract']\n",
    "\n",
    "#reading text full lenght\n",
    "pd.set_option('display.max_colwidth', None)\n",
    "\n",
    "nyt_data.head()"
   ]
  },
  {
   "cell_type": "code",
   "execution_count": 42,
   "metadata": {},
   "outputs": [
    {
     "name": "stdout",
     "output_type": "stream",
     "text": [
      "0.07235640728343369 0.3130675787057845\n"
     ]
    }
   ],
   "source": [
    "#Visualising the mean of the polarity and subjectivity results\n",
    "mean_polarity_abstract = nyt_data['polarity_abstract'].mean()\n",
    "mean_subjectivity_abstract = nyt_data['subjectivity_abstract'].mean()\n",
    "print(mean_polarity_abstract,mean_subjectivity_abstract)"
   ]
  },
  {
   "cell_type": "code",
   "execution_count": 43,
   "metadata": {
    "scrolled": true
   },
   "outputs": [
    {
     "data": {
      "text/html": [
       "<div>\n",
       "<style scoped>\n",
       "    .dataframe tbody tr th:only-of-type {\n",
       "        vertical-align: middle;\n",
       "    }\n",
       "\n",
       "    .dataframe tbody tr th {\n",
       "        vertical-align: top;\n",
       "    }\n",
       "\n",
       "    .dataframe thead th {\n",
       "        text-align: right;\n",
       "    }\n",
       "</style>\n",
       "<table border=\"1\" class=\"dataframe\">\n",
       "  <thead>\n",
       "    <tr style=\"text-align: right;\">\n",
       "      <th></th>\n",
       "      <th>polarity_abstract</th>\n",
       "      <th>abstract</th>\n",
       "    </tr>\n",
       "  </thead>\n",
       "  <tbody>\n",
       "    <tr>\n",
       "      <th>6218</th>\n",
       "      <td>0.300000</td>\n",
       "      <td>about a fifth of the nation’s economy depends on the vacation industry. before the pandemic, the country was one of the world’s top destinations, drawing nearly 40 million visitors in 2019.</td>\n",
       "    </tr>\n",
       "    <tr>\n",
       "      <th>6219</th>\n",
       "      <td>0.000000</td>\n",
       "      <td>as some try to lure audiences back with short programs, the metropolitan opera is staging its longest work: wagner’s “die meistersinger.”</td>\n",
       "    </tr>\n",
       "    <tr>\n",
       "      <th>6220</th>\n",
       "      <td>0.087273</td>\n",
       "      <td>while big companies wield considerable power, covid’s economic disruption has given workers new leverage, contributing to a recent upturn in strikes.</td>\n",
       "    </tr>\n",
       "    <tr>\n",
       "      <th>6221</th>\n",
       "      <td>-0.033333</td>\n",
       "      <td>the labor department has completed a draft of an emergency standard, which is under review. when it is released, a flurry of corporate vaccine mandates is expected to follow.</td>\n",
       "    </tr>\n",
       "    <tr>\n",
       "      <th>6222</th>\n",
       "      <td>0.250000</td>\n",
       "      <td>after months of production delays, this is the first vaccine authorization for novavax and its manufacturing partner, the serum institute of india.</td>\n",
       "    </tr>\n",
       "  </tbody>\n",
       "</table>\n",
       "</div>"
      ],
      "text/plain": [
       "      polarity_abstract  \\\n",
       "6218           0.300000   \n",
       "6219           0.000000   \n",
       "6220           0.087273   \n",
       "6221          -0.033333   \n",
       "6222           0.250000   \n",
       "\n",
       "                                                                                                                                                                                           abstract  \n",
       "6218  about a fifth of the nation’s economy depends on the vacation industry. before the pandemic, the country was one of the world’s top destinations, drawing nearly 40 million visitors in 2019.  \n",
       "6219                                                      as some try to lure audiences back with short programs, the metropolitan opera is staging its longest work: wagner’s “die meistersinger.”  \n",
       "6220                                          while big companies wield considerable power, covid’s economic disruption has given workers new leverage, contributing to a recent upturn in strikes.  \n",
       "6221                 the labor department has completed a draft of an emergency standard, which is under review. when it is released, a flurry of corporate vaccine mandates is expected to follow.  \n",
       "6222                                            after months of production delays, this is the first vaccine authorization for novavax and its manufacturing partner, the serum institute of india.  "
      ]
     },
     "execution_count": 43,
     "metadata": {},
     "output_type": "execute_result"
    }
   ],
   "source": [
    "# Creating dataframe containing the polarity value and headline\n",
    "sentiment_df_abstract = pd.DataFrame(nyt_data, columns=[\"polarity_abstract\", \"abstract\"])\n",
    "sentiment_df_abstract.head()"
   ]
  },
  {
   "cell_type": "markdown",
   "metadata": {},
   "source": [
    "### Visualising the results "
   ]
  },
  {
   "cell_type": "code",
   "execution_count": 44,
   "metadata": {
    "scrolled": false
   },
   "outputs": [
    {
     "data": {
      "image/png": "[encoded data removed]",
      "text/plain": [
       "<Figure size 576x432 with 1 Axes>"
      ]
     },
     "metadata": {
      "needs_background": "light"
     },
     "output_type": "display_data"
    }
   ],
   "source": [
    "fig, ax = plt.subplots(figsize=(8, 6))\n",
    "\n",
    "# Plot histogram\n",
    "sentiment_df_abstract.hist(bins=[-1, -0.75, -0.5, -0.25, 0.0, 0.25, 0.5, 0.75, 1],\n",
    "                           ax=ax,\n",
    "                           color=\"green\")\n",
    "\n",
    "plt.title(\"Sentiments from NYT articles abstracts related to the covid-19 pandemic\")\n",
    "plt.show()"
   ]
  },
  {
   "cell_type": "markdown",
   "metadata": {},
   "source": [
    "# New York Times 2021 headline and abstract sentiment analysis with visualisations"
   ]
  },
  {
   "cell_type": "markdown",
   "metadata": {},
   "source": [
    "### Reading raw New York Times 2021 data from csv"
   ]
  },
  {
   "cell_type": "code",
   "execution_count": 7,
   "metadata": {
    "scrolled": true
   },
   "outputs": [
    {
     "data": {
      "text/html": [
       "<div>\n",
       "<style scoped>\n",
       "    .dataframe tbody tr th:only-of-type {\n",
       "        vertical-align: middle;\n",
       "    }\n",
       "\n",
       "    .dataframe tbody tr th {\n",
       "        vertical-align: top;\n",
       "    }\n",
       "\n",
       "    .dataframe thead th {\n",
       "        text-align: right;\n",
       "    }\n",
       "</style>\n",
       "<table border=\"1\" class=\"dataframe\">\n",
       "  <thead>\n",
       "    <tr style=\"text-align: right;\">\n",
       "      <th></th>\n",
       "      <th>abstract</th>\n",
       "      <th>headline</th>\n",
       "      <th>pub_date</th>\n",
       "      <th>word_count</th>\n",
       "      <th>news_desk</th>\n",
       "      <th>web_url</th>\n",
       "      <th>snippet</th>\n",
       "      <th>lead_paragraph</th>\n",
       "      <th>print_section</th>\n",
       "      <th>print_page</th>\n",
       "      <th>source</th>\n",
       "      <th>multimedia</th>\n",
       "      <th>keywords</th>\n",
       "      <th>document_type</th>\n",
       "      <th>section_name</th>\n",
       "      <th>byline</th>\n",
       "      <th>type_of_material</th>\n",
       "      <th>_id</th>\n",
       "      <th>uri</th>\n",
       "      <th>subsection_name</th>\n",
       "    </tr>\n",
       "  </thead>\n",
       "  <tbody>\n",
       "    <tr>\n",
       "      <th>4</th>\n",
       "      <td>the united states recorded its 20 millionth ca...</td>\n",
       "      <td>the u.s. reaches 20 million cases.</td>\n",
       "      <td>2021-01-01 01:28:22+00:00</td>\n",
       "      <td>438</td>\n",
       "      <td>Foreign</td>\n",
       "      <td>https://www.nytimes.com/2020/12/31/world/the-u...</td>\n",
       "      <td>NaN</td>\n",
       "      <td>The United States recorded its 20 millionth ca...</td>\n",
       "      <td>NaN</td>\n",
       "      <td>NaN</td>\n",
       "      <td>The New York Times</td>\n",
       "      <td>[{'rank': 0, 'subtype': 'xlarge', 'caption': N...</td>\n",
       "      <td>[{'name': 'subject', 'value': 'internal-essent...</td>\n",
       "      <td>article</td>\n",
       "      <td>World</td>\n",
       "      <td>{'original': 'By Kate Taylor', 'person': [{'fi...</td>\n",
       "      <td>News</td>\n",
       "      <td>nyt://article/d75205a5-201f-5dc3-b8fe-278c3d64...</td>\n",
       "      <td>nyt://article/d75205a5-201f-5dc3-b8fe-278c3d64...</td>\n",
       "      <td>NaN</td>\n",
       "    </tr>\n",
       "    <tr>\n",
       "      <th>7</th>\n",
       "      <td>throughout the coronavirus pandemic, well-atte...</td>\n",
       "      <td>shhh! in los angeles, new year’s eve parties a...</td>\n",
       "      <td>2021-01-01 03:08:25+00:00</td>\n",
       "      <td>279</td>\n",
       "      <td>National</td>\n",
       "      <td>https://www.nytimes.com/2020/12/31/us/shhh-in-...</td>\n",
       "      <td>NaN</td>\n",
       "      <td>Throughout the coronavirus pandemic, well-atte...</td>\n",
       "      <td>NaN</td>\n",
       "      <td>NaN</td>\n",
       "      <td>The New York Times</td>\n",
       "      <td>[{'rank': 0, 'subtype': 'xlarge', 'caption': N...</td>\n",
       "      <td>[]</td>\n",
       "      <td>article</td>\n",
       "      <td>U.S.</td>\n",
       "      <td>{'original': 'By Evan Nicole Brown', 'person':...</td>\n",
       "      <td>News</td>\n",
       "      <td>nyt://article/7eb8fed1-bd1f-5a31-a0c0-391e888e...</td>\n",
       "      <td>nyt://article/7eb8fed1-bd1f-5a31-a0c0-391e888e...</td>\n",
       "      <td>NaN</td>\n",
       "    </tr>\n",
       "    <tr>\n",
       "      <th>11</th>\n",
       "      <td>a highly contagious coronavirus variant first ...</td>\n",
       "      <td>florida health officials detect the state’s fi...</td>\n",
       "      <td>2021-01-01 03:44:59+00:00</td>\n",
       "      <td>265</td>\n",
       "      <td>Foreign</td>\n",
       "      <td>https://www.nytimes.com/2020/12/31/world/flori...</td>\n",
       "      <td>NaN</td>\n",
       "      <td>A highly contagious coronavirus variant first ...</td>\n",
       "      <td>NaN</td>\n",
       "      <td>NaN</td>\n",
       "      <td>The New York Times</td>\n",
       "      <td>[{'rank': 0, 'subtype': 'xlarge', 'caption': N...</td>\n",
       "      <td>[{'name': 'subject', 'value': 'internal-essent...</td>\n",
       "      <td>article</td>\n",
       "      <td>World</td>\n",
       "      <td>{'original': 'By Allyson Waller', 'person': [{...</td>\n",
       "      <td>News</td>\n",
       "      <td>nyt://article/c29df2db-63c0-5c92-b646-b4f6a09c...</td>\n",
       "      <td>nyt://article/c29df2db-63c0-5c92-b646-b4f6a09c...</td>\n",
       "      <td>NaN</td>\n",
       "    </tr>\n",
       "    <tr>\n",
       "      <th>12</th>\n",
       "      <td>the pandemic caused the cancellation of the ro...</td>\n",
       "      <td>no rose parade: southern california laments th...</td>\n",
       "      <td>2021-01-01 04:24:17+00:00</td>\n",
       "      <td>488</td>\n",
       "      <td>National</td>\n",
       "      <td>https://www.nytimes.com/2020/12/31/us/rose-par...</td>\n",
       "      <td>The pandemic caused the cancellation of the Ro...</td>\n",
       "      <td>For just about every New Year’s Day since 1958...</td>\n",
       "      <td>NaN</td>\n",
       "      <td>NaN</td>\n",
       "      <td>The New York Times</td>\n",
       "      <td>[{'rank': 0, 'subtype': 'xlarge', 'caption': N...</td>\n",
       "      <td>[]</td>\n",
       "      <td>article</td>\n",
       "      <td>U.S.</td>\n",
       "      <td>{'original': 'By Tim Arango', 'person': [{'fir...</td>\n",
       "      <td>News</td>\n",
       "      <td>nyt://article/a62f5895-53b6-560a-b388-7cc9c939...</td>\n",
       "      <td>nyt://article/a62f5895-53b6-560a-b388-7cc9c939...</td>\n",
       "      <td>NaN</td>\n",
       "    </tr>\n",
       "    <tr>\n",
       "      <th>16</th>\n",
       "      <td>with a new variant of the virus emerging elsew...</td>\n",
       "      <td>virus numbers are surging. why is new york’s v...</td>\n",
       "      <td>2021-01-01 08:00:06+00:00</td>\n",
       "      <td>1541</td>\n",
       "      <td>Metro</td>\n",
       "      <td>https://www.nytimes.com/2021/01/01/nyregion/ny...</td>\n",
       "      <td>With a new variant of the virus emerging elsew...</td>\n",
       "      <td>As the final hours ticked away in a harrowing ...</td>\n",
       "      <td>A</td>\n",
       "      <td>5.0</td>\n",
       "      <td>The New York Times</td>\n",
       "      <td>[{'rank': 0, 'subtype': 'xlarge', 'caption': N...</td>\n",
       "      <td>[{'name': 'subject', 'value': 'Coronavirus (20...</td>\n",
       "      <td>article</td>\n",
       "      <td>New York</td>\n",
       "      <td>{'original': 'By Joseph Goldstein', 'person': ...</td>\n",
       "      <td>News</td>\n",
       "      <td>nyt://article/f9171427-eed3-5031-88fa-f3ba050a...</td>\n",
       "      <td>nyt://article/f9171427-eed3-5031-88fa-f3ba050a...</td>\n",
       "      <td>NaN</td>\n",
       "    </tr>\n",
       "  </tbody>\n",
       "</table>\n",
       "</div>"
      ],
      "text/plain": [
       "                                             abstract  \\\n",
       "4   the united states recorded its 20 millionth ca...   \n",
       "7   throughout the coronavirus pandemic, well-atte...   \n",
       "11  a highly contagious coronavirus variant first ...   \n",
       "12  the pandemic caused the cancellation of the ro...   \n",
       "16  with a new variant of the virus emerging elsew...   \n",
       "\n",
       "                                             headline  \\\n",
       "4                  the u.s. reaches 20 million cases.   \n",
       "7   shhh! in los angeles, new year’s eve parties a...   \n",
       "11  florida health officials detect the state’s fi...   \n",
       "12  no rose parade: southern california laments th...   \n",
       "16  virus numbers are surging. why is new york’s v...   \n",
       "\n",
       "                    pub_date  word_count news_desk  \\\n",
       "4  2021-01-01 01:28:22+00:00         438   Foreign   \n",
       "7  2021-01-01 03:08:25+00:00         279  National   \n",
       "11 2021-01-01 03:44:59+00:00         265   Foreign   \n",
       "12 2021-01-01 04:24:17+00:00         488  National   \n",
       "16 2021-01-01 08:00:06+00:00        1541     Metro   \n",
       "\n",
       "                                              web_url  \\\n",
       "4   https://www.nytimes.com/2020/12/31/world/the-u...   \n",
       "7   https://www.nytimes.com/2020/12/31/us/shhh-in-...   \n",
       "11  https://www.nytimes.com/2020/12/31/world/flori...   \n",
       "12  https://www.nytimes.com/2020/12/31/us/rose-par...   \n",
       "16  https://www.nytimes.com/2021/01/01/nyregion/ny...   \n",
       "\n",
       "                                              snippet  \\\n",
       "4                                                 NaN   \n",
       "7                                                 NaN   \n",
       "11                                                NaN   \n",
       "12  The pandemic caused the cancellation of the Ro...   \n",
       "16  With a new variant of the virus emerging elsew...   \n",
       "\n",
       "                                       lead_paragraph print_section  \\\n",
       "4   The United States recorded its 20 millionth ca...           NaN   \n",
       "7   Throughout the coronavirus pandemic, well-atte...           NaN   \n",
       "11  A highly contagious coronavirus variant first ...           NaN   \n",
       "12  For just about every New Year’s Day since 1958...           NaN   \n",
       "16  As the final hours ticked away in a harrowing ...             A   \n",
       "\n",
       "    print_page              source  \\\n",
       "4          NaN  The New York Times   \n",
       "7          NaN  The New York Times   \n",
       "11         NaN  The New York Times   \n",
       "12         NaN  The New York Times   \n",
       "16         5.0  The New York Times   \n",
       "\n",
       "                                           multimedia  \\\n",
       "4   [{'rank': 0, 'subtype': 'xlarge', 'caption': N...   \n",
       "7   [{'rank': 0, 'subtype': 'xlarge', 'caption': N...   \n",
       "11  [{'rank': 0, 'subtype': 'xlarge', 'caption': N...   \n",
       "12  [{'rank': 0, 'subtype': 'xlarge', 'caption': N...   \n",
       "16  [{'rank': 0, 'subtype': 'xlarge', 'caption': N...   \n",
       "\n",
       "                                             keywords document_type  \\\n",
       "4   [{'name': 'subject', 'value': 'internal-essent...       article   \n",
       "7                                                  []       article   \n",
       "11  [{'name': 'subject', 'value': 'internal-essent...       article   \n",
       "12                                                 []       article   \n",
       "16  [{'name': 'subject', 'value': 'Coronavirus (20...       article   \n",
       "\n",
       "   section_name                                             byline  \\\n",
       "4         World  {'original': 'By Kate Taylor', 'person': [{'fi...   \n",
       "7          U.S.  {'original': 'By Evan Nicole Brown', 'person':...   \n",
       "11        World  {'original': 'By Allyson Waller', 'person': [{...   \n",
       "12         U.S.  {'original': 'By Tim Arango', 'person': [{'fir...   \n",
       "16     New York  {'original': 'By Joseph Goldstein', 'person': ...   \n",
       "\n",
       "   type_of_material                                                _id  \\\n",
       "4              News  nyt://article/d75205a5-201f-5dc3-b8fe-278c3d64...   \n",
       "7              News  nyt://article/7eb8fed1-bd1f-5a31-a0c0-391e888e...   \n",
       "11             News  nyt://article/c29df2db-63c0-5c92-b646-b4f6a09c...   \n",
       "12             News  nyt://article/a62f5895-53b6-560a-b388-7cc9c939...   \n",
       "16             News  nyt://article/f9171427-eed3-5031-88fa-f3ba050a...   \n",
       "\n",
       "                                                  uri subsection_name  \n",
       "4   nyt://article/d75205a5-201f-5dc3-b8fe-278c3d64...             NaN  \n",
       "7   nyt://article/7eb8fed1-bd1f-5a31-a0c0-391e888e...             NaN  \n",
       "11  nyt://article/c29df2db-63c0-5c92-b646-b4f6a09c...             NaN  \n",
       "12  nyt://article/a62f5895-53b6-560a-b388-7cc9c939...             NaN  \n",
       "16  nyt://article/f9171427-eed3-5031-88fa-f3ba050a...             NaN  "
      ]
     },
     "execution_count": 7,
     "metadata": {},
     "output_type": "execute_result"
    }
   ],
   "source": [
    "df1 = pd.read_csv('data/raw_data1.csv', parse_dates = ['pub_date'], index_col=0)\n",
    "df1.head()"
   ]
  },
  {
   "cell_type": "markdown",
   "metadata": {},
   "source": [
    "### Extracting more relevant columns for new dataframe to aid more in depth analysis"
   ]
  },
  {
   "cell_type": "code",
   "execution_count": 10,
   "metadata": {},
   "outputs": [
    {
     "data": {
      "text/html": [
       "<div>\n",
       "<style scoped>\n",
       "    .dataframe tbody tr th:only-of-type {\n",
       "        vertical-align: middle;\n",
       "    }\n",
       "\n",
       "    .dataframe tbody tr th {\n",
       "        vertical-align: top;\n",
       "    }\n",
       "\n",
       "    .dataframe thead th {\n",
       "        text-align: right;\n",
       "    }\n",
       "</style>\n",
       "<table border=\"1\" class=\"dataframe\">\n",
       "  <thead>\n",
       "    <tr style=\"text-align: right;\">\n",
       "      <th></th>\n",
       "      <th>abstract</th>\n",
       "      <th>headline</th>\n",
       "      <th>pub_date</th>\n",
       "      <th>word_count</th>\n",
       "      <th>news_desk</th>\n",
       "      <th>section_name</th>\n",
       "    </tr>\n",
       "  </thead>\n",
       "  <tbody>\n",
       "    <tr>\n",
       "      <th>4</th>\n",
       "      <td>the united states recorded its 20 millionth ca...</td>\n",
       "      <td>the u.s. reaches 20 million cases.</td>\n",
       "      <td>2021-01-01 01:28:22+00:00</td>\n",
       "      <td>438</td>\n",
       "      <td>Foreign</td>\n",
       "      <td>World</td>\n",
       "    </tr>\n",
       "    <tr>\n",
       "      <th>7</th>\n",
       "      <td>throughout the coronavirus pandemic, well-atte...</td>\n",
       "      <td>shhh! in los angeles, new year’s eve parties a...</td>\n",
       "      <td>2021-01-01 03:08:25+00:00</td>\n",
       "      <td>279</td>\n",
       "      <td>National</td>\n",
       "      <td>U.S.</td>\n",
       "    </tr>\n",
       "    <tr>\n",
       "      <th>11</th>\n",
       "      <td>a highly contagious coronavirus variant first ...</td>\n",
       "      <td>florida health officials detect the state’s fi...</td>\n",
       "      <td>2021-01-01 03:44:59+00:00</td>\n",
       "      <td>265</td>\n",
       "      <td>Foreign</td>\n",
       "      <td>World</td>\n",
       "    </tr>\n",
       "    <tr>\n",
       "      <th>12</th>\n",
       "      <td>the pandemic caused the cancellation of the ro...</td>\n",
       "      <td>no rose parade: southern california laments th...</td>\n",
       "      <td>2021-01-01 04:24:17+00:00</td>\n",
       "      <td>488</td>\n",
       "      <td>National</td>\n",
       "      <td>U.S.</td>\n",
       "    </tr>\n",
       "    <tr>\n",
       "      <th>16</th>\n",
       "      <td>with a new variant of the virus emerging elsew...</td>\n",
       "      <td>virus numbers are surging. why is new york’s v...</td>\n",
       "      <td>2021-01-01 08:00:06+00:00</td>\n",
       "      <td>1541</td>\n",
       "      <td>Metro</td>\n",
       "      <td>New York</td>\n",
       "    </tr>\n",
       "  </tbody>\n",
       "</table>\n",
       "</div>"
      ],
      "text/plain": [
       "                                             abstract  \\\n",
       "4   the united states recorded its 20 millionth ca...   \n",
       "7   throughout the coronavirus pandemic, well-atte...   \n",
       "11  a highly contagious coronavirus variant first ...   \n",
       "12  the pandemic caused the cancellation of the ro...   \n",
       "16  with a new variant of the virus emerging elsew...   \n",
       "\n",
       "                                             headline  \\\n",
       "4                  the u.s. reaches 20 million cases.   \n",
       "7   shhh! in los angeles, new year’s eve parties a...   \n",
       "11  florida health officials detect the state’s fi...   \n",
       "12  no rose parade: southern california laments th...   \n",
       "16  virus numbers are surging. why is new york’s v...   \n",
       "\n",
       "                    pub_date  word_count news_desk section_name  \n",
       "4  2021-01-01 01:28:22+00:00         438   Foreign        World  \n",
       "7  2021-01-01 03:08:25+00:00         279  National         U.S.  \n",
       "11 2021-01-01 03:44:59+00:00         265   Foreign        World  \n",
       "12 2021-01-01 04:24:17+00:00         488  National         U.S.  \n",
       "16 2021-01-01 08:00:06+00:00        1541     Metro     New York  "
      ]
     },
     "execution_count": 10,
     "metadata": {},
     "output_type": "execute_result"
    }
   ],
   "source": [
    "df3=df1.filter(['abstract','headline','pub_date','word_count','news_desk','section_name'])\n",
    "df3.head()"
   ]
  },
  {
   "cell_type": "markdown",
   "metadata": {},
   "source": [
    "### Resetting index"
   ]
  },
  {
   "cell_type": "code",
   "execution_count": 11,
   "metadata": {},
   "outputs": [],
   "source": [
    "df3.reset_index(drop=True, inplace=True)"
   ]
  },
  {
   "cell_type": "markdown",
   "metadata": {},
   "source": [
    "### Add date only column\n"
   ]
  },
  {
   "cell_type": "code",
   "execution_count": 12,
   "metadata": {
    "scrolled": true
   },
   "outputs": [
    {
     "data": {
      "text/html": [
       "<div>\n",
       "<style scoped>\n",
       "    .dataframe tbody tr th:only-of-type {\n",
       "        vertical-align: middle;\n",
       "    }\n",
       "\n",
       "    .dataframe tbody tr th {\n",
       "        vertical-align: top;\n",
       "    }\n",
       "\n",
       "    .dataframe thead th {\n",
       "        text-align: right;\n",
       "    }\n",
       "</style>\n",
       "<table border=\"1\" class=\"dataframe\">\n",
       "  <thead>\n",
       "    <tr style=\"text-align: right;\">\n",
       "      <th></th>\n",
       "      <th>abstract</th>\n",
       "      <th>headline</th>\n",
       "      <th>pub_date</th>\n",
       "      <th>word_count</th>\n",
       "      <th>news_desk</th>\n",
       "      <th>section_name</th>\n",
       "      <th>date_only</th>\n",
       "    </tr>\n",
       "  </thead>\n",
       "  <tbody>\n",
       "    <tr>\n",
       "      <th>0</th>\n",
       "      <td>the united states recorded its 20 millionth ca...</td>\n",
       "      <td>the u.s. reaches 20 million cases.</td>\n",
       "      <td>2021-01-01 01:28:22+00:00</td>\n",
       "      <td>438</td>\n",
       "      <td>Foreign</td>\n",
       "      <td>World</td>\n",
       "      <td>2021-01-01</td>\n",
       "    </tr>\n",
       "    <tr>\n",
       "      <th>1</th>\n",
       "      <td>throughout the coronavirus pandemic, well-atte...</td>\n",
       "      <td>shhh! in los angeles, new year’s eve parties a...</td>\n",
       "      <td>2021-01-01 03:08:25+00:00</td>\n",
       "      <td>279</td>\n",
       "      <td>National</td>\n",
       "      <td>U.S.</td>\n",
       "      <td>2021-01-01</td>\n",
       "    </tr>\n",
       "    <tr>\n",
       "      <th>2</th>\n",
       "      <td>a highly contagious coronavirus variant first ...</td>\n",
       "      <td>florida health officials detect the state’s fi...</td>\n",
       "      <td>2021-01-01 03:44:59+00:00</td>\n",
       "      <td>265</td>\n",
       "      <td>Foreign</td>\n",
       "      <td>World</td>\n",
       "      <td>2021-01-01</td>\n",
       "    </tr>\n",
       "    <tr>\n",
       "      <th>3</th>\n",
       "      <td>the pandemic caused the cancellation of the ro...</td>\n",
       "      <td>no rose parade: southern california laments th...</td>\n",
       "      <td>2021-01-01 04:24:17+00:00</td>\n",
       "      <td>488</td>\n",
       "      <td>National</td>\n",
       "      <td>U.S.</td>\n",
       "      <td>2021-01-01</td>\n",
       "    </tr>\n",
       "    <tr>\n",
       "      <th>4</th>\n",
       "      <td>with a new variant of the virus emerging elsew...</td>\n",
       "      <td>virus numbers are surging. why is new york’s v...</td>\n",
       "      <td>2021-01-01 08:00:06+00:00</td>\n",
       "      <td>1541</td>\n",
       "      <td>Metro</td>\n",
       "      <td>New York</td>\n",
       "      <td>2021-01-01</td>\n",
       "    </tr>\n",
       "  </tbody>\n",
       "</table>\n",
       "</div>"
      ],
      "text/plain": [
       "                                            abstract  \\\n",
       "0  the united states recorded its 20 millionth ca...   \n",
       "1  throughout the coronavirus pandemic, well-atte...   \n",
       "2  a highly contagious coronavirus variant first ...   \n",
       "3  the pandemic caused the cancellation of the ro...   \n",
       "4  with a new variant of the virus emerging elsew...   \n",
       "\n",
       "                                            headline  \\\n",
       "0                 the u.s. reaches 20 million cases.   \n",
       "1  shhh! in los angeles, new year’s eve parties a...   \n",
       "2  florida health officials detect the state’s fi...   \n",
       "3  no rose parade: southern california laments th...   \n",
       "4  virus numbers are surging. why is new york’s v...   \n",
       "\n",
       "                   pub_date  word_count news_desk section_name  date_only  \n",
       "0 2021-01-01 01:28:22+00:00         438   Foreign        World 2021-01-01  \n",
       "1 2021-01-01 03:08:25+00:00         279  National         U.S. 2021-01-01  \n",
       "2 2021-01-01 03:44:59+00:00         265   Foreign        World 2021-01-01  \n",
       "3 2021-01-01 04:24:17+00:00         488  National         U.S. 2021-01-01  \n",
       "4 2021-01-01 08:00:06+00:00        1541     Metro     New York 2021-01-01  "
      ]
     },
     "execution_count": 12,
     "metadata": {},
     "output_type": "execute_result"
    }
   ],
   "source": [
    "df3['date_only']= pd.to_datetime(df3['pub_date']).dt.date\n",
    "df3['date_only']=pd.to_datetime(df3['date_only'])\n",
    "df3.head()"
   ]
  },
  {
   "cell_type": "markdown",
   "metadata": {},
   "source": [
    "### Using textblob to analyse polarity and subjectivity of abstract and headline¶"
   ]
  },
  {
   "cell_type": "code",
   "execution_count": 15,
   "metadata": {},
   "outputs": [
    {
     "data": {
      "text/html": [
       "<div>\n",
       "<style scoped>\n",
       "    .dataframe tbody tr th:only-of-type {\n",
       "        vertical-align: middle;\n",
       "    }\n",
       "\n",
       "    .dataframe tbody tr th {\n",
       "        vertical-align: top;\n",
       "    }\n",
       "\n",
       "    .dataframe thead th {\n",
       "        text-align: right;\n",
       "    }\n",
       "</style>\n",
       "<table border=\"1\" class=\"dataframe\">\n",
       "  <thead>\n",
       "    <tr style=\"text-align: right;\">\n",
       "      <th></th>\n",
       "      <th>abstract</th>\n",
       "      <th>headline</th>\n",
       "      <th>pub_date</th>\n",
       "      <th>word_count</th>\n",
       "      <th>news_desk</th>\n",
       "      <th>section_name</th>\n",
       "      <th>date_only</th>\n",
       "      <th>Abstract Polarity</th>\n",
       "      <th>Abstract Subjectivity</th>\n",
       "      <th>Headline Polarity</th>\n",
       "      <th>Headline Subjectivity</th>\n",
       "    </tr>\n",
       "  </thead>\n",
       "  <tbody>\n",
       "    <tr>\n",
       "      <th>0</th>\n",
       "      <td>the united states recorded its 20 millionth ca...</td>\n",
       "      <td>the u.s. reaches 20 million cases.</td>\n",
       "      <td>2021-01-01 01:28:22+00:00</td>\n",
       "      <td>438</td>\n",
       "      <td>Foreign</td>\n",
       "      <td>World</td>\n",
       "      <td>2021-01-01</td>\n",
       "      <td>-0.107576</td>\n",
       "      <td>0.613636</td>\n",
       "      <td>0.000000</td>\n",
       "      <td>0.000000</td>\n",
       "    </tr>\n",
       "    <tr>\n",
       "      <th>1</th>\n",
       "      <td>throughout the coronavirus pandemic, well-atte...</td>\n",
       "      <td>shhh! in los angeles, new year’s eve parties a...</td>\n",
       "      <td>2021-01-01 03:08:25+00:00</td>\n",
       "      <td>279</td>\n",
       "      <td>National</td>\n",
       "      <td>U.S.</td>\n",
       "      <td>2021-01-01</td>\n",
       "      <td>0.125926</td>\n",
       "      <td>0.285185</td>\n",
       "      <td>0.136364</td>\n",
       "      <td>0.454545</td>\n",
       "    </tr>\n",
       "    <tr>\n",
       "      <th>2</th>\n",
       "      <td>a highly contagious coronavirus variant first ...</td>\n",
       "      <td>florida health officials detect the state’s fi...</td>\n",
       "      <td>2021-01-01 03:44:59+00:00</td>\n",
       "      <td>265</td>\n",
       "      <td>Foreign</td>\n",
       "      <td>World</td>\n",
       "      <td>2021-01-01</td>\n",
       "      <td>0.205000</td>\n",
       "      <td>0.436667</td>\n",
       "      <td>0.250000</td>\n",
       "      <td>0.333333</td>\n",
       "    </tr>\n",
       "    <tr>\n",
       "      <th>3</th>\n",
       "      <td>the pandemic caused the cancellation of the ro...</td>\n",
       "      <td>no rose parade: southern california laments th...</td>\n",
       "      <td>2021-01-01 04:24:17+00:00</td>\n",
       "      <td>488</td>\n",
       "      <td>National</td>\n",
       "      <td>U.S.</td>\n",
       "      <td>2021-01-01</td>\n",
       "      <td>0.200000</td>\n",
       "      <td>0.505556</td>\n",
       "      <td>-0.183333</td>\n",
       "      <td>0.394444</td>\n",
       "    </tr>\n",
       "    <tr>\n",
       "      <th>4</th>\n",
       "      <td>with a new variant of the virus emerging elsew...</td>\n",
       "      <td>virus numbers are surging. why is new york’s v...</td>\n",
       "      <td>2021-01-01 08:00:06+00:00</td>\n",
       "      <td>1541</td>\n",
       "      <td>Metro</td>\n",
       "      <td>New York</td>\n",
       "      <td>2021-01-01</td>\n",
       "      <td>0.117677</td>\n",
       "      <td>0.734848</td>\n",
       "      <td>0.136364</td>\n",
       "      <td>0.454545</td>\n",
       "    </tr>\n",
       "  </tbody>\n",
       "</table>\n",
       "</div>"
      ],
      "text/plain": [
       "                                            abstract  \\\n",
       "0  the united states recorded its 20 millionth ca...   \n",
       "1  throughout the coronavirus pandemic, well-atte...   \n",
       "2  a highly contagious coronavirus variant first ...   \n",
       "3  the pandemic caused the cancellation of the ro...   \n",
       "4  with a new variant of the virus emerging elsew...   \n",
       "\n",
       "                                            headline  \\\n",
       "0                 the u.s. reaches 20 million cases.   \n",
       "1  shhh! in los angeles, new year’s eve parties a...   \n",
       "2  florida health officials detect the state’s fi...   \n",
       "3  no rose parade: southern california laments th...   \n",
       "4  virus numbers are surging. why is new york’s v...   \n",
       "\n",
       "                   pub_date  word_count news_desk section_name  date_only  \\\n",
       "0 2021-01-01 01:28:22+00:00         438   Foreign        World 2021-01-01   \n",
       "1 2021-01-01 03:08:25+00:00         279  National         U.S. 2021-01-01   \n",
       "2 2021-01-01 03:44:59+00:00         265   Foreign        World 2021-01-01   \n",
       "3 2021-01-01 04:24:17+00:00         488  National         U.S. 2021-01-01   \n",
       "4 2021-01-01 08:00:06+00:00        1541     Metro     New York 2021-01-01   \n",
       "\n",
       "   Abstract Polarity  Abstract Subjectivity  Headline Polarity  \\\n",
       "0          -0.107576               0.613636           0.000000   \n",
       "1           0.125926               0.285185           0.136364   \n",
       "2           0.205000               0.436667           0.250000   \n",
       "3           0.200000               0.505556          -0.183333   \n",
       "4           0.117677               0.734848           0.136364   \n",
       "\n",
       "   Headline Subjectivity  \n",
       "0               0.000000  \n",
       "1               0.454545  \n",
       "2               0.333333  \n",
       "3               0.394444  \n",
       "4               0.454545  "
      ]
     },
     "execution_count": 15,
     "metadata": {},
     "output_type": "execute_result"
    }
   ],
   "source": [
    "polarity=lambda x: TextBlob(x).sentiment.polarity\n",
    "subjectivity=lambda x: TextBlob(x).sentiment.subjectivity\n",
    "df3['Abstract Polarity']=df3['abstract'].apply(polarity)\n",
    "df3['Abstract Subjectivity']=df3['abstract'].apply(subjectivity)\n",
    "df3['Headline Polarity']=df3['headline'].apply(polarity)\n",
    "df3['Headline Subjectivity']=df3['headline'].apply(subjectivity)\n",
    "df3.head()"
   ]
  },
  {
   "cell_type": "markdown",
   "metadata": {},
   "source": [
    "### Checking for null values"
   ]
  },
  {
   "cell_type": "code",
   "execution_count": 17,
   "metadata": {},
   "outputs": [
    {
     "data": {
      "text/plain": [
       "abstract                   0\n",
       "headline                   0\n",
       "pub_date                   0\n",
       "word_count                 0\n",
       "news_desk                242\n",
       "section_name              45\n",
       "date_only                  0\n",
       "Abstract Polarity          0\n",
       "Abstract Subjectivity      0\n",
       "Headline Polarity          0\n",
       "Headline Subjectivity      0\n",
       "dtype: int64"
      ]
     },
     "execution_count": 17,
     "metadata": {},
     "output_type": "execute_result"
    }
   ],
   "source": [
    "df3.isnull().sum()"
   ]
  },
  {
   "cell_type": "markdown",
   "metadata": {},
   "source": [
    "### Creating new dataframe df1 which drops all null values from df"
   ]
  },
  {
   "cell_type": "code",
   "execution_count": 18,
   "metadata": {
    "scrolled": true
   },
   "outputs": [
    {
     "data": {
      "text/plain": [
       "abstract                 0\n",
       "headline                 0\n",
       "pub_date                 0\n",
       "word_count               0\n",
       "news_desk                0\n",
       "section_name             0\n",
       "date_only                0\n",
       "Abstract Polarity        0\n",
       "Abstract Subjectivity    0\n",
       "Headline Polarity        0\n",
       "Headline Subjectivity    0\n",
       "dtype: int64"
      ]
     },
     "execution_count": 18,
     "metadata": {},
     "output_type": "execute_result"
    }
   ],
   "source": [
    "df_new = df3.dropna(axis=0)\n",
    "df_new.isnull().sum()"
   ]
  },
  {
   "cell_type": "markdown",
   "metadata": {},
   "source": [
    "### Plotting sentiment analysis data"
   ]
  },
  {
   "cell_type": "code",
   "execution_count": 22,
   "metadata": {},
   "outputs": [
    {
     "name": "stderr",
     "output_type": "stream",
     "text": [
      "/Users/ruijin/opt/anaconda3/lib/python3.8/site-packages/seaborn/distributions.py:2551: FutureWarning: `distplot` is a deprecated function and will be removed in a future version. Please adapt your code to use either `displot` (a figure-level function with similar flexibility) or `histplot` (an axes-level function for histograms).\n",
      "  warnings.warn(msg, FutureWarning)\n"
     ]
    },
    {
     "data": {
      "text/plain": [
       "<matplotlib.legend.Legend at 0x7fd7386f9190>"
      ]
     },
     "execution_count": 22,
     "metadata": {},
     "output_type": "execute_result"
    },
    {
     "data": {
      "image/png": "[encoded data removed]",
      "text/plain": [
       "<Figure size 576x432 with 1 Axes>"
      ]
     },
     "metadata": {
      "needs_background": "light"
     },
     "output_type": "display_data"
    }
   ],
   "source": [
    "plt.figure(figsize=(8,6))\n",
    "sns.distplot(a=df_new['Abstract Subjectivity'],label=\"abstract subjectivity\", kde=False)\n",
    "sns.distplot(a=df_new['Headline Subjectivity'],label=\"headline subjectivity\", kde=False)\n",
    "plt.title('Histogram of headline and abstract subjectivity')\n",
    "plt.legend()"
   ]
  },
  {
   "cell_type": "markdown",
   "metadata": {},
   "source": [
    "#### Plot 1 result interpretation : the headlines in New York Times are more objective than the astract. Headline subjectivity is unimodal, with one peak at 0.0 (very objective), while abstract subjectivity is multi-modal, with two peaks one at 0.0 and another around 0.9 (very subjective)"
   ]
  },
  {
   "cell_type": "markdown",
   "metadata": {},
   "source": [
    "### Plot2: Histogram of headline and abstract polarity"
   ]
  },
  {
   "cell_type": "code",
   "execution_count": 23,
   "metadata": {
    "scrolled": true
   },
   "outputs": [
    {
     "data": {
      "text/plain": [
       "<matplotlib.legend.Legend at 0x7fd738765820>"
      ]
     },
     "execution_count": 23,
     "metadata": {},
     "output_type": "execute_result"
    },
    {
     "data": {
      "image/png": "[encoded data removed]",
      "text/plain": [
       "<Figure size 576x360 with 1 Axes>"
      ]
     },
     "metadata": {
      "needs_background": "light"
     },
     "output_type": "display_data"
    }
   ],
   "source": [
    "plt.figure(figsize=(8,5))\n",
    "sns.distplot(a=df_new['Abstract Polarity'],label=\"abstract polarity\", kde=False)\n",
    "sns.distplot(a=df_new['Headline Polarity'],label=\"headline polarity\", kde=False)\n",
    "plt.title('Histogram of headline and abstract polarity')\n",
    "plt.legend()"
   ]
  },
  {
   "cell_type": "markdown",
   "metadata": {},
   "source": [
    "#### Histogram result interpretation: headline polarity has a single mode, at 0.00,which is neutral polarity. While abstract polarity is multi-modal, peaking at 0.00 and 0.50. Therefore, abstract polarity tends to contain more positive sentiment when compared to the headline. "
   ]
  },
  {
   "cell_type": "markdown",
   "metadata": {},
   "source": [
    "### Addings month and day of week columns to dataframe to find patterns in sentiment throughout the different months and days of weeks"
   ]
  },
  {
   "cell_type": "code",
   "execution_count": 24,
   "metadata": {
    "scrolled": false
   },
   "outputs": [
    {
     "name": "stderr",
     "output_type": "stream",
     "text": [
      "<ipython-input-24-50116ae8554a>:1: SettingWithCopyWarning: \n",
      "A value is trying to be set on a copy of a slice from a DataFrame.\n",
      "Try using .loc[row_indexer,col_indexer] = value instead\n",
      "\n",
      "See the caveats in the documentation: https://pandas.pydata.org/pandas-docs/stable/user_guide/indexing.html#returning-a-view-versus-a-copy\n",
      "  df_new['month'] = pd.DatetimeIndex(df_new['date_only']).month\n",
      "<ipython-input-24-50116ae8554a>:2: SettingWithCopyWarning: \n",
      "A value is trying to be set on a copy of a slice from a DataFrame.\n",
      "Try using .loc[row_indexer,col_indexer] = value instead\n",
      "\n",
      "See the caveats in the documentation: https://pandas.pydata.org/pandas-docs/stable/user_guide/indexing.html#returning-a-view-versus-a-copy\n",
      "  df_new['day_of_week']=df_new['date_only'].dt.day_name()\n"
     ]
    },
    {
     "data": {
      "text/html": [
       "<div>\n",
       "<style scoped>\n",
       "    .dataframe tbody tr th:only-of-type {\n",
       "        vertical-align: middle;\n",
       "    }\n",
       "\n",
       "    .dataframe tbody tr th {\n",
       "        vertical-align: top;\n",
       "    }\n",
       "\n",
       "    .dataframe thead th {\n",
       "        text-align: right;\n",
       "    }\n",
       "</style>\n",
       "<table border=\"1\" class=\"dataframe\">\n",
       "  <thead>\n",
       "    <tr style=\"text-align: right;\">\n",
       "      <th></th>\n",
       "      <th>abstract</th>\n",
       "      <th>headline</th>\n",
       "      <th>pub_date</th>\n",
       "      <th>word_count</th>\n",
       "      <th>news_desk</th>\n",
       "      <th>section_name</th>\n",
       "      <th>date_only</th>\n",
       "      <th>Abstract Polarity</th>\n",
       "      <th>Abstract Subjectivity</th>\n",
       "      <th>Headline Polarity</th>\n",
       "      <th>Headline Subjectivity</th>\n",
       "      <th>month</th>\n",
       "      <th>day_of_week</th>\n",
       "    </tr>\n",
       "  </thead>\n",
       "  <tbody>\n",
       "    <tr>\n",
       "      <th>7951</th>\n",
       "      <td>slowed but not stopped by the pandemic, wilson...</td>\n",
       "      <td>at 80, robert wilson holds on to a singular vi...</td>\n",
       "      <td>2021-11-30 16:14:32+00:00</td>\n",
       "      <td>1231</td>\n",
       "      <td>Culture</td>\n",
       "      <td>Arts</td>\n",
       "      <td>2021-11-30</td>\n",
       "      <td>0.100000</td>\n",
       "      <td>0.300000</td>\n",
       "      <td>0.0</td>\n",
       "      <td>0.0</td>\n",
       "      <td>11</td>\n",
       "      <td>Tuesday</td>\n",
       "    </tr>\n",
       "    <tr>\n",
       "      <th>7952</th>\n",
       "      <td>intense research into the new coronavirus vari...</td>\n",
       "      <td>omicron: what is known — and still unknown</td>\n",
       "      <td>2021-11-30 17:08:17+00:00</td>\n",
       "      <td>1331</td>\n",
       "      <td>Science</td>\n",
       "      <td>Health</td>\n",
       "      <td>2021-11-30</td>\n",
       "      <td>0.146591</td>\n",
       "      <td>0.446970</td>\n",
       "      <td>-0.1</td>\n",
       "      <td>0.6</td>\n",
       "      <td>11</td>\n",
       "      <td>Tuesday</td>\n",
       "    </tr>\n",
       "    <tr>\n",
       "      <th>7953</th>\n",
       "      <td>britain’s approach to coronavirus-related rest...</td>\n",
       "      <td>amid variant fears, u.k. discovers limits to i...</td>\n",
       "      <td>2021-11-30 18:14:44+00:00</td>\n",
       "      <td>1219</td>\n",
       "      <td>Foreign</td>\n",
       "      <td>World</td>\n",
       "      <td>2021-11-30</td>\n",
       "      <td>-0.008333</td>\n",
       "      <td>0.158333</td>\n",
       "      <td>0.0</td>\n",
       "      <td>0.0</td>\n",
       "      <td>11</td>\n",
       "      <td>Tuesday</td>\n",
       "    </tr>\n",
       "    <tr>\n",
       "      <th>7954</th>\n",
       "      <td>unlike alpha, beta and delta, the name of the ...</td>\n",
       "      <td>how do you say ‘omicron’?</td>\n",
       "      <td>2021-11-30 18:51:06+00:00</td>\n",
       "      <td>287</td>\n",
       "      <td>Express</td>\n",
       "      <td>World</td>\n",
       "      <td>2021-11-30</td>\n",
       "      <td>0.291667</td>\n",
       "      <td>0.425000</td>\n",
       "      <td>0.0</td>\n",
       "      <td>0.0</td>\n",
       "      <td>11</td>\n",
       "      <td>Tuesday</td>\n",
       "    </tr>\n",
       "    <tr>\n",
       "      <th>7955</th>\n",
       "      <td>the centers for disease control and prevention...</td>\n",
       "      <td>federal health officials say that they are exp...</td>\n",
       "      <td>2021-11-30 19:34:18+00:00</td>\n",
       "      <td>619</td>\n",
       "      <td>Washington</td>\n",
       "      <td>U.S.</td>\n",
       "      <td>2021-11-30</td>\n",
       "      <td>-0.016667</td>\n",
       "      <td>0.800000</td>\n",
       "      <td>0.0</td>\n",
       "      <td>0.0</td>\n",
       "      <td>11</td>\n",
       "      <td>Tuesday</td>\n",
       "    </tr>\n",
       "  </tbody>\n",
       "</table>\n",
       "</div>"
      ],
      "text/plain": [
       "                                               abstract  \\\n",
       "7951  slowed but not stopped by the pandemic, wilson...   \n",
       "7952  intense research into the new coronavirus vari...   \n",
       "7953  britain’s approach to coronavirus-related rest...   \n",
       "7954  unlike alpha, beta and delta, the name of the ...   \n",
       "7955  the centers for disease control and prevention...   \n",
       "\n",
       "                                               headline  \\\n",
       "7951  at 80, robert wilson holds on to a singular vi...   \n",
       "7952         omicron: what is known — and still unknown   \n",
       "7953  amid variant fears, u.k. discovers limits to i...   \n",
       "7954                          how do you say ‘omicron’?   \n",
       "7955  federal health officials say that they are exp...   \n",
       "\n",
       "                      pub_date  word_count   news_desk section_name  \\\n",
       "7951 2021-11-30 16:14:32+00:00        1231     Culture         Arts   \n",
       "7952 2021-11-30 17:08:17+00:00        1331     Science       Health   \n",
       "7953 2021-11-30 18:14:44+00:00        1219     Foreign        World   \n",
       "7954 2021-11-30 18:51:06+00:00         287     Express        World   \n",
       "7955 2021-11-30 19:34:18+00:00         619  Washington         U.S.   \n",
       "\n",
       "      date_only  Abstract Polarity  Abstract Subjectivity  Headline Polarity  \\\n",
       "7951 2021-11-30           0.100000               0.300000                0.0   \n",
       "7952 2021-11-30           0.146591               0.446970               -0.1   \n",
       "7953 2021-11-30          -0.008333               0.158333                0.0   \n",
       "7954 2021-11-30           0.291667               0.425000                0.0   \n",
       "7955 2021-11-30          -0.016667               0.800000                0.0   \n",
       "\n",
       "      Headline Subjectivity  month day_of_week  \n",
       "7951                    0.0     11     Tuesday  \n",
       "7952                    0.6     11     Tuesday  \n",
       "7953                    0.0     11     Tuesday  \n",
       "7954                    0.0     11     Tuesday  \n",
       "7955                    0.0     11     Tuesday  "
      ]
     },
     "execution_count": 24,
     "metadata": {},
     "output_type": "execute_result"
    }
   ],
   "source": [
    "df_new['month'] = pd.DatetimeIndex(df_new['date_only']).month\n",
    "df_new['day_of_week']=df_new['date_only'].dt.day_name()\n",
    "df_new.tail()"
   ]
  },
  {
   "cell_type": "markdown",
   "metadata": {},
   "source": [
    "### plotting subjectivity using month and day of week columns"
   ]
  },
  {
   "cell_type": "markdown",
   "metadata": {},
   "source": [
    "### Barcharts of headline and abstract subjectivity for each month"
   ]
  },
  {
   "cell_type": "code",
   "execution_count": 40,
   "metadata": {
    "scrolled": true
   },
   "outputs": [
    {
     "data": {
      "text/plain": [
       "Text(0, 0.5, 'Mean abstract subjectivity')"
      ]
     },
     "execution_count": 40,
     "metadata": {},
     "output_type": "execute_result"
    },
    {
     "data": {
      "image/png": "[encoded data removed]",
      "text/plain": [
       "<Figure size 1008x432 with 2 Axes>"
      ]
     },
     "metadata": {},
     "output_type": "display_data"
    }
   ],
   "source": [
    "plt.figure(figsize=(14,6))\n",
    "plt.subplot(1,2,1)\n",
    "sns.set_theme(style=\"whitegrid\")\n",
    "plt.title('Average headline subjectivity per month in 2021')\n",
    "sns.barplot(x=df_new['month'],y=df_new['Headline Subjectivity'])\n",
    "plt.ylabel('Mean headline subjectivity')\n",
    "\n",
    "plt.subplot(1,2,2)\n",
    "sns.set_theme(style=\"whitegrid\")\n",
    "plt.title('Average abstract subjectivity per month in 2021')\n",
    "sns.barplot(x=df_new['month'],y=df_new['Abstract Subjectivity'])\n",
    "plt.ylabel('Mean abstract subjectivity')"
   ]
  },
  {
   "cell_type": "markdown",
   "metadata": {},
   "source": [
    "#### Interpretation of chart: headline and abstract subjectivity tends to be constant throughout different months of the year, which is fairly objective\n",
    "\n",
    "#### Only outlier is january, which is extremely objective at below 0.10"
   ]
  },
  {
   "cell_type": "markdown",
   "metadata": {},
   "source": [
    "### Identifying source of outlier, counting the number of data points per month"
   ]
  },
  {
   "cell_type": "code",
   "execution_count": 28,
   "metadata": {
    "scrolled": true
   },
   "outputs": [
    {
     "data": {
      "text/plain": [
       "month\n",
       "1     2600\n",
       "2      595\n",
       "3      679\n",
       "4      600\n",
       "5      534\n",
       "6      443\n",
       "7      503\n",
       "8      487\n",
       "9      433\n",
       "10     384\n",
       "11     411\n",
       "dtype: int64"
      ]
     },
     "execution_count": 28,
     "metadata": {},
     "output_type": "execute_result"
    }
   ],
   "source": [
    "monthly_count=df_new.groupby('month').size()\n",
    "monthly_count"
   ]
  },
  {
   "cell_type": "markdown",
   "metadata": {},
   "source": [
    "#### When we do a count on the number of data points per month we see there are 2600 data points for January which is far higher than all other months.This could be a reason for January's subjectivity being an outlier"
   ]
  },
  {
   "cell_type": "markdown",
   "metadata": {},
   "source": [
    "### Barchart of headline and abstract subjectivity for days of week"
   ]
  },
  {
   "cell_type": "code",
   "execution_count": 39,
   "metadata": {
    "scrolled": true
   },
   "outputs": [
    {
     "data": {
      "text/plain": [
       "Text(0, 0.5, 'Mean abstract subjectivity')"
      ]
     },
     "execution_count": 39,
     "metadata": {},
     "output_type": "execute_result"
    },
    {
     "data": {
      "image/png": "[encoded data removed]",
      "text/plain": [
       "<Figure size 1008x432 with 2 Axes>"
      ]
     },
     "metadata": {},
     "output_type": "display_data"
    }
   ],
   "source": [
    "plt.figure(figsize=(14,6))\n",
    "plt.subplot(1,2,1)\n",
    "sns.set_theme(style=\"whitegrid\")\n",
    "plt.title('Average headline subjectivity for day of week 2021')\n",
    "order = [\"Monday\", \"Tuesday\", \"Wednesday\", \"Thursday\", \"Friday\", \"Saturday\",\"Sunday\"]\n",
    "sns.barplot(x=df_new['day_of_week'],y=df_new['Headline Subjectivity'], order=order )\n",
    "plt.ylabel('Mean headline subjectivity')\n",
    "\n",
    "plt.subplot(1,2,2)\n",
    "sns.set_theme(style=\"whitegrid\")\n",
    "plt.title('Average abstract for day of week in 2021')\n",
    "order = [\"Monday\", \"Tuesday\", \"Wednesday\", \"Thursday\", \"Friday\", \"Saturday\",\"Sunday\"]\n",
    "sns.barplot(x=df_new['day_of_week'],y=df_new['Abstract Subjectivity'],order=order)\n",
    "plt.ylabel('Mean abstract subjectivity')"
   ]
  },
  {
   "cell_type": "markdown",
   "metadata": {},
   "source": [
    "#### Wednesday seems to be the outlier here, while the subjectivity is fairly consistent throughout the rest of the days of the week"
   ]
  },
  {
   "cell_type": "markdown",
   "metadata": {},
   "source": [
    "### Counting the number of data points for each day of week"
   ]
  },
  {
   "cell_type": "code",
   "execution_count": 41,
   "metadata": {
    "scrolled": true
   },
   "outputs": [
    {
     "data": {
      "text/plain": [
       "day_of_week\n",
       "Friday       1154\n",
       "Monday        832\n",
       "Saturday      419\n",
       "Sunday        388\n",
       "Thursday     1047\n",
       "Tuesday       958\n",
       "Wednesday    2871\n",
       "dtype: int64"
      ]
     },
     "execution_count": 41,
     "metadata": {},
     "output_type": "execute_result"
    }
   ],
   "source": [
    "weekly_count = df_new.groupby('day_of_week').size()\n",
    "weekly_count"
   ]
  },
  {
   "cell_type": "markdown",
   "metadata": {},
   "source": [
    "#### Similar to do we did a count by month, when calling a weekly count, we see that Wednesday has significantly more data points compared to all other days of the week. This could be the reason why Wednesday is an outlier in our subjectivity plots. "
   ]
  },
  {
   "cell_type": "markdown",
   "metadata": {},
   "source": [
    "### Plotting sentiment data in relation to news desk and section names to see if sentiment varies depending on the which section of the media outlet it is covered"
   ]
  },
  {
   "cell_type": "markdown",
   "metadata": {},
   "source": [
    "### Getting the top 10 'news desks' from our dataframe which contains COVID related coverage"
   ]
  },
  {
   "cell_type": "code",
   "execution_count": 43,
   "metadata": {},
   "outputs": [
    {
     "data": {
      "text/plain": [
       "U.S.          2001\n",
       "Foreign       1248\n",
       "Business       469\n",
       "National       402\n",
       "Washington     373\n",
       "Science        362\n",
       "Metro          270\n",
       "OpEd           249\n",
       "NYTNow         234\n",
       "Culture        210\n",
       "Name: news_desk, dtype: int64"
      ]
     },
     "execution_count": 43,
     "metadata": {},
     "output_type": "execute_result"
    }
   ],
   "source": [
    "top_10_news_desk = df_new['news_desk'].value_counts().head(10)\n",
    "top_10_news_desk"
   ]
  },
  {
   "cell_type": "markdown",
   "metadata": {},
   "source": [
    "### Creating new dataframe with top 10 news desks"
   ]
  },
  {
   "cell_type": "code",
   "execution_count": 46,
   "metadata": {},
   "outputs": [
    {
     "data": {
      "text/plain": [
       "(5818, 13)"
      ]
     },
     "execution_count": 46,
     "metadata": {},
     "output_type": "execute_result"
    }
   ],
   "source": [
    "top_10_news_desks = ['U.S.','Foreign','Business','National','Washington','Science','Metro','OpEd','NYTNow','Culture']\n",
    "top_10_news_desks_df = df_new[df_new.news_desk.isin(top_10_news_desks)]\n",
    "top_10_news_desks_df.shape"
   ]
  },
  {
   "cell_type": "code",
   "execution_count": 47,
   "metadata": {},
   "outputs": [
    {
     "data": {
      "text/html": [
       "<div>\n",
       "<style scoped>\n",
       "    .dataframe tbody tr th:only-of-type {\n",
       "        vertical-align: middle;\n",
       "    }\n",
       "\n",
       "    .dataframe tbody tr th {\n",
       "        vertical-align: top;\n",
       "    }\n",
       "\n",
       "    .dataframe thead th {\n",
       "        text-align: right;\n",
       "    }\n",
       "</style>\n",
       "<table border=\"1\" class=\"dataframe\">\n",
       "  <thead>\n",
       "    <tr style=\"text-align: right;\">\n",
       "      <th></th>\n",
       "      <th>abstract</th>\n",
       "      <th>headline</th>\n",
       "      <th>pub_date</th>\n",
       "      <th>word_count</th>\n",
       "      <th>news_desk</th>\n",
       "      <th>section_name</th>\n",
       "      <th>date_only</th>\n",
       "      <th>Abstract Polarity</th>\n",
       "      <th>Abstract Subjectivity</th>\n",
       "      <th>Headline Polarity</th>\n",
       "      <th>Headline Subjectivity</th>\n",
       "      <th>month</th>\n",
       "      <th>day_of_week</th>\n",
       "    </tr>\n",
       "  </thead>\n",
       "  <tbody>\n",
       "    <tr>\n",
       "      <th>0</th>\n",
       "      <td>the united states recorded its 20 millionth ca...</td>\n",
       "      <td>the u.s. reaches 20 million cases.</td>\n",
       "      <td>2021-01-01 01:28:22+00:00</td>\n",
       "      <td>438</td>\n",
       "      <td>Foreign</td>\n",
       "      <td>World</td>\n",
       "      <td>2021-01-01</td>\n",
       "      <td>-0.107576</td>\n",
       "      <td>0.613636</td>\n",
       "      <td>0.000000</td>\n",
       "      <td>0.000000</td>\n",
       "      <td>1</td>\n",
       "      <td>Friday</td>\n",
       "    </tr>\n",
       "    <tr>\n",
       "      <th>1</th>\n",
       "      <td>throughout the coronavirus pandemic, well-atte...</td>\n",
       "      <td>shhh! in los angeles, new year’s eve parties a...</td>\n",
       "      <td>2021-01-01 03:08:25+00:00</td>\n",
       "      <td>279</td>\n",
       "      <td>National</td>\n",
       "      <td>U.S.</td>\n",
       "      <td>2021-01-01</td>\n",
       "      <td>0.125926</td>\n",
       "      <td>0.285185</td>\n",
       "      <td>0.136364</td>\n",
       "      <td>0.454545</td>\n",
       "      <td>1</td>\n",
       "      <td>Friday</td>\n",
       "    </tr>\n",
       "    <tr>\n",
       "      <th>2</th>\n",
       "      <td>a highly contagious coronavirus variant first ...</td>\n",
       "      <td>florida health officials detect the state’s fi...</td>\n",
       "      <td>2021-01-01 03:44:59+00:00</td>\n",
       "      <td>265</td>\n",
       "      <td>Foreign</td>\n",
       "      <td>World</td>\n",
       "      <td>2021-01-01</td>\n",
       "      <td>0.205000</td>\n",
       "      <td>0.436667</td>\n",
       "      <td>0.250000</td>\n",
       "      <td>0.333333</td>\n",
       "      <td>1</td>\n",
       "      <td>Friday</td>\n",
       "    </tr>\n",
       "    <tr>\n",
       "      <th>3</th>\n",
       "      <td>the pandemic caused the cancellation of the ro...</td>\n",
       "      <td>no rose parade: southern california laments th...</td>\n",
       "      <td>2021-01-01 04:24:17+00:00</td>\n",
       "      <td>488</td>\n",
       "      <td>National</td>\n",
       "      <td>U.S.</td>\n",
       "      <td>2021-01-01</td>\n",
       "      <td>0.200000</td>\n",
       "      <td>0.505556</td>\n",
       "      <td>-0.183333</td>\n",
       "      <td>0.394444</td>\n",
       "      <td>1</td>\n",
       "      <td>Friday</td>\n",
       "    </tr>\n",
       "    <tr>\n",
       "      <th>4</th>\n",
       "      <td>with a new variant of the virus emerging elsew...</td>\n",
       "      <td>virus numbers are surging. why is new york’s v...</td>\n",
       "      <td>2021-01-01 08:00:06+00:00</td>\n",
       "      <td>1541</td>\n",
       "      <td>Metro</td>\n",
       "      <td>New York</td>\n",
       "      <td>2021-01-01</td>\n",
       "      <td>0.117677</td>\n",
       "      <td>0.734848</td>\n",
       "      <td>0.136364</td>\n",
       "      <td>0.454545</td>\n",
       "      <td>1</td>\n",
       "      <td>Friday</td>\n",
       "    </tr>\n",
       "  </tbody>\n",
       "</table>\n",
       "</div>"
      ],
      "text/plain": [
       "                                            abstract  \\\n",
       "0  the united states recorded its 20 millionth ca...   \n",
       "1  throughout the coronavirus pandemic, well-atte...   \n",
       "2  a highly contagious coronavirus variant first ...   \n",
       "3  the pandemic caused the cancellation of the ro...   \n",
       "4  with a new variant of the virus emerging elsew...   \n",
       "\n",
       "                                            headline  \\\n",
       "0                 the u.s. reaches 20 million cases.   \n",
       "1  shhh! in los angeles, new year’s eve parties a...   \n",
       "2  florida health officials detect the state’s fi...   \n",
       "3  no rose parade: southern california laments th...   \n",
       "4  virus numbers are surging. why is new york’s v...   \n",
       "\n",
       "                   pub_date  word_count news_desk section_name  date_only  \\\n",
       "0 2021-01-01 01:28:22+00:00         438   Foreign        World 2021-01-01   \n",
       "1 2021-01-01 03:08:25+00:00         279  National         U.S. 2021-01-01   \n",
       "2 2021-01-01 03:44:59+00:00         265   Foreign        World 2021-01-01   \n",
       "3 2021-01-01 04:24:17+00:00         488  National         U.S. 2021-01-01   \n",
       "4 2021-01-01 08:00:06+00:00        1541     Metro     New York 2021-01-01   \n",
       "\n",
       "   Abstract Polarity  Abstract Subjectivity  Headline Polarity  \\\n",
       "0          -0.107576               0.613636           0.000000   \n",
       "1           0.125926               0.285185           0.136364   \n",
       "2           0.205000               0.436667           0.250000   \n",
       "3           0.200000               0.505556          -0.183333   \n",
       "4           0.117677               0.734848           0.136364   \n",
       "\n",
       "   Headline Subjectivity  month day_of_week  \n",
       "0               0.000000      1      Friday  \n",
       "1               0.454545      1      Friday  \n",
       "2               0.333333      1      Friday  \n",
       "3               0.394444      1      Friday  \n",
       "4               0.454545      1      Friday  "
      ]
     },
     "execution_count": 47,
     "metadata": {},
     "output_type": "execute_result"
    }
   ],
   "source": [
    "top_10_news_desks_df.head()"
   ]
  },
  {
   "cell_type": "markdown",
   "metadata": {},
   "source": [
    "### Plotting the headline and abtract subjectivity for each New York Times News Desks"
   ]
  },
  {
   "cell_type": "code",
   "execution_count": 51,
   "metadata": {
    "scrolled": true
   },
   "outputs": [
    {
     "data": {
      "text/plain": [
       "Text(0, 0.5, 'Mean abstract subjectivity')"
      ]
     },
     "execution_count": 51,
     "metadata": {},
     "output_type": "execute_result"
    },
    {
     "data": {
      "image/png": "[encoded data removed]",
      "text/plain": [
       "<Figure size 1440x432 with 2 Axes>"
      ]
     },
     "metadata": {},
     "output_type": "display_data"
    }
   ],
   "source": [
    "plt.figure(figsize=(20,6))\n",
    "sns.set_theme(style=\"whitegrid\")\n",
    "plt.subplot(1,2,1)\n",
    "plt.title('Average headline subjectivity per news desk')\n",
    "sns.barplot(x=top_10_news_desks_df['news_desk'],y=top_10_news_desks_df['Headline Subjectivity'])\n",
    "plt.ylabel('Mean headline subjectivity')\n",
    "\n",
    "plt.subplot(1,2,2)\n",
    "plt.title('Average abstract subjectivity per news desk')\n",
    "sns.barplot(x=top_10_news_desks_df['news_desk'],y=top_10_news_desks_df['Abstract Subjectivity'])\n",
    "plt.ylabel('Mean abstract subjectivity')\n"
   ]
  },
  {
   "cell_type": "markdown",
   "metadata": {},
   "source": [
    "#### Interpretation: for both headline and abstract subjectivity, NYTNow news desk appears to be the most objective. The U.S. desk appears to be an outlier given the extremity of the subjectivity value. From our top_10_news_desks count, we see that the U.S. news section has by far the most data points, that could be a cause for the outlier. (similar to our monthly and weekly analysis)"
   ]
  },
  {
   "cell_type": "markdown",
   "metadata": {},
   "source": [
    "### Extracting top 10 sections with COVID coverage"
   ]
  },
  {
   "cell_type": "code",
   "execution_count": 53,
   "metadata": {},
   "outputs": [
    {
     "data": {
      "text/plain": [
       "U.S.            3024\n",
       "World           1330\n",
       "Business Day     452\n",
       "Opinion          364\n",
       "Health           341\n",
       "New York         308\n",
       "Sports           207\n",
       "Well             203\n",
       "Arts             201\n",
       "Briefing         173\n",
       "Name: section_name, dtype: int64"
      ]
     },
     "execution_count": 53,
     "metadata": {},
     "output_type": "execute_result"
    }
   ],
   "source": [
    "top_10_sections = df_new['section_name'].value_counts().head(10)\n",
    "top_10_sections"
   ]
  },
  {
   "cell_type": "markdown",
   "metadata": {},
   "source": [
    "### Create new dataframe with top 10 sections"
   ]
  },
  {
   "cell_type": "code",
   "execution_count": 54,
   "metadata": {},
   "outputs": [
    {
     "data": {
      "text/plain": [
       "(6603, 13)"
      ]
     },
     "execution_count": 54,
     "metadata": {},
     "output_type": "execute_result"
    }
   ],
   "source": [
    "top_10_sections = ['U.S.','World','Business Day','Opinion','Health','New York','Sports','Well','Arts','Briefing']\n",
    "top_10_sections_df = df_new[df_new.section_name.isin(top_10_sections)]\n",
    "top_10_sections_df.shape"
   ]
  },
  {
   "cell_type": "code",
   "execution_count": 55,
   "metadata": {},
   "outputs": [
    {
     "data": {
      "text/html": [
       "<div>\n",
       "<style scoped>\n",
       "    .dataframe tbody tr th:only-of-type {\n",
       "        vertical-align: middle;\n",
       "    }\n",
       "\n",
       "    .dataframe tbody tr th {\n",
       "        vertical-align: top;\n",
       "    }\n",
       "\n",
       "    .dataframe thead th {\n",
       "        text-align: right;\n",
       "    }\n",
       "</style>\n",
       "<table border=\"1\" class=\"dataframe\">\n",
       "  <thead>\n",
       "    <tr style=\"text-align: right;\">\n",
       "      <th></th>\n",
       "      <th>abstract</th>\n",
       "      <th>headline</th>\n",
       "      <th>pub_date</th>\n",
       "      <th>word_count</th>\n",
       "      <th>news_desk</th>\n",
       "      <th>section_name</th>\n",
       "      <th>date_only</th>\n",
       "      <th>Abstract Polarity</th>\n",
       "      <th>Abstract Subjectivity</th>\n",
       "      <th>Headline Polarity</th>\n",
       "      <th>Headline Subjectivity</th>\n",
       "      <th>month</th>\n",
       "      <th>day_of_week</th>\n",
       "    </tr>\n",
       "  </thead>\n",
       "  <tbody>\n",
       "    <tr>\n",
       "      <th>0</th>\n",
       "      <td>the united states recorded its 20 millionth ca...</td>\n",
       "      <td>the u.s. reaches 20 million cases.</td>\n",
       "      <td>2021-01-01 01:28:22+00:00</td>\n",
       "      <td>438</td>\n",
       "      <td>Foreign</td>\n",
       "      <td>World</td>\n",
       "      <td>2021-01-01</td>\n",
       "      <td>-0.107576</td>\n",
       "      <td>0.613636</td>\n",
       "      <td>0.000000</td>\n",
       "      <td>0.000000</td>\n",
       "      <td>1</td>\n",
       "      <td>Friday</td>\n",
       "    </tr>\n",
       "    <tr>\n",
       "      <th>1</th>\n",
       "      <td>throughout the coronavirus pandemic, well-atte...</td>\n",
       "      <td>shhh! in los angeles, new year’s eve parties a...</td>\n",
       "      <td>2021-01-01 03:08:25+00:00</td>\n",
       "      <td>279</td>\n",
       "      <td>National</td>\n",
       "      <td>U.S.</td>\n",
       "      <td>2021-01-01</td>\n",
       "      <td>0.125926</td>\n",
       "      <td>0.285185</td>\n",
       "      <td>0.136364</td>\n",
       "      <td>0.454545</td>\n",
       "      <td>1</td>\n",
       "      <td>Friday</td>\n",
       "    </tr>\n",
       "    <tr>\n",
       "      <th>2</th>\n",
       "      <td>a highly contagious coronavirus variant first ...</td>\n",
       "      <td>florida health officials detect the state’s fi...</td>\n",
       "      <td>2021-01-01 03:44:59+00:00</td>\n",
       "      <td>265</td>\n",
       "      <td>Foreign</td>\n",
       "      <td>World</td>\n",
       "      <td>2021-01-01</td>\n",
       "      <td>0.205000</td>\n",
       "      <td>0.436667</td>\n",
       "      <td>0.250000</td>\n",
       "      <td>0.333333</td>\n",
       "      <td>1</td>\n",
       "      <td>Friday</td>\n",
       "    </tr>\n",
       "    <tr>\n",
       "      <th>3</th>\n",
       "      <td>the pandemic caused the cancellation of the ro...</td>\n",
       "      <td>no rose parade: southern california laments th...</td>\n",
       "      <td>2021-01-01 04:24:17+00:00</td>\n",
       "      <td>488</td>\n",
       "      <td>National</td>\n",
       "      <td>U.S.</td>\n",
       "      <td>2021-01-01</td>\n",
       "      <td>0.200000</td>\n",
       "      <td>0.505556</td>\n",
       "      <td>-0.183333</td>\n",
       "      <td>0.394444</td>\n",
       "      <td>1</td>\n",
       "      <td>Friday</td>\n",
       "    </tr>\n",
       "    <tr>\n",
       "      <th>4</th>\n",
       "      <td>with a new variant of the virus emerging elsew...</td>\n",
       "      <td>virus numbers are surging. why is new york’s v...</td>\n",
       "      <td>2021-01-01 08:00:06+00:00</td>\n",
       "      <td>1541</td>\n",
       "      <td>Metro</td>\n",
       "      <td>New York</td>\n",
       "      <td>2021-01-01</td>\n",
       "      <td>0.117677</td>\n",
       "      <td>0.734848</td>\n",
       "      <td>0.136364</td>\n",
       "      <td>0.454545</td>\n",
       "      <td>1</td>\n",
       "      <td>Friday</td>\n",
       "    </tr>\n",
       "  </tbody>\n",
       "</table>\n",
       "</div>"
      ],
      "text/plain": [
       "                                            abstract  \\\n",
       "0  the united states recorded its 20 millionth ca...   \n",
       "1  throughout the coronavirus pandemic, well-atte...   \n",
       "2  a highly contagious coronavirus variant first ...   \n",
       "3  the pandemic caused the cancellation of the ro...   \n",
       "4  with a new variant of the virus emerging elsew...   \n",
       "\n",
       "                                            headline  \\\n",
       "0                 the u.s. reaches 20 million cases.   \n",
       "1  shhh! in los angeles, new year’s eve parties a...   \n",
       "2  florida health officials detect the state’s fi...   \n",
       "3  no rose parade: southern california laments th...   \n",
       "4  virus numbers are surging. why is new york’s v...   \n",
       "\n",
       "                   pub_date  word_count news_desk section_name  date_only  \\\n",
       "0 2021-01-01 01:28:22+00:00         438   Foreign        World 2021-01-01   \n",
       "1 2021-01-01 03:08:25+00:00         279  National         U.S. 2021-01-01   \n",
       "2 2021-01-01 03:44:59+00:00         265   Foreign        World 2021-01-01   \n",
       "3 2021-01-01 04:24:17+00:00         488  National         U.S. 2021-01-01   \n",
       "4 2021-01-01 08:00:06+00:00        1541     Metro     New York 2021-01-01   \n",
       "\n",
       "   Abstract Polarity  Abstract Subjectivity  Headline Polarity  \\\n",
       "0          -0.107576               0.613636           0.000000   \n",
       "1           0.125926               0.285185           0.136364   \n",
       "2           0.205000               0.436667           0.250000   \n",
       "3           0.200000               0.505556          -0.183333   \n",
       "4           0.117677               0.734848           0.136364   \n",
       "\n",
       "   Headline Subjectivity  month day_of_week  \n",
       "0               0.000000      1      Friday  \n",
       "1               0.454545      1      Friday  \n",
       "2               0.333333      1      Friday  \n",
       "3               0.394444      1      Friday  \n",
       "4               0.454545      1      Friday  "
      ]
     },
     "execution_count": 55,
     "metadata": {},
     "output_type": "execute_result"
    }
   ],
   "source": [
    "top_10_sections_df.head()"
   ]
  },
  {
   "cell_type": "markdown",
   "metadata": {},
   "source": [
    "### Plotting headline subjectivity for each New York Times Section"
   ]
  },
  {
   "cell_type": "code",
   "execution_count": 56,
   "metadata": {
    "scrolled": true
   },
   "outputs": [
    {
     "data": {
      "text/plain": [
       "Text(0, 0.5, 'Mean abstract subjectivity')"
      ]
     },
     "execution_count": 56,
     "metadata": {},
     "output_type": "execute_result"
    },
    {
     "data": {
      "image/png": "[encoded data removed]",
      "text/plain": [
       "<Figure size 1440x432 with 2 Axes>"
      ]
     },
     "metadata": {},
     "output_type": "display_data"
    }
   ],
   "source": [
    "plt.figure(figsize=(20,6))\n",
    "sns.set_theme(style=\"whitegrid\")\n",
    "plt.subplot(1,2,1)\n",
    "plt.title('Average headline subjectivity per section')\n",
    "sns.barplot(x=top_10_sections_df['section_name'],y=top_10_sections_df['Headline Subjectivity'])\n",
    "plt.ylabel('Mean headline subjectivity')\n",
    "\n",
    "plt.subplot(1,2,2)\n",
    "plt.title('Average abstract subjectivity per section')\n",
    "sns.barplot(x=top_10_sections_df['section_name'],y=top_10_sections_df['Abstract Subjectivity'])\n",
    "plt.ylabel('Mean abstract subjectivity')"
   ]
  },
  {
   "cell_type": "markdown",
   "metadata": {},
   "source": [
    "#### Interpretation: the U.S section appears to be an outlier, while the abstract and headline subjectivity of the other top 10 sections appear to be quite uniform, with the 'Briefing' section being the most objective. "
   ]
  },
  {
   "cell_type": "markdown",
   "metadata": {},
   "source": [
    "### 2021 NYT sentiment analysis findings: \n",
    "\n",
    "1: From the histograms, we see that the New York Times headlines tend to be both more objective and have a more neutral sentiment (polarity) when compared to abstracts\n",
    "\n",
    "2:  When grouping our data by the month, we see that the headline and abstract subjectivity are consistent throughout the different months in 2021. With the notable exception of January, which is an outlier. In an attempt to identify why January is an outlier, we did a monthly count on the number of data points per month, we saw that January had significant more data points compared to all other months in 2021. This could be one reason why the January subjectivity data is skewed. \n",
    "\n",
    "3: When grouping data by the days of week, we saw that Wednesday was the notable outlier, where the headline subjectivity is significantly lower compared to all other days of week, while the abstract subjectivity is much higher compared to other days of the week. When we did a weekly count of the number of data points per day of week, we saw that Wednesday had more data points when compared to other days of the week. Similar to our monthly analysis, the higher data points for Wednesday could be a reason why it is an outlier. \n",
    "\n",
    "4: We then went onto analysising whether different news desks vary in their headline/abstract subjectivity. The 'U.S.' news desk appears to be an outlier, especially in abstract subjectivity. This could again be related to how the U.S. news desk has significantly more data points than all over news desks. Outside of the U.S. news desk outlier, the NYTNow news desk has the most objective headlines and abstracts, according to the Textblob analysis. \n",
    "\n",
    "5: We find similar patterns when plotting subjectivity and 'sections' of the New York Times, where the \"U.S.\" section appears to be an outlier again. "
   ]
  },
  {
   "cell_type": "markdown",
   "metadata": {},
   "source": [
    "# Exploratory analysis"
   ]
  },
  {
   "cell_type": "markdown",
   "metadata": {},
   "source": [
    "## Yearly"
   ]
  },
  {
   "cell_type": "markdown",
   "metadata": {},
   "source": [
    "#### We use the loaded yearly data for the NYT sentiment analysis setting the date as index  and dropping the columns that are of no interest to us"
   ]
  },
  {
   "cell_type": "code",
   "execution_count": 45,
   "metadata": {
    "scrolled": true
   },
   "outputs": [
    {
     "data": {
      "text/html": [
       "<div>\n",
       "<style scoped>\n",
       "    .dataframe tbody tr th:only-of-type {\n",
       "        vertical-align: middle;\n",
       "    }\n",
       "\n",
       "    .dataframe tbody tr th {\n",
       "        vertical-align: top;\n",
       "    }\n",
       "\n",
       "    .dataframe thead th {\n",
       "        text-align: right;\n",
       "    }\n",
       "</style>\n",
       "<table border=\"1\" class=\"dataframe\">\n",
       "  <thead>\n",
       "    <tr style=\"text-align: right;\">\n",
       "      <th></th>\n",
       "      <th>abstract_polarity</th>\n",
       "    </tr>\n",
       "    <tr>\n",
       "      <th>date_only</th>\n",
       "      <th></th>\n",
       "    </tr>\n",
       "  </thead>\n",
       "  <tbody>\n",
       "    <tr>\n",
       "      <th>2021-01-01</th>\n",
       "      <td>0.500000</td>\n",
       "    </tr>\n",
       "    <tr>\n",
       "      <th>2021-01-02</th>\n",
       "      <td>-1.000000</td>\n",
       "    </tr>\n",
       "    <tr>\n",
       "      <th>2021-01-03</th>\n",
       "      <td>0.250000</td>\n",
       "    </tr>\n",
       "    <tr>\n",
       "      <th>2021-01-04</th>\n",
       "      <td>0.318182</td>\n",
       "    </tr>\n",
       "    <tr>\n",
       "      <th>2021-01-05</th>\n",
       "      <td>0.500000</td>\n",
       "    </tr>\n",
       "    <tr>\n",
       "      <th>...</th>\n",
       "      <td>...</td>\n",
       "    </tr>\n",
       "    <tr>\n",
       "      <th>2021-11-26</th>\n",
       "      <td>0.500000</td>\n",
       "    </tr>\n",
       "    <tr>\n",
       "      <th>2021-11-27</th>\n",
       "      <td>0.500000</td>\n",
       "    </tr>\n",
       "    <tr>\n",
       "      <th>2021-11-28</th>\n",
       "      <td>0.750000</td>\n",
       "    </tr>\n",
       "    <tr>\n",
       "      <th>2021-11-29</th>\n",
       "      <td>0.533333</td>\n",
       "    </tr>\n",
       "    <tr>\n",
       "      <th>2021-11-30</th>\n",
       "      <td>-0.500000</td>\n",
       "    </tr>\n",
       "  </tbody>\n",
       "</table>\n",
       "<p>334 rows × 1 columns</p>\n",
       "</div>"
      ],
      "text/plain": [
       "            abstract_polarity\n",
       "date_only                    \n",
       "2021-01-01           0.500000\n",
       "2021-01-02          -1.000000\n",
       "2021-01-03           0.250000\n",
       "2021-01-04           0.318182\n",
       "2021-01-05           0.500000\n",
       "...                       ...\n",
       "2021-11-26           0.500000\n",
       "2021-11-27           0.500000\n",
       "2021-11-28           0.750000\n",
       "2021-11-29           0.533333\n",
       "2021-11-30          -0.500000\n",
       "\n",
       "[334 rows x 1 columns]"
      ]
     },
     "execution_count": 45,
     "metadata": {},
     "output_type": "execute_result"
    }
   ],
   "source": [
    "nyt = ny_df_filtered.set_index(\"date_only\")\n",
    "nyt.drop([\"Unnamed: 0\", \"day_of_week\"], axis = 1, inplace = True)\n",
    "nyt.rename(columns = {'Abstract Polarity':'abstract_polarity'}, inplace=True)\n",
    "nyt"
   ]
  },
  {
   "cell_type": "markdown",
   "metadata": {},
   "source": [
    "#### We use the loaded yearly data for the Guardian occurrence analysis setting the date as index  and dropping the columns that are of no interest to us"
   ]
  },
  {
   "cell_type": "code",
   "execution_count": 46,
   "metadata": {
    "scrolled": true
   },
   "outputs": [
    {
     "data": {
      "text/html": [
       "<div>\n",
       "<style scoped>\n",
       "    .dataframe tbody tr th:only-of-type {\n",
       "        vertical-align: middle;\n",
       "    }\n",
       "\n",
       "    .dataframe tbody tr th {\n",
       "        vertical-align: top;\n",
       "    }\n",
       "\n",
       "    .dataframe thead th {\n",
       "        text-align: right;\n",
       "    }\n",
       "</style>\n",
       "<table border=\"1\" class=\"dataframe\">\n",
       "  <thead>\n",
       "    <tr style=\"text-align: right;\">\n",
       "      <th></th>\n",
       "      <th>ContainsAz</th>\n",
       "      <th>ContainsPf</th>\n",
       "      <th>ContainsMd</th>\n",
       "      <th>ContainsVaccine</th>\n",
       "      <th>ContainsCv</th>\n",
       "      <th>MonthPublished</th>\n",
       "    </tr>\n",
       "    <tr>\n",
       "      <th>DatePublished</th>\n",
       "      <th></th>\n",
       "      <th></th>\n",
       "      <th></th>\n",
       "      <th></th>\n",
       "      <th></th>\n",
       "      <th></th>\n",
       "    </tr>\n",
       "  </thead>\n",
       "  <tbody>\n",
       "    <tr>\n",
       "      <th>2021-01-01</th>\n",
       "      <td>2</td>\n",
       "      <td>0</td>\n",
       "      <td>0</td>\n",
       "      <td>6</td>\n",
       "      <td>24</td>\n",
       "      <td>01</td>\n",
       "    </tr>\n",
       "    <tr>\n",
       "      <th>2021-01-02</th>\n",
       "      <td>2</td>\n",
       "      <td>0</td>\n",
       "      <td>0</td>\n",
       "      <td>5</td>\n",
       "      <td>22</td>\n",
       "      <td>01</td>\n",
       "    </tr>\n",
       "    <tr>\n",
       "      <th>2021-01-03</th>\n",
       "      <td>0</td>\n",
       "      <td>0</td>\n",
       "      <td>0</td>\n",
       "      <td>14</td>\n",
       "      <td>29</td>\n",
       "      <td>01</td>\n",
       "    </tr>\n",
       "    <tr>\n",
       "      <th>2021-01-04</th>\n",
       "      <td>0</td>\n",
       "      <td>0</td>\n",
       "      <td>0</td>\n",
       "      <td>1</td>\n",
       "      <td>24</td>\n",
       "      <td>01</td>\n",
       "    </tr>\n",
       "    <tr>\n",
       "      <th>2021-01-05</th>\n",
       "      <td>0</td>\n",
       "      <td>0</td>\n",
       "      <td>1</td>\n",
       "      <td>7</td>\n",
       "      <td>42</td>\n",
       "      <td>01</td>\n",
       "    </tr>\n",
       "    <tr>\n",
       "      <th>...</th>\n",
       "      <td>...</td>\n",
       "      <td>...</td>\n",
       "      <td>...</td>\n",
       "      <td>...</td>\n",
       "      <td>...</td>\n",
       "      <td>...</td>\n",
       "    </tr>\n",
       "    <tr>\n",
       "      <th>2021-11-26</th>\n",
       "      <td>0</td>\n",
       "      <td>0</td>\n",
       "      <td>0</td>\n",
       "      <td>4</td>\n",
       "      <td>23</td>\n",
       "      <td>11</td>\n",
       "    </tr>\n",
       "    <tr>\n",
       "      <th>2021-11-27</th>\n",
       "      <td>0</td>\n",
       "      <td>0</td>\n",
       "      <td>0</td>\n",
       "      <td>0</td>\n",
       "      <td>10</td>\n",
       "      <td>11</td>\n",
       "    </tr>\n",
       "    <tr>\n",
       "      <th>2021-11-28</th>\n",
       "      <td>0</td>\n",
       "      <td>0</td>\n",
       "      <td>0</td>\n",
       "      <td>2</td>\n",
       "      <td>12</td>\n",
       "      <td>11</td>\n",
       "    </tr>\n",
       "    <tr>\n",
       "      <th>2021-11-29</th>\n",
       "      <td>0</td>\n",
       "      <td>0</td>\n",
       "      <td>0</td>\n",
       "      <td>5</td>\n",
       "      <td>22</td>\n",
       "      <td>11</td>\n",
       "    </tr>\n",
       "    <tr>\n",
       "      <th>2021-11-30</th>\n",
       "      <td>0</td>\n",
       "      <td>0</td>\n",
       "      <td>1</td>\n",
       "      <td>5</td>\n",
       "      <td>11</td>\n",
       "      <td>11</td>\n",
       "    </tr>\n",
       "  </tbody>\n",
       "</table>\n",
       "<p>334 rows × 6 columns</p>\n",
       "</div>"
      ],
      "text/plain": [
       "               ContainsAz  ContainsPf  ContainsMd  ContainsVaccine  \\\n",
       "DatePublished                                                        \n",
       "2021-01-01              2           0           0                6   \n",
       "2021-01-02              2           0           0                5   \n",
       "2021-01-03              0           0           0               14   \n",
       "2021-01-04              0           0           0                1   \n",
       "2021-01-05              0           0           1                7   \n",
       "...                   ...         ...         ...              ...   \n",
       "2021-11-26              0           0           0                4   \n",
       "2021-11-27              0           0           0                0   \n",
       "2021-11-28              0           0           0                2   \n",
       "2021-11-29              0           0           0                5   \n",
       "2021-11-30              0           0           1                5   \n",
       "\n",
       "               ContainsCv MonthPublished  \n",
       "DatePublished                             \n",
       "2021-01-01             24             01  \n",
       "2021-01-02             22             01  \n",
       "2021-01-03             29             01  \n",
       "2021-01-04             24             01  \n",
       "2021-01-05             42             01  \n",
       "...                   ...            ...  \n",
       "2021-11-26             23             11  \n",
       "2021-11-27             10             11  \n",
       "2021-11-28             12             11  \n",
       "2021-11-29             22             11  \n",
       "2021-11-30             11             11  \n",
       "\n",
       "[334 rows x 6 columns]"
      ]
     },
     "execution_count": 46,
     "metadata": {},
     "output_type": "execute_result"
    }
   ],
   "source": [
    "g_df3 = g_df3[g_df3['DatePublished'] <= datetime.date(2021, 11, 30)]\n",
    "g_df3.set_index(\"DatePublished\", inplace = True)\n",
    "g_df3"
   ]
  },
  {
   "cell_type": "markdown",
   "metadata": {},
   "source": [
    "#### We load the yearly financial data for the three pharmaceutical companies, run some exploratory anlayses and merge the these with the sentiment and occurrence analyses datasets."
   ]
  },
  {
   "cell_type": "markdown",
   "metadata": {},
   "source": [
    "### Moderna"
   ]
  },
  {
   "cell_type": "code",
   "execution_count": 140,
   "metadata": {},
   "outputs": [
    {
     "data": {
      "text/html": [
       "<div>\n",
       "<style scoped>\n",
       "    .dataframe tbody tr th:only-of-type {\n",
       "        vertical-align: middle;\n",
       "    }\n",
       "\n",
       "    .dataframe tbody tr th {\n",
       "        vertical-align: top;\n",
       "    }\n",
       "\n",
       "    .dataframe thead th {\n",
       "        text-align: right;\n",
       "    }\n",
       "</style>\n",
       "<table border=\"1\" class=\"dataframe\">\n",
       "  <thead>\n",
       "    <tr style=\"text-align: right;\">\n",
       "      <th></th>\n",
       "      <th>Unnamed: 0</th>\n",
       "      <th>day_of_week</th>\n",
       "      <th>adjusted_close</th>\n",
       "      <th>change</th>\n",
       "    </tr>\n",
       "    <tr>\n",
       "      <th>timestamp</th>\n",
       "      <th></th>\n",
       "      <th></th>\n",
       "      <th></th>\n",
       "      <th></th>\n",
       "    </tr>\n",
       "  </thead>\n",
       "  <tbody>\n",
       "    <tr>\n",
       "      <th>2021-01-04 00:00:00+00:00</th>\n",
       "      <td>0</td>\n",
       "      <td>Monday</td>\n",
       "      <td>111.73</td>\n",
       "      <td>NaN</td>\n",
       "    </tr>\n",
       "    <tr>\n",
       "      <th>2021-01-05 00:00:00+00:00</th>\n",
       "      <td>1</td>\n",
       "      <td>Tuesday</td>\n",
       "      <td>109.18</td>\n",
       "      <td>-0.022823</td>\n",
       "    </tr>\n",
       "    <tr>\n",
       "      <th>2021-01-06 00:00:00+00:00</th>\n",
       "      <td>2</td>\n",
       "      <td>Wednesday</td>\n",
       "      <td>116.26</td>\n",
       "      <td>0.064847</td>\n",
       "    </tr>\n",
       "    <tr>\n",
       "      <th>2021-01-07 00:00:00+00:00</th>\n",
       "      <td>3</td>\n",
       "      <td>Thursday</td>\n",
       "      <td>115.09</td>\n",
       "      <td>-0.010064</td>\n",
       "    </tr>\n",
       "    <tr>\n",
       "      <th>2021-01-08 00:00:00+00:00</th>\n",
       "      <td>4</td>\n",
       "      <td>Friday</td>\n",
       "      <td>112.75</td>\n",
       "      <td>-0.020332</td>\n",
       "    </tr>\n",
       "  </tbody>\n",
       "</table>\n",
       "</div>"
      ],
      "text/plain": [
       "                           Unnamed: 0 day_of_week  adjusted_close    change\n",
       "timestamp                                                                  \n",
       "2021-01-04 00:00:00+00:00           0      Monday          111.73       NaN\n",
       "2021-01-05 00:00:00+00:00           1     Tuesday          109.18 -0.022823\n",
       "2021-01-06 00:00:00+00:00           2   Wednesday          116.26  0.064847\n",
       "2021-01-07 00:00:00+00:00           3    Thursday          115.09 -0.010064\n",
       "2021-01-08 00:00:00+00:00           4      Friday          112.75 -0.020332"
      ]
     },
     "execution_count": 140,
     "metadata": {},
     "output_type": "execute_result"
    }
   ],
   "source": [
    "# we load and sort the data\n",
    "df_mrna = pd.read_csv('data/MRNA_close.csv', index_col=1, parse_dates=['timestamp']) #read the Moderna data\n",
    "df_mrna.sort_values(\"timestamp\", inplace = True)\n",
    "df_mrna.head()"
   ]
  },
  {
   "cell_type": "code",
   "execution_count": 141,
   "metadata": {},
   "outputs": [],
   "source": [
    "df_mrna.dropna(inplace = True)# drop rows where the vlaues are null\n",
    "df_mrna.drop(['Unnamed: 0','day_of_week'], axis=1, inplace=True)# drop columns that are of no use"
   ]
  },
  {
   "cell_type": "code",
   "execution_count": 143,
   "metadata": {},
   "outputs": [
    {
     "data": {
      "image/png": "[encoded data removed]",
      "text/plain": [
       "<Figure size 864x576 with 1 Axes>"
      ]
     },
     "metadata": {
      "needs_background": "light"
     },
     "output_type": "display_data"
    }
   ],
   "source": [
    "df_mrna['adjusted_close'].plot(figsize=(12,8))\n",
    "plt.title(\"Moderna Market Trends\")\n",
    "plt.show() # plot the adjusted close data to look at the maket trends overtime "
   ]
  },
  {
   "cell_type": "code",
   "execution_count": 144,
   "metadata": {},
   "outputs": [
    {
     "data": {
      "image/png": "[encoded data removed]",
      "text/plain": [
       "<Figure size 864x576 with 1 Axes>"
      ]
     },
     "metadata": {
      "needs_background": "light"
     },
     "output_type": "display_data"
    }
   ],
   "source": [
    "df_mrna['change'].hist(bins=50, figsize=(12,8))\n",
    "plt.title(\"Percentage Changes in the Moderna Stock Market\")\n",
    "plt.show() #plot a hitsogram of the percentage changes to look at their distribution"
   ]
  },
  {
   "cell_type": "code",
   "execution_count": 51,
   "metadata": {},
   "outputs": [
    {
     "data": {
      "text/html": [
       "<div>\n",
       "<style scoped>\n",
       "    .dataframe tbody tr th:only-of-type {\n",
       "        vertical-align: middle;\n",
       "    }\n",
       "\n",
       "    .dataframe tbody tr th {\n",
       "        vertical-align: top;\n",
       "    }\n",
       "\n",
       "    .dataframe thead th {\n",
       "        text-align: right;\n",
       "    }\n",
       "</style>\n",
       "<table border=\"1\" class=\"dataframe\">\n",
       "  <thead>\n",
       "    <tr style=\"text-align: right;\">\n",
       "      <th></th>\n",
       "      <th>adjusted_close</th>\n",
       "      <th>change</th>\n",
       "      <th>trend</th>\n",
       "    </tr>\n",
       "    <tr>\n",
       "      <th>timestamp</th>\n",
       "      <th></th>\n",
       "      <th></th>\n",
       "      <th></th>\n",
       "    </tr>\n",
       "  </thead>\n",
       "  <tbody>\n",
       "    <tr>\n",
       "      <th>2021-01-05 00:00:00+00:00</th>\n",
       "      <td>109.18</td>\n",
       "      <td>-0.022823</td>\n",
       "      <td>0</td>\n",
       "    </tr>\n",
       "    <tr>\n",
       "      <th>2021-01-06 00:00:00+00:00</th>\n",
       "      <td>116.26</td>\n",
       "      <td>0.064847</td>\n",
       "      <td>1</td>\n",
       "    </tr>\n",
       "    <tr>\n",
       "      <th>2021-01-07 00:00:00+00:00</th>\n",
       "      <td>115.09</td>\n",
       "      <td>-0.010064</td>\n",
       "      <td>0</td>\n",
       "    </tr>\n",
       "    <tr>\n",
       "      <th>2021-01-08 00:00:00+00:00</th>\n",
       "      <td>112.75</td>\n",
       "      <td>-0.020332</td>\n",
       "      <td>0</td>\n",
       "    </tr>\n",
       "    <tr>\n",
       "      <th>2021-01-11 00:00:00+00:00</th>\n",
       "      <td>117.26</td>\n",
       "      <td>0.040000</td>\n",
       "      <td>1</td>\n",
       "    </tr>\n",
       "    <tr>\n",
       "      <th>...</th>\n",
       "      <td>...</td>\n",
       "      <td>...</td>\n",
       "      <td>...</td>\n",
       "    </tr>\n",
       "    <tr>\n",
       "      <th>2021-11-23 00:00:00+00:00</th>\n",
       "      <td>276.38</td>\n",
       "      <td>-0.022321</td>\n",
       "      <td>0</td>\n",
       "    </tr>\n",
       "    <tr>\n",
       "      <th>2021-11-24 00:00:00+00:00</th>\n",
       "      <td>273.39</td>\n",
       "      <td>-0.010818</td>\n",
       "      <td>0</td>\n",
       "    </tr>\n",
       "    <tr>\n",
       "      <th>2021-11-26 00:00:00+00:00</th>\n",
       "      <td>329.63</td>\n",
       "      <td>0.205713</td>\n",
       "      <td>1</td>\n",
       "    </tr>\n",
       "    <tr>\n",
       "      <th>2021-11-29 00:00:00+00:00</th>\n",
       "      <td>368.51</td>\n",
       "      <td>0.117950</td>\n",
       "      <td>1</td>\n",
       "    </tr>\n",
       "    <tr>\n",
       "      <th>2021-11-30 00:00:00+00:00</th>\n",
       "      <td>352.43</td>\n",
       "      <td>-0.043635</td>\n",
       "      <td>0</td>\n",
       "    </tr>\n",
       "  </tbody>\n",
       "</table>\n",
       "<p>229 rows × 3 columns</p>\n",
       "</div>"
      ],
      "text/plain": [
       "                           adjusted_close    change  trend\n",
       "timestamp                                                 \n",
       "2021-01-05 00:00:00+00:00          109.18 -0.022823      0\n",
       "2021-01-06 00:00:00+00:00          116.26  0.064847      1\n",
       "2021-01-07 00:00:00+00:00          115.09 -0.010064      0\n",
       "2021-01-08 00:00:00+00:00          112.75 -0.020332      0\n",
       "2021-01-11 00:00:00+00:00          117.26  0.040000      1\n",
       "...                                   ...       ...    ...\n",
       "2021-11-23 00:00:00+00:00          276.38 -0.022321      0\n",
       "2021-11-24 00:00:00+00:00          273.39 -0.010818      0\n",
       "2021-11-26 00:00:00+00:00          329.63  0.205713      1\n",
       "2021-11-29 00:00:00+00:00          368.51  0.117950      1\n",
       "2021-11-30 00:00:00+00:00          352.43 -0.043635      0\n",
       "\n",
       "[229 rows x 3 columns]"
      ]
     },
     "execution_count": 51,
     "metadata": {},
     "output_type": "execute_result"
    }
   ],
   "source": [
    "df_mrna['trend'] = 1 * (df_mrna['change'] > 0) #crate a dummy for positive chhnage = 1 and negative change = 0\n",
    "df_mrna"
   ]
  },
  {
   "cell_type": "code",
   "execution_count": 52,
   "metadata": {
    "scrolled": false
   },
   "outputs": [
    {
     "name": "stderr",
     "output_type": "stream",
     "text": [
      "/Library/Frameworks/Python.framework/Versions/3.9/lib/python3.9/site-packages/seaborn/_decorators.py:36: FutureWarning: Pass the following variable as a keyword arg: x. From version 0.12, the only valid positional argument will be `data`, and passing other arguments without an explicit keyword will result in an error or misinterpretation.\n",
      "  warnings.warn(\n"
     ]
    },
    {
     "data": {
      "image/png": "[encoded data removed]",
      "text/plain": [
       "<Figure size 864x576 with 1 Axes>"
      ]
     },
     "metadata": {
      "needs_background": "light"
     },
     "output_type": "display_data"
    }
   ],
   "source": [
    "ax=plt.subplots(1,1,figsize=(12,8))\n",
    "sns.countplot(x='trend',data=df_mrna) # we show the frequency of positive and negative changes with bar plot \n",
    "plt.title(\"Moderna Market Trends\")\n",
    "plt.show()"
   ]
  },
  {
   "cell_type": "code",
   "execution_count": 53,
   "metadata": {},
   "outputs": [],
   "source": [
    "# we merge the finance, sentiment and occurrence analysis datasets \n",
    "nyt.index = pd.to_datetime(nyt.index).tz_localize('Etc/UCT')\n",
    "g_df3.index = pd.to_datetime(g_df3.index).tz_localize('Etc/UCT')\n",
    "df = df_mrna.merge(nyt, how='inner', left_index=True, right_index=True)\n",
    "df_m = df.merge(g_df3, how='inner', left_index=True, right_index=True)"
   ]
  },
  {
   "cell_type": "markdown",
   "metadata": {},
   "source": [
    "### Pfizer"
   ]
  },
  {
   "cell_type": "code",
   "execution_count": 54,
   "metadata": {
    "scrolled": true
   },
   "outputs": [
    {
     "data": {
      "text/html": [
       "<div>\n",
       "<style scoped>\n",
       "    .dataframe tbody tr th:only-of-type {\n",
       "        vertical-align: middle;\n",
       "    }\n",
       "\n",
       "    .dataframe tbody tr th {\n",
       "        vertical-align: top;\n",
       "    }\n",
       "\n",
       "    .dataframe thead th {\n",
       "        text-align: right;\n",
       "    }\n",
       "</style>\n",
       "<table border=\"1\" class=\"dataframe\">\n",
       "  <thead>\n",
       "    <tr style=\"text-align: right;\">\n",
       "      <th></th>\n",
       "      <th>Unnamed: 0</th>\n",
       "      <th>day_of_week</th>\n",
       "      <th>adjusted_close</th>\n",
       "      <th>change</th>\n",
       "    </tr>\n",
       "    <tr>\n",
       "      <th>timestamp</th>\n",
       "      <th></th>\n",
       "      <th></th>\n",
       "      <th></th>\n",
       "      <th></th>\n",
       "    </tr>\n",
       "  </thead>\n",
       "  <tbody>\n",
       "    <tr>\n",
       "      <th>2021-01-04 00:00:00+00:00</th>\n",
       "      <td>0</td>\n",
       "      <td>Monday</td>\n",
       "      <td>35.414547</td>\n",
       "      <td>NaN</td>\n",
       "    </tr>\n",
       "    <tr>\n",
       "      <th>2021-01-05 00:00:00+00:00</th>\n",
       "      <td>1</td>\n",
       "      <td>Tuesday</td>\n",
       "      <td>35.780142</td>\n",
       "      <td>0.010323</td>\n",
       "    </tr>\n",
       "    <tr>\n",
       "      <th>2021-01-06 00:00:00+00:00</th>\n",
       "      <td>2</td>\n",
       "      <td>Wednesday</td>\n",
       "      <td>35.472273</td>\n",
       "      <td>-0.008604</td>\n",
       "    </tr>\n",
       "    <tr>\n",
       "      <th>2021-01-07 00:00:00+00:00</th>\n",
       "      <td>3</td>\n",
       "      <td>Thursday</td>\n",
       "      <td>35.655070</td>\n",
       "      <td>0.005153</td>\n",
       "    </tr>\n",
       "    <tr>\n",
       "      <th>2021-01-08 00:00:00+00:00</th>\n",
       "      <td>4</td>\n",
       "      <td>Friday</td>\n",
       "      <td>35.722416</td>\n",
       "      <td>0.001889</td>\n",
       "    </tr>\n",
       "  </tbody>\n",
       "</table>\n",
       "</div>"
      ],
      "text/plain": [
       "                           Unnamed: 0 day_of_week  adjusted_close    change\n",
       "timestamp                                                                  \n",
       "2021-01-04 00:00:00+00:00           0      Monday       35.414547       NaN\n",
       "2021-01-05 00:00:00+00:00           1     Tuesday       35.780142  0.010323\n",
       "2021-01-06 00:00:00+00:00           2   Wednesday       35.472273 -0.008604\n",
       "2021-01-07 00:00:00+00:00           3    Thursday       35.655070  0.005153\n",
       "2021-01-08 00:00:00+00:00           4      Friday       35.722416  0.001889"
      ]
     },
     "execution_count": 54,
     "metadata": {},
     "output_type": "execute_result"
    }
   ],
   "source": [
    "# we load and sort the data\n",
    "df_pfe = pd.read_csv('data/PFE_close.csv', index_col=1, parse_dates=['timestamp']) #read the Pfizer data \n",
    "df_pfe.sort_values(\"timestamp\", inplace = True)#order the dataset by date\n",
    "df_pfe.head()#show the first five rows of the dataset"
   ]
  },
  {
   "cell_type": "code",
   "execution_count": 55,
   "metadata": {},
   "outputs": [],
   "source": [
    "df_pfe.dropna(inplace = True)# drop rows where the vlaue is null\n",
    "df_pfe.drop(['Unnamed: 0', 'day_of_week'], axis=1, inplace=True)# drop Unnamed: 0 column as it is of no use"
   ]
  },
  {
   "cell_type": "code",
   "execution_count": 56,
   "metadata": {},
   "outputs": [
    {
     "data": {
      "image/png": "[encoded data removed]",
      "text/plain": [
       "<Figure size 864x576 with 1 Axes>"
      ]
     },
     "metadata": {
      "needs_background": "light"
     },
     "output_type": "display_data"
    }
   ],
   "source": [
    "df_pfe['adjusted_close'].plot(figsize=(12,8))\n",
    "plt.title(\"Pfizer Market Trends\")\n",
    "plt.show() # plot the adjusted close data to look at the maket trends overtime "
   ]
  },
  {
   "cell_type": "code",
   "execution_count": 57,
   "metadata": {},
   "outputs": [
    {
     "data": {
      "image/png": "[encoded data removed]",
      "text/plain": [
       "<Figure size 864x576 with 1 Axes>"
      ]
     },
     "metadata": {
      "needs_background": "light"
     },
     "output_type": "display_data"
    }
   ],
   "source": [
    "df_pfe['change'].hist(bins=50, figsize=(12,8))\n",
    "plt.title(\"Percentage Changes in the Pfizer Stock Market\")\n",
    "plt.show() #plot a hitsogram of the percentage changes to look at their distribution"
   ]
  },
  {
   "cell_type": "code",
   "execution_count": 58,
   "metadata": {},
   "outputs": [
    {
     "data": {
      "text/html": [
       "<div>\n",
       "<style scoped>\n",
       "    .dataframe tbody tr th:only-of-type {\n",
       "        vertical-align: middle;\n",
       "    }\n",
       "\n",
       "    .dataframe tbody tr th {\n",
       "        vertical-align: top;\n",
       "    }\n",
       "\n",
       "    .dataframe thead th {\n",
       "        text-align: right;\n",
       "    }\n",
       "</style>\n",
       "<table border=\"1\" class=\"dataframe\">\n",
       "  <thead>\n",
       "    <tr style=\"text-align: right;\">\n",
       "      <th></th>\n",
       "      <th>adjusted_close</th>\n",
       "      <th>change</th>\n",
       "      <th>trend</th>\n",
       "    </tr>\n",
       "    <tr>\n",
       "      <th>timestamp</th>\n",
       "      <th></th>\n",
       "      <th></th>\n",
       "      <th></th>\n",
       "    </tr>\n",
       "  </thead>\n",
       "  <tbody>\n",
       "    <tr>\n",
       "      <th>2021-01-05 00:00:00+00:00</th>\n",
       "      <td>35.780142</td>\n",
       "      <td>0.010323</td>\n",
       "      <td>1</td>\n",
       "    </tr>\n",
       "    <tr>\n",
       "      <th>2021-01-06 00:00:00+00:00</th>\n",
       "      <td>35.472273</td>\n",
       "      <td>-0.008604</td>\n",
       "      <td>0</td>\n",
       "    </tr>\n",
       "    <tr>\n",
       "      <th>2021-01-07 00:00:00+00:00</th>\n",
       "      <td>35.655070</td>\n",
       "      <td>0.005153</td>\n",
       "      <td>1</td>\n",
       "    </tr>\n",
       "    <tr>\n",
       "      <th>2021-01-08 00:00:00+00:00</th>\n",
       "      <td>35.722416</td>\n",
       "      <td>0.001889</td>\n",
       "      <td>1</td>\n",
       "    </tr>\n",
       "    <tr>\n",
       "      <th>2021-01-11 00:00:00+00:00</th>\n",
       "      <td>36.338154</td>\n",
       "      <td>0.017237</td>\n",
       "      <td>1</td>\n",
       "    </tr>\n",
       "    <tr>\n",
       "      <th>...</th>\n",
       "      <td>...</td>\n",
       "      <td>...</td>\n",
       "      <td>...</td>\n",
       "    </tr>\n",
       "    <tr>\n",
       "      <th>2021-11-23 00:00:00+00:00</th>\n",
       "      <td>51.080000</td>\n",
       "      <td>-0.002344</td>\n",
       "      <td>0</td>\n",
       "    </tr>\n",
       "    <tr>\n",
       "      <th>2021-11-24 00:00:00+00:00</th>\n",
       "      <td>50.890000</td>\n",
       "      <td>-0.003720</td>\n",
       "      <td>0</td>\n",
       "    </tr>\n",
       "    <tr>\n",
       "      <th>2021-11-26 00:00:00+00:00</th>\n",
       "      <td>54.000000</td>\n",
       "      <td>0.061112</td>\n",
       "      <td>1</td>\n",
       "    </tr>\n",
       "    <tr>\n",
       "      <th>2021-11-29 00:00:00+00:00</th>\n",
       "      <td>52.400000</td>\n",
       "      <td>-0.029630</td>\n",
       "      <td>0</td>\n",
       "    </tr>\n",
       "    <tr>\n",
       "      <th>2021-11-30 00:00:00+00:00</th>\n",
       "      <td>53.730000</td>\n",
       "      <td>0.025382</td>\n",
       "      <td>1</td>\n",
       "    </tr>\n",
       "  </tbody>\n",
       "</table>\n",
       "<p>229 rows × 3 columns</p>\n",
       "</div>"
      ],
      "text/plain": [
       "                           adjusted_close    change  trend\n",
       "timestamp                                                 \n",
       "2021-01-05 00:00:00+00:00       35.780142  0.010323      1\n",
       "2021-01-06 00:00:00+00:00       35.472273 -0.008604      0\n",
       "2021-01-07 00:00:00+00:00       35.655070  0.005153      1\n",
       "2021-01-08 00:00:00+00:00       35.722416  0.001889      1\n",
       "2021-01-11 00:00:00+00:00       36.338154  0.017237      1\n",
       "...                                   ...       ...    ...\n",
       "2021-11-23 00:00:00+00:00       51.080000 -0.002344      0\n",
       "2021-11-24 00:00:00+00:00       50.890000 -0.003720      0\n",
       "2021-11-26 00:00:00+00:00       54.000000  0.061112      1\n",
       "2021-11-29 00:00:00+00:00       52.400000 -0.029630      0\n",
       "2021-11-30 00:00:00+00:00       53.730000  0.025382      1\n",
       "\n",
       "[229 rows x 3 columns]"
      ]
     },
     "execution_count": 58,
     "metadata": {},
     "output_type": "execute_result"
    }
   ],
   "source": [
    "df_pfe['trend'] = 1 * (df_pfe['change'] > 0) #crate a dummy for positive chhnage = 1 and negative change = 0\n",
    "df_pfe"
   ]
  },
  {
   "cell_type": "code",
   "execution_count": 59,
   "metadata": {
    "scrolled": true
   },
   "outputs": [
    {
     "name": "stderr",
     "output_type": "stream",
     "text": [
      "/Library/Frameworks/Python.framework/Versions/3.9/lib/python3.9/site-packages/seaborn/_decorators.py:36: FutureWarning: Pass the following variable as a keyword arg: x. From version 0.12, the only valid positional argument will be `data`, and passing other arguments without an explicit keyword will result in an error or misinterpretation.\n",
      "  warnings.warn(\n"
     ]
    },
    {
     "data": {
      "image/png": "[encoded data removed]",
      "text/plain": [
       "<Figure size 864x576 with 1 Axes>"
      ]
     },
     "metadata": {
      "needs_background": "light"
     },
     "output_type": "display_data"
    }
   ],
   "source": [
    "ax=plt.subplots(1,1,figsize=(12,8))\n",
    "sns.countplot(x='trend',data=df_pfe)# we show the frequency of positive and negative changes with bar plot \n",
    "plt.title(\"Pfizer Market Trends\")\n",
    "plt.show()"
   ]
  },
  {
   "cell_type": "code",
   "execution_count": 60,
   "metadata": {},
   "outputs": [],
   "source": [
    "# we merge the finance, sentiment and occurrence analysis datasets\n",
    "df = df_pfe.merge(nyt, how='inner', left_index=True, right_index=True)\n",
    "df_p = df.merge(g_df3, how='inner', left_index=True, right_index=True)"
   ]
  },
  {
   "cell_type": "markdown",
   "metadata": {},
   "source": [
    "### AstraZeneca "
   ]
  },
  {
   "cell_type": "code",
   "execution_count": 61,
   "metadata": {},
   "outputs": [
    {
     "data": {
      "text/html": [
       "<div>\n",
       "<style scoped>\n",
       "    .dataframe tbody tr th:only-of-type {\n",
       "        vertical-align: middle;\n",
       "    }\n",
       "\n",
       "    .dataframe tbody tr th {\n",
       "        vertical-align: top;\n",
       "    }\n",
       "\n",
       "    .dataframe thead th {\n",
       "        text-align: right;\n",
       "    }\n",
       "</style>\n",
       "<table border=\"1\" class=\"dataframe\">\n",
       "  <thead>\n",
       "    <tr style=\"text-align: right;\">\n",
       "      <th></th>\n",
       "      <th>Unnamed: 0</th>\n",
       "      <th>day_of_week</th>\n",
       "      <th>adjusted_close</th>\n",
       "      <th>change</th>\n",
       "    </tr>\n",
       "    <tr>\n",
       "      <th>timestamp</th>\n",
       "      <th></th>\n",
       "      <th></th>\n",
       "      <th></th>\n",
       "      <th></th>\n",
       "    </tr>\n",
       "  </thead>\n",
       "  <tbody>\n",
       "    <tr>\n",
       "      <th>2021-01-04 00:00:00+00:00</th>\n",
       "      <td>0</td>\n",
       "      <td>Monday</td>\n",
       "      <td>49.200558</td>\n",
       "      <td>NaN</td>\n",
       "    </tr>\n",
       "    <tr>\n",
       "      <th>2021-01-05 00:00:00+00:00</th>\n",
       "      <td>1</td>\n",
       "      <td>Tuesday</td>\n",
       "      <td>49.375857</td>\n",
       "      <td>0.003563</td>\n",
       "    </tr>\n",
       "    <tr>\n",
       "      <th>2021-01-06 00:00:00+00:00</th>\n",
       "      <td>2</td>\n",
       "      <td>Wednesday</td>\n",
       "      <td>49.580372</td>\n",
       "      <td>0.004142</td>\n",
       "    </tr>\n",
       "    <tr>\n",
       "      <th>2021-01-07 00:00:00+00:00</th>\n",
       "      <td>3</td>\n",
       "      <td>Thursday</td>\n",
       "      <td>48.879177</td>\n",
       "      <td>-0.014143</td>\n",
       "    </tr>\n",
       "    <tr>\n",
       "      <th>2021-01-08 00:00:00+00:00</th>\n",
       "      <td>4</td>\n",
       "      <td>Friday</td>\n",
       "      <td>49.531678</td>\n",
       "      <td>0.013349</td>\n",
       "    </tr>\n",
       "  </tbody>\n",
       "</table>\n",
       "</div>"
      ],
      "text/plain": [
       "                           Unnamed: 0 day_of_week  adjusted_close    change\n",
       "timestamp                                                                  \n",
       "2021-01-04 00:00:00+00:00           0      Monday       49.200558       NaN\n",
       "2021-01-05 00:00:00+00:00           1     Tuesday       49.375857  0.003563\n",
       "2021-01-06 00:00:00+00:00           2   Wednesday       49.580372  0.004142\n",
       "2021-01-07 00:00:00+00:00           3    Thursday       48.879177 -0.014143\n",
       "2021-01-08 00:00:00+00:00           4      Friday       49.531678  0.013349"
      ]
     },
     "execution_count": 61,
     "metadata": {},
     "output_type": "execute_result"
    }
   ],
   "source": [
    "# we load and sort the data\n",
    "df_azn = pd.read_csv('data/AZN_close.csv', index_col=1, parse_dates=['timestamp']) #read the Astrazeneca data\n",
    "df_azn.sort_values(\"timestamp\", inplace = True) #order the dataset by date\n",
    "df_azn.head() #show the first five rows of the dataset"
   ]
  },
  {
   "cell_type": "code",
   "execution_count": 62,
   "metadata": {},
   "outputs": [],
   "source": [
    "df_azn.dropna(inplace = True)# drop rows where the vlaue is null\n",
    "df_azn.drop(['Unnamed: 0', 'day_of_week'], axis=1, inplace=True)# drop Unnamed: 0 column as it is of no use"
   ]
  },
  {
   "cell_type": "code",
   "execution_count": 63,
   "metadata": {},
   "outputs": [
    {
     "data": {
      "image/png": "[encoded data removed]",
      "text/plain": [
       "<Figure size 864x576 with 1 Axes>"
      ]
     },
     "metadata": {
      "needs_background": "light"
     },
     "output_type": "display_data"
    }
   ],
   "source": [
    "df_azn['adjusted_close'].plot(figsize=(12,8))\n",
    "plt.title(\"AstraZeneca Market Trends\")\n",
    "plt.show() # plot the adjusted close data to look at the maket trends overtime "
   ]
  },
  {
   "cell_type": "code",
   "execution_count": 64,
   "metadata": {},
   "outputs": [
    {
     "data": {
      "image/png": "[encoded data removed]",
      "text/plain": [
       "<Figure size 864x576 with 1 Axes>"
      ]
     },
     "metadata": {
      "needs_background": "light"
     },
     "output_type": "display_data"
    }
   ],
   "source": [
    "df_azn['change'].hist(bins=50, figsize=(12,8))\n",
    "plt.title(\"Percentage Changes in the AstraZeneca Stock Market\")\n",
    "plt.show() #plot a hitsogram of the percentage changes to look at their distribution"
   ]
  },
  {
   "cell_type": "code",
   "execution_count": 65,
   "metadata": {},
   "outputs": [
    {
     "data": {
      "text/html": [
       "<div>\n",
       "<style scoped>\n",
       "    .dataframe tbody tr th:only-of-type {\n",
       "        vertical-align: middle;\n",
       "    }\n",
       "\n",
       "    .dataframe tbody tr th {\n",
       "        vertical-align: top;\n",
       "    }\n",
       "\n",
       "    .dataframe thead th {\n",
       "        text-align: right;\n",
       "    }\n",
       "</style>\n",
       "<table border=\"1\" class=\"dataframe\">\n",
       "  <thead>\n",
       "    <tr style=\"text-align: right;\">\n",
       "      <th></th>\n",
       "      <th>adjusted_close</th>\n",
       "      <th>change</th>\n",
       "      <th>trend</th>\n",
       "    </tr>\n",
       "    <tr>\n",
       "      <th>timestamp</th>\n",
       "      <th></th>\n",
       "      <th></th>\n",
       "      <th></th>\n",
       "    </tr>\n",
       "  </thead>\n",
       "  <tbody>\n",
       "    <tr>\n",
       "      <th>2021-01-05 00:00:00+00:00</th>\n",
       "      <td>49.375857</td>\n",
       "      <td>0.003563</td>\n",
       "      <td>1</td>\n",
       "    </tr>\n",
       "    <tr>\n",
       "      <th>2021-01-06 00:00:00+00:00</th>\n",
       "      <td>49.580372</td>\n",
       "      <td>0.004142</td>\n",
       "      <td>1</td>\n",
       "    </tr>\n",
       "    <tr>\n",
       "      <th>2021-01-07 00:00:00+00:00</th>\n",
       "      <td>48.879177</td>\n",
       "      <td>-0.014143</td>\n",
       "      <td>0</td>\n",
       "    </tr>\n",
       "    <tr>\n",
       "      <th>2021-01-08 00:00:00+00:00</th>\n",
       "      <td>49.531678</td>\n",
       "      <td>0.013349</td>\n",
       "      <td>1</td>\n",
       "    </tr>\n",
       "    <tr>\n",
       "      <th>2021-01-11 00:00:00+00:00</th>\n",
       "      <td>49.239513</td>\n",
       "      <td>-0.005899</td>\n",
       "      <td>0</td>\n",
       "    </tr>\n",
       "    <tr>\n",
       "      <th>...</th>\n",
       "      <td>...</td>\n",
       "      <td>...</td>\n",
       "      <td>...</td>\n",
       "    </tr>\n",
       "    <tr>\n",
       "      <th>2021-11-23 00:00:00+00:00</th>\n",
       "      <td>56.730000</td>\n",
       "      <td>0.003183</td>\n",
       "      <td>1</td>\n",
       "    </tr>\n",
       "    <tr>\n",
       "      <th>2021-11-24 00:00:00+00:00</th>\n",
       "      <td>56.340000</td>\n",
       "      <td>-0.006875</td>\n",
       "      <td>0</td>\n",
       "    </tr>\n",
       "    <tr>\n",
       "      <th>2021-11-26 00:00:00+00:00</th>\n",
       "      <td>56.580000</td>\n",
       "      <td>0.004260</td>\n",
       "      <td>1</td>\n",
       "    </tr>\n",
       "    <tr>\n",
       "      <th>2021-11-29 00:00:00+00:00</th>\n",
       "      <td>55.530000</td>\n",
       "      <td>-0.018558</td>\n",
       "      <td>0</td>\n",
       "    </tr>\n",
       "    <tr>\n",
       "      <th>2021-11-30 00:00:00+00:00</th>\n",
       "      <td>54.830000</td>\n",
       "      <td>-0.012606</td>\n",
       "      <td>0</td>\n",
       "    </tr>\n",
       "  </tbody>\n",
       "</table>\n",
       "<p>229 rows × 3 columns</p>\n",
       "</div>"
      ],
      "text/plain": [
       "                           adjusted_close    change  trend\n",
       "timestamp                                                 \n",
       "2021-01-05 00:00:00+00:00       49.375857  0.003563      1\n",
       "2021-01-06 00:00:00+00:00       49.580372  0.004142      1\n",
       "2021-01-07 00:00:00+00:00       48.879177 -0.014143      0\n",
       "2021-01-08 00:00:00+00:00       49.531678  0.013349      1\n",
       "2021-01-11 00:00:00+00:00       49.239513 -0.005899      0\n",
       "...                                   ...       ...    ...\n",
       "2021-11-23 00:00:00+00:00       56.730000  0.003183      1\n",
       "2021-11-24 00:00:00+00:00       56.340000 -0.006875      0\n",
       "2021-11-26 00:00:00+00:00       56.580000  0.004260      1\n",
       "2021-11-29 00:00:00+00:00       55.530000 -0.018558      0\n",
       "2021-11-30 00:00:00+00:00       54.830000 -0.012606      0\n",
       "\n",
       "[229 rows x 3 columns]"
      ]
     },
     "execution_count": 65,
     "metadata": {},
     "output_type": "execute_result"
    }
   ],
   "source": [
    "df_azn['trend'] = 1 * (df_azn['change'] > 0) #crate a dummy for positive chhnage = 1 and negative change = 0\n",
    "df_azn"
   ]
  },
  {
   "cell_type": "code",
   "execution_count": 66,
   "metadata": {
    "scrolled": true
   },
   "outputs": [
    {
     "name": "stderr",
     "output_type": "stream",
     "text": [
      "/Library/Frameworks/Python.framework/Versions/3.9/lib/python3.9/site-packages/seaborn/_decorators.py:36: FutureWarning: Pass the following variable as a keyword arg: x. From version 0.12, the only valid positional argument will be `data`, and passing other arguments without an explicit keyword will result in an error or misinterpretation.\n",
      "  warnings.warn(\n"
     ]
    },
    {
     "data": {
      "image/png": "[encoded data removed]",
      "text/plain": [
       "<Figure size 864x576 with 1 Axes>"
      ]
     },
     "metadata": {
      "needs_background": "light"
     },
     "output_type": "display_data"
    }
   ],
   "source": [
    "ax=plt.subplots(1,1,figsize=(12,8))\n",
    "sns.countplot(x='trend',data=df_azn)# we show the frequency of positive and negative changes with bar plot \n",
    "plt.title(\"AstraZeneca Market Trends\")\n",
    "plt.show()"
   ]
  },
  {
   "cell_type": "code",
   "execution_count": 67,
   "metadata": {},
   "outputs": [],
   "source": [
    "# we merge the finance, sentiment and occurrence analysis datasets\n",
    "df = df_azn.merge(nyt, how='inner', left_index=True, right_index=True)\n",
    "df_a = df.merge(g_df3, how='inner', left_index=True, right_index=True)"
   ]
  },
  {
   "cell_type": "markdown",
   "metadata": {},
   "source": [
    "## Monthly"
   ]
  },
  {
   "cell_type": "markdown",
   "metadata": {},
   "source": [
    "#### We use the loaded monthly data for the NYT sentiment analysis setting the date as index  and dropping the columns that are of no interest to us"
   ]
  },
  {
   "cell_type": "code",
   "execution_count": 68,
   "metadata": {
    "scrolled": true
   },
   "outputs": [
    {
     "data": {
      "text/html": [
       "<div>\n",
       "<style scoped>\n",
       "    .dataframe tbody tr th:only-of-type {\n",
       "        vertical-align: middle;\n",
       "    }\n",
       "\n",
       "    .dataframe tbody tr th {\n",
       "        vertical-align: top;\n",
       "    }\n",
       "\n",
       "    .dataframe thead th {\n",
       "        text-align: right;\n",
       "    }\n",
       "</style>\n",
       "<table border=\"1\" class=\"dataframe\">\n",
       "  <thead>\n",
       "    <tr style=\"text-align: right;\">\n",
       "      <th></th>\n",
       "      <th>polarity_abstract</th>\n",
       "    </tr>\n",
       "    <tr>\n",
       "      <th>pub_date</th>\n",
       "      <th></th>\n",
       "    </tr>\n",
       "  </thead>\n",
       "  <tbody>\n",
       "    <tr>\n",
       "      <th>2021-11-01 12:26:03+00:00</th>\n",
       "      <td>0.300000</td>\n",
       "    </tr>\n",
       "    <tr>\n",
       "      <th>2021-11-01 14:14:46+00:00</th>\n",
       "      <td>0.000000</td>\n",
       "    </tr>\n",
       "    <tr>\n",
       "      <th>2021-11-01 15:06:46+00:00</th>\n",
       "      <td>0.087273</td>\n",
       "    </tr>\n",
       "    <tr>\n",
       "      <th>2021-11-01 16:29:36+00:00</th>\n",
       "      <td>-0.033333</td>\n",
       "    </tr>\n",
       "    <tr>\n",
       "      <th>2021-11-01 16:40:48+00:00</th>\n",
       "      <td>0.250000</td>\n",
       "    </tr>\n",
       "    <tr>\n",
       "      <th>...</th>\n",
       "      <td>...</td>\n",
       "    </tr>\n",
       "    <tr>\n",
       "      <th>2021-11-30 16:03:10+00:00</th>\n",
       "      <td>0.350000</td>\n",
       "    </tr>\n",
       "    <tr>\n",
       "      <th>2021-11-30 17:08:17+00:00</th>\n",
       "      <td>0.146591</td>\n",
       "    </tr>\n",
       "    <tr>\n",
       "      <th>2021-11-30 18:14:44+00:00</th>\n",
       "      <td>-0.008333</td>\n",
       "    </tr>\n",
       "    <tr>\n",
       "      <th>2021-11-30 18:51:06+00:00</th>\n",
       "      <td>0.291667</td>\n",
       "    </tr>\n",
       "    <tr>\n",
       "      <th>2021-11-30 19:34:18+00:00</th>\n",
       "      <td>-0.016667</td>\n",
       "    </tr>\n",
       "  </tbody>\n",
       "</table>\n",
       "<p>366 rows × 1 columns</p>\n",
       "</div>"
      ],
      "text/plain": [
       "                           polarity_abstract\n",
       "pub_date                                    \n",
       "2021-11-01 12:26:03+00:00           0.300000\n",
       "2021-11-01 14:14:46+00:00           0.000000\n",
       "2021-11-01 15:06:46+00:00           0.087273\n",
       "2021-11-01 16:29:36+00:00          -0.033333\n",
       "2021-11-01 16:40:48+00:00           0.250000\n",
       "...                                      ...\n",
       "2021-11-30 16:03:10+00:00           0.350000\n",
       "2021-11-30 17:08:17+00:00           0.146591\n",
       "2021-11-30 18:14:44+00:00          -0.008333\n",
       "2021-11-30 18:51:06+00:00           0.291667\n",
       "2021-11-30 19:34:18+00:00          -0.016667\n",
       "\n",
       "[366 rows x 1 columns]"
      ]
     },
     "execution_count": 68,
     "metadata": {},
     "output_type": "execute_result"
    }
   ],
   "source": [
    "nyt_m = nyt_data[['pub_date','polarity_abstract']]\n",
    "nyt_m.set_index('pub_date', inplace = True)\n",
    "nyt_m"
   ]
  },
  {
   "cell_type": "markdown",
   "metadata": {},
   "source": [
    "#### Using the Guardian occurence analysis dataset, we select data for the month of November setting the date as index"
   ]
  },
  {
   "cell_type": "code",
   "execution_count": 69,
   "metadata": {
    "scrolled": true
   },
   "outputs": [
    {
     "data": {
      "text/html": [
       "<div>\n",
       "<style scoped>\n",
       "    .dataframe tbody tr th:only-of-type {\n",
       "        vertical-align: middle;\n",
       "    }\n",
       "\n",
       "    .dataframe tbody tr th {\n",
       "        vertical-align: top;\n",
       "    }\n",
       "\n",
       "    .dataframe thead th {\n",
       "        text-align: right;\n",
       "    }\n",
       "</style>\n",
       "<table border=\"1\" class=\"dataframe\">\n",
       "  <thead>\n",
       "    <tr style=\"text-align: right;\">\n",
       "      <th></th>\n",
       "      <th>ContainsAz</th>\n",
       "      <th>ContainsPf</th>\n",
       "      <th>ContainsMd</th>\n",
       "      <th>ContainsVaccine</th>\n",
       "      <th>ContainsCv</th>\n",
       "    </tr>\n",
       "    <tr>\n",
       "      <th>DateTimePublished</th>\n",
       "      <th></th>\n",
       "      <th></th>\n",
       "      <th></th>\n",
       "      <th></th>\n",
       "      <th></th>\n",
       "    </tr>\n",
       "  </thead>\n",
       "  <tbody>\n",
       "    <tr>\n",
       "      <th>2021-11-01 00:57:26+00:00</th>\n",
       "      <td>0</td>\n",
       "      <td>0</td>\n",
       "      <td>0</td>\n",
       "      <td>0</td>\n",
       "      <td>0</td>\n",
       "    </tr>\n",
       "    <tr>\n",
       "      <th>2021-11-01 01:45:50+00:00</th>\n",
       "      <td>0</td>\n",
       "      <td>0</td>\n",
       "      <td>0</td>\n",
       "      <td>0</td>\n",
       "      <td>0</td>\n",
       "    </tr>\n",
       "    <tr>\n",
       "      <th>2021-11-01 01:45:50+00:00</th>\n",
       "      <td>0</td>\n",
       "      <td>0</td>\n",
       "      <td>0</td>\n",
       "      <td>0</td>\n",
       "      <td>0</td>\n",
       "    </tr>\n",
       "    <tr>\n",
       "      <th>2021-11-01 02:49:32+00:00</th>\n",
       "      <td>0</td>\n",
       "      <td>0</td>\n",
       "      <td>0</td>\n",
       "      <td>0</td>\n",
       "      <td>0</td>\n",
       "    </tr>\n",
       "    <tr>\n",
       "      <th>2021-11-01 02:49:32+00:00</th>\n",
       "      <td>0</td>\n",
       "      <td>0</td>\n",
       "      <td>0</td>\n",
       "      <td>0</td>\n",
       "      <td>0</td>\n",
       "    </tr>\n",
       "    <tr>\n",
       "      <th>...</th>\n",
       "      <td>...</td>\n",
       "      <td>...</td>\n",
       "      <td>...</td>\n",
       "      <td>...</td>\n",
       "      <td>...</td>\n",
       "    </tr>\n",
       "    <tr>\n",
       "      <th>2021-11-30 18:58:30+00:00</th>\n",
       "      <td>0</td>\n",
       "      <td>0</td>\n",
       "      <td>0</td>\n",
       "      <td>0</td>\n",
       "      <td>0</td>\n",
       "    </tr>\n",
       "    <tr>\n",
       "      <th>2021-11-30 19:22:44+00:00</th>\n",
       "      <td>0</td>\n",
       "      <td>0</td>\n",
       "      <td>0</td>\n",
       "      <td>0</td>\n",
       "      <td>0</td>\n",
       "    </tr>\n",
       "    <tr>\n",
       "      <th>2021-11-30 19:35:01+00:00</th>\n",
       "      <td>0</td>\n",
       "      <td>0</td>\n",
       "      <td>1</td>\n",
       "      <td>1</td>\n",
       "      <td>1</td>\n",
       "    </tr>\n",
       "    <tr>\n",
       "      <th>2021-11-30 21:00:41+00:00</th>\n",
       "      <td>0</td>\n",
       "      <td>0</td>\n",
       "      <td>0</td>\n",
       "      <td>0</td>\n",
       "      <td>0</td>\n",
       "    </tr>\n",
       "    <tr>\n",
       "      <th>2021-11-30 21:49:37+00:00</th>\n",
       "      <td>0</td>\n",
       "      <td>0</td>\n",
       "      <td>0</td>\n",
       "      <td>0</td>\n",
       "      <td>0</td>\n",
       "    </tr>\n",
       "  </tbody>\n",
       "</table>\n",
       "<p>1524 rows × 5 columns</p>\n",
       "</div>"
      ],
      "text/plain": [
       "                           ContainsAz  ContainsPf  ContainsMd  \\\n",
       "DateTimePublished                                               \n",
       "2021-11-01 00:57:26+00:00           0           0           0   \n",
       "2021-11-01 01:45:50+00:00           0           0           0   \n",
       "2021-11-01 01:45:50+00:00           0           0           0   \n",
       "2021-11-01 02:49:32+00:00           0           0           0   \n",
       "2021-11-01 02:49:32+00:00           0           0           0   \n",
       "...                               ...         ...         ...   \n",
       "2021-11-30 18:58:30+00:00           0           0           0   \n",
       "2021-11-30 19:22:44+00:00           0           0           0   \n",
       "2021-11-30 19:35:01+00:00           0           0           1   \n",
       "2021-11-30 21:00:41+00:00           0           0           0   \n",
       "2021-11-30 21:49:37+00:00           0           0           0   \n",
       "\n",
       "                           ContainsVaccine  ContainsCv  \n",
       "DateTimePublished                                       \n",
       "2021-11-01 00:57:26+00:00                0           0  \n",
       "2021-11-01 01:45:50+00:00                0           0  \n",
       "2021-11-01 01:45:50+00:00                0           0  \n",
       "2021-11-01 02:49:32+00:00                0           0  \n",
       "2021-11-01 02:49:32+00:00                0           0  \n",
       "...                                    ...         ...  \n",
       "2021-11-30 18:58:30+00:00                0           0  \n",
       "2021-11-30 19:22:44+00:00                0           0  \n",
       "2021-11-30 19:35:01+00:00                1           1  \n",
       "2021-11-30 21:00:41+00:00                0           0  \n",
       "2021-11-30 21:49:37+00:00                0           0  \n",
       "\n",
       "[1524 rows x 5 columns]"
      ]
     },
     "execution_count": 69,
     "metadata": {},
     "output_type": "execute_result"
    }
   ],
   "source": [
    "# Filter to get just the results for November, export to a CSV - this will later be used in regression \n",
    "# analysis to see how occurrence of covid-related words over November relate to stock market activity\n",
    "date1 = datetime.date(2021, 11, 1)\n",
    "date2 = datetime.date(2021, 11, 30)\n",
    "g_df.sort_values(by = ['DatePublished'], inplace = True)\n",
    "g_df = g_df[(g_df['DatePublished'] >= date1) & (g_df['DatePublished'] <= date2)]\n",
    "g_df = g_df[['DateTimePublished','ContainsAz','ContainsPf','ContainsMd','ContainsVaccine','ContainsCv']].sort_values(['DateTimePublished'], axis=0)\n",
    "g_df.set_index('DateTimePublished', inplace = True)\n",
    "g_df "
   ]
  },
  {
   "cell_type": "markdown",
   "metadata": {},
   "source": [
    "#### We load the monthly financial data for the three pharmaceutical companies, run some exploratory anlayses and merge the these with the sentiment and occurrence analyses datasets."
   ]
  },
  {
   "cell_type": "markdown",
   "metadata": {},
   "source": [
    "### Moderna"
   ]
  },
  {
   "cell_type": "code",
   "execution_count": 70,
   "metadata": {},
   "outputs": [
    {
     "data": {
      "text/html": [
       "<div>\n",
       "<style scoped>\n",
       "    .dataframe tbody tr th:only-of-type {\n",
       "        vertical-align: middle;\n",
       "    }\n",
       "\n",
       "    .dataframe tbody tr th {\n",
       "        vertical-align: top;\n",
       "    }\n",
       "\n",
       "    .dataframe thead th {\n",
       "        text-align: right;\n",
       "    }\n",
       "</style>\n",
       "<table border=\"1\" class=\"dataframe\">\n",
       "  <thead>\n",
       "    <tr style=\"text-align: right;\">\n",
       "      <th></th>\n",
       "      <th>close</th>\n",
       "      <th>change</th>\n",
       "    </tr>\n",
       "    <tr>\n",
       "      <th>time</th>\n",
       "      <th></th>\n",
       "      <th></th>\n",
       "    </tr>\n",
       "  </thead>\n",
       "  <tbody>\n",
       "    <tr>\n",
       "      <th>2021-11-01 04:05:00</th>\n",
       "      <td>339.00</td>\n",
       "      <td>NaN</td>\n",
       "    </tr>\n",
       "    <tr>\n",
       "      <th>2021-11-01 04:20:00</th>\n",
       "      <td>339.99</td>\n",
       "      <td>0.002920</td>\n",
       "    </tr>\n",
       "    <tr>\n",
       "      <th>2021-11-01 04:30:00</th>\n",
       "      <td>339.96</td>\n",
       "      <td>-0.000088</td>\n",
       "    </tr>\n",
       "    <tr>\n",
       "      <th>2021-11-01 04:45:00</th>\n",
       "      <td>338.01</td>\n",
       "      <td>-0.005736</td>\n",
       "    </tr>\n",
       "    <tr>\n",
       "      <th>2021-11-01 05:10:00</th>\n",
       "      <td>341.00</td>\n",
       "      <td>0.008846</td>\n",
       "    </tr>\n",
       "  </tbody>\n",
       "</table>\n",
       "</div>"
      ],
      "text/plain": [
       "                      close    change\n",
       "time                                 \n",
       "2021-11-01 04:05:00  339.00       NaN\n",
       "2021-11-01 04:20:00  339.99  0.002920\n",
       "2021-11-01 04:30:00  339.96 -0.000088\n",
       "2021-11-01 04:45:00  338.01 -0.005736\n",
       "2021-11-01 05:10:00  341.00  0.008846"
      ]
     },
     "execution_count": 70,
     "metadata": {},
     "output_type": "execute_result"
    }
   ],
   "source": [
    "df_mrna = pd.read_csv('data/MRNA_monthly.csv', index_col=0, parse_dates=['time']) #read the Moderna data\n",
    "df_mrna.sort_values(\"time\", inplace = True)\n",
    "df_mrna.head()"
   ]
  },
  {
   "cell_type": "code",
   "execution_count": 71,
   "metadata": {},
   "outputs": [],
   "source": [
    "df_mrna.dropna(inplace = True)# drop rows where the vlaue is null"
   ]
  },
  {
   "cell_type": "code",
   "execution_count": 72,
   "metadata": {},
   "outputs": [
    {
     "data": {
      "image/png": "[encoded data removed]",
      "text/plain": [
       "<Figure size 864x576 with 1 Axes>"
      ]
     },
     "metadata": {
      "needs_background": "light"
     },
     "output_type": "display_data"
    }
   ],
   "source": [
    "df_mrna['close'].plot(figsize=(12,8))\n",
    "plt.title(\"Moderna Market Trends\")\n",
    "plt.show() # plot the adjusted close data to look at the maket trends overtime "
   ]
  },
  {
   "cell_type": "code",
   "execution_count": 73,
   "metadata": {},
   "outputs": [
    {
     "data": {
      "image/png": "[encoded data removed]",
      "text/plain": [
       "<Figure size 864x576 with 1 Axes>"
      ]
     },
     "metadata": {
      "needs_background": "light"
     },
     "output_type": "display_data"
    }
   ],
   "source": [
    "df_mrna['change'].hist(bins=50, figsize=(12,8))\n",
    "plt.title(\"Percentage Changes in the Moderna Stock Market\")\n",
    "plt.show() #plot a hitsogram of the percentage changes to look at their distribution"
   ]
  },
  {
   "cell_type": "code",
   "execution_count": 74,
   "metadata": {},
   "outputs": [
    {
     "data": {
      "text/html": [
       "<div>\n",
       "<style scoped>\n",
       "    .dataframe tbody tr th:only-of-type {\n",
       "        vertical-align: middle;\n",
       "    }\n",
       "\n",
       "    .dataframe tbody tr th {\n",
       "        vertical-align: top;\n",
       "    }\n",
       "\n",
       "    .dataframe thead th {\n",
       "        text-align: right;\n",
       "    }\n",
       "</style>\n",
       "<table border=\"1\" class=\"dataframe\">\n",
       "  <thead>\n",
       "    <tr style=\"text-align: right;\">\n",
       "      <th></th>\n",
       "      <th>close</th>\n",
       "      <th>change</th>\n",
       "      <th>trend</th>\n",
       "    </tr>\n",
       "    <tr>\n",
       "      <th>time</th>\n",
       "      <th></th>\n",
       "      <th></th>\n",
       "      <th></th>\n",
       "    </tr>\n",
       "  </thead>\n",
       "  <tbody>\n",
       "    <tr>\n",
       "      <th>2021-11-01 04:20:00</th>\n",
       "      <td>339.9900</td>\n",
       "      <td>2.920354e-03</td>\n",
       "      <td>1</td>\n",
       "    </tr>\n",
       "    <tr>\n",
       "      <th>2021-11-01 04:30:00</th>\n",
       "      <td>339.9600</td>\n",
       "      <td>-8.823789e-05</td>\n",
       "      <td>0</td>\n",
       "    </tr>\n",
       "    <tr>\n",
       "      <th>2021-11-01 04:45:00</th>\n",
       "      <td>338.0100</td>\n",
       "      <td>-5.735969e-03</td>\n",
       "      <td>0</td>\n",
       "    </tr>\n",
       "    <tr>\n",
       "      <th>2021-11-01 05:10:00</th>\n",
       "      <td>341.0000</td>\n",
       "      <td>8.845892e-03</td>\n",
       "      <td>1</td>\n",
       "    </tr>\n",
       "    <tr>\n",
       "      <th>2021-11-01 05:15:00</th>\n",
       "      <td>341.0000</td>\n",
       "      <td>0.000000e+00</td>\n",
       "      <td>0</td>\n",
       "    </tr>\n",
       "    <tr>\n",
       "      <th>...</th>\n",
       "      <td>...</td>\n",
       "      <td>...</td>\n",
       "      <td>...</td>\n",
       "    </tr>\n",
       "    <tr>\n",
       "      <th>2021-11-30 19:40:00</th>\n",
       "      <td>347.7600</td>\n",
       "      <td>1.151543e-03</td>\n",
       "      <td>1</td>\n",
       "    </tr>\n",
       "    <tr>\n",
       "      <th>2021-11-30 19:45:00</th>\n",
       "      <td>347.3701</td>\n",
       "      <td>-1.121176e-03</td>\n",
       "      <td>0</td>\n",
       "    </tr>\n",
       "    <tr>\n",
       "      <th>2021-11-30 19:50:00</th>\n",
       "      <td>347.3700</td>\n",
       "      <td>-2.878774e-07</td>\n",
       "      <td>0</td>\n",
       "    </tr>\n",
       "    <tr>\n",
       "      <th>2021-11-30 19:55:00</th>\n",
       "      <td>347.4400</td>\n",
       "      <td>2.015142e-04</td>\n",
       "      <td>1</td>\n",
       "    </tr>\n",
       "    <tr>\n",
       "      <th>2021-11-30 20:00:00</th>\n",
       "      <td>347.5000</td>\n",
       "      <td>1.726917e-04</td>\n",
       "      <td>1</td>\n",
       "    </tr>\n",
       "  </tbody>\n",
       "</table>\n",
       "<p>3181 rows × 3 columns</p>\n",
       "</div>"
      ],
      "text/plain": [
       "                        close        change  trend\n",
       "time                                              \n",
       "2021-11-01 04:20:00  339.9900  2.920354e-03      1\n",
       "2021-11-01 04:30:00  339.9600 -8.823789e-05      0\n",
       "2021-11-01 04:45:00  338.0100 -5.735969e-03      0\n",
       "2021-11-01 05:10:00  341.0000  8.845892e-03      1\n",
       "2021-11-01 05:15:00  341.0000  0.000000e+00      0\n",
       "...                       ...           ...    ...\n",
       "2021-11-30 19:40:00  347.7600  1.151543e-03      1\n",
       "2021-11-30 19:45:00  347.3701 -1.121176e-03      0\n",
       "2021-11-30 19:50:00  347.3700 -2.878774e-07      0\n",
       "2021-11-30 19:55:00  347.4400  2.015142e-04      1\n",
       "2021-11-30 20:00:00  347.5000  1.726917e-04      1\n",
       "\n",
       "[3181 rows x 3 columns]"
      ]
     },
     "execution_count": 74,
     "metadata": {},
     "output_type": "execute_result"
    }
   ],
   "source": [
    "df_mrna['trend'] = 1 * (df_mrna['change'] > 0) #crate a dummy for positive chhnage = 1 and negative change = 0\n",
    "df_mrna"
   ]
  },
  {
   "cell_type": "code",
   "execution_count": 75,
   "metadata": {},
   "outputs": [
    {
     "name": "stderr",
     "output_type": "stream",
     "text": [
      "/Library/Frameworks/Python.framework/Versions/3.9/lib/python3.9/site-packages/seaborn/_decorators.py:36: FutureWarning: Pass the following variable as a keyword arg: x. From version 0.12, the only valid positional argument will be `data`, and passing other arguments without an explicit keyword will result in an error or misinterpretation.\n",
      "  warnings.warn(\n"
     ]
    },
    {
     "data": {
      "image/png": "[encoded data removed]",
      "text/plain": [
       "<Figure size 864x576 with 1 Axes>"
      ]
     },
     "metadata": {
      "needs_background": "light"
     },
     "output_type": "display_data"
    }
   ],
   "source": [
    "ax=plt.subplots(1,1,figsize=(12,8))\n",
    "sns.countplot(x ='trend',data=df_mrna)# we show the frequency of positive and negative changes with bar plot \n",
    "plt.title(\"Moderna Market Trends\")\n",
    "plt.show()"
   ]
  },
  {
   "cell_type": "code",
   "execution_count": 76,
   "metadata": {},
   "outputs": [],
   "source": [
    "# we merge the finance, sentiment and occurrence analysis datasets\n",
    "nyt_m.index = pd.to_datetime(nyt_m.index).tz_localize('Etc/UCT')\n",
    "g_df.index = pd.to_datetime(g_df.index).tz_localize('Etc/UCT')\n",
    "df = pd.merge_asof(df_mrna, nyt_m, left_index=True, right_index=True)\n",
    "dfm = pd.merge_asof(df, g_df, left_index=True, right_index=True)"
   ]
  },
  {
   "cell_type": "code",
   "execution_count": 77,
   "metadata": {},
   "outputs": [],
   "source": [
    "dfm.dropna(inplace = True)# drop rows where the vlaue is null"
   ]
  },
  {
   "cell_type": "markdown",
   "metadata": {},
   "source": [
    "### Pfizer"
   ]
  },
  {
   "cell_type": "code",
   "execution_count": 78,
   "metadata": {},
   "outputs": [
    {
     "data": {
      "text/html": [
       "<div>\n",
       "<style scoped>\n",
       "    .dataframe tbody tr th:only-of-type {\n",
       "        vertical-align: middle;\n",
       "    }\n",
       "\n",
       "    .dataframe tbody tr th {\n",
       "        vertical-align: top;\n",
       "    }\n",
       "\n",
       "    .dataframe thead th {\n",
       "        text-align: right;\n",
       "    }\n",
       "</style>\n",
       "<table border=\"1\" class=\"dataframe\">\n",
       "  <thead>\n",
       "    <tr style=\"text-align: right;\">\n",
       "      <th></th>\n",
       "      <th>close</th>\n",
       "      <th>change</th>\n",
       "    </tr>\n",
       "    <tr>\n",
       "      <th>time</th>\n",
       "      <th></th>\n",
       "      <th></th>\n",
       "    </tr>\n",
       "  </thead>\n",
       "  <tbody>\n",
       "    <tr>\n",
       "      <th>2021-11-01 04:05:00</th>\n",
       "      <td>62.72</td>\n",
       "      <td>NaN</td>\n",
       "    </tr>\n",
       "    <tr>\n",
       "      <th>2021-11-01 04:10:00</th>\n",
       "      <td>62.59</td>\n",
       "      <td>-0.002073</td>\n",
       "    </tr>\n",
       "    <tr>\n",
       "      <th>2021-11-01 04:30:00</th>\n",
       "      <td>62.49</td>\n",
       "      <td>-0.001598</td>\n",
       "    </tr>\n",
       "    <tr>\n",
       "      <th>2021-11-01 05:00:00</th>\n",
       "      <td>62.42</td>\n",
       "      <td>-0.001120</td>\n",
       "    </tr>\n",
       "    <tr>\n",
       "      <th>2021-11-01 07:15:00</th>\n",
       "      <td>62.32</td>\n",
       "      <td>-0.001602</td>\n",
       "    </tr>\n",
       "  </tbody>\n",
       "</table>\n",
       "</div>"
      ],
      "text/plain": [
       "                     close    change\n",
       "time                                \n",
       "2021-11-01 04:05:00  62.72       NaN\n",
       "2021-11-01 04:10:00  62.59 -0.002073\n",
       "2021-11-01 04:30:00  62.49 -0.001598\n",
       "2021-11-01 05:00:00  62.42 -0.001120\n",
       "2021-11-01 07:15:00  62.32 -0.001602"
      ]
     },
     "execution_count": 78,
     "metadata": {},
     "output_type": "execute_result"
    }
   ],
   "source": [
    "df_pfe = pd.read_csv('data/PFE_monthly.csv', index_col=0, parse_dates=['time']) #read the Moderna data\n",
    "df_pfe.sort_values(\"time\", inplace = True)\n",
    "df_pfe.head()"
   ]
  },
  {
   "cell_type": "code",
   "execution_count": 79,
   "metadata": {},
   "outputs": [
    {
     "data": {
      "image/png": "[encoded data removed]",
      "text/plain": [
       "<Figure size 864x576 with 1 Axes>"
      ]
     },
     "metadata": {
      "needs_background": "light"
     },
     "output_type": "display_data"
    }
   ],
   "source": [
    "df_pfe['close'].plot(figsize=(12,8))\n",
    "plt.title(\"Pfizer Market Trends\")\n",
    "plt.show() # plot the adjusted close data to look at the maket trends overtime "
   ]
  },
  {
   "cell_type": "code",
   "execution_count": 80,
   "metadata": {},
   "outputs": [
    {
     "data": {
      "image/png": "[encoded data removed]",
      "text/plain": [
       "<Figure size 864x576 with 1 Axes>"
      ]
     },
     "metadata": {
      "needs_background": "light"
     },
     "output_type": "display_data"
    }
   ],
   "source": [
    "df_pfe['change'].hist(bins=50, figsize=(12,8))\n",
    "plt.title(\"Percentage Changes in the Pfizer Stock Market\")\n",
    "plt.show() #plot a hitsogram of the percentage changes to look at their distribution"
   ]
  },
  {
   "cell_type": "code",
   "execution_count": 81,
   "metadata": {},
   "outputs": [
    {
     "data": {
      "text/html": [
       "<div>\n",
       "<style scoped>\n",
       "    .dataframe tbody tr th:only-of-type {\n",
       "        vertical-align: middle;\n",
       "    }\n",
       "\n",
       "    .dataframe tbody tr th {\n",
       "        vertical-align: top;\n",
       "    }\n",
       "\n",
       "    .dataframe thead th {\n",
       "        text-align: right;\n",
       "    }\n",
       "</style>\n",
       "<table border=\"1\" class=\"dataframe\">\n",
       "  <thead>\n",
       "    <tr style=\"text-align: right;\">\n",
       "      <th></th>\n",
       "      <th>close</th>\n",
       "      <th>change</th>\n",
       "      <th>trend</th>\n",
       "    </tr>\n",
       "    <tr>\n",
       "      <th>time</th>\n",
       "      <th></th>\n",
       "      <th></th>\n",
       "      <th></th>\n",
       "    </tr>\n",
       "  </thead>\n",
       "  <tbody>\n",
       "    <tr>\n",
       "      <th>2021-11-01 04:05:00</th>\n",
       "      <td>62.7200</td>\n",
       "      <td>NaN</td>\n",
       "      <td>0</td>\n",
       "    </tr>\n",
       "    <tr>\n",
       "      <th>2021-11-01 04:10:00</th>\n",
       "      <td>62.5900</td>\n",
       "      <td>-0.002073</td>\n",
       "      <td>0</td>\n",
       "    </tr>\n",
       "    <tr>\n",
       "      <th>2021-11-01 04:30:00</th>\n",
       "      <td>62.4900</td>\n",
       "      <td>-0.001598</td>\n",
       "      <td>0</td>\n",
       "    </tr>\n",
       "    <tr>\n",
       "      <th>2021-11-01 05:00:00</th>\n",
       "      <td>62.4200</td>\n",
       "      <td>-0.001120</td>\n",
       "      <td>0</td>\n",
       "    </tr>\n",
       "    <tr>\n",
       "      <th>2021-11-01 07:15:00</th>\n",
       "      <td>62.3200</td>\n",
       "      <td>-0.001602</td>\n",
       "      <td>0</td>\n",
       "    </tr>\n",
       "    <tr>\n",
       "      <th>...</th>\n",
       "      <td>...</td>\n",
       "      <td>...</td>\n",
       "      <td>...</td>\n",
       "    </tr>\n",
       "    <tr>\n",
       "      <th>2021-11-30 16:35:00</th>\n",
       "      <td>54.8300</td>\n",
       "      <td>0.000000</td>\n",
       "      <td>0</td>\n",
       "    </tr>\n",
       "    <tr>\n",
       "      <th>2021-11-30 18:30:00</th>\n",
       "      <td>55.0000</td>\n",
       "      <td>0.003100</td>\n",
       "      <td>1</td>\n",
       "    </tr>\n",
       "    <tr>\n",
       "      <th>2021-11-30 18:55:00</th>\n",
       "      <td>55.0000</td>\n",
       "      <td>0.000000</td>\n",
       "      <td>0</td>\n",
       "    </tr>\n",
       "    <tr>\n",
       "      <th>2021-11-30 19:30:00</th>\n",
       "      <td>55.0000</td>\n",
       "      <td>0.000000</td>\n",
       "      <td>0</td>\n",
       "    </tr>\n",
       "    <tr>\n",
       "      <th>2021-11-30 19:55:00</th>\n",
       "      <td>55.0001</td>\n",
       "      <td>0.000002</td>\n",
       "      <td>1</td>\n",
       "    </tr>\n",
       "  </tbody>\n",
       "</table>\n",
       "<p>2468 rows × 3 columns</p>\n",
       "</div>"
      ],
      "text/plain": [
       "                       close    change  trend\n",
       "time                                         \n",
       "2021-11-01 04:05:00  62.7200       NaN      0\n",
       "2021-11-01 04:10:00  62.5900 -0.002073      0\n",
       "2021-11-01 04:30:00  62.4900 -0.001598      0\n",
       "2021-11-01 05:00:00  62.4200 -0.001120      0\n",
       "2021-11-01 07:15:00  62.3200 -0.001602      0\n",
       "...                      ...       ...    ...\n",
       "2021-11-30 16:35:00  54.8300  0.000000      0\n",
       "2021-11-30 18:30:00  55.0000  0.003100      1\n",
       "2021-11-30 18:55:00  55.0000  0.000000      0\n",
       "2021-11-30 19:30:00  55.0000  0.000000      0\n",
       "2021-11-30 19:55:00  55.0001  0.000002      1\n",
       "\n",
       "[2468 rows x 3 columns]"
      ]
     },
     "execution_count": 81,
     "metadata": {},
     "output_type": "execute_result"
    }
   ],
   "source": [
    "df_pfe['trend'] = 1 * (df_pfe['change'] > 0) #crate a dummy for positive chhnage = 1 and negative change = 0\n",
    "df_pfe"
   ]
  },
  {
   "cell_type": "code",
   "execution_count": 82,
   "metadata": {},
   "outputs": [
    {
     "name": "stderr",
     "output_type": "stream",
     "text": [
      "/Library/Frameworks/Python.framework/Versions/3.9/lib/python3.9/site-packages/seaborn/_decorators.py:36: FutureWarning: Pass the following variable as a keyword arg: x. From version 0.12, the only valid positional argument will be `data`, and passing other arguments without an explicit keyword will result in an error or misinterpretation.\n",
      "  warnings.warn(\n"
     ]
    },
    {
     "data": {
      "image/png": "[encoded data removed]",
      "text/plain": [
       "<Figure size 864x576 with 1 Axes>"
      ]
     },
     "metadata": {
      "needs_background": "light"
     },
     "output_type": "display_data"
    }
   ],
   "source": [
    "ax=plt.subplots(1,1,figsize=(12,8))\n",
    "sns.countplot(x ='trend',data=df_pfe)# we show the frequency of positive and negative changes with bar plot \n",
    "plt.title(\"Pfizer Market Trends\")\n",
    "plt.show()"
   ]
  },
  {
   "cell_type": "code",
   "execution_count": 83,
   "metadata": {},
   "outputs": [],
   "source": [
    "# we merge the finance, sentiment and occurrence analysis datasets\n",
    "df = pd.merge_asof(df_pfe, nyt_m, left_index=True, right_index=True)\n",
    "dfp = pd.merge_asof(df, g_df, left_index=True, right_index=True)"
   ]
  },
  {
   "cell_type": "code",
   "execution_count": 84,
   "metadata": {},
   "outputs": [],
   "source": [
    "dfp.dropna(inplace = True)# drop rows where the vlaue is null"
   ]
  },
  {
   "cell_type": "markdown",
   "metadata": {},
   "source": [
    "### AstraZeneca"
   ]
  },
  {
   "cell_type": "code",
   "execution_count": 85,
   "metadata": {
    "scrolled": true
   },
   "outputs": [
    {
     "data": {
      "text/html": [
       "<div>\n",
       "<style scoped>\n",
       "    .dataframe tbody tr th:only-of-type {\n",
       "        vertical-align: middle;\n",
       "    }\n",
       "\n",
       "    .dataframe tbody tr th {\n",
       "        vertical-align: top;\n",
       "    }\n",
       "\n",
       "    .dataframe thead th {\n",
       "        text-align: right;\n",
       "    }\n",
       "</style>\n",
       "<table border=\"1\" class=\"dataframe\">\n",
       "  <thead>\n",
       "    <tr style=\"text-align: right;\">\n",
       "      <th></th>\n",
       "      <th>close</th>\n",
       "      <th>change</th>\n",
       "    </tr>\n",
       "    <tr>\n",
       "      <th>time</th>\n",
       "      <th></th>\n",
       "      <th></th>\n",
       "    </tr>\n",
       "  </thead>\n",
       "  <tbody>\n",
       "    <tr>\n",
       "      <th>2021-11-01 04:05:00</th>\n",
       "      <td>62.72</td>\n",
       "      <td>NaN</td>\n",
       "    </tr>\n",
       "    <tr>\n",
       "      <th>2021-11-01 04:10:00</th>\n",
       "      <td>62.59</td>\n",
       "      <td>-0.002073</td>\n",
       "    </tr>\n",
       "    <tr>\n",
       "      <th>2021-11-01 04:30:00</th>\n",
       "      <td>62.49</td>\n",
       "      <td>-0.001598</td>\n",
       "    </tr>\n",
       "    <tr>\n",
       "      <th>2021-11-01 05:00:00</th>\n",
       "      <td>62.42</td>\n",
       "      <td>-0.001120</td>\n",
       "    </tr>\n",
       "    <tr>\n",
       "      <th>2021-11-01 07:15:00</th>\n",
       "      <td>62.32</td>\n",
       "      <td>-0.001602</td>\n",
       "    </tr>\n",
       "  </tbody>\n",
       "</table>\n",
       "</div>"
      ],
      "text/plain": [
       "                     close    change\n",
       "time                                \n",
       "2021-11-01 04:05:00  62.72       NaN\n",
       "2021-11-01 04:10:00  62.59 -0.002073\n",
       "2021-11-01 04:30:00  62.49 -0.001598\n",
       "2021-11-01 05:00:00  62.42 -0.001120\n",
       "2021-11-01 07:15:00  62.32 -0.001602"
      ]
     },
     "execution_count": 85,
     "metadata": {},
     "output_type": "execute_result"
    }
   ],
   "source": [
    "df_azn = pd.read_csv('data/AZN_monthly.csv', index_col=0, parse_dates=['time']) #read the Moderna data\n",
    "df_azn.sort_values(\"time\", inplace = True)\n",
    "df_azn.head()"
   ]
  },
  {
   "cell_type": "code",
   "execution_count": 86,
   "metadata": {},
   "outputs": [],
   "source": [
    "df_azn.dropna(inplace = True)# drop rows where the vlaue is null"
   ]
  },
  {
   "cell_type": "code",
   "execution_count": 87,
   "metadata": {},
   "outputs": [
    {
     "data": {
      "image/png": "[encoded data removed]",
      "text/plain": [
       "<Figure size 864x576 with 1 Axes>"
      ]
     },
     "metadata": {
      "needs_background": "light"
     },
     "output_type": "display_data"
    }
   ],
   "source": [
    "df_azn['close'].plot(figsize=(12,8))\n",
    "plt.title(\"AstraZeneca Market Trends\")\n",
    "plt.show() # plot the adjusted close data to look at the maket trends overtime "
   ]
  },
  {
   "cell_type": "code",
   "execution_count": 88,
   "metadata": {},
   "outputs": [
    {
     "data": {
      "image/png": "[encoded data removed]",
      "text/plain": [
       "<Figure size 864x576 with 1 Axes>"
      ]
     },
     "metadata": {
      "needs_background": "light"
     },
     "output_type": "display_data"
    }
   ],
   "source": [
    "df_azn['change'].hist(bins=50, figsize=(12,8))\n",
    "plt.title(\"Percentage Changes in the AstraZeneca Stock Market\")\n",
    "plt.show() #plot a hitsogram of the percentage changes to look at their distribution"
   ]
  },
  {
   "cell_type": "code",
   "execution_count": 89,
   "metadata": {
    "scrolled": true
   },
   "outputs": [
    {
     "data": {
      "text/html": [
       "<div>\n",
       "<style scoped>\n",
       "    .dataframe tbody tr th:only-of-type {\n",
       "        vertical-align: middle;\n",
       "    }\n",
       "\n",
       "    .dataframe tbody tr th {\n",
       "        vertical-align: top;\n",
       "    }\n",
       "\n",
       "    .dataframe thead th {\n",
       "        text-align: right;\n",
       "    }\n",
       "</style>\n",
       "<table border=\"1\" class=\"dataframe\">\n",
       "  <thead>\n",
       "    <tr style=\"text-align: right;\">\n",
       "      <th></th>\n",
       "      <th>close</th>\n",
       "      <th>change</th>\n",
       "      <th>trend</th>\n",
       "    </tr>\n",
       "    <tr>\n",
       "      <th>time</th>\n",
       "      <th></th>\n",
       "      <th></th>\n",
       "      <th></th>\n",
       "    </tr>\n",
       "  </thead>\n",
       "  <tbody>\n",
       "    <tr>\n",
       "      <th>2021-11-01 04:10:00</th>\n",
       "      <td>62.5900</td>\n",
       "      <td>-0.002073</td>\n",
       "      <td>0</td>\n",
       "    </tr>\n",
       "    <tr>\n",
       "      <th>2021-11-01 04:30:00</th>\n",
       "      <td>62.4900</td>\n",
       "      <td>-0.001598</td>\n",
       "      <td>0</td>\n",
       "    </tr>\n",
       "    <tr>\n",
       "      <th>2021-11-01 05:00:00</th>\n",
       "      <td>62.4200</td>\n",
       "      <td>-0.001120</td>\n",
       "      <td>0</td>\n",
       "    </tr>\n",
       "    <tr>\n",
       "      <th>2021-11-01 07:15:00</th>\n",
       "      <td>62.3200</td>\n",
       "      <td>-0.001602</td>\n",
       "      <td>0</td>\n",
       "    </tr>\n",
       "    <tr>\n",
       "      <th>2021-11-01 07:30:00</th>\n",
       "      <td>62.4300</td>\n",
       "      <td>0.001765</td>\n",
       "      <td>1</td>\n",
       "    </tr>\n",
       "    <tr>\n",
       "      <th>...</th>\n",
       "      <td>...</td>\n",
       "      <td>...</td>\n",
       "      <td>...</td>\n",
       "    </tr>\n",
       "    <tr>\n",
       "      <th>2021-11-30 16:35:00</th>\n",
       "      <td>54.8300</td>\n",
       "      <td>0.000000</td>\n",
       "      <td>0</td>\n",
       "    </tr>\n",
       "    <tr>\n",
       "      <th>2021-11-30 18:30:00</th>\n",
       "      <td>55.0000</td>\n",
       "      <td>0.003100</td>\n",
       "      <td>1</td>\n",
       "    </tr>\n",
       "    <tr>\n",
       "      <th>2021-11-30 18:55:00</th>\n",
       "      <td>55.0000</td>\n",
       "      <td>0.000000</td>\n",
       "      <td>0</td>\n",
       "    </tr>\n",
       "    <tr>\n",
       "      <th>2021-11-30 19:30:00</th>\n",
       "      <td>55.0000</td>\n",
       "      <td>0.000000</td>\n",
       "      <td>0</td>\n",
       "    </tr>\n",
       "    <tr>\n",
       "      <th>2021-11-30 19:55:00</th>\n",
       "      <td>55.0001</td>\n",
       "      <td>0.000002</td>\n",
       "      <td>1</td>\n",
       "    </tr>\n",
       "  </tbody>\n",
       "</table>\n",
       "<p>2467 rows × 3 columns</p>\n",
       "</div>"
      ],
      "text/plain": [
       "                       close    change  trend\n",
       "time                                         \n",
       "2021-11-01 04:10:00  62.5900 -0.002073      0\n",
       "2021-11-01 04:30:00  62.4900 -0.001598      0\n",
       "2021-11-01 05:00:00  62.4200 -0.001120      0\n",
       "2021-11-01 07:15:00  62.3200 -0.001602      0\n",
       "2021-11-01 07:30:00  62.4300  0.001765      1\n",
       "...                      ...       ...    ...\n",
       "2021-11-30 16:35:00  54.8300  0.000000      0\n",
       "2021-11-30 18:30:00  55.0000  0.003100      1\n",
       "2021-11-30 18:55:00  55.0000  0.000000      0\n",
       "2021-11-30 19:30:00  55.0000  0.000000      0\n",
       "2021-11-30 19:55:00  55.0001  0.000002      1\n",
       "\n",
       "[2467 rows x 3 columns]"
      ]
     },
     "execution_count": 89,
     "metadata": {},
     "output_type": "execute_result"
    }
   ],
   "source": [
    "df_azn['trend'] = 1 * (df_azn['change'] > 0) #crate a dummy for positive chhnage = 1 and negative change = 0\n",
    "df_azn"
   ]
  },
  {
   "cell_type": "code",
   "execution_count": 110,
   "metadata": {},
   "outputs": [
    {
     "data": {
      "image/png": "[encoded data removed]",
      "text/plain": [
       "<Figure size 864x576 with 1 Axes>"
      ]
     },
     "metadata": {
      "needs_background": "light"
     },
     "output_type": "display_data"
    }
   ],
   "source": [
    "ax=plt.subplots(1,1,figsize=(12,8))\n",
    "sns.countplot(x ='trend',data=df_azn)# we show the frequency of positive and negative changes with bar plot \n",
    "plt.title(\"AstraZeneca Market Trends\")\n",
    "plt.show()"
   ]
  },
  {
   "cell_type": "code",
   "execution_count": 91,
   "metadata": {},
   "outputs": [],
   "source": [
    "# we merge the finance, sentiment and occurrence analysis datasets\n",
    "df = pd.merge_asof(df_azn, nyt_m, left_index=True, right_index=True)\n",
    "dfa = pd.merge_asof(df, g_df, left_index=True, right_index=True)"
   ]
  },
  {
   "cell_type": "code",
   "execution_count": 92,
   "metadata": {},
   "outputs": [],
   "source": [
    "dfa.dropna(inplace = True)# drop rows where the vlaue is null"
   ]
  },
  {
   "cell_type": "markdown",
   "metadata": {},
   "source": [
    "# Regression Analysis"
   ]
  },
  {
   "cell_type": "code",
   "execution_count": 59,
   "metadata": {},
   "outputs": [],
   "source": [
    "import statsmodels.api as sm"
   ]
  },
  {
   "cell_type": "markdown",
   "metadata": {},
   "source": [
    "## Explaning Market Price Change with News Sentiment\n",
    "\n",
    "We use logistic regression to look at the relationship between the probability of witnessing an increase in stock market prices and the sentiment of Covid-related news. We run two analyses one for the year 2021 and one for November."
   ]
  },
  {
   "cell_type": "markdown",
   "metadata": {},
   "source": [
    "### Yearly Anlaysis"
   ]
  },
  {
   "cell_type": "markdown",
   "metadata": {},
   "source": [
    "We use regression analysis to detect the potential influence of Covid-related news sentiment on the probability of witnessing positive trends in the market prices of Moderna, Pfizer, and AstraZeneca for the year 2021. We run a binomial logistic regression of the trend (positive = 1 or negative = 0) on the abstract polarity for each pharmaceutical company:"
   ]
  },
  {
   "cell_type": "markdown",
   "metadata": {},
   "source": [
    "#### Moderna "
   ]
  },
  {
   "cell_type": "code",
   "execution_count": 95,
   "metadata": {
    "scrolled": true
   },
   "outputs": [
    {
     "name": "stdout",
     "output_type": "stream",
     "text": [
      "Optimization terminated successfully.\n",
      "         Current function value: 0.692960\n",
      "         Iterations 3\n",
      "                           Logit Regression Results                           \n",
      "==============================================================================\n",
      "Dep. Variable:                  trend   No. Observations:                  229\n",
      "Model:                          Logit   Df Residuals:                      228\n",
      "Method:                           MLE   Df Model:                            0\n",
      "Date:                Sun, 19 Dec 2021   Pseudo R-squ.:               -0.002061\n",
      "Time:                        10:45:52   Log-Likelihood:                -158.69\n",
      "converged:                       True   LL-Null:                       -158.36\n",
      "Covariance Type:            nonrobust   LLR p-value:                       nan\n",
      "=====================================================================================\n",
      "                        coef    std err          z      P>|z|      [0.025      0.975]\n",
      "-------------------------------------------------------------------------------------\n",
      "abstract_polarity     0.0652      0.223      0.293      0.770      -0.371       0.502\n",
      "=====================================================================================\n"
     ]
    }
   ],
   "source": [
    "#we run the regression for Moderna and show the results\n",
    "log_reg = sm.Logit(df_m['trend'], df_m['abstract_polarity']).fit()\n",
    "print(log_reg.summary())"
   ]
  },
  {
   "cell_type": "markdown",
   "metadata": {},
   "source": [
    "#### AstraZeneca"
   ]
  },
  {
   "cell_type": "code",
   "execution_count": 96,
   "metadata": {
    "scrolled": true
   },
   "outputs": [
    {
     "name": "stdout",
     "output_type": "stream",
     "text": [
      "Optimization terminated successfully.\n",
      "         Current function value: 0.689401\n",
      "         Iterations 4\n",
      "                           Logit Regression Results                           \n",
      "==============================================================================\n",
      "Dep. Variable:                  trend   No. Observations:                  229\n",
      "Model:                          Logit   Df Residuals:                      228\n",
      "Method:                           MLE   Df Model:                            0\n",
      "Date:                Sun, 19 Dec 2021   Pseudo R-squ.:                0.004295\n",
      "Time:                        10:45:52   Log-Likelihood:                -157.87\n",
      "converged:                       True   LL-Null:                       -158.55\n",
      "Covariance Type:            nonrobust   LLR p-value:                       nan\n",
      "=====================================================================================\n",
      "                        coef    std err          z      P>|z|      [0.025      0.975]\n",
      "-------------------------------------------------------------------------------------\n",
      "abstract_polarity     0.2924      0.224      1.306      0.191      -0.146       0.731\n",
      "=====================================================================================\n"
     ]
    }
   ],
   "source": [
    "#we run the regression for Astrazeneca and show the results\n",
    "log_reg = sm.Logit(df_a['trend'], df_a['abstract_polarity']).fit()\n",
    "print(log_reg.summary())"
   ]
  },
  {
   "cell_type": "markdown",
   "metadata": {},
   "source": [
    "#### Pfizer"
   ]
  },
  {
   "cell_type": "code",
   "execution_count": 97,
   "metadata": {
    "scrolled": false
   },
   "outputs": [
    {
     "name": "stdout",
     "output_type": "stream",
     "text": [
      "Optimization terminated successfully.\n",
      "         Current function value: 0.692792\n",
      "         Iterations 3\n",
      "                           Logit Regression Results                           \n",
      "==============================================================================\n",
      "Dep. Variable:                  trend   No. Observations:                  229\n",
      "Model:                          Logit   Df Residuals:                      228\n",
      "Method:                           MLE   Df Model:                            0\n",
      "Date:                Sun, 19 Dec 2021   Pseudo R-squ.:               0.0001688\n",
      "Time:                        10:45:52   Log-Likelihood:                -158.65\n",
      "converged:                       True   LL-Null:                       -158.68\n",
      "Covariance Type:            nonrobust   LLR p-value:                       nan\n",
      "=====================================================================================\n",
      "                        coef    std err          z      P>|z|      [0.025      0.975]\n",
      "-------------------------------------------------------------------------------------\n",
      "abstract_polarity     0.0899      0.223      0.403      0.687      -0.347       0.527\n",
      "=====================================================================================\n"
     ]
    }
   ],
   "source": [
    "#we run the regression for Pfizer and show the results\n",
    "log_reg = sm.Logit(df_p['trend'], df_p['abstract_polarity']).fit()\n",
    "print(log_reg.summary())"
   ]
  },
  {
   "cell_type": "markdown",
   "metadata": {},
   "source": [
    "### Findings\n",
    "\n",
    "The regression outputs show that z-values are in absolute terms below 1.96, hence we cannot reject the null hypothesis that there is no relation between market trends and abstract polarity with strong statistical confidence. In other words,we do not detect a statistically significant relationship between changes in news sentiment and the probability of witnessing an increase in the market price of the three companies in 2021."
   ]
  },
  {
   "cell_type": "markdown",
   "metadata": {},
   "source": [
    "### Monthly Analysis"
   ]
  },
  {
   "cell_type": "markdown",
   "metadata": {},
   "source": [
    "We then use the same technique to detect the potential influence of Covid-related news sentiment on the probability of witnessing positive trends in the market prices of Moderna, Pfizer, and AstraZeneca for the month of November. We run a binomial logistic regression of the trend (positive = 1 or negative = 0) on the abstract polarity for each pharmaceutical company:"
   ]
  },
  {
   "cell_type": "markdown",
   "metadata": {},
   "source": [
    "#### Moderna "
   ]
  },
  {
   "cell_type": "code",
   "execution_count": 98,
   "metadata": {
    "scrolled": true
   },
   "outputs": [
    {
     "name": "stdout",
     "output_type": "stream",
     "text": [
      "Optimization terminated successfully.\n",
      "         Current function value: 0.692800\n",
      "         Iterations 3\n",
      "                           Logit Regression Results                           \n",
      "==============================================================================\n",
      "Dep. Variable:                  trend   No. Observations:                 3106\n",
      "Model:                          Logit   Df Residuals:                     3105\n",
      "Method:                           MLE   Df Model:                            0\n",
      "Date:                Sun, 19 Dec 2021   Pseudo R-squ.:               0.0003136\n",
      "Time:                        10:45:52   Log-Likelihood:                -2151.8\n",
      "converged:                       True   LL-Null:                       -2152.5\n",
      "Covariance Type:            nonrobust   LLR p-value:                       nan\n",
      "=====================================================================================\n",
      "                        coef    std err          z      P>|z|      [0.025      0.975]\n",
      "-------------------------------------------------------------------------------------\n",
      "polarity_abstract    -0.2882      0.196     -1.467      0.142      -0.673       0.097\n",
      "=====================================================================================\n"
     ]
    }
   ],
   "source": [
    "#we run the regression for Moderna and show the results\n",
    "log_reg = sm.Logit(dfm['trend'], dfm['polarity_abstract']).fit()\n",
    "print(log_reg.summary())"
   ]
  },
  {
   "cell_type": "markdown",
   "metadata": {},
   "source": [
    "#### AstraZeneca"
   ]
  },
  {
   "cell_type": "code",
   "execution_count": 99,
   "metadata": {
    "scrolled": true
   },
   "outputs": [
    {
     "name": "stdout",
     "output_type": "stream",
     "text": [
      "Optimization terminated successfully.\n",
      "         Current function value: 0.692939\n",
      "         Iterations 3\n",
      "                           Logit Regression Results                           \n",
      "==============================================================================\n",
      "Dep. Variable:                  trend   No. Observations:                 2418\n",
      "Model:                          Logit   Df Residuals:                     2417\n",
      "Method:                           MLE   Df Model:                            0\n",
      "Date:                Sun, 19 Dec 2021   Pseudo R-squ.:               -0.005824\n",
      "Time:                        10:45:52   Log-Likelihood:                -1675.5\n",
      "converged:                       True   LL-Null:                       -1665.8\n",
      "Covariance Type:            nonrobust   LLR p-value:                       nan\n",
      "=====================================================================================\n",
      "                        coef    std err          z      P>|z|      [0.025      0.975]\n",
      "-------------------------------------------------------------------------------------\n",
      "polarity_abstract     0.2179      0.217      1.004      0.316      -0.208       0.644\n",
      "=====================================================================================\n"
     ]
    }
   ],
   "source": [
    "#we run the regression for Astrazeneca and show the results\n",
    "log_reg = sm.Logit(dfa['trend'], dfa['polarity_abstract']).fit()\n",
    "print(log_reg.summary())"
   ]
  },
  {
   "cell_type": "markdown",
   "metadata": {},
   "source": [
    "#### Pfizer"
   ]
  },
  {
   "cell_type": "code",
   "execution_count": 100,
   "metadata": {
    "scrolled": true
   },
   "outputs": [
    {
     "name": "stdout",
     "output_type": "stream",
     "text": [
      "Optimization terminated successfully.\n",
      "         Current function value: 0.692939\n",
      "         Iterations 3\n",
      "                           Logit Regression Results                           \n",
      "==============================================================================\n",
      "Dep. Variable:                  trend   No. Observations:                 2418\n",
      "Model:                          Logit   Df Residuals:                     2417\n",
      "Method:                           MLE   Df Model:                            0\n",
      "Date:                Sun, 19 Dec 2021   Pseudo R-squ.:               -0.005824\n",
      "Time:                        10:45:52   Log-Likelihood:                -1675.5\n",
      "converged:                       True   LL-Null:                       -1665.8\n",
      "Covariance Type:            nonrobust   LLR p-value:                       nan\n",
      "=====================================================================================\n",
      "                        coef    std err          z      P>|z|      [0.025      0.975]\n",
      "-------------------------------------------------------------------------------------\n",
      "polarity_abstract     0.2179      0.217      1.004      0.316      -0.208       0.644\n",
      "=====================================================================================\n"
     ]
    }
   ],
   "source": [
    "#we run the regression for Pfizer and show the results\n",
    "log_reg = sm.Logit(dfp['trend'], dfp['polarity_abstract']).fit()\n",
    "print(log_reg.summary())"
   ]
  },
  {
   "cell_type": "markdown",
   "metadata": {},
   "source": [
    "### Findings\n",
    "\n",
    "The regression outputs show that z-values for Moderna and Pfizer are in absolute terms above 1.96, hence we can, we strong statistical confidence (95%), reject the null hypothesis that there is no relation between market trends and abstracts polarity. The opposite is true for AstraZeneca, for which results are not statistically convincing. Moreover, we find that the detected relationships are negative, meaning that as abstract polarity increases, the probability of witnessing an increase in the market price for Moderna and Pfizer decreases. \n",
    "We can interpret the detected relationships as follows:"
   ]
  },
  {
   "cell_type": "code",
   "execution_count": 101,
   "metadata": {},
   "outputs": [
    {
     "name": "stdout",
     "output_type": "stream",
     "text": [
      "-0.34031972951561096\n",
      "-0.31449535230811343\n"
     ]
    }
   ],
   "source": [
    "#we take the exponential of the coefficient and subtract 1 to find the percentage change\n",
    "import math\n",
    "print(math.exp(-0.4160)-1)#Moderna\n",
    "print(math.exp(-0.3776)-1)#Pfizer"
   ]
  },
  {
   "cell_type": "markdown",
   "metadata": {},
   "source": [
    "Therefore, the odds of witnessing an increase in the stock market price of Moderna and Pfizer decrease of 34% and 31% respectively for an increase in one unit in abstract polarity in the year 2021."
   ]
  },
  {
   "cell_type": "markdown",
   "metadata": {},
   "source": [
    "## Explaining Market Price Change with News Occurrence"
   ]
  },
  {
   "cell_type": "markdown",
   "metadata": {},
   "source": [
    "We use logistic regression to look at the relationship between the probability of witnessing an increase in stock market prices and the occurrence of Covid-related news. We run two analyses one for the year 2021 and one for the month of November."
   ]
  },
  {
   "cell_type": "markdown",
   "metadata": {},
   "source": [
    "### Yearly Analysis"
   ]
  },
  {
   "cell_type": "markdown",
   "metadata": {},
   "source": [
    "We use regression analysis to detect the potential influence of Covid-related news occurrence on the probability of witnessing positive trends in the market prices of Moderna, Pfizer, and AstraZeneca for the year 2021. We run a binomial logistic regression of the trend (positive = 1 or negative = 0) on news occurrence for each pharmaceutical company:"
   ]
  },
  {
   "cell_type": "markdown",
   "metadata": {},
   "source": [
    "#### Moderna"
   ]
  },
  {
   "cell_type": "code",
   "execution_count": 103,
   "metadata": {
    "scrolled": false
   },
   "outputs": [
    {
     "name": "stdout",
     "output_type": "stream",
     "text": [
      "Optimization terminated successfully.\n",
      "         Current function value: 0.689811\n",
      "         Iterations 4\n",
      "                           Logit Regression Results                           \n",
      "==============================================================================\n",
      "Dep. Variable:                  trend   No. Observations:                  229\n",
      "Model:                          Logit   Df Residuals:                      226\n",
      "Method:                           MLE   Df Model:                            2\n",
      "Date:                Sun, 19 Dec 2021   Pseudo R-squ.:                0.002493\n",
      "Time:                        10:45:52   Log-Likelihood:                -157.97\n",
      "converged:                       True   LL-Null:                       -158.36\n",
      "Covariance Type:            nonrobust   LLR p-value:                    0.6738\n",
      "===================================================================================\n",
      "                      coef    std err          z      P>|z|      [0.025      0.975]\n",
      "-----------------------------------------------------------------------------------\n",
      "ContainsCv          0.0014      0.012      0.120      0.905      -0.022       0.025\n",
      "ContainsVaccine     0.0188      0.040      0.470      0.639      -0.060       0.097\n",
      "ContainsMd          0.0310      0.241      0.129      0.898      -0.441       0.503\n",
      "===================================================================================\n"
     ]
    }
   ],
   "source": [
    "#we run the regression for Moderna and show the results\n",
    "log_reg = sm.Logit(df_m['trend'], df_m[['ContainsCv','ContainsVaccine','ContainsMd']]).fit()\n",
    "print(log_reg.summary())"
   ]
  },
  {
   "cell_type": "markdown",
   "metadata": {},
   "source": [
    "#### AstraZeneca"
   ]
  },
  {
   "cell_type": "code",
   "execution_count": 104,
   "metadata": {
    "scrolled": false
   },
   "outputs": [
    {
     "name": "stdout",
     "output_type": "stream",
     "text": [
      "Optimization terminated successfully.\n",
      "         Current function value: 0.690031\n",
      "         Iterations 4\n",
      "                           Logit Regression Results                           \n",
      "==============================================================================\n",
      "Dep. Variable:                  trend   No. Observations:                  229\n",
      "Model:                          Logit   Df Residuals:                      226\n",
      "Method:                           MLE   Df Model:                            2\n",
      "Date:                Sun, 19 Dec 2021   Pseudo R-squ.:                0.003385\n",
      "Time:                        10:45:52   Log-Likelihood:                -158.02\n",
      "converged:                       True   LL-Null:                       -158.55\n",
      "Covariance Type:            nonrobust   LLR p-value:                    0.5847\n",
      "===================================================================================\n",
      "                      coef    std err          z      P>|z|      [0.025      0.975]\n",
      "-----------------------------------------------------------------------------------\n",
      "ContainsCv         -0.0019      0.012     -0.156      0.876      -0.025       0.022\n",
      "ContainsVaccine     0.0344      0.045      0.772      0.440      -0.053       0.122\n",
      "ContainsAz         -0.0833      0.098     -0.848      0.397      -0.276       0.109\n",
      "===================================================================================\n"
     ]
    }
   ],
   "source": [
    "#we run the regression for Astrazeneca and show the results\n",
    "log_reg = sm.Logit(df_a['trend'], df_a[['ContainsCv', 'ContainsVaccine', 'ContainsAz']]).fit()\n",
    "print(log_reg.summary())"
   ]
  },
  {
   "cell_type": "markdown",
   "metadata": {},
   "source": [
    "#### Pfizer"
   ]
  },
  {
   "cell_type": "code",
   "execution_count": 105,
   "metadata": {
    "scrolled": true
   },
   "outputs": [
    {
     "name": "stdout",
     "output_type": "stream",
     "text": [
      "Optimization terminated successfully.\n",
      "         Current function value: 0.691636\n",
      "         Iterations 4\n",
      "                           Logit Regression Results                           \n",
      "==============================================================================\n",
      "Dep. Variable:                  trend   No. Observations:                  229\n",
      "Model:                          Logit   Df Residuals:                      226\n",
      "Method:                           MLE   Df Model:                            2\n",
      "Date:                Sun, 19 Dec 2021   Pseudo R-squ.:                0.001837\n",
      "Time:                        10:45:52   Log-Likelihood:                -158.38\n",
      "converged:                       True   LL-Null:                       -158.68\n",
      "Covariance Type:            nonrobust   LLR p-value:                    0.7471\n",
      "===================================================================================\n",
      "                      coef    std err          z      P>|z|      [0.025      0.975]\n",
      "-----------------------------------------------------------------------------------\n",
      "ContainsVaccine     0.0281      0.041      0.691      0.490      -0.052       0.108\n",
      "ContainsCv         -0.0059      0.012     -0.501      0.616      -0.029       0.017\n",
      "ContainsPf          0.0284      0.163      0.175      0.861      -0.290       0.347\n",
      "===================================================================================\n"
     ]
    }
   ],
   "source": [
    "#we run the regression for Pfizer and show the results\n",
    "log_reg = sm.Logit(df_p['trend'], df_p[['ContainsVaccine', 'ContainsCv', 'ContainsPf']]).fit()\n",
    "print(log_reg.summary())"
   ]
  },
  {
   "cell_type": "markdown",
   "metadata": {},
   "source": [
    "### Findings\n",
    "The regression outputs show that z-values are in absolute terms below 1.96, hence we cannot reject the null hypothesis that there is no relation between market trends and Covid-related news occurrence with strong statistical confidence. In other words, there we do not detect a statistically significant relationship between changes in the occurrence of Covid_related news and the probability of witnessing an increase in the market price of the three companies in 2021."
   ]
  },
  {
   "cell_type": "markdown",
   "metadata": {},
   "source": [
    "### Monthly Analysis\n",
    "We use the same technique to detect the potential influence of Covid-related news occurrence on the probability of witnessing positive trends in the market prices of Moderna, Pfizer, and AstraZeneca for the month of November. We run a binomial logistic regression of the trend (positive = 1 or negative = 0) on news occurrence for each pharmaceutical company:"
   ]
  },
  {
   "cell_type": "code",
   "execution_count": 106,
   "metadata": {},
   "outputs": [],
   "source": [
    "#we load the daily data for the three pharmaceuticla companies inclusive of the news occurrence for November.\n",
    "#dfa = pd.read_csv(\"data/AZN_change_month_g.csv\", index_col = 0)\n",
    "#dfm = pd.read_csv(\"data/MRNA_change_month_g.csv\", index_col = 0)\n",
    "#dfp = pd.read_csv(\"data/PFE_change_month_g.csv\", index_col = 0)"
   ]
  },
  {
   "cell_type": "markdown",
   "metadata": {},
   "source": [
    "#### Moderna"
   ]
  },
  {
   "cell_type": "code",
   "execution_count": 107,
   "metadata": {
    "scrolled": false
   },
   "outputs": [
    {
     "name": "stdout",
     "output_type": "stream",
     "text": [
      "Optimization terminated successfully.\n",
      "         Current function value: 0.692776\n",
      "         Iterations 4\n",
      "                           Logit Regression Results                           \n",
      "==============================================================================\n",
      "Dep. Variable:                  trend   No. Observations:                 3106\n",
      "Model:                          Logit   Df Residuals:                     3103\n",
      "Method:                           MLE   Df Model:                            2\n",
      "Date:                Sun, 19 Dec 2021   Pseudo R-squ.:               0.0003480\n",
      "Time:                        10:45:52   Log-Likelihood:                -2151.8\n",
      "converged:                       True   LL-Null:                       -2152.5\n",
      "Covariance Type:            nonrobust   LLR p-value:                    0.4728\n",
      "===================================================================================\n",
      "                      coef    std err          z      P>|z|      [0.025      0.975]\n",
      "-----------------------------------------------------------------------------------\n",
      "ContainsCv         -0.0309      0.070     -0.440      0.660      -0.168       0.106\n",
      "ContainsVaccine    -0.1765      0.143     -1.239      0.215      -0.456       0.103\n",
      "ContainsMd          0.6128      0.924      0.663      0.507      -1.198       2.424\n",
      "===================================================================================\n"
     ]
    }
   ],
   "source": [
    "#we run the regression for Moderna and show the results\n",
    "log_reg = sm.Logit(dfm['trend'], dfm[['ContainsCv','ContainsVaccine','ContainsMd']]).fit()\n",
    "print(log_reg.summary())"
   ]
  },
  {
   "cell_type": "markdown",
   "metadata": {},
   "source": [
    "#### Pfizer"
   ]
  },
  {
   "cell_type": "code",
   "execution_count": 108,
   "metadata": {
    "scrolled": false
   },
   "outputs": [
    {
     "name": "stdout",
     "output_type": "stream",
     "text": [
      "Optimization terminated successfully.\n",
      "         Current function value: 0.691302\n",
      "         Iterations 4\n"
     ]
    },
    {
     "ename": "LinAlgError",
     "evalue": "Singular matrix",
     "output_type": "error",
     "traceback": [
      "\u001b[0;31m---------------------------------------------------------------------------\u001b[0m",
      "\u001b[0;31mLinAlgError\u001b[0m                               Traceback (most recent call last)",
      "\u001b[0;32m/var/folders/h9/f7rwk0050px_1dg78cx_qvs00000gn/T/ipykernel_65269/670714800.py\u001b[0m in \u001b[0;36m<module>\u001b[0;34m\u001b[0m\n\u001b[1;32m      1\u001b[0m \u001b[0;31m#we run the regression for Pfizer and show the results\u001b[0m\u001b[0;34m\u001b[0m\u001b[0;34m\u001b[0m\u001b[0m\n\u001b[0;32m----> 2\u001b[0;31m \u001b[0mlog_reg\u001b[0m \u001b[0;34m=\u001b[0m \u001b[0msm\u001b[0m\u001b[0;34m.\u001b[0m\u001b[0mLogit\u001b[0m\u001b[0;34m(\u001b[0m\u001b[0mdfp\u001b[0m\u001b[0;34m[\u001b[0m\u001b[0;34m'trend'\u001b[0m\u001b[0;34m]\u001b[0m\u001b[0;34m,\u001b[0m \u001b[0mdfp\u001b[0m\u001b[0;34m[\u001b[0m\u001b[0;34m[\u001b[0m\u001b[0;34m'ContainsCv'\u001b[0m\u001b[0;34m,\u001b[0m\u001b[0;34m'ContainsVaccine'\u001b[0m\u001b[0;34m,\u001b[0m \u001b[0;34m'ContainsPf'\u001b[0m\u001b[0;34m]\u001b[0m\u001b[0;34m]\u001b[0m\u001b[0;34m)\u001b[0m\u001b[0;34m.\u001b[0m\u001b[0mfit\u001b[0m\u001b[0;34m(\u001b[0m\u001b[0;34m)\u001b[0m\u001b[0;34m\u001b[0m\u001b[0;34m\u001b[0m\u001b[0m\n\u001b[0m\u001b[1;32m      3\u001b[0m \u001b[0mprint\u001b[0m\u001b[0;34m(\u001b[0m\u001b[0mlog_reg\u001b[0m\u001b[0;34m.\u001b[0m\u001b[0msummary\u001b[0m\u001b[0;34m(\u001b[0m\u001b[0;34m)\u001b[0m\u001b[0;34m)\u001b[0m\u001b[0;34m\u001b[0m\u001b[0;34m\u001b[0m\u001b[0m\n",
      "\u001b[0;32m/Library/Frameworks/Python.framework/Versions/3.9/lib/python3.9/site-packages/statsmodels/discrete/discrete_model.py\u001b[0m in \u001b[0;36mfit\u001b[0;34m(self, start_params, method, maxiter, full_output, disp, callback, **kwargs)\u001b[0m\n\u001b[1;32m   1981\u001b[0m     def fit(self, start_params=None, method='newton', maxiter=35,\n\u001b[1;32m   1982\u001b[0m             full_output=1, disp=1, callback=None, **kwargs):\n\u001b[0;32m-> 1983\u001b[0;31m         bnryfit = super().fit(start_params=start_params,\n\u001b[0m\u001b[1;32m   1984\u001b[0m                               \u001b[0mmethod\u001b[0m\u001b[0;34m=\u001b[0m\u001b[0mmethod\u001b[0m\u001b[0;34m,\u001b[0m\u001b[0;34m\u001b[0m\u001b[0;34m\u001b[0m\u001b[0m\n\u001b[1;32m   1985\u001b[0m                               \u001b[0mmaxiter\u001b[0m\u001b[0;34m=\u001b[0m\u001b[0mmaxiter\u001b[0m\u001b[0;34m,\u001b[0m\u001b[0;34m\u001b[0m\u001b[0;34m\u001b[0m\u001b[0m\n",
      "\u001b[0;32m/Library/Frameworks/Python.framework/Versions/3.9/lib/python3.9/site-packages/statsmodels/discrete/discrete_model.py\u001b[0m in \u001b[0;36mfit\u001b[0;34m(self, start_params, method, maxiter, full_output, disp, callback, **kwargs)\u001b[0m\n\u001b[1;32m    228\u001b[0m             \u001b[0;32mpass\u001b[0m  \u001b[0;31m# TODO: make a function factory to have multiple call-backs\u001b[0m\u001b[0;34m\u001b[0m\u001b[0;34m\u001b[0m\u001b[0m\n\u001b[1;32m    229\u001b[0m \u001b[0;34m\u001b[0m\u001b[0m\n\u001b[0;32m--> 230\u001b[0;31m         mlefit = super().fit(start_params=start_params,\n\u001b[0m\u001b[1;32m    231\u001b[0m                              \u001b[0mmethod\u001b[0m\u001b[0;34m=\u001b[0m\u001b[0mmethod\u001b[0m\u001b[0;34m,\u001b[0m\u001b[0;34m\u001b[0m\u001b[0;34m\u001b[0m\u001b[0m\n\u001b[1;32m    232\u001b[0m                              \u001b[0mmaxiter\u001b[0m\u001b[0;34m=\u001b[0m\u001b[0mmaxiter\u001b[0m\u001b[0;34m,\u001b[0m\u001b[0;34m\u001b[0m\u001b[0;34m\u001b[0m\u001b[0m\n",
      "\u001b[0;32m/Library/Frameworks/Python.framework/Versions/3.9/lib/python3.9/site-packages/statsmodels/base/model.py\u001b[0m in \u001b[0;36mfit\u001b[0;34m(self, start_params, method, maxiter, full_output, disp, fargs, callback, retall, skip_hessian, **kwargs)\u001b[0m\n\u001b[1;32m    577\u001b[0m             \u001b[0mHinv\u001b[0m \u001b[0;34m=\u001b[0m \u001b[0mcov_params_func\u001b[0m\u001b[0;34m(\u001b[0m\u001b[0mself\u001b[0m\u001b[0;34m,\u001b[0m \u001b[0mxopt\u001b[0m\u001b[0;34m,\u001b[0m \u001b[0mretvals\u001b[0m\u001b[0;34m)\u001b[0m\u001b[0;34m\u001b[0m\u001b[0;34m\u001b[0m\u001b[0m\n\u001b[1;32m    578\u001b[0m         \u001b[0;32melif\u001b[0m \u001b[0mmethod\u001b[0m \u001b[0;34m==\u001b[0m \u001b[0;34m'newton'\u001b[0m \u001b[0;32mand\u001b[0m \u001b[0mfull_output\u001b[0m\u001b[0;34m:\u001b[0m\u001b[0;34m\u001b[0m\u001b[0;34m\u001b[0m\u001b[0m\n\u001b[0;32m--> 579\u001b[0;31m             \u001b[0mHinv\u001b[0m \u001b[0;34m=\u001b[0m \u001b[0mnp\u001b[0m\u001b[0;34m.\u001b[0m\u001b[0mlinalg\u001b[0m\u001b[0;34m.\u001b[0m\u001b[0minv\u001b[0m\u001b[0;34m(\u001b[0m\u001b[0;34m-\u001b[0m\u001b[0mretvals\u001b[0m\u001b[0;34m[\u001b[0m\u001b[0;34m'Hessian'\u001b[0m\u001b[0;34m]\u001b[0m\u001b[0;34m)\u001b[0m \u001b[0;34m/\u001b[0m \u001b[0mnobs\u001b[0m\u001b[0;34m\u001b[0m\u001b[0;34m\u001b[0m\u001b[0m\n\u001b[0m\u001b[1;32m    580\u001b[0m         \u001b[0;32melif\u001b[0m \u001b[0;32mnot\u001b[0m \u001b[0mskip_hessian\u001b[0m\u001b[0;34m:\u001b[0m\u001b[0;34m\u001b[0m\u001b[0;34m\u001b[0m\u001b[0m\n\u001b[1;32m    581\u001b[0m             \u001b[0mH\u001b[0m \u001b[0;34m=\u001b[0m \u001b[0;34m-\u001b[0m\u001b[0;36m1\u001b[0m \u001b[0;34m*\u001b[0m \u001b[0mself\u001b[0m\u001b[0;34m.\u001b[0m\u001b[0mhessian\u001b[0m\u001b[0;34m(\u001b[0m\u001b[0mxopt\u001b[0m\u001b[0;34m)\u001b[0m\u001b[0;34m\u001b[0m\u001b[0;34m\u001b[0m\u001b[0m\n",
      "\u001b[0;32m<__array_function__ internals>\u001b[0m in \u001b[0;36minv\u001b[0;34m(*args, **kwargs)\u001b[0m\n",
      "\u001b[0;32m/Library/Frameworks/Python.framework/Versions/3.9/lib/python3.9/site-packages/numpy/linalg/linalg.py\u001b[0m in \u001b[0;36minv\u001b[0;34m(a)\u001b[0m\n\u001b[1;32m    543\u001b[0m     \u001b[0msignature\u001b[0m \u001b[0;34m=\u001b[0m \u001b[0;34m'D->D'\u001b[0m \u001b[0;32mif\u001b[0m \u001b[0misComplexType\u001b[0m\u001b[0;34m(\u001b[0m\u001b[0mt\u001b[0m\u001b[0;34m)\u001b[0m \u001b[0;32melse\u001b[0m \u001b[0;34m'd->d'\u001b[0m\u001b[0;34m\u001b[0m\u001b[0;34m\u001b[0m\u001b[0m\n\u001b[1;32m    544\u001b[0m     \u001b[0mextobj\u001b[0m \u001b[0;34m=\u001b[0m \u001b[0mget_linalg_error_extobj\u001b[0m\u001b[0;34m(\u001b[0m\u001b[0m_raise_linalgerror_singular\u001b[0m\u001b[0;34m)\u001b[0m\u001b[0;34m\u001b[0m\u001b[0;34m\u001b[0m\u001b[0m\n\u001b[0;32m--> 545\u001b[0;31m     \u001b[0mainv\u001b[0m \u001b[0;34m=\u001b[0m \u001b[0m_umath_linalg\u001b[0m\u001b[0;34m.\u001b[0m\u001b[0minv\u001b[0m\u001b[0;34m(\u001b[0m\u001b[0ma\u001b[0m\u001b[0;34m,\u001b[0m \u001b[0msignature\u001b[0m\u001b[0;34m=\u001b[0m\u001b[0msignature\u001b[0m\u001b[0;34m,\u001b[0m \u001b[0mextobj\u001b[0m\u001b[0;34m=\u001b[0m\u001b[0mextobj\u001b[0m\u001b[0;34m)\u001b[0m\u001b[0;34m\u001b[0m\u001b[0;34m\u001b[0m\u001b[0m\n\u001b[0m\u001b[1;32m    546\u001b[0m     \u001b[0;32mreturn\u001b[0m \u001b[0mwrap\u001b[0m\u001b[0;34m(\u001b[0m\u001b[0mainv\u001b[0m\u001b[0;34m.\u001b[0m\u001b[0mastype\u001b[0m\u001b[0;34m(\u001b[0m\u001b[0mresult_t\u001b[0m\u001b[0;34m,\u001b[0m \u001b[0mcopy\u001b[0m\u001b[0;34m=\u001b[0m\u001b[0;32mFalse\u001b[0m\u001b[0;34m)\u001b[0m\u001b[0;34m)\u001b[0m\u001b[0;34m\u001b[0m\u001b[0;34m\u001b[0m\u001b[0m\n\u001b[1;32m    547\u001b[0m \u001b[0;34m\u001b[0m\u001b[0m\n",
      "\u001b[0;32m/Library/Frameworks/Python.framework/Versions/3.9/lib/python3.9/site-packages/numpy/linalg/linalg.py\u001b[0m in \u001b[0;36m_raise_linalgerror_singular\u001b[0;34m(err, flag)\u001b[0m\n\u001b[1;32m     86\u001b[0m \u001b[0;34m\u001b[0m\u001b[0m\n\u001b[1;32m     87\u001b[0m \u001b[0;32mdef\u001b[0m \u001b[0m_raise_linalgerror_singular\u001b[0m\u001b[0;34m(\u001b[0m\u001b[0merr\u001b[0m\u001b[0;34m,\u001b[0m \u001b[0mflag\u001b[0m\u001b[0;34m)\u001b[0m\u001b[0;34m:\u001b[0m\u001b[0;34m\u001b[0m\u001b[0;34m\u001b[0m\u001b[0m\n\u001b[0;32m---> 88\u001b[0;31m     \u001b[0;32mraise\u001b[0m \u001b[0mLinAlgError\u001b[0m\u001b[0;34m(\u001b[0m\u001b[0;34m\"Singular matrix\"\u001b[0m\u001b[0;34m)\u001b[0m\u001b[0;34m\u001b[0m\u001b[0;34m\u001b[0m\u001b[0m\n\u001b[0m\u001b[1;32m     89\u001b[0m \u001b[0;34m\u001b[0m\u001b[0m\n\u001b[1;32m     90\u001b[0m \u001b[0;32mdef\u001b[0m \u001b[0m_raise_linalgerror_nonposdef\u001b[0m\u001b[0;34m(\u001b[0m\u001b[0merr\u001b[0m\u001b[0;34m,\u001b[0m \u001b[0mflag\u001b[0m\u001b[0;34m)\u001b[0m\u001b[0;34m:\u001b[0m\u001b[0;34m\u001b[0m\u001b[0;34m\u001b[0m\u001b[0m\n",
      "\u001b[0;31mLinAlgError\u001b[0m: Singular matrix"
     ]
    }
   ],
   "source": [
    "#we run the regression for Pfizer and show the results\n",
    "log_reg = sm.Logit(dfp['trend'], dfp[['ContainsCv','ContainsVaccine', 'ContainsPf']]).fit()\n",
    "print(log_reg.summary())"
   ]
  },
  {
   "cell_type": "markdown",
   "metadata": {},
   "source": [
    "#### AstraZeneca"
   ]
  },
  {
   "cell_type": "code",
   "execution_count": 109,
   "metadata": {
    "scrolled": false
   },
   "outputs": [
    {
     "name": "stdout",
     "output_type": "stream",
     "text": [
      "Optimization terminated successfully.\n",
      "         Current function value: 0.691298\n",
      "         Iterations 4\n",
      "                           Logit Regression Results                           \n",
      "==============================================================================\n",
      "Dep. Variable:                  trend   No. Observations:                 2418\n",
      "Model:                          Logit   Df Residuals:                     2415\n",
      "Method:                           MLE   Df Model:                            2\n",
      "Date:                Sun, 19 Dec 2021   Pseudo R-squ.:               -0.003442\n",
      "Time:                        10:45:59   Log-Likelihood:                -1671.6\n",
      "converged:                       True   LL-Null:                       -1665.8\n",
      "Covariance Type:            nonrobust   LLR p-value:                     1.000\n",
      "===================================================================================\n",
      "                      coef    std err          z      P>|z|      [0.025      0.975]\n",
      "-----------------------------------------------------------------------------------\n",
      "ContainsCv         -0.2099      0.082     -2.548      0.011      -0.371      -0.048\n",
      "ContainsVaccine    -0.1298      0.162     -0.802      0.422      -0.447       0.187\n",
      "ContainsAz         -0.0731      0.509     -0.144      0.886      -1.070       0.924\n",
      "===================================================================================\n"
     ]
    }
   ],
   "source": [
    "#we run the regression for Astrazeneca and show the results\n",
    "log_reg = sm.Logit(dfa['trend'], dfa[['ContainsCv','ContainsVaccine','ContainsAz']]).fit()\n",
    "print(log_reg.summary())"
   ]
  },
  {
   "cell_type": "markdown",
   "metadata": {},
   "source": [
    "### Findings\n",
    "The regression outputs show that z-values for the \"vaccine\" and \"Covid\" coefficients are in absolute terms above 1.96 for Moderna and Pfizer respectively. Hence we can, with strong statistical confidence (95%), reject the null hypothesis that there is no relation between the occurrence of the word \"vaccine\" and \"Covid\" and the probability of witnessing an increase in market trends for Moderna and Pfizer respectively. Results for Atrazeneca show a weaker statistical significance (around 89%) for the occurrence of the word \"vaccine\". Moreover, we find that all detected relationships are negative, meaning that as abstract polarity increases, the probability of witnessing an increase in the market price for all three pharmaceutical companies seems to decrease. We can interpret the detected relationships as follows:"
   ]
  },
  {
   "cell_type": "code",
   "execution_count": null,
   "metadata": {
    "scrolled": true
   },
   "outputs": [],
   "source": [
    "#we take the exponential of the coefficient and subtract 1 to find the percentage change\n",
    "import math\n",
    "print(math.exp(-0.2237)-1)# influence of the word \"vaccine\" on Moderna stock price\n",
    "print(math.exp(-0.1324)-1)# influence of the word \"Covid\" on Pfizer stock price\n",
    "print(math.exp(-0.1799)-1)# influence of the word \"vaccine\" on Astrazeneca stock price"
   ]
  },
  {
   "cell_type": "markdown",
   "metadata": {},
   "source": [
    "Therefore, the odds of witnessing an increase in the stock market price of Moderna, AstraZeneca, and Pfizer decrease by 20%, 16%, and 12% respectively for an increase in one unit in the occurrence of the words \"vaccine\" for the former two and \"Covid\" for the latter in the month of November."
   ]
  }
 ],
 "metadata": {
  "kernelspec": {
   "display_name": "Python 3",
   "language": "python",
   "name": "python3"
  },
  "language_info": {
   "codemirror_mode": {
    "name": "ipython",
    "version": 3
   },
   "file_extension": ".py",
   "mimetype": "text/x-python",
   "name": "python",
   "nbconvert_exporter": "python",
   "pygments_lexer": "ipython3",
   "version": "3.8.5"
  }
 },
 "nbformat": 4,
 "nbformat_minor": 4
}
