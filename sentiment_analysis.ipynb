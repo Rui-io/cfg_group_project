{
 "cells": [
  {
   "cell_type": "code",
   "execution_count": 2,
   "metadata": {
    "scrolled": true
   },
   "outputs": [
    {
     "name": "stdout",
     "output_type": "stream",
     "text": [
      "Collecting textblob\n",
      "  Downloading textblob-0.17.1-py2.py3-none-any.whl (636 kB)\n",
      "\u001b[K     |████████████████████████████████| 636 kB 1.9 MB/s eta 0:00:01\n",
      "\u001b[?25hRequirement already satisfied: nltk>=3.1; python_version >= \"3\" in /Users/ruijin/opt/anaconda3/lib/python3.8/site-packages (from textblob) (3.5)\n",
      "Requirement already satisfied: tqdm in /Users/ruijin/opt/anaconda3/lib/python3.8/site-packages (from nltk>=3.1; python_version >= \"3\"->textblob) (4.50.2)\n",
      "Requirement already satisfied: click in /Users/ruijin/opt/anaconda3/lib/python3.8/site-packages (from nltk>=3.1; python_version >= \"3\"->textblob) (7.1.2)\n",
      "Requirement already satisfied: joblib in /Users/ruijin/opt/anaconda3/lib/python3.8/site-packages (from nltk>=3.1; python_version >= \"3\"->textblob) (0.17.0)\n",
      "Requirement already satisfied: regex in /Users/ruijin/opt/anaconda3/lib/python3.8/site-packages (from nltk>=3.1; python_version >= \"3\"->textblob) (2020.10.15)\n",
      "Installing collected packages: textblob\n",
      "Successfully installed textblob-0.17.1\n",
      "Note: you may need to restart the kernel to use updated packages.\n"
     ]
    }
   ],
   "source": [
    "pip install textblob"
   ]
  },
  {
   "cell_type": "code",
   "execution_count": 4,
   "metadata": {},
   "outputs": [
    {
     "name": "stdout",
     "output_type": "stream",
     "text": [
      "Collecting vaderSentiment\n",
      "  Downloading vaderSentiment-3.3.2-py2.py3-none-any.whl (125 kB)\n",
      "\u001b[K     |████████████████████████████████| 125 kB 1.9 MB/s eta 0:00:01\n",
      "\u001b[?25hRequirement already satisfied: requests in /Users/ruijin/opt/anaconda3/lib/python3.8/site-packages (from vaderSentiment) (2.24.0)\n",
      "Requirement already satisfied: chardet<4,>=3.0.2 in /Users/ruijin/opt/anaconda3/lib/python3.8/site-packages (from requests->vaderSentiment) (3.0.4)\n",
      "Requirement already satisfied: certifi>=2017.4.17 in /Users/ruijin/opt/anaconda3/lib/python3.8/site-packages (from requests->vaderSentiment) (2020.6.20)\n",
      "Requirement already satisfied: idna<3,>=2.5 in /Users/ruijin/opt/anaconda3/lib/python3.8/site-packages (from requests->vaderSentiment) (2.10)\n",
      "Requirement already satisfied: urllib3!=1.25.0,!=1.25.1,<1.26,>=1.21.1 in /Users/ruijin/opt/anaconda3/lib/python3.8/site-packages (from requests->vaderSentiment) (1.25.11)\n",
      "Installing collected packages: vaderSentiment\n",
      "Successfully installed vaderSentiment-3.3.2\n",
      "Note: you may need to restart the kernel to use updated packages.\n"
     ]
    }
   ],
   "source": [
    "pip install vaderSentiment"
   ]
  },
  {
   "cell_type": "code",
   "execution_count": 5,
   "metadata": {},
   "outputs": [],
   "source": [
    "import pandas as pd\n",
    "import numpy as np\n",
    "from textblob import TextBlob\n",
    "import re\n",
    "import nltk\n",
    "from vaderSentiment.vaderSentiment import SentimentIntensityAnalyzerb"
   ]
  },
  {
   "cell_type": "code",
   "execution_count": 9,
   "metadata": {},
   "outputs": [
    {
     "data": {
      "text/html": [
       "<div>\n",
       "<style scoped>\n",
       "    .dataframe tbody tr th:only-of-type {\n",
       "        vertical-align: middle;\n",
       "    }\n",
       "\n",
       "    .dataframe tbody tr th {\n",
       "        vertical-align: top;\n",
       "    }\n",
       "\n",
       "    .dataframe thead th {\n",
       "        text-align: right;\n",
       "    }\n",
       "</style>\n",
       "<table border=\"1\" class=\"dataframe\">\n",
       "  <thead>\n",
       "    <tr style=\"text-align: right;\">\n",
       "      <th></th>\n",
       "      <th>Unnamed: 0</th>\n",
       "      <th>abstract</th>\n",
       "      <th>headline</th>\n",
       "      <th>pub_date</th>\n",
       "    </tr>\n",
       "  </thead>\n",
       "  <tbody>\n",
       "    <tr>\n",
       "      <th>0</th>\n",
       "      <td>0</td>\n",
       "      <td>about a fifth of the nation’s economy depends ...</td>\n",
       "      <td>thailand reopens to tourists from 63 countries...</td>\n",
       "      <td>2021-11-01 12:26:03+00:00</td>\n",
       "    </tr>\n",
       "    <tr>\n",
       "      <th>1</th>\n",
       "      <td>1</td>\n",
       "      <td>as some try to lure audiences back with short ...</td>\n",
       "      <td>a 6-hour opera in a pandemic? the met goes for...</td>\n",
       "      <td>2021-11-01 14:14:46+00:00</td>\n",
       "    </tr>\n",
       "    <tr>\n",
       "      <th>2</th>\n",
       "      <td>2</td>\n",
       "      <td>while big companies wield considerable power, ...</td>\n",
       "      <td>how the pandemic has added to labor unrest</td>\n",
       "      <td>2021-11-01 15:06:46+00:00</td>\n",
       "    </tr>\n",
       "    <tr>\n",
       "      <th>3</th>\n",
       "      <td>3</td>\n",
       "      <td>the labor department has completed a draft of ...</td>\n",
       "      <td>the biden administration will publish vaccine ...</td>\n",
       "      <td>2021-11-01 16:29:36+00:00</td>\n",
       "    </tr>\n",
       "    <tr>\n",
       "      <th>4</th>\n",
       "      <td>4</td>\n",
       "      <td>after months of production delays, this is the...</td>\n",
       "      <td>the novavax vaccine, backed by operation warp ...</td>\n",
       "      <td>2021-11-01 16:40:48+00:00</td>\n",
       "    </tr>\n",
       "  </tbody>\n",
       "</table>\n",
       "</div>"
      ],
      "text/plain": [
       "   Unnamed: 0                                           abstract  \\\n",
       "0           0  about a fifth of the nation’s economy depends ...   \n",
       "1           1  as some try to lure audiences back with short ...   \n",
       "2           2  while big companies wield considerable power, ...   \n",
       "3           3  the labor department has completed a draft of ...   \n",
       "4           4  after months of production delays, this is the...   \n",
       "\n",
       "                                            headline  \\\n",
       "0  thailand reopens to tourists from 63 countries...   \n",
       "1  a 6-hour opera in a pandemic? the met goes for...   \n",
       "2         how the pandemic has added to labor unrest   \n",
       "3  the biden administration will publish vaccine ...   \n",
       "4  the novavax vaccine, backed by operation warp ...   \n",
       "\n",
       "                    pub_date  \n",
       "0  2021-11-01 12:26:03+00:00  \n",
       "1  2021-11-01 14:14:46+00:00  \n",
       "2  2021-11-01 15:06:46+00:00  \n",
       "3  2021-11-01 16:29:36+00:00  \n",
       "4  2021-11-01 16:40:48+00:00  "
      ]
     },
     "execution_count": 9,
     "metadata": {},
     "output_type": "execute_result"
    }
   ],
   "source": [
    "df = pd.read_csv('NYTGeneraldata1.csv')\n",
    "df.head()"
   ]
  },
  {
   "cell_type": "code",
   "execution_count": 11,
   "metadata": {},
   "outputs": [],
   "source": [
    "df['DATE']= pd.to_datetime(df['pub_date']).dt.date"
   ]
  },
  {
   "cell_type": "code",
   "execution_count": 12,
   "metadata": {},
   "outputs": [
    {
     "data": {
      "text/html": [
       "<div>\n",
       "<style scoped>\n",
       "    .dataframe tbody tr th:only-of-type {\n",
       "        vertical-align: middle;\n",
       "    }\n",
       "\n",
       "    .dataframe tbody tr th {\n",
       "        vertical-align: top;\n",
       "    }\n",
       "\n",
       "    .dataframe thead th {\n",
       "        text-align: right;\n",
       "    }\n",
       "</style>\n",
       "<table border=\"1\" class=\"dataframe\">\n",
       "  <thead>\n",
       "    <tr style=\"text-align: right;\">\n",
       "      <th></th>\n",
       "      <th>Unnamed: 0</th>\n",
       "      <th>abstract</th>\n",
       "      <th>headline</th>\n",
       "      <th>pub_date</th>\n",
       "      <th>DATE</th>\n",
       "    </tr>\n",
       "  </thead>\n",
       "  <tbody>\n",
       "    <tr>\n",
       "      <th>0</th>\n",
       "      <td>0</td>\n",
       "      <td>about a fifth of the nation’s economy depends ...</td>\n",
       "      <td>thailand reopens to tourists from 63 countries...</td>\n",
       "      <td>2021-11-01 12:26:03+00:00</td>\n",
       "      <td>2021-11-01</td>\n",
       "    </tr>\n",
       "    <tr>\n",
       "      <th>1</th>\n",
       "      <td>1</td>\n",
       "      <td>as some try to lure audiences back with short ...</td>\n",
       "      <td>a 6-hour opera in a pandemic? the met goes for...</td>\n",
       "      <td>2021-11-01 14:14:46+00:00</td>\n",
       "      <td>2021-11-01</td>\n",
       "    </tr>\n",
       "    <tr>\n",
       "      <th>2</th>\n",
       "      <td>2</td>\n",
       "      <td>while big companies wield considerable power, ...</td>\n",
       "      <td>how the pandemic has added to labor unrest</td>\n",
       "      <td>2021-11-01 15:06:46+00:00</td>\n",
       "      <td>2021-11-01</td>\n",
       "    </tr>\n",
       "    <tr>\n",
       "      <th>3</th>\n",
       "      <td>3</td>\n",
       "      <td>the labor department has completed a draft of ...</td>\n",
       "      <td>the biden administration will publish vaccine ...</td>\n",
       "      <td>2021-11-01 16:29:36+00:00</td>\n",
       "      <td>2021-11-01</td>\n",
       "    </tr>\n",
       "    <tr>\n",
       "      <th>4</th>\n",
       "      <td>4</td>\n",
       "      <td>after months of production delays, this is the...</td>\n",
       "      <td>the novavax vaccine, backed by operation warp ...</td>\n",
       "      <td>2021-11-01 16:40:48+00:00</td>\n",
       "      <td>2021-11-01</td>\n",
       "    </tr>\n",
       "  </tbody>\n",
       "</table>\n",
       "</div>"
      ],
      "text/plain": [
       "   Unnamed: 0                                           abstract  \\\n",
       "0           0  about a fifth of the nation’s economy depends ...   \n",
       "1           1  as some try to lure audiences back with short ...   \n",
       "2           2  while big companies wield considerable power, ...   \n",
       "3           3  the labor department has completed a draft of ...   \n",
       "4           4  after months of production delays, this is the...   \n",
       "\n",
       "                                            headline  \\\n",
       "0  thailand reopens to tourists from 63 countries...   \n",
       "1  a 6-hour opera in a pandemic? the met goes for...   \n",
       "2         how the pandemic has added to labor unrest   \n",
       "3  the biden administration will publish vaccine ...   \n",
       "4  the novavax vaccine, backed by operation warp ...   \n",
       "\n",
       "                    pub_date        DATE  \n",
       "0  2021-11-01 12:26:03+00:00  2021-11-01  \n",
       "1  2021-11-01 14:14:46+00:00  2021-11-01  \n",
       "2  2021-11-01 15:06:46+00:00  2021-11-01  \n",
       "3  2021-11-01 16:29:36+00:00  2021-11-01  \n",
       "4  2021-11-01 16:40:48+00:00  2021-11-01  "
      ]
     },
     "execution_count": 12,
     "metadata": {},
     "output_type": "execute_result"
    }
   ],
   "source": [
    "df.head()"
   ]
  },
  {
   "cell_type": "code",
   "execution_count": 13,
   "metadata": {},
   "outputs": [],
   "source": [
    "count=df.groupby('DATE').size()"
   ]
  },
  {
   "cell_type": "code",
   "execution_count": 14,
   "metadata": {
    "scrolled": true
   },
   "outputs": [
    {
     "data": {
      "text/plain": [
       "DATE\n",
       "2021-11-01     9\n",
       "2021-11-02    15\n",
       "2021-11-03    19\n",
       "2021-11-04    20\n",
       "2021-11-05    11\n",
       "2021-11-06     5\n",
       "2021-11-07     4\n",
       "2021-11-08    11\n",
       "2021-11-09    16\n",
       "2021-11-10     9\n",
       "2021-11-11     8\n",
       "2021-11-12     8\n",
       "2021-11-13    10\n",
       "2021-11-14     6\n",
       "2021-11-15    11\n",
       "2021-11-16    16\n",
       "2021-11-17    21\n",
       "2021-11-18    17\n",
       "2021-11-19     9\n",
       "2021-11-20    11\n",
       "2021-11-21     8\n",
       "2021-11-22    10\n",
       "2021-11-23    16\n",
       "2021-11-24    15\n",
       "2021-11-25     6\n",
       "2021-11-26    14\n",
       "2021-11-27    11\n",
       "2021-11-28    13\n",
       "2021-11-29    22\n",
       "2021-11-30    15\n",
       "dtype: int64"
      ]
     },
     "execution_count": 14,
     "metadata": {},
     "output_type": "execute_result"
    }
   ],
   "source": [
    "count"
   ]
  },
  {
   "cell_type": "code",
   "execution_count": 16,
   "metadata": {},
   "outputs": [],
   "source": [
    "import nltk"
   ]
  },
  {
   "cell_type": "code",
   "execution_count": 18,
   "metadata": {},
   "outputs": [
    {
     "name": "stdout",
     "output_type": "stream",
     "text": [
      "Sentiment(polarity=0.3, subjectivity=0.45)\n"
     ]
    }
   ],
   "source": [
    "text = TextBlob('about a fifth of the nation’s economy depends on the vacation industry. before the pandemic, the country was one of the world’s top destinations, drawing nearly 40 million visitors in 2019.')\n",
    "print(text.sentiment)"
   ]
  },
  {
   "cell_type": "code",
   "execution_count": 20,
   "metadata": {},
   "outputs": [
    {
     "name": "stdout",
     "output_type": "stream",
     "text": [
      "Sentiment(polarity=0.1, subjectivity=0.3)\n"
     ]
    }
   ],
   "source": [
    "text1 = TextBlob('the w.h.o. grants covaxin, a covid vaccine developed in india, emergency authorization.')\n",
    "print(text1.sentiment)"
   ]
  },
  {
   "cell_type": "code",
   "execution_count": 22,
   "metadata": {},
   "outputs": [
    {
     "name": "stdout",
     "output_type": "stream",
     "text": [
      "Sentiment(polarity=-0.2, subjectivity=0.3625)\n"
     ]
    }
   ],
   "source": [
    "text2 = TextBlob('Professor Sarah Gilbert, co-creator of the Oxford-AstraZeneca Covid-19 vaccine, warns that future pandemics could be even worse than the ongoing Covid-19 pandemic. CNNs Rosemary Church discusses with virology expert at Northumbria University, Sterghios Moschos')\n",
    "print(text2.sentiment)"
   ]
  },
  {
   "cell_type": "code",
   "execution_count": null,
   "metadata": {},
   "outputs": [],
   "source": []
  }
 ],
 "metadata": {
  "kernelspec": {
   "display_name": "Python 3",
   "language": "python",
   "name": "python3"
  },
  "language_info": {
   "codemirror_mode": {
    "name": "ipython",
    "version": 3
   },
   "file_extension": ".py",
   "mimetype": "text/x-python",
   "name": "python",
   "nbconvert_exporter": "python",
   "pygments_lexer": "ipython3",
   "version": "3.8.5"
  }
 },
 "nbformat": 4,
 "nbformat_minor": 4
}
